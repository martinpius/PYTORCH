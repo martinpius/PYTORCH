{
  "nbformat": 4,
  "nbformat_minor": 0,
  "metadata": {
    "colab": {
      "name": "Pytorch the basic tensor operations.ipynb",
      "provenance": [],
      "authorship_tag": "ABX9TyPZnAAxe4/sno9w/rjRuZQY",
      "include_colab_link": true
    },
    "kernelspec": {
      "name": "python3",
      "display_name": "Python 3"
    },
    "language_info": {
      "name": "python"
    },
    "accelerator": "GPU"
  },
  "cells": [
    {
      "cell_type": "markdown",
      "metadata": {
        "id": "view-in-github",
        "colab_type": "text"
      },
      "source": [
        "<a href=\"https://colab.research.google.com/github/martinpius/PYTORCH/blob/main/Pytorch_the_basic_tensor_operations.ipynb\" target=\"_parent\"><img src=\"https://colab.research.google.com/assets/colab-badge.svg\" alt=\"Open In Colab\"/></a>"
      ]
    },
    {
      "cell_type": "code",
      "metadata": {
        "id": "JagqoFte98mm"
      },
      "source": [
        "#Introduction to pytorch: How to define various types of tensors and their operations in pytorch"
      ],
      "execution_count": 1,
      "outputs": []
    },
    {
      "cell_type": "code",
      "metadata": {
        "colab": {
          "base_uri": "https://localhost:8080/"
        },
        "id": "SVMczbef-STk",
        "outputId": "1c7ff745-57db-4011-b245-c8eee6e0d2fa"
      },
      "source": [
        "import torch\n",
        "print(torch.__version__)"
      ],
      "execution_count": 3,
      "outputs": [
        {
          "output_type": "stream",
          "text": [
            "1.8.1+cu101\n"
          ],
          "name": "stdout"
        }
      ]
    },
    {
      "cell_type": "code",
      "metadata": {
        "id": "sXnDmXR7RDr2"
      },
      "source": [
        "if torch.cuda.is_available():\n",
        "  device = torch.device(\"cuda\")\n",
        "else:\n",
        "  device = torch.device(\"cpu\")\n",
        "\n"
      ],
      "execution_count": 4,
      "outputs": []
    },
    {
      "cell_type": "code",
      "metadata": {
        "id": "f2aacJWO--FM"
      },
      "source": [
        "#Defining tensors in pytorch:\n",
        "my_tensor = torch.tensor([[1,2,3],[4,5,6],[7,8,2]], dtype = torch.float32, device = device)"
      ],
      "execution_count": 3,
      "outputs": []
    },
    {
      "cell_type": "code",
      "metadata": {
        "colab": {
          "base_uri": "https://localhost:8080/"
        },
        "id": "Zh-zU3mx_Uzt",
        "outputId": "83a8a04f-a03c-491d-85b8-f4dfe78abde6"
      },
      "source": [
        "print(my_tensor)"
      ],
      "execution_count": 4,
      "outputs": [
        {
          "output_type": "stream",
          "text": [
            "tensor([[1., 2., 3.],\n",
            "        [4., 5., 6.],\n",
            "        [7., 8., 2.]], device='cuda:0')\n"
          ],
          "name": "stdout"
        }
      ]
    },
    {
      "cell_type": "code",
      "metadata": {
        "id": "Pz2hBeehBpSw"
      },
      "source": [
        "x = torch.empty(size = (3,3), dtype = torch.float32)#Normally is supposed to be an empty space but initially it will be covered by pseudos numbers"
      ],
      "execution_count": 5,
      "outputs": []
    },
    {
      "cell_type": "code",
      "metadata": {
        "colab": {
          "base_uri": "https://localhost:8080/"
        },
        "id": "jlM4oQC5CGxW",
        "outputId": "52ee1b85-657b-4e90-c7ce-2e80d2dc1161"
      },
      "source": [
        "print(x)"
      ],
      "execution_count": 6,
      "outputs": [
        {
          "output_type": "stream",
          "text": [
            "tensor([[-4.6374e+27,  3.0799e-41,  3.3631e-44],\n",
            "        [ 0.0000e+00,         nan,  3.0799e-41],\n",
            "        [ 1.1578e+27,  1.1362e+30,  7.1547e+22]])\n"
          ],
          "name": "stdout"
        }
      ]
    },
    {
      "cell_type": "code",
      "metadata": {
        "id": "IW9-k8HYCI-e"
      },
      "source": [
        "x = torch.empty(size = (3,3)).normal_(mean = 0, std = 1) #A 3,3 tensor of std normal numbers"
      ],
      "execution_count": 7,
      "outputs": []
    },
    {
      "cell_type": "code",
      "metadata": {
        "colab": {
          "base_uri": "https://localhost:8080/"
        },
        "id": "4vsVQShxCjq5",
        "outputId": "ac398099-7beb-403e-dde1-f14bf09abcdf"
      },
      "source": [
        "print(x)"
      ],
      "execution_count": 8,
      "outputs": [
        {
          "output_type": "stream",
          "text": [
            "tensor([[-1.5317, -1.0787, -0.7060],\n",
            "        [ 0.3981, -0.0956,  0.8352],\n",
            "        [-1.0659, -2.2093,  1.0100]])\n"
          ],
          "name": "stdout"
        }
      ]
    },
    {
      "cell_type": "code",
      "metadata": {
        "id": "g2Ur38AWC3rS"
      },
      "source": [
        "x = torch.linspace(start = 0, end = 1, steps = 10)"
      ],
      "execution_count": 9,
      "outputs": []
    },
    {
      "cell_type": "code",
      "metadata": {
        "colab": {
          "base_uri": "https://localhost:8080/"
        },
        "id": "tvSfzTUkDHUV",
        "outputId": "621ad98b-fb7c-41a6-df73-29f714436a65"
      },
      "source": [
        "print(x) #Must be numbers 0.0, 0.1 ---1.0"
      ],
      "execution_count": 10,
      "outputs": [
        {
          "output_type": "stream",
          "text": [
            "tensor([0.0000, 0.1111, 0.2222, 0.3333, 0.4444, 0.5556, 0.6667, 0.7778, 0.8889,\n",
            "        1.0000])\n"
          ],
          "name": "stdout"
        }
      ]
    },
    {
      "cell_type": "code",
      "metadata": {
        "id": "zYN10_ttDOfZ"
      },
      "source": [
        "x = torch.zeros(size = (3,3), dtype = torch.float32, requires_grad=True)"
      ],
      "execution_count": 11,
      "outputs": []
    },
    {
      "cell_type": "code",
      "metadata": {
        "colab": {
          "base_uri": "https://localhost:8080/"
        },
        "id": "znjPKp-5Dly4",
        "outputId": "65a48d12-d02b-4d2d-c92d-862b4b3f8a0e"
      },
      "source": [
        "print(x)"
      ],
      "execution_count": 12,
      "outputs": [
        {
          "output_type": "stream",
          "text": [
            "tensor([[0., 0., 0.],\n",
            "        [0., 0., 0.],\n",
            "        [0., 0., 0.]], requires_grad=True)\n"
          ],
          "name": "stdout"
        }
      ]
    },
    {
      "cell_type": "code",
      "metadata": {
        "id": "KlV6691LEBIj"
      },
      "source": [
        "x = torch.eye(3,3, dtype = torch.float32, requires_grad = True)"
      ],
      "execution_count": 13,
      "outputs": []
    },
    {
      "cell_type": "code",
      "metadata": {
        "colab": {
          "base_uri": "https://localhost:8080/"
        },
        "id": "buRghP4eEMAw",
        "outputId": "038abf9a-3678-4ece-a0ea-b4a7626650ea"
      },
      "source": [
        "print(x)#A diaganol matrix with ones (identity matrix)"
      ],
      "execution_count": 14,
      "outputs": [
        {
          "output_type": "stream",
          "text": [
            "tensor([[1., 0., 0.],\n",
            "        [0., 1., 0.],\n",
            "        [0., 0., 1.]], requires_grad=True)\n"
          ],
          "name": "stdout"
        }
      ]
    },
    {
      "cell_type": "code",
      "metadata": {
        "id": "f8MJzr_eEdNT"
      },
      "source": [
        "x = torch.arange(start = 0, end = 20, step = 2, dtype = torch.int32)"
      ],
      "execution_count": 15,
      "outputs": []
    },
    {
      "cell_type": "code",
      "metadata": {
        "colab": {
          "base_uri": "https://localhost:8080/"
        },
        "id": "45MlGfXUFDWj",
        "outputId": "a1d09e92-738d-4d5e-c5c8-9aa1032ac184"
      },
      "source": [
        "print(x) #print numbers 0, 1, ..., 18"
      ],
      "execution_count": 16,
      "outputs": [
        {
          "output_type": "stream",
          "text": [
            "tensor([ 0,  2,  4,  6,  8, 10, 12, 14, 16, 18], dtype=torch.int32)\n"
          ],
          "name": "stdout"
        }
      ]
    },
    {
      "cell_type": "code",
      "metadata": {
        "colab": {
          "base_uri": "https://localhost:8080/"
        },
        "id": "5ufOrT0OFKy9",
        "outputId": "564c9a2f-ff5c-4fff-8372-2ca3c628cb1e"
      },
      "source": [
        "x = torch.arange(10)\n",
        "print(x.bool())#Return 10 random boolean values "
      ],
      "execution_count": 18,
      "outputs": [
        {
          "output_type": "stream",
          "text": [
            "tensor([False,  True,  True,  True,  True,  True,  True,  True,  True,  True])\n"
          ],
          "name": "stdout"
        }
      ]
    },
    {
      "cell_type": "code",
      "metadata": {
        "colab": {
          "base_uri": "https://localhost:8080/"
        },
        "id": "fyxzYT-xLnAE",
        "outputId": "c1bb6d1c-6f81-43e3-8c19-b4f517cf0c55"
      },
      "source": [
        "print(x.dtype) #By default is int64"
      ],
      "execution_count": 20,
      "outputs": [
        {
          "output_type": "stream",
          "text": [
            "torch.int64\n"
          ],
          "name": "stdout"
        }
      ]
    },
    {
      "cell_type": "code",
      "metadata": {
        "colab": {
          "base_uri": "https://localhost:8080/"
        },
        "id": "0CZBBayKL2ri",
        "outputId": "782f0a5c-45ef-4031-be3f-c0ccb15150e7"
      },
      "source": [
        "print(x.long().dtype)#We can also make sure it is int64 by change into a long int."
      ],
      "execution_count": 22,
      "outputs": [
        {
          "output_type": "stream",
          "text": [
            "torch.int64\n"
          ],
          "name": "stdout"
        }
      ]
    },
    {
      "cell_type": "code",
      "metadata": {
        "colab": {
          "base_uri": "https://localhost:8080/"
        },
        "id": "llwrWG1CL-d-",
        "outputId": "39ad055e-ae6b-417e-f502-1f2201fcb619"
      },
      "source": [
        "print(x.short().dtype)#Short returns int16"
      ],
      "execution_count": 23,
      "outputs": [
        {
          "output_type": "stream",
          "text": [
            "torch.int16\n"
          ],
          "name": "stdout"
        }
      ]
    },
    {
      "cell_type": "code",
      "metadata": {
        "colab": {
          "base_uri": "https://localhost:8080/"
        },
        "id": "PcyWO_LQMHfN",
        "outputId": "daf34f2b-cd12-4c29-cb65-fe84143686b0"
      },
      "source": [
        "print(x.half().dtype)#half return float16"
      ],
      "execution_count": 24,
      "outputs": [
        {
          "output_type": "stream",
          "text": [
            "torch.float16\n"
          ],
          "name": "stdout"
        }
      ]
    },
    {
      "cell_type": "code",
      "metadata": {
        "colab": {
          "base_uri": "https://localhost:8080/"
        },
        "id": "cvP4kkXHMLZ_",
        "outputId": "46f1a08d-1dc6-463a-ff3a-6a9ce6de861b"
      },
      "source": [
        "print(x.double().dtype) #returns float64"
      ],
      "execution_count": 26,
      "outputs": [
        {
          "output_type": "stream",
          "text": [
            "torch.float64\n"
          ],
          "name": "stdout"
        }
      ]
    },
    {
      "cell_type": "code",
      "metadata": {
        "colab": {
          "base_uri": "https://localhost:8080/"
        },
        "id": "ykznRv4wM2QI",
        "outputId": "00576bda-2b1b-4c13-a69b-923962224393"
      },
      "source": [
        "print(x.float().dtype) #returns  float32"
      ],
      "execution_count": 28,
      "outputs": [
        {
          "output_type": "stream",
          "text": [
            "torch.float32\n"
          ],
          "name": "stdout"
        }
      ]
    },
    {
      "cell_type": "code",
      "metadata": {
        "id": "NeKOTi3UNDCf"
      },
      "source": [
        "#convert numpy arrays to tensor:"
      ],
      "execution_count": 29,
      "outputs": []
    },
    {
      "cell_type": "code",
      "metadata": {
        "id": "6my70i5tOF7v"
      },
      "source": [
        "import numpy as np"
      ],
      "execution_count": 30,
      "outputs": []
    },
    {
      "cell_type": "code",
      "metadata": {
        "colab": {
          "base_uri": "https://localhost:8080/"
        },
        "id": "zhp7i82NOIPs",
        "outputId": "e3b745be-522b-4652-de97-48bb90eb6b05"
      },
      "source": [
        "arr1 = np.array((3,3), dtype = 'float32')\n",
        "print(arr1)"
      ],
      "execution_count": 36,
      "outputs": [
        {
          "output_type": "stream",
          "text": [
            "[3. 3.]\n"
          ],
          "name": "stdout"
        }
      ]
    },
    {
      "cell_type": "code",
      "metadata": {
        "id": "Nr49UgwOOPCq"
      },
      "source": [
        "tensor = torch.from_numpy(arr1)# defining a tensor from the numpy array"
      ],
      "execution_count": 37,
      "outputs": []
    },
    {
      "cell_type": "code",
      "metadata": {
        "colab": {
          "base_uri": "https://localhost:8080/"
        },
        "id": "SXj8tZfeOjvT",
        "outputId": "a3a04726-22ed-41c7-a37b-af6b9649bf58"
      },
      "source": [
        "print(tensor)"
      ],
      "execution_count": 38,
      "outputs": [
        {
          "output_type": "stream",
          "text": [
            "tensor([3., 3.])\n"
          ],
          "name": "stdout"
        }
      ]
    },
    {
      "cell_type": "code",
      "metadata": {
        "id": "bNLdiVSrOl08"
      },
      "source": [
        "arr_back = tensor.numpy() #Get the tensor back to numpy array"
      ],
      "execution_count": 40,
      "outputs": []
    },
    {
      "cell_type": "code",
      "metadata": {
        "colab": {
          "base_uri": "https://localhost:8080/"
        },
        "id": "LoSO-mssPCPP",
        "outputId": "ff1b6c3f-80f8-42e4-b8e7-f800df2a83bf"
      },
      "source": [
        "print(arr_back)"
      ],
      "execution_count": 41,
      "outputs": [
        {
          "output_type": "stream",
          "text": [
            "[3. 3.]\n"
          ],
          "name": "stdout"
        }
      ]
    },
    {
      "cell_type": "code",
      "metadata": {
        "id": "VBBiLMfcPI_Z"
      },
      "source": [
        "#Tensor maths operations with pytorch:"
      ],
      "execution_count": 42,
      "outputs": []
    },
    {
      "cell_type": "code",
      "metadata": {
        "id": "5EKQOyGrPwfY"
      },
      "source": [
        "x = torch.tensor([2,8,1], dtype = torch.float32, requires_grad = False)\n",
        "y = torch.tensor([8,2,9], dtype = torch.float32, requires_grad = False)"
      ],
      "execution_count": 46,
      "outputs": []
    },
    {
      "cell_type": "code",
      "metadata": {
        "id": "rqSgPnojTr12"
      },
      "source": [
        "holder = torch.empty(size = (1, 3)) #place holder with exactly dimension if needed\""
      ],
      "execution_count": 47,
      "outputs": []
    },
    {
      "cell_type": "code",
      "metadata": {
        "id": "8qD0TOBxT04r"
      },
      "source": [
        "out = torch.add(x,y, out = holder)"
      ],
      "execution_count": 49,
      "outputs": []
    },
    {
      "cell_type": "code",
      "metadata": {
        "colab": {
          "base_uri": "https://localhost:8080/"
        },
        "id": "1DCI_4XHUAw6",
        "outputId": "f694df51-17f7-446c-cb49-f89ba25390c5"
      },
      "source": [
        "print(out)"
      ],
      "execution_count": 50,
      "outputs": [
        {
          "output_type": "stream",
          "text": [
            "tensor([10., 10., 10.])\n"
          ],
          "name": "stdout"
        }
      ]
    },
    {
      "cell_type": "code",
      "metadata": {
        "id": "SKXflym8UNeH"
      },
      "source": [
        "#We can opt for the simple and direct operands such as "
      ],
      "execution_count": 51,
      "outputs": []
    },
    {
      "cell_type": "code",
      "metadata": {
        "colab": {
          "base_uri": "https://localhost:8080/"
        },
        "id": "isIqTbxKUckL",
        "outputId": "32733044-df20-4d0b-a1ad-3064705cd8dd"
      },
      "source": [
        "out1 = torch.add(x, y)\n",
        "print(out1)\n",
        "out2 = x + y\n",
        "print(out2)"
      ],
      "execution_count": 52,
      "outputs": [
        {
          "output_type": "stream",
          "text": [
            "tensor([10., 10., 10.])\n",
            "tensor([10., 10., 10.])\n"
          ],
          "name": "stdout"
        }
      ]
    },
    {
      "cell_type": "code",
      "metadata": {
        "colab": {
          "base_uri": "https://localhost:8080/"
        },
        "id": "nNQrtal4UmEs",
        "outputId": "b899624f-a613-41b8-88da-460820e427b5"
      },
      "source": [
        "#Substruction can also be done directly:\n",
        "print(torch.subtract(x, y, out = holder)) \n",
        "print((x - y)) \n"
      ],
      "execution_count": 60,
      "outputs": [
        {
          "output_type": "stream",
          "text": [
            "tensor([-6.,  6., -8.])\n",
            "tensor([-6.,  6., -8.])\n"
          ],
          "name": "stdout"
        }
      ]
    },
    {
      "cell_type": "code",
      "metadata": {
        "colab": {
          "base_uri": "https://localhost:8080/"
        },
        "id": "Mk4WLrXLVhw3",
        "outputId": "b0721fef-95d6-4c95-9229-c787636185dd"
      },
      "source": [
        "#Divission -elementwise(if of the same dimension):\n",
        "out = torch.true_divide(x, y)\n",
        "print(out)"
      ],
      "execution_count": 61,
      "outputs": [
        {
          "output_type": "stream",
          "text": [
            "tensor([0.2500, 4.0000, 0.1111])\n"
          ],
          "name": "stdout"
        }
      ]
    },
    {
      "cell_type": "code",
      "metadata": {
        "id": "trJgf-kNY1Ey"
      },
      "source": [
        "#Matrices multiplication\n",
        "out2 = torch.matmul(torch.eye(3,3), torch.empty(3,3).normal_(mean =0, std = 1))"
      ],
      "execution_count": 63,
      "outputs": []
    },
    {
      "cell_type": "code",
      "metadata": {
        "colab": {
          "base_uri": "https://localhost:8080/"
        },
        "id": "FeVfF6FhZSCt",
        "outputId": "84e59077-dc98-4b91-a524-0289f65786ae"
      },
      "source": [
        "out2"
      ],
      "execution_count": 64,
      "outputs": [
        {
          "output_type": "execute_result",
          "data": {
            "text/plain": [
              "tensor([[-0.8662, -0.0381,  0.2703],\n",
              "        [ 2.0528, -0.3990,  0.4157],\n",
              "        [-0.0238, -1.4011,  0.5919]])"
            ]
          },
          "metadata": {
            "tags": []
          },
          "execution_count": 64
        }
      ]
    },
    {
      "cell_type": "code",
      "metadata": {
        "colab": {
          "base_uri": "https://localhost:8080/"
        },
        "id": "QjVEeVHwZaY8",
        "outputId": "959cd597-ed5f-460c-e264-4e1996acabab"
      },
      "source": [
        "#exponents operations is same as ussual:\n",
        "x = torch.tensor([2,3,4], dtype = torch.int32, requires_grad = False)\n",
        "x_square = x.pow(2)\n",
        "x_sq = x**2\n",
        "print(x)\n",
        "print(x_square)\n",
        "print(x_sq)\n"
      ],
      "execution_count": 68,
      "outputs": [
        {
          "output_type": "stream",
          "text": [
            "tensor([2, 3, 4], dtype=torch.int32)\n",
            "tensor([ 4,  9, 16], dtype=torch.int32)\n",
            "tensor([ 4,  9, 16], dtype=torch.int32)\n"
          ],
          "name": "stdout"
        }
      ]
    },
    {
      "cell_type": "code",
      "metadata": {
        "colab": {
          "base_uri": "https://localhost:8080/"
        },
        "id": "Ob4G3brba_OV",
        "outputId": "f41d4e48-6eaa-4e3a-eb37-b018e95684b9"
      },
      "source": [
        "print(x_square > 0)"
      ],
      "execution_count": 72,
      "outputs": [
        {
          "output_type": "stream",
          "text": [
            "tensor([True, True, True])\n"
          ],
          "name": "stdout"
        }
      ]
    },
    {
      "cell_type": "code",
      "metadata": {
        "id": "VEGAPS4TbmvJ"
      },
      "source": [
        "#Other way of multiplying two matrices:"
      ],
      "execution_count": 73,
      "outputs": []
    },
    {
      "cell_type": "code",
      "metadata": {
        "colab": {
          "base_uri": "https://localhost:8080/"
        },
        "id": "m-REpeKheMF5",
        "outputId": "6c2db509-485c-4db0-8f98-ec51a8bc47f3"
      },
      "source": [
        "#**Random number for int is not implimented in torch yet.\n",
        "A = torch.rand(size = (2,3),dtype = torch.float32)\n",
        "B = torch.rand(size = (3,2), dtype = torch.float32)\n",
        "C1 = torch.mm(A, B) #This results into a 2,2 matrix\n",
        "C2 = B.mm(A) #This results into a 3,3 matrix (same operation though)\n",
        "print(f\"{A}\\n{B}\\n{C1}\\n{C2}\")"
      ],
      "execution_count": 75,
      "outputs": [
        {
          "output_type": "stream",
          "text": [
            "tensor([[0.1972, 0.1962, 0.3205],\n",
            "        [0.4672, 0.7402, 0.6894]])\n",
            "tensor([[0.4804, 0.1200],\n",
            "        [0.8431, 0.0184],\n",
            "        [0.0958, 0.6581]])\n",
            "tensor([[0.2909, 0.2382],\n",
            "        [0.9146, 0.5233]])\n",
            "tensor([[0.1508, 0.1831, 0.2367],\n",
            "        [0.1748, 0.1790, 0.2829],\n",
            "        [0.3264, 0.5059, 0.4844]])\n"
          ],
          "name": "stdout"
        }
      ]
    },
    {
      "cell_type": "code",
      "metadata": {
        "id": "NLlHw7jffzFN"
      },
      "source": [
        "#matrix exponentiation and element-wise multiplication and the dotproduct: \n",
        "#(we can compute the power/cubic/higher polynomial for matrix) as follow"
      ],
      "execution_count": 76,
      "outputs": []
    },
    {
      "cell_type": "code",
      "metadata": {
        "id": "qZR_mMaEgvEb"
      },
      "source": [
        "C1 = torch.tensor(([2,2],[2,2]), dtype = torch.float32)\n",
        "C1_sq = C1.matrix_power(2) #Multiply matrix by itself 2 times\n",
        "C_exp = C1.matrix_exp() \n",
        "C_elm = C_exp * C1_sq #Elementwise multiplication for the matrices\n",
        "C_dot = torch.dot(torch.tensor([2,1,3]), torch.tensor([3,1,2])) #The dot product (return the totals of elementwise multiplication)\n"
      ],
      "execution_count": 89,
      "outputs": []
    },
    {
      "cell_type": "code",
      "metadata": {
        "colab": {
          "base_uri": "https://localhost:8080/"
        },
        "id": "X9aoHnSqhTFi",
        "outputId": "4475f16f-81f5-44ed-d679-4dd77ac40e87"
      },
      "source": [
        "print(f\"C1 = {C1}\\nC_square = {C1_sq}, C_exp = {C_exp}\\nC_elm = {C_elm}\\nC_dot = {C_dot}\")"
      ],
      "execution_count": 90,
      "outputs": [
        {
          "output_type": "stream",
          "text": [
            "C1 = tensor([[2., 2.],\n",
            "        [2., 2.]])\n",
            "C_square = tensor([[8., 8.],\n",
            "        [8., 8.]]), C_exp = tensor([[27.7991, 26.7991],\n",
            "        [26.7991, 27.7991]])\n",
            "C_elm = tensor([[222.3926, 214.3926],\n",
            "        [214.3926, 222.3926]])\n",
            "C_dot = 13\n"
          ],
          "name": "stdout"
        }
      ]
    },
    {
      "cell_type": "code",
      "metadata": {
        "id": "z_cwaYSjhqNv"
      },
      "source": [
        "#Multiplication of high dimension tensor (like images processing) using batch multiplication"
      ],
      "execution_count": 91,
      "outputs": []
    },
    {
      "cell_type": "code",
      "metadata": {
        "id": "AR13FSYnqSfd"
      },
      "source": [
        "batch, m, n, p = 64, 10, 30, 16"
      ],
      "execution_count": 92,
      "outputs": []
    },
    {
      "cell_type": "code",
      "metadata": {
        "colab": {
          "base_uri": "https://localhost:8080/"
        },
        "id": "i7lT_tQHqZY4",
        "outputId": "8eeba952-b761-421d-d6b9-c7a937ad5fa3"
      },
      "source": [
        "mat1 = torch.rand((batch, m, n)) #First matrix\n",
        "mat2 = torch.rand((batch, n, p)) #Second matrix\n",
        "print(f\"mat1: {mat1.shape}\\nmat2: {mat2.shape}\")"
      ],
      "execution_count": 95,
      "outputs": [
        {
          "output_type": "stream",
          "text": [
            "mat1: torch.Size([64, 10, 30])\n",
            "mat2: torch.Size([64, 30, 16])\n"
          ],
          "name": "stdout"
        }
      ]
    },
    {
      "cell_type": "code",
      "metadata": {
        "colab": {
          "base_uri": "https://localhost:8080/"
        },
        "id": "mD3hUwk-q5xA",
        "outputId": "bfb590cf-8594-4905-d5a1-a3ac3bd23c3c"
      },
      "source": [
        "#Now we can multiply the above as follows:\n",
        "out = torch.bmm(mat1, mat2)\n",
        "print(f\"out = {out}\\nout_shape:{out.shape}\")"
      ],
      "execution_count": 96,
      "outputs": [
        {
          "output_type": "stream",
          "text": [
            "out = tensor([[[ 6.9650,  8.9363,  8.9309,  ...,  5.7759,  7.9629,  6.8339],\n",
            "         [ 5.9264,  6.9877,  6.8562,  ...,  5.2875,  5.9767,  5.6455],\n",
            "         [ 6.5541,  8.4146,  8.4222,  ...,  6.2149,  7.2208,  6.5551],\n",
            "         ...,\n",
            "         [ 9.7873, 10.9773, 10.8121,  ...,  7.6806,  9.1131,  8.0161],\n",
            "         [ 7.2786,  9.6606,  8.4922,  ...,  5.9987,  6.9572,  7.1495],\n",
            "         [ 8.0520,  8.8957,  8.0369,  ...,  6.4429,  7.6086,  6.0644]],\n",
            "\n",
            "        [[ 7.2354,  7.4031,  6.3473,  ...,  7.5578,  8.4306,  7.7924],\n",
            "         [ 7.9068,  6.1881,  7.4880,  ...,  7.8382,  8.6875,  8.8734],\n",
            "         [ 8.6335,  6.7787,  7.2422,  ...,  7.7716,  8.3427,  8.9197],\n",
            "         ...,\n",
            "         [ 7.5441,  5.7748,  6.5634,  ...,  7.4472,  8.1620,  8.1454],\n",
            "         [ 8.3442,  6.2337,  6.5437,  ...,  7.3355,  7.4428,  8.5428],\n",
            "         [ 7.5248,  6.0900,  6.8386,  ...,  7.4969,  8.2308,  8.4342]],\n",
            "\n",
            "        [[ 7.5589,  8.5400,  8.0699,  ...,  8.2805,  9.9820,  8.3092],\n",
            "         [ 7.4627,  7.5285,  7.5216,  ...,  7.8903,  9.1670,  8.3041],\n",
            "         [ 6.9378,  7.9707,  7.6713,  ...,  8.8165, 10.4728,  9.1938],\n",
            "         ...,\n",
            "         [ 7.1130,  7.2268,  7.0110,  ...,  7.2785,  8.0362,  6.0962],\n",
            "         [ 6.8576,  6.3175,  6.4611,  ...,  6.6591,  8.0866,  7.4378],\n",
            "         [ 8.3789,  7.2541,  7.7915,  ...,  7.9935,  8.6393,  8.0941]],\n",
            "\n",
            "        ...,\n",
            "\n",
            "        [[ 7.0223,  6.7034,  7.3939,  ...,  6.6085,  6.9683,  7.1281],\n",
            "         [ 8.6872,  8.1182,  8.4459,  ...,  8.2155,  8.8293,  7.9551],\n",
            "         [ 8.8865,  7.9694,  8.9204,  ...,  7.9089,  9.2551,  8.1854],\n",
            "         ...,\n",
            "         [ 7.8746,  5.1679,  7.2642,  ...,  5.8141,  6.6596,  6.2787],\n",
            "         [ 7.7485,  6.9457,  7.2094,  ...,  6.9999,  7.0355,  6.6803],\n",
            "         [ 7.6130,  6.6504,  6.8821,  ...,  6.2817,  7.5238,  6.2766]],\n",
            "\n",
            "        [[ 8.5616,  9.4134,  8.2749,  ...,  8.4639,  9.8181,  8.2216],\n",
            "         [ 6.5249,  6.5697,  6.1154,  ...,  6.6590,  8.0949,  5.4484],\n",
            "         [ 6.0650,  7.0851,  6.1632,  ...,  7.0751,  8.1060,  6.3246],\n",
            "         ...,\n",
            "         [ 5.8015,  6.4045,  6.9020,  ...,  5.8222,  7.0516,  5.5831],\n",
            "         [ 6.6892,  7.7382,  7.3052,  ...,  7.2622,  8.3138,  6.5419],\n",
            "         [ 8.2593,  7.9869,  6.9891,  ...,  7.4289,  9.4628,  6.6469]],\n",
            "\n",
            "        [[ 7.1071,  6.9203,  7.6591,  ...,  6.0852,  6.7985,  7.0146],\n",
            "         [ 7.2458,  9.0960,  7.6525,  ...,  7.5461,  7.7847,  7.4736],\n",
            "         [ 8.5356,  9.1020,  8.7218,  ...,  7.5011,  8.9882,  9.4394],\n",
            "         ...,\n",
            "         [ 6.5146,  7.7842,  7.1052,  ...,  6.8148,  6.6063,  7.4997],\n",
            "         [ 7.5321,  8.5123,  7.6098,  ...,  6.5964,  7.2720,  7.1833],\n",
            "         [ 5.9167,  7.0926,  7.0825,  ...,  6.8035,  6.9956,  8.0777]]])\n",
            "out_shape:torch.Size([64, 10, 16])\n"
          ],
          "name": "stdout"
        }
      ]
    },
    {
      "cell_type": "code",
      "metadata": {
        "id": "dLIA6x2crZsY"
      },
      "source": [
        "#Broadcasting in pytorch is same as in numpy or tensorflow:"
      ],
      "execution_count": 97,
      "outputs": []
    },
    {
      "cell_type": "code",
      "metadata": {
        "id": "M4sD-CJcvGZq"
      },
      "source": [
        "x = torch.rand(3,4)"
      ],
      "execution_count": 98,
      "outputs": []
    },
    {
      "cell_type": "code",
      "metadata": {
        "id": "HGGl0Jw7vSFz"
      },
      "source": [
        "y = torch.rand(1,4)"
      ],
      "execution_count": 99,
      "outputs": []
    },
    {
      "cell_type": "code",
      "metadata": {
        "colab": {
          "base_uri": "https://localhost:8080/"
        },
        "id": "rkwZUhPSvWgH",
        "outputId": "2bf859ca-4674-446f-88b5-acc7a0e627a2"
      },
      "source": [
        "print(f\"x_shape: {x.shape}, y_shape: {y.shape}\")"
      ],
      "execution_count": 100,
      "outputs": [
        {
          "output_type": "stream",
          "text": [
            "x_shape: torch.Size([3, 4]), y_shape: torch.Size([1, 4])\n"
          ],
          "name": "stdout"
        }
      ]
    },
    {
      "cell_type": "code",
      "metadata": {
        "colab": {
          "base_uri": "https://localhost:8080/"
        },
        "id": "30uPqezEvey_",
        "outputId": "e0dada47-fed4-45f4-92fe-4ac13982921b"
      },
      "source": [
        "print(f\"x = {x}\\ny = {y}\")"
      ],
      "execution_count": 101,
      "outputs": [
        {
          "output_type": "stream",
          "text": [
            "x = tensor([[0.0645, 0.4598, 0.5354, 0.9435],\n",
            "        [0.3989, 0.4853, 0.2050, 0.4193],\n",
            "        [0.5009, 0.2589, 0.8305, 0.9537]])\n",
            "y = tensor([[0.6245, 0.7844, 0.9467, 0.3469]])\n"
          ],
          "name": "stdout"
        }
      ]
    },
    {
      "cell_type": "code",
      "metadata": {
        "id": "qOABgrTcvqpg"
      },
      "source": [
        "#We can perform operations as ussual and broadcasting will be applied to the smaller tensor to match the dimension of the bigger"
      ],
      "execution_count": 102,
      "outputs": []
    },
    {
      "cell_type": "code",
      "metadata": {
        "colab": {
          "base_uri": "https://localhost:8080/"
        },
        "id": "nv1c9DUav5C1",
        "outputId": "c0b4dcc8-c82e-41a5-9313-0fd246f2e749"
      },
      "source": [
        "print(f\"{x - y}\\n{x+y}\\n{x**y}\")"
      ],
      "execution_count": 103,
      "outputs": [
        {
          "output_type": "stream",
          "text": [
            "tensor([[-0.5599, -0.3246, -0.4113,  0.5966],\n",
            "        [-0.2256, -0.2991, -0.7416,  0.0724],\n",
            "        [-0.1235, -0.5255, -0.1162,  0.6068]])\n",
            "tensor([[0.6890, 1.2441, 1.4821, 1.2904],\n",
            "        [1.0233, 1.2697, 1.1517, 0.7662],\n",
            "        [1.1254, 1.0432, 1.7772, 1.3007]])\n",
            "tensor([[0.1806, 0.5436, 0.5535, 0.9800],\n",
            "        [0.5633, 0.5672, 0.2231, 0.7397],\n",
            "        [0.6494, 0.3464, 0.8387, 0.9837]])\n"
          ],
          "name": "stdout"
        }
      ]
    },
    {
      "cell_type": "code",
      "metadata": {
        "colab": {
          "base_uri": "https://localhost:8080/"
        },
        "id": "0-AtR6-8w6Rf",
        "outputId": "504be5be-d0e0-4da9-ce61-89ef03c8a1e6"
      },
      "source": [
        "print(f\"max_val: {torch.max(x, dim = 1)}\\nmin_val: {torch.min(y, dim = 1)}\")"
      ],
      "execution_count": 106,
      "outputs": [
        {
          "output_type": "stream",
          "text": [
            "max_val: torch.return_types.max(\n",
            "values=tensor([0.9435, 0.4853, 0.9537]),\n",
            "indices=tensor([3, 1, 3]))\n",
            "min_val: torch.return_types.min(\n",
            "values=tensor([0.3469]),\n",
            "indices=tensor([3]))\n"
          ],
          "name": "stdout"
        }
      ]
    },
    {
      "cell_type": "code",
      "metadata": {
        "colab": {
          "base_uri": "https://localhost:8080/"
        },
        "id": "ZLJOiCuzxQ1u",
        "outputId": "be009bac-a88c-4b74-9415-91b9af2a77f3"
      },
      "source": [
        "print(f\"arg_max: {torch.argmax(x, dim = 1)}\\narg_min: {torch.argmin(y, dim = 1)}\\nabsolute_x:{torch.abs(x)}\\nequality: {torch.eq((x - y), (x + y))}\")"
      ],
      "execution_count": 110,
      "outputs": [
        {
          "output_type": "stream",
          "text": [
            "arg_max: tensor([3, 1, 3])\n",
            "arg_min: tensor([3])\n",
            "absolute_x:tensor([[0.0645, 0.4598, 0.5354, 0.9435],\n",
            "        [0.3989, 0.4853, 0.2050, 0.4193],\n",
            "        [0.5009, 0.2589, 0.8305, 0.9537]])\n",
            "equality: tensor([[False, False, False, False],\n",
            "        [False, False, False, False],\n",
            "        [False, False, False, False]])\n"
          ],
          "name": "stdout"
        }
      ]
    },
    {
      "cell_type": "code",
      "metadata": {
        "id": "1qRN1QCWzGCO"
      },
      "source": [
        "z = torch.clamp(x-y, min = 0, max = 3)"
      ],
      "execution_count": 113,
      "outputs": []
    },
    {
      "cell_type": "code",
      "metadata": {
        "colab": {
          "base_uri": "https://localhost:8080/"
        },
        "id": "9QHnXBXQ86wA",
        "outputId": "de6a263c-3305-4c51-dfa8-f58a288796f6"
      },
      "source": [
        "print(z)"
      ],
      "execution_count": 114,
      "outputs": [
        {
          "output_type": "stream",
          "text": [
            "tensor([[0.0000, 0.0000, 0.0000, 0.5966],\n",
            "        [0.0000, 0.0000, 0.0000, 0.0724],\n",
            "        [0.0000, 0.0000, 0.0000, 0.6068]])\n"
          ],
          "name": "stdout"
        }
      ]
    },
    {
      "cell_type": "code",
      "metadata": {
        "colab": {
          "base_uri": "https://localhost:8080/"
        },
        "id": "M9-q9P1A88kc",
        "outputId": "6b829af2-caf2-46bf-aa54-e69449e04e26"
      },
      "source": [
        "print(torch.mean(z.float(), dim = 1)) #compute the mean for specified dimension"
      ],
      "execution_count": 115,
      "outputs": [
        {
          "output_type": "stream",
          "text": [
            "tensor([0.1491, 0.0181, 0.1517])\n"
          ],
          "name": "stdout"
        }
      ]
    },
    {
      "cell_type": "code",
      "metadata": {
        "id": "18VBXTZ-9i3l"
      },
      "source": [
        "#Tensor_indexing:\n",
        "batch_size, features = 32, 10"
      ],
      "execution_count": 5,
      "outputs": []
    },
    {
      "cell_type": "code",
      "metadata": {
        "id": "463BFRhZFGzs"
      },
      "source": [
        "data = torch.rand(batch_size, features)"
      ],
      "execution_count": 7,
      "outputs": []
    },
    {
      "cell_type": "code",
      "metadata": {
        "colab": {
          "base_uri": "https://localhost:8080/",
          "height": 51
        },
        "id": "TGKzNYv7FQjv",
        "outputId": "85f5531c-c619-4317-ea72-086e61b77209"
      },
      "source": [
        "#Grabbing the features of the first sample:\n",
        "display(data[0])"
      ],
      "execution_count": 8,
      "outputs": [
        {
          "output_type": "display_data",
          "data": {
            "text/plain": [
              "tensor([0.5048, 0.6400, 0.6801, 0.4147, 0.0488, 0.5096, 0.5033, 0.5764, 0.8844,\n",
              "        0.6777])"
            ]
          },
          "metadata": {
            "tags": []
          }
        }
      ]
    },
    {
      "cell_type": "code",
      "metadata": {
        "id": "a7hsakyyFmhm"
      },
      "source": [
        "#Display the features of the last sample:"
      ],
      "execution_count": 9,
      "outputs": []
    },
    {
      "cell_type": "code",
      "metadata": {
        "colab": {
          "base_uri": "https://localhost:8080/",
          "height": 51
        },
        "id": "bVah6V34Ft4L",
        "outputId": "f1e92cde-0261-41b0-dd67-8273700c162b"
      },
      "source": [
        "display(data[-1])"
      ],
      "execution_count": 10,
      "outputs": [
        {
          "output_type": "display_data",
          "data": {
            "text/plain": [
              "tensor([0.0530, 0.0338, 0.4162, 0.5764, 0.7073, 0.1908, 0.1277, 0.2591, 0.2269,\n",
              "        0.3842])"
            ]
          },
          "metadata": {
            "tags": []
          }
        }
      ]
    },
    {
      "cell_type": "code",
      "metadata": {
        "colab": {
          "base_uri": "https://localhost:8080/"
        },
        "id": "JL2esrR5Fv5m",
        "outputId": "c640f94b-a416-4fe6-f02c-d519dd73458b"
      },
      "source": [
        "#Display the features of some samples:\n",
        "for ft in data[0:5]:\n",
        "  print(ft)"
      ],
      "execution_count": 11,
      "outputs": [
        {
          "output_type": "stream",
          "text": [
            "tensor([0.5048, 0.6400, 0.6801, 0.4147, 0.0488, 0.5096, 0.5033, 0.5764, 0.8844,\n",
            "        0.6777])\n",
            "tensor([0.4369, 0.3155, 0.4764, 0.2740, 0.5329, 0.3384, 0.3764, 0.5561, 0.5326,\n",
            "        0.4818])\n",
            "tensor([0.3285, 0.2639, 0.8477, 0.2231, 0.1917, 0.7057, 0.4472, 0.7450, 0.6869,\n",
            "        0.2176])\n",
            "tensor([0.6338, 0.2170, 0.4985, 0.5126, 0.9581, 0.3935, 0.1880, 0.7402, 0.6654,\n",
            "        0.4142])\n",
            "tensor([0.6274, 0.5999, 0.1230, 0.6296, 0.9639, 0.7494, 0.7001, 0.7913, 0.6018,\n",
            "        0.2761])\n"
          ],
          "name": "stdout"
        }
      ]
    },
    {
      "cell_type": "code",
      "metadata": {
        "id": "Iy_0YiP5GAEe"
      },
      "source": [
        "#Get the first feature for all samples:"
      ],
      "execution_count": 12,
      "outputs": []
    },
    {
      "cell_type": "code",
      "metadata": {
        "colab": {
          "base_uri": "https://localhost:8080/",
          "height": 85
        },
        "id": "AowqSc1mGSie",
        "outputId": "6f1cb993-5954-40a5-f451-e28ae728dbc3"
      },
      "source": [
        "display(data[:,0])"
      ],
      "execution_count": 13,
      "outputs": [
        {
          "output_type": "display_data",
          "data": {
            "text/plain": [
              "tensor([0.5048, 0.4369, 0.3285, 0.6338, 0.6274, 0.4844, 0.8384, 0.4464, 0.8842,\n",
              "        0.6353, 0.6814, 0.3382, 0.6137, 0.9762, 0.2814, 0.5197, 0.7950, 0.0248,\n",
              "        0.8560, 0.5530, 0.4453, 0.6744, 0.3739, 0.5210, 0.6370, 0.7962, 0.1519,\n",
              "        0.4150, 0.6933, 0.6553, 0.1606, 0.0530])"
            ]
          },
          "metadata": {
            "tags": []
          }
        }
      ]
    },
    {
      "cell_type": "code",
      "metadata": {
        "colab": {
          "base_uri": "https://localhost:8080/",
          "height": 85
        },
        "id": "IygiNmtgGW1A",
        "outputId": "74848148-1842-407d-aec2-56a77ab2d354"
      },
      "source": [
        "#Other way to get all features for an example (say 1):\n",
        "display(data[0:,1])"
      ],
      "execution_count": 15,
      "outputs": [
        {
          "output_type": "display_data",
          "data": {
            "text/plain": [
              "tensor([0.6400, 0.3155, 0.2639, 0.2170, 0.5999, 0.9555, 0.4438, 0.9978, 0.4987,\n",
              "        0.9720, 0.2303, 0.4020, 0.0123, 0.3130, 0.7152, 0.9997, 0.5303, 0.1336,\n",
              "        0.0579, 0.7031, 0.1851, 0.3694, 0.4478, 0.6449, 0.6613, 0.7230, 0.8571,\n",
              "        0.9120, 0.4625, 0.5357, 0.8054, 0.0338])"
            ]
          },
          "metadata": {
            "tags": []
          }
        }
      ]
    },
    {
      "cell_type": "code",
      "metadata": {
        "id": "aBwpaapkGpD8"
      },
      "source": [
        "#All features and all examples:"
      ],
      "execution_count": 16,
      "outputs": []
    },
    {
      "cell_type": "code",
      "metadata": {
        "colab": {
          "base_uri": "https://localhost:8080/",
          "height": 34
        },
        "id": "yCg6CHwCHC-P",
        "outputId": "13b879c9-294d-4b17-91e2-f6392bd40486"
      },
      "source": [
        "display(data.shape)"
      ],
      "execution_count": 20,
      "outputs": [
        {
          "output_type": "display_data",
          "data": {
            "text/plain": [
              "torch.Size([32, 10])"
            ]
          },
          "metadata": {
            "tags": []
          }
        }
      ]
    },
    {
      "cell_type": "code",
      "metadata": {
        "colab": {
          "base_uri": "https://localhost:8080/",
          "height": 34
        },
        "id": "fLF4gWX7HEX5",
        "outputId": "e5068d4d-7a2f-433e-8032-110a20850a6a"
      },
      "source": [
        "#Same as\n",
        "display(data[0:,].shape)"
      ],
      "execution_count": 19,
      "outputs": [
        {
          "output_type": "display_data",
          "data": {
            "text/plain": [
              "torch.Size([32, 10])"
            ]
          },
          "metadata": {
            "tags": []
          }
        }
      ]
    },
    {
      "cell_type": "code",
      "metadata": {
        "id": "yn4ZdQDRHMII"
      },
      "source": [
        "#Get some features of a specified sample:"
      ],
      "execution_count": 21,
      "outputs": []
    },
    {
      "cell_type": "code",
      "metadata": {
        "colab": {
          "base_uri": "https://localhost:8080/",
          "height": 34
        },
        "id": "NLj1j27LHoza",
        "outputId": "3e4626f6-5111-40a3-cb6b-30e651482c26"
      },
      "source": [
        "display(data[0,0:5]) #display the first five features of the first sample data"
      ],
      "execution_count": 23,
      "outputs": [
        {
          "output_type": "display_data",
          "data": {
            "text/plain": [
              "tensor([0.5048, 0.6400, 0.6801, 0.4147, 0.0488])"
            ]
          },
          "metadata": {
            "tags": []
          }
        }
      ]
    },
    {
      "cell_type": "code",
      "metadata": {
        "id": "5PBFn0PDH1I3"
      },
      "source": [
        "#Get all first 5 features of all examples:"
      ],
      "execution_count": 24,
      "outputs": []
    },
    {
      "cell_type": "code",
      "metadata": {
        "colab": {
          "base_uri": "https://localhost:8080/",
          "height": 34
        },
        "id": "_G3595GYIQu4",
        "outputId": "bf44aba5-b2ee-4d05-8dcb-49ba63dcc489"
      },
      "source": [
        "display(data[0:, 0:5].shape)"
      ],
      "execution_count": 25,
      "outputs": [
        {
          "output_type": "display_data",
          "data": {
            "text/plain": [
              "torch.Size([32, 5])"
            ]
          },
          "metadata": {
            "tags": []
          }
        }
      ]
    },
    {
      "cell_type": "code",
      "metadata": {
        "id": "TVQjAt3bIUqY"
      },
      "source": [
        ""
      ],
      "execution_count": null,
      "outputs": []
    }
  ]
}