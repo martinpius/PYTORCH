{
  "nbformat": 4,
  "nbformat_minor": 0,
  "metadata": {
    "colab": {
      "name": "Simple CNN on MNIST dataset with Pytorch.ipynb",
      "provenance": [],
      "authorship_tag": "ABX9TyM8ze9BDHuwYTpHEs0k4hI8",
      "include_colab_link": true
    },
    "kernelspec": {
      "name": "python3",
      "display_name": "Python 3"
    },
    "language_info": {
      "name": "python"
    }
  },
  "cells": [
    {
      "cell_type": "markdown",
      "metadata": {
        "id": "view-in-github",
        "colab_type": "text"
      },
      "source": [
        "<a href=\"https://colab.research.google.com/github/martinpius/PYTORCH/blob/main/Simple_CNN_on_MNIST_dataset_with_Pytorch.ipynb\" target=\"_parent\"><img src=\"https://colab.research.google.com/assets/colab-badge.svg\" alt=\"Open In Colab\"/></a>"
      ]
    },
    {
      "cell_type": "code",
      "metadata": {
        "colab": {
          "base_uri": "https://localhost:8080/"
        },
        "id": "E_OO5CIcanal",
        "outputId": "01ce419f-3b25-4436-cab4-a196cfa8f431"
      },
      "source": [
        "from google.colab import drive\n",
        "drive.mount(\"/content/drive\", force_remount = True)\n",
        "try:\n",
        "  COLAB = True\n",
        "  import torch\n",
        "  print(f\"You are on CoLaB with pytorch version: {torch.__version__}\")\n",
        "except Exception as e:\n",
        "  print(f\"{type(e)}: {e}\\nplease load your Google drive\")\n",
        "  COLAB = False\n",
        "def time_fmt(t:float = 123.189)->float:\n",
        "  h = int(t / (60 * 60))\n",
        "  m = int(t % (60 * 60) / 60)\n",
        "  s = int(t % 60)\n",
        "  return f\"{h}: {m:>02}: {s:>05.2f}\"\n",
        "print(f\">>>time testing\\tplease wait...\\n>>>time elapse:\\t{time_fmt()}\")\n",
        "\n",
        "#Assigning GPU (cuda) when available\n",
        "if torch.cuda.is_available():\n",
        "  device = torch.device('cuda')\n",
        "else:\n",
        "  device = torch.device('cpu')"
      ],
      "execution_count": 29,
      "outputs": [
        {
          "output_type": "stream",
          "text": [
            "Mounted at /content/drive\n",
            "You are on CoLaB with pytorch version: 1.8.1+cu101\n",
            ">>>time testing\tplease wait...\n",
            ">>>time elapse:\t0: 02: 03.00\n"
          ],
          "name": "stdout"
        }
      ]
    },
    {
      "cell_type": "code",
      "metadata": {
        "id": "CS9nQgvsc5zV"
      },
      "source": [
        "import torch\n",
        "import torch.nn as nn\n",
        "import torch.nn.functional as F\n",
        "import torchvision.datasets as datasets\n",
        "import torchvision.transforms as transforms\n",
        "from torch.utils.data import DataLoader\n",
        "import numpy as np\n",
        "import time, datetime,sys\n",
        "import torch.optim as optim\n"
      ],
      "execution_count": 30,
      "outputs": []
    },
    {
      "cell_type": "code",
      "metadata": {
        "id": "n7oP7BfGf3i6"
      },
      "source": [
        "#In this notebook we are going to train a simple convolutional neural network on mnist data using pytorch:"
      ],
      "execution_count": 31,
      "outputs": []
    },
    {
      "cell_type": "code",
      "metadata": {
        "id": "qg3dHd7dgU9N"
      },
      "source": [
        "#We first defining our model class using the following codes snippets:"
      ],
      "execution_count": 32,
      "outputs": []
    },
    {
      "cell_type": "code",
      "metadata": {
        "id": "wTqXWWPug4I5"
      },
      "source": [
        "class CNNBLOCK(nn.Module):\n",
        "  def __init__(self, in_channels = 1, num_classes = 10, *args, **kwargs):\n",
        "    super(CNNBLOCK, self).__init__(*args, **kwargs)\n",
        "    self.conv1 = nn.Conv2d(in_channels = in_channels, \n",
        "                           out_channels = 8, \n",
        "                           kernel_size = (3,3),\n",
        "                           stride = (1,1),\n",
        "                           padding = (1,1))\n",
        "    self.maxpool = nn.MaxPool2d(kernel_size = (2,2), stride = (2,2))\n",
        "    self.conv2 = nn.Conv2d(in_channels = 8, \n",
        "                           out_channels = 16,\n",
        "                           kernel_size = (3,3), \n",
        "                           padding = (1,1), \n",
        "                           stride = (1,1))\n",
        "    self.fc1 = nn.Linear(in_features = 16*7*7, out_features = 256)\n",
        "    self.fc2 = nn.Linear(in_features = 256, out_features = num_classes)\n",
        "  \n",
        "  def forward(self, x):\n",
        "    x = F.relu(self.conv1(x))\n",
        "    x = self.maxpool(x)\n",
        "    x = F.relu(self.conv2(x))\n",
        "    x = self.maxpool(x)\n",
        "    x = x.reshape(x.shape[0],-1)\n",
        "    x = F.relu(self.fc1(x))\n",
        "    x = self.fc2(x)\n",
        "    return x\n"
      ],
      "execution_count": 33,
      "outputs": []
    },
    {
      "cell_type": "code",
      "metadata": {
        "colab": {
          "base_uri": "https://localhost:8080/"
        },
        "id": "Jp6IXNfcoBq3",
        "outputId": "4219b799-0dc5-423c-a472-82203ed430ed"
      },
      "source": [
        "#Testing the class if yield what we expected:\n",
        "model = CNNBLOCK()\n",
        "rand_input = torch.randn(64,1,28,28)\n",
        "print(f\"output_shape: {model(rand_input).shape}\")"
      ],
      "execution_count": 34,
      "outputs": [
        {
          "output_type": "stream",
          "text": [
            "output_shape: torch.Size([64, 10])\n"
          ],
          "name": "stdout"
        }
      ]
    },
    {
      "cell_type": "code",
      "metadata": {
        "id": "yyykqgTioJeZ"
      },
      "source": [
        ""
      ],
      "execution_count": 34,
      "outputs": []
    },
    {
      "cell_type": "code",
      "metadata": {
        "id": "bRDu5oW4opXf"
      },
      "source": [
        "#Loading the MNIST data from torch library:"
      ],
      "execution_count": 35,
      "outputs": []
    },
    {
      "cell_type": "code",
      "metadata": {
        "id": "oMTZQtKc3pPx"
      },
      "source": [
        "train_dataset = datasets.MNIST(root = 'train_dataset/', train = True,\n",
        "                               transform = transforms.ToTensor(), download = True)\n",
        "test_dataset = datasets.MNIST(root = 'test_dataset/', transform = transforms.ToTensor(),\n",
        "                              train = False, download = True)"
      ],
      "execution_count": 36,
      "outputs": []
    },
    {
      "cell_type": "code",
      "metadata": {
        "colab": {
          "base_uri": "https://localhost:8080/"
        },
        "id": "FRXZKN-83xOd",
        "outputId": "4fc91d17-53f8-41ca-aeec-aae583a247a4"
      },
      "source": [
        "batch_size, epochs, learning_rate, in_channels, out_size = 64,10,0.001,1,10\n",
        "train_loader = DataLoader(dataset = train_dataset,batch_size = batch_size, shuffle = True)\n",
        "test_loader = DataLoader(dataset = test_dataset, batch_size = batch_size, shuffle = True)\n",
        "x_train_batch, y_train_batch = next(iter(train_loader))\n",
        "print(f\"x_train_batch_shape: {x_train_batch.shape}, y_train_batch_shape: {y_train_batch.shape}\")"
      ],
      "execution_count": 37,
      "outputs": [
        {
          "output_type": "stream",
          "text": [
            "x_train_batch_shape: torch.Size([64, 1, 28, 28]), y_train_batch_shape: torch.Size([64])\n"
          ],
          "name": "stdout"
        }
      ]
    },
    {
      "cell_type": "code",
      "metadata": {
        "id": "HqY_cD3O9gDT"
      },
      "source": [
        "#Getting the loss function and the optimizers:\n",
        "loss_obj = nn.CrossEntropyLoss()\n",
        "optimizer = optim.Adam(model.parameters(), lr = learning_rate)"
      ],
      "execution_count": 38,
      "outputs": []
    },
    {
      "cell_type": "code",
      "metadata": {
        "colab": {
          "base_uri": "https://localhost:8080/"
        },
        "id": "slDuBAZc6Pcf",
        "outputId": "d9e6d0d4-24a4-4de8-efdf-b69998eb2dfd"
      },
      "source": [
        "#The training loop:\n",
        "for epoch in range(epochs):\n",
        "  print(f\"training starts for epoch: {epoch + 1}\\n>>>please wait...\\tplease wait...\")\n",
        "  for idx_batch, (x_train_batch, y_train_batch) in enumerate(train_loader):\n",
        "    #get the data into gpu when available:\n",
        "    x_train_batch.to(device = device)\n",
        "    y_train_batch.to(device = device)\n",
        "\n",
        "    #performing the forward pass here:\n",
        "    preds = model(x_train_batch)\n",
        "    train_loss = loss_obj(preds, y_train_batch)\n",
        "\n",
        "    #performing the backward pass here:\n",
        "    optimizer.zero_grad()\n",
        "    train_loss.backward()\n",
        "\n",
        "    #performing the gradient descent here:\n",
        "    optimizer.step()\n",
        "\n",
        "#train and performance monitoring:\n",
        "def _fetch_accuracy(loader, model):\n",
        "  if loader.dataset.train:\n",
        "    print(\"checking the model accuracy for the train data\")\n",
        "  else:\n",
        "    print('checking the model accuracy for the test data')\n",
        "  \n",
        "  num_correct = 0\n",
        "  num_examples = 0\n",
        "  model.eval()\n",
        "  #we do not need to train the model again\n",
        "  with torch.no_grad():\n",
        "    for x, y in loader:\n",
        "      x.to(device = device)\n",
        "      y.to(device = device)\n",
        "      preds = model(x)#this returns the predictions of shape (batch, num_classes)\n",
        "      _,predictions = preds.max(1)#grab the maximum probability among the 10 classes for the batch\n",
        "      num_correct+=(predictions == y).sum() #summ all true values (correct predictions)\n",
        "      num_examples+=predictions.size(0)#grabs all samples in a batch (correct+incorrect predictions)\n",
        "    print(f\"Got: {num_correct}/{num_examples} with an accuracy of {float(num_correct)/float(num_examples)*100:.2f}\")\n",
        "  model.train()\n",
        "\n",
        "_fetch_accuracy(train_loader, model)\n",
        "_fetch_accuracy(test_loader, model)\n",
        "\n",
        "\n",
        "\n"
      ],
      "execution_count": 39,
      "outputs": [
        {
          "output_type": "stream",
          "text": [
            "training starts for epoch: 1\n",
            ">>>please wait...\tplease wait...\n",
            "training starts for epoch: 2\n",
            ">>>please wait...\tplease wait...\n",
            "training starts for epoch: 3\n",
            ">>>please wait...\tplease wait...\n",
            "training starts for epoch: 4\n",
            ">>>please wait...\tplease wait...\n",
            "training starts for epoch: 5\n",
            ">>>please wait...\tplease wait...\n",
            "training starts for epoch: 6\n",
            ">>>please wait...\tplease wait...\n",
            "training starts for epoch: 7\n",
            ">>>please wait...\tplease wait...\n",
            "training starts for epoch: 8\n",
            ">>>please wait...\tplease wait...\n",
            "training starts for epoch: 9\n",
            ">>>please wait...\tplease wait...\n",
            "training starts for epoch: 10\n",
            ">>>please wait...\tplease wait...\n",
            "checking the model accuracy for the train data\n",
            "Got: 59852/60000 with an accuracy of 99.75\n",
            "checking the model accuracy for the test data\n",
            "Got: 9895/10000 with an accuracy of 98.95\n"
          ],
          "name": "stdout"
        }
      ]
    },
    {
      "cell_type": "code",
      "metadata": {
        "id": "CMR81FnN9fC7"
      },
      "source": [
        ""
      ],
      "execution_count": 39,
      "outputs": []
    }
  ]
}