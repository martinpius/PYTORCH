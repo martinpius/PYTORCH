{
  "nbformat": 4,
  "nbformat_minor": 0,
  "metadata": {
    "colab": {
      "name": "Transfer Learning in PyTorch.ipynb",
      "provenance": [],
      "authorship_tag": "ABX9TyP/NKYdk1KDzu68pzPQ/qC4",
      "include_colab_link": true
    },
    "kernelspec": {
      "name": "python3",
      "display_name": "Python 3"
    },
    "language_info": {
      "name": "python"
    },
    "accelerator": "GPU"
  },
  "cells": [
    {
      "cell_type": "markdown",
      "metadata": {
        "id": "view-in-github",
        "colab_type": "text"
      },
      "source": [
        "<a href=\"https://colab.research.google.com/github/martinpius/PYTORCH/blob/main/Transfer_Learning_in_PyTorch.ipynb\" target=\"_parent\"><img src=\"https://colab.research.google.com/assets/colab-badge.svg\" alt=\"Open In Colab\"/></a>"
      ]
    },
    {
      "cell_type": "code",
      "metadata": {
        "colab": {
          "base_uri": "https://localhost:8080/"
        },
        "id": "QsvI0F1_D5fH",
        "outputId": "a6fc537b-740c-4206-99b8-2e0a99be4daa"
      },
      "source": [
        "from google.colab import drive\n",
        "drive.mount(\"/content/drive\", force_remount = True)\n",
        "try:\n",
        "  COLAB = True\n",
        "  import torch \n",
        "  print(f\"You are on CoLaB with torch version: {torch.__version__}\")\n",
        "except Exception as e:\n",
        "  print(f\"{type(e)}: {e}\\n>>>please correct {type(e)} and reload\")\n",
        "  COLAB = False\n",
        "if torch.cuda.is_available():\n",
        "  device = torch.device('cuda')\n",
        "else:\n",
        "  device = torch.device('cpu')\n",
        "def time_fmt(t: float = 123.461)->float:\n",
        "  h = int(t / (60 * 60))\n",
        "  m = int(t % (60 * 60) / 60)\n",
        "  s = int(t % 60)\n",
        "  return f\"{h}: {m:>02}: {s:>05.2f}\"\n",
        "print(f\">>>time formating: please wait...\\n>>>time elapse is: {time_fmt()}\")\n"
      ],
      "execution_count": 1,
      "outputs": [
        {
          "output_type": "stream",
          "text": [
            "Mounted at /content/drive\n",
            "You are on CoLaB with torch version: 1.8.1+cu101\n",
            ">>>time formating: please wait...\n",
            ">>>time elapse is: 0: 02: 03.00\n"
          ],
          "name": "stdout"
        }
      ]
    },
    {
      "cell_type": "code",
      "metadata": {
        "id": "VA-8kMzJGR6a"
      },
      "source": [
        "#In this notebook we are going to impliment a transfer learning procidure on cifar10 data in pytorch"
      ],
      "execution_count": 2,
      "outputs": []
    },
    {
      "cell_type": "code",
      "metadata": {
        "id": "kLOIp5ljGs6Q"
      },
      "source": [
        "import torch\n",
        "import torch.nn as nn\n",
        "import torch.optim as optim\n",
        "import torchvision.datasets as datasets\n",
        "from torch.utils.data import DataLoader\n",
        "from torchvision.transforms import transforms\n",
        "from tqdm import tqdm\n",
        "import time, datetime, sys\n",
        "import torchvision"
      ],
      "execution_count": 19,
      "outputs": []
    },
    {
      "cell_type": "code",
      "metadata": {
        "id": "KJ5gJ3JcKHXr"
      },
      "source": [
        "#Load the VGGNET from torch\n",
        "model = torchvision.models.vgg16(pretrained = True)"
      ],
      "execution_count": 20,
      "outputs": []
    },
    {
      "cell_type": "code",
      "metadata": {
        "colab": {
          "base_uri": "https://localhost:8080/"
        },
        "id": "V-GxFTYLKheA",
        "outputId": "c35f9160-bdb2-4c84-ff75-2cae6b0be4b3"
      },
      "source": [
        "print(model)"
      ],
      "execution_count": 21,
      "outputs": [
        {
          "output_type": "stream",
          "text": [
            "VGG(\n",
            "  (features): Sequential(\n",
            "    (0): Conv2d(3, 64, kernel_size=(3, 3), stride=(1, 1), padding=(1, 1))\n",
            "    (1): ReLU(inplace=True)\n",
            "    (2): Conv2d(64, 64, kernel_size=(3, 3), stride=(1, 1), padding=(1, 1))\n",
            "    (3): ReLU(inplace=True)\n",
            "    (4): MaxPool2d(kernel_size=2, stride=2, padding=0, dilation=1, ceil_mode=False)\n",
            "    (5): Conv2d(64, 128, kernel_size=(3, 3), stride=(1, 1), padding=(1, 1))\n",
            "    (6): ReLU(inplace=True)\n",
            "    (7): Conv2d(128, 128, kernel_size=(3, 3), stride=(1, 1), padding=(1, 1))\n",
            "    (8): ReLU(inplace=True)\n",
            "    (9): MaxPool2d(kernel_size=2, stride=2, padding=0, dilation=1, ceil_mode=False)\n",
            "    (10): Conv2d(128, 256, kernel_size=(3, 3), stride=(1, 1), padding=(1, 1))\n",
            "    (11): ReLU(inplace=True)\n",
            "    (12): Conv2d(256, 256, kernel_size=(3, 3), stride=(1, 1), padding=(1, 1))\n",
            "    (13): ReLU(inplace=True)\n",
            "    (14): Conv2d(256, 256, kernel_size=(3, 3), stride=(1, 1), padding=(1, 1))\n",
            "    (15): ReLU(inplace=True)\n",
            "    (16): MaxPool2d(kernel_size=2, stride=2, padding=0, dilation=1, ceil_mode=False)\n",
            "    (17): Conv2d(256, 512, kernel_size=(3, 3), stride=(1, 1), padding=(1, 1))\n",
            "    (18): ReLU(inplace=True)\n",
            "    (19): Conv2d(512, 512, kernel_size=(3, 3), stride=(1, 1), padding=(1, 1))\n",
            "    (20): ReLU(inplace=True)\n",
            "    (21): Conv2d(512, 512, kernel_size=(3, 3), stride=(1, 1), padding=(1, 1))\n",
            "    (22): ReLU(inplace=True)\n",
            "    (23): MaxPool2d(kernel_size=2, stride=2, padding=0, dilation=1, ceil_mode=False)\n",
            "    (24): Conv2d(512, 512, kernel_size=(3, 3), stride=(1, 1), padding=(1, 1))\n",
            "    (25): ReLU(inplace=True)\n",
            "    (26): Conv2d(512, 512, kernel_size=(3, 3), stride=(1, 1), padding=(1, 1))\n",
            "    (27): ReLU(inplace=True)\n",
            "    (28): Conv2d(512, 512, kernel_size=(3, 3), stride=(1, 1), padding=(1, 1))\n",
            "    (29): ReLU(inplace=True)\n",
            "    (30): MaxPool2d(kernel_size=2, stride=2, padding=0, dilation=1, ceil_mode=False)\n",
            "  )\n",
            "  (avgpool): AdaptiveAvgPool2d(output_size=(7, 7))\n",
            "  (classifier): Sequential(\n",
            "    (0): Linear(in_features=25088, out_features=4096, bias=True)\n",
            "    (1): ReLU(inplace=True)\n",
            "    (2): Dropout(p=0.5, inplace=False)\n",
            "    (3): Linear(in_features=4096, out_features=4096, bias=True)\n",
            "    (4): ReLU(inplace=True)\n",
            "    (5): Dropout(p=0.5, inplace=False)\n",
            "    (6): Linear(in_features=4096, out_features=1000, bias=True)\n",
            "  )\n",
            ")\n"
          ],
          "name": "stdout"
        }
      ]
    },
    {
      "cell_type": "code",
      "metadata": {
        "id": "5lcbGhv5K9R0"
      },
      "source": [
        "#We modify the modelby removing the average pooling layer since cifar10 images will shrink to 1x1\n",
        "#we also modify the classifier to be 10 classes "
      ],
      "execution_count": 22,
      "outputs": []
    },
    {
      "cell_type": "code",
      "metadata": {
        "id": "LT6oRt7PLdAw"
      },
      "source": [
        "#Inplace of average pooling layer we want the model to return output of the same shape as input\n",
        "class ID(nn.Module):\n",
        "  def __init__(self):\n",
        "    super(ID, self).__init__()\n",
        "  def forward(self,x):\n",
        "    return x\n",
        "    \n"
      ],
      "execution_count": 23,
      "outputs": []
    },
    {
      "cell_type": "code",
      "metadata": {
        "id": "vy3aUORnMD89"
      },
      "source": [
        "#Apply this class to our model class we have:\n",
        "model.avgpool = ID()"
      ],
      "execution_count": 24,
      "outputs": []
    },
    {
      "cell_type": "code",
      "metadata": {
        "id": "6qIEtkrBMj1L"
      },
      "source": [
        "#Define new classifier\n",
        "class CLF(nn.Module):\n",
        "  def __init__(self):\n",
        "    super(CLF, self).__init__()\n",
        "    self.fc1 = nn.Linear(in_features = 512, out_features = 256)\n",
        "    self.fc2 = nn.Linear(in_features = 256, out_features = 128)\n",
        "    self.out = nn.Linear(in_features = 128, out_features = 10)\n",
        "  def forward(self, x):\n",
        "    x = nn.functional.relu(self.fc1(x))\n",
        "    x = nn.functional.relu(self.fc2(x))\n",
        "    return self.out(x)"
      ],
      "execution_count": 25,
      "outputs": []
    },
    {
      "cell_type": "code",
      "metadata": {
        "id": "XQ_FA-PKOY-3"
      },
      "source": [
        "#Apply the classifier\n",
        "model.classifier = CLF()"
      ],
      "execution_count": 26,
      "outputs": []
    },
    {
      "cell_type": "code",
      "metadata": {
        "colab": {
          "base_uri": "https://localhost:8080/"
        },
        "id": "J41vsudbT-qv",
        "outputId": "a752121a-6845-4471-f791-66f9545dc46a"
      },
      "source": [
        "model.to(device = device) #save model to device"
      ],
      "execution_count": 27,
      "outputs": [
        {
          "output_type": "execute_result",
          "data": {
            "text/plain": [
              "VGG(\n",
              "  (features): Sequential(\n",
              "    (0): Conv2d(3, 64, kernel_size=(3, 3), stride=(1, 1), padding=(1, 1))\n",
              "    (1): ReLU(inplace=True)\n",
              "    (2): Conv2d(64, 64, kernel_size=(3, 3), stride=(1, 1), padding=(1, 1))\n",
              "    (3): ReLU(inplace=True)\n",
              "    (4): MaxPool2d(kernel_size=2, stride=2, padding=0, dilation=1, ceil_mode=False)\n",
              "    (5): Conv2d(64, 128, kernel_size=(3, 3), stride=(1, 1), padding=(1, 1))\n",
              "    (6): ReLU(inplace=True)\n",
              "    (7): Conv2d(128, 128, kernel_size=(3, 3), stride=(1, 1), padding=(1, 1))\n",
              "    (8): ReLU(inplace=True)\n",
              "    (9): MaxPool2d(kernel_size=2, stride=2, padding=0, dilation=1, ceil_mode=False)\n",
              "    (10): Conv2d(128, 256, kernel_size=(3, 3), stride=(1, 1), padding=(1, 1))\n",
              "    (11): ReLU(inplace=True)\n",
              "    (12): Conv2d(256, 256, kernel_size=(3, 3), stride=(1, 1), padding=(1, 1))\n",
              "    (13): ReLU(inplace=True)\n",
              "    (14): Conv2d(256, 256, kernel_size=(3, 3), stride=(1, 1), padding=(1, 1))\n",
              "    (15): ReLU(inplace=True)\n",
              "    (16): MaxPool2d(kernel_size=2, stride=2, padding=0, dilation=1, ceil_mode=False)\n",
              "    (17): Conv2d(256, 512, kernel_size=(3, 3), stride=(1, 1), padding=(1, 1))\n",
              "    (18): ReLU(inplace=True)\n",
              "    (19): Conv2d(512, 512, kernel_size=(3, 3), stride=(1, 1), padding=(1, 1))\n",
              "    (20): ReLU(inplace=True)\n",
              "    (21): Conv2d(512, 512, kernel_size=(3, 3), stride=(1, 1), padding=(1, 1))\n",
              "    (22): ReLU(inplace=True)\n",
              "    (23): MaxPool2d(kernel_size=2, stride=2, padding=0, dilation=1, ceil_mode=False)\n",
              "    (24): Conv2d(512, 512, kernel_size=(3, 3), stride=(1, 1), padding=(1, 1))\n",
              "    (25): ReLU(inplace=True)\n",
              "    (26): Conv2d(512, 512, kernel_size=(3, 3), stride=(1, 1), padding=(1, 1))\n",
              "    (27): ReLU(inplace=True)\n",
              "    (28): Conv2d(512, 512, kernel_size=(3, 3), stride=(1, 1), padding=(1, 1))\n",
              "    (29): ReLU(inplace=True)\n",
              "    (30): MaxPool2d(kernel_size=2, stride=2, padding=0, dilation=1, ceil_mode=False)\n",
              "  )\n",
              "  (avgpool): ID()\n",
              "  (classifier): CLF(\n",
              "    (fc1): Linear(in_features=512, out_features=256, bias=True)\n",
              "    (fc2): Linear(in_features=256, out_features=128, bias=True)\n",
              "    (out): Linear(in_features=128, out_features=10, bias=True)\n",
              "  )\n",
              ")"
            ]
          },
          "metadata": {
            "tags": []
          },
          "execution_count": 27
        }
      ]
    },
    {
      "cell_type": "code",
      "metadata": {
        "id": "FBKVA3jLO3_i"
      },
      "source": [
        "#Hyperparameters:\n",
        "batch_size = 64\n",
        "EPOCHS = 10\n",
        "learning_rate = 1e-3\n"
      ],
      "execution_count": 28,
      "outputs": []
    },
    {
      "cell_type": "code",
      "metadata": {
        "colab": {
          "base_uri": "https://localhost:8080/"
        },
        "id": "w8BvOS_jSeLs",
        "outputId": "6270018b-24eb-402c-a904-4e236de335e5"
      },
      "source": [
        "#Loading and split the data into batches of size 64\n",
        "train_data = datasets.CIFAR10(root = '/train_data', train = True, transform = transforms.ToTensor(), download = True)\n",
        "test_data = datasets.CIFAR10(root = '/test_data', train = False, transform = transforms.ToTensor(), download = True)\n",
        "train_loader = DataLoader(dataset = train_data, shuffle = True, batch_size = batch_size)\n",
        "test_loader = DataLoader(dataset = test_data, batch_size = batch_size, shuffle = True)\n",
        "x_batch, y_batch = next(iter(train_loader))\n",
        "print(f\"x_batch_shape: {x_batch.shape}: y_batch_shape: {y_batch.shape}\")"
      ],
      "execution_count": 29,
      "outputs": [
        {
          "output_type": "stream",
          "text": [
            "Files already downloaded and verified\n",
            "Files already downloaded and verified\n",
            "x_batch_shape: torch.Size([64, 3, 32, 32]): y_batch_shape: torch.Size([64])\n"
          ],
          "name": "stdout"
        }
      ]
    },
    {
      "cell_type": "code",
      "metadata": {
        "id": "Ut_XaB2lUVsL"
      },
      "source": [
        "#Get the loss and optimizer objects:\n",
        "loss_obj = nn.CrossEntropyLoss()\n",
        "optimizer = optim.Adam(params = model.parameters(), lr = learning_rate)"
      ],
      "execution_count": 30,
      "outputs": []
    },
    {
      "cell_type": "code",
      "metadata": {
        "colab": {
          "base_uri": "https://localhost:8080/"
        },
        "id": "HwrcB9rNVAEO",
        "outputId": "d4a4c881-941b-439d-d597-08d22f097489"
      },
      "source": [
        "#Training loop:\n",
        "tic = time.time()\n",
        "for epoch in range(EPOCHS):\n",
        "  print(f\"\\n>>>Training starts for epoch: {epoch + 1}\\n>>>Please wait while the model is training\\n>>>Maintain Screen Activity.......\")\n",
        "  for idx, (data, target) in enumerate(tqdm(train_loader)):\n",
        "    #assign data to GPU\n",
        "    data = data.to(device = device)\n",
        "    target = target.to(device = device)\n",
        "    #forward pass here:\n",
        "    preds = model(data)\n",
        "    train_loss = loss_obj(preds, target)\n",
        "    #backward pass\n",
        "    optimizer.zero_grad()\n",
        "    train_loss.backward()\n",
        "    #gradient descent with adam optimizer\n",
        "    optimizer.step()\n",
        "\n",
        "#Tracking performance on training and validation data\n",
        "def model_performance(loader, model):\n",
        "  if loader.dataset.train:\n",
        "    print(f\"\\n>>>Checking the performance over the training data\\n>>>please wait and maintain screen activity...\")\n",
        "  else:\n",
        "    print(f\"\\n>>>Checking the performance over the validation data\\n>>>please wait and maintain screen activity...\")\n",
        "  num_examples = 0\n",
        "  num_correct = 0\n",
        "  model.eval()\n",
        "  #no need to train the model again\n",
        "  with torch.no_grad():\n",
        "    for x, y in loader:\n",
        "      x = x.to(device = device)\n",
        "      y = y.to(device = device)\n",
        "      preds = model(x)\n",
        "      _, predictions = preds.max(1)#fetch the maximum prob among the class of 10 probability values\n",
        "      num_correct+=(predictions == y).sum()#total correctly predicted values\n",
        "      num_examples+=predictions.size(0)#fetch all examples (batch_size = 64 in this case)\n",
        "  model.train()\n",
        "  return float(num_correct/num_examples)*100 #compute the accuracy in percentages\n",
        "toc = time.time()\n",
        "print(f\"\\n>>>The accuracy over the training data: {model_performance(train_loader, model):.2f}\")\n",
        "print(f\"\\n>>>The accuracy over the validation data: {model_performance(test_loader, model):.2f}\")\n",
        "print(f\"\\n>>>Total time for training and validation: {time_fmt(toc - tic)}\")"
      ],
      "execution_count": 31,
      "outputs": [
        {
          "output_type": "stream",
          "text": [
            "  1%|          | 5/782 [00:00<00:18, 42.43it/s]"
          ],
          "name": "stderr"
        },
        {
          "output_type": "stream",
          "text": [
            "\n",
            ">>>Training starts for epoch: 1\n",
            ">>>Please wait while the model is training\n",
            ">>>Maintain Screen Activity.......\n"
          ],
          "name": "stdout"
        },
        {
          "output_type": "stream",
          "text": [
            "100%|██████████| 782/782 [00:18<00:00, 43.04it/s]\n",
            "  1%|          | 5/782 [00:00<00:17, 45.38it/s]"
          ],
          "name": "stderr"
        },
        {
          "output_type": "stream",
          "text": [
            "\n",
            ">>>Training starts for epoch: 2\n",
            ">>>Please wait while the model is training\n",
            ">>>Maintain Screen Activity.......\n"
          ],
          "name": "stdout"
        },
        {
          "output_type": "stream",
          "text": [
            "100%|██████████| 782/782 [00:18<00:00, 42.94it/s]\n",
            "  1%|          | 5/782 [00:00<00:18, 42.26it/s]"
          ],
          "name": "stderr"
        },
        {
          "output_type": "stream",
          "text": [
            "\n",
            ">>>Training starts for epoch: 3\n",
            ">>>Please wait while the model is training\n",
            ">>>Maintain Screen Activity.......\n"
          ],
          "name": "stdout"
        },
        {
          "output_type": "stream",
          "text": [
            "100%|██████████| 782/782 [00:18<00:00, 42.85it/s]\n",
            "  1%|          | 5/782 [00:00<00:17, 45.67it/s]"
          ],
          "name": "stderr"
        },
        {
          "output_type": "stream",
          "text": [
            "\n",
            ">>>Training starts for epoch: 4\n",
            ">>>Please wait while the model is training\n",
            ">>>Maintain Screen Activity.......\n"
          ],
          "name": "stdout"
        },
        {
          "output_type": "stream",
          "text": [
            "100%|██████████| 782/782 [00:18<00:00, 42.89it/s]\n",
            "  1%|          | 5/782 [00:00<00:16, 45.77it/s]"
          ],
          "name": "stderr"
        },
        {
          "output_type": "stream",
          "text": [
            "\n",
            ">>>Training starts for epoch: 5\n",
            ">>>Please wait while the model is training\n",
            ">>>Maintain Screen Activity.......\n"
          ],
          "name": "stdout"
        },
        {
          "output_type": "stream",
          "text": [
            "100%|██████████| 782/782 [00:18<00:00, 42.90it/s]\n",
            "  1%|          | 5/782 [00:00<00:17, 45.19it/s]"
          ],
          "name": "stderr"
        },
        {
          "output_type": "stream",
          "text": [
            "\n",
            ">>>Training starts for epoch: 6\n",
            ">>>Please wait while the model is training\n",
            ">>>Maintain Screen Activity.......\n"
          ],
          "name": "stdout"
        },
        {
          "output_type": "stream",
          "text": [
            "100%|██████████| 782/782 [00:18<00:00, 42.89it/s]\n",
            "  1%|          | 5/782 [00:00<00:17, 45.65it/s]"
          ],
          "name": "stderr"
        },
        {
          "output_type": "stream",
          "text": [
            "\n",
            ">>>Training starts for epoch: 7\n",
            ">>>Please wait while the model is training\n",
            ">>>Maintain Screen Activity.......\n"
          ],
          "name": "stdout"
        },
        {
          "output_type": "stream",
          "text": [
            "100%|██████████| 782/782 [00:18<00:00, 42.89it/s]\n",
            "  1%|          | 5/782 [00:00<00:17, 44.80it/s]"
          ],
          "name": "stderr"
        },
        {
          "output_type": "stream",
          "text": [
            "\n",
            ">>>Training starts for epoch: 8\n",
            ">>>Please wait while the model is training\n",
            ">>>Maintain Screen Activity.......\n"
          ],
          "name": "stdout"
        },
        {
          "output_type": "stream",
          "text": [
            "100%|██████████| 782/782 [00:18<00:00, 42.88it/s]\n",
            "  1%|          | 5/782 [00:00<00:17, 45.46it/s]"
          ],
          "name": "stderr"
        },
        {
          "output_type": "stream",
          "text": [
            "\n",
            ">>>Training starts for epoch: 9\n",
            ">>>Please wait while the model is training\n",
            ">>>Maintain Screen Activity.......\n"
          ],
          "name": "stdout"
        },
        {
          "output_type": "stream",
          "text": [
            "100%|██████████| 782/782 [00:18<00:00, 42.91it/s]\n",
            "  1%|          | 5/782 [00:00<00:17, 45.35it/s]"
          ],
          "name": "stderr"
        },
        {
          "output_type": "stream",
          "text": [
            "\n",
            ">>>Training starts for epoch: 10\n",
            ">>>Please wait while the model is training\n",
            ">>>Maintain Screen Activity.......\n"
          ],
          "name": "stdout"
        },
        {
          "output_type": "stream",
          "text": [
            "100%|██████████| 782/782 [00:18<00:00, 42.91it/s]\n"
          ],
          "name": "stderr"
        },
        {
          "output_type": "stream",
          "text": [
            "\n",
            ">>>Checking the performance over the training data\n",
            ">>>please wait and maintain screen activity...\n",
            "\n",
            ">>>The accuracy over the training data: 94.29\n",
            "\n",
            ">>>Checking the performance over the validation data\n",
            ">>>please wait and maintain screen activity...\n",
            "\n",
            ">>>The accuracy over the validation data: 83.14\n",
            "\n",
            ">>>Total time for training and validation: 0: 03: 02.00\n"
          ],
          "name": "stdout"
        }
      ]
    },
    {
      "cell_type": "code",
      "metadata": {
        "id": "7vOAmKGAa4mp"
      },
      "source": [
        ""
      ],
      "execution_count": 15,
      "outputs": []
    }
  ]
}