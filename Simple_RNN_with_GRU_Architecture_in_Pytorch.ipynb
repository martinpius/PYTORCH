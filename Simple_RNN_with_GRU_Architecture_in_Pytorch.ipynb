{
  "nbformat": 4,
  "nbformat_minor": 0,
  "metadata": {
    "colab": {
      "name": "Simple RNN with GRU Architecture in Pytorch.ipynb",
      "provenance": [],
      "authorship_tag": "ABX9TyMYJvQ/s28atm+OqohTPfmB",
      "include_colab_link": true
    },
    "kernelspec": {
      "name": "python3",
      "display_name": "Python 3"
    },
    "language_info": {
      "name": "python"
    },
    "accelerator": "GPU"
  },
  "cells": [
    {
      "cell_type": "markdown",
      "metadata": {
        "id": "view-in-github",
        "colab_type": "text"
      },
      "source": [
        "<a href=\"https://colab.research.google.com/github/martinpius/PYTORCH/blob/main/Simple_RNN_with_GRU_Architecture_in_Pytorch.ipynb\" target=\"_parent\"><img src=\"https://colab.research.google.com/assets/colab-badge.svg\" alt=\"Open In Colab\"/></a>"
      ]
    },
    {
      "cell_type": "code",
      "metadata": {
        "colab": {
          "base_uri": "https://localhost:8080/"
        },
        "id": "AVjRdhjHQkTo",
        "outputId": "34443ee7-c3c3-47cf-922c-57be5062f525"
      },
      "source": [
        "from google.colab import drive\n",
        "drive.mount(\"/content/drive\", force_remount = True)\n",
        "try:\n",
        "  COLAB = True\n",
        "  import torch \n",
        "  print(f\"You are using Google CoLaB with torch version:\\t{torch.__version__}\")\n",
        "except Exception as e:\n",
        "  print(f\"{type(e)}: {e}\\n>>>please load your drive...\")\n",
        "  COLAB = False\n",
        "#Assigning GPU device whenever available:\n",
        "if torch.cuda.is_available():\n",
        "  device = torch.device('cuda')\n",
        "else:\n",
        "  device = torch.device('cpu')\n",
        "def time_fmt(t: float = 123.987)->float:\n",
        "  h = int(t / (60 * 60))\n",
        "  m = int(t % (60 * 60) / 60)\n",
        "  s = int(t % 60)\n",
        "  return f\"{h}: {m:>02}: {s:>05.2f}\"\n",
        "print(f\">>>time testing\\tplease wait...\\n>>>time elapse:\\t{time_fmt()}\")"
      ],
      "execution_count": 43,
      "outputs": [
        {
          "output_type": "stream",
          "text": [
            "Mounted at /content/drive\n",
            "You are using Google CoLaB with torch version:\t1.8.1+cu101\n",
            ">>>time testing\tplease wait...\n",
            ">>>time elapse:\t0: 02: 03.00\n"
          ],
          "name": "stdout"
        }
      ]
    },
    {
      "cell_type": "code",
      "metadata": {
        "id": "rNA-3IHNSfdy"
      },
      "source": [
        "#In this notebook we are going to train a simple RNN model with the GRU- architecture: We use MNIST images as a \n",
        "#sequence data by set time steps to 28, and features size for each sample as 28. Since the MNIST images has the\n",
        "#dimension of (1,28,28), we are going to squeeze the channel dimension to obtain the input_shape of (batch, 28, 28)"
      ],
      "execution_count": 44,
      "outputs": []
    },
    {
      "cell_type": "code",
      "metadata": {
        "id": "qaquuOa4Th9p"
      },
      "source": [
        "#We start by loading all necessary modules from torch and support libraries:\n",
        "import torch\n",
        "import numpy as np\n",
        "import torch.nn as nn\n",
        "import torch.optim as optim\n",
        "import torchvision.datasets as datasets\n",
        "import torch.nn.functional as F\n",
        "from torch.utils.data import DataLoader\n",
        "from torchvision.transforms import transforms\n",
        "from tqdm import tqdm\n",
        "import time, datetime, sys,os\n"
      ],
      "execution_count": 45,
      "outputs": []
    },
    {
      "cell_type": "code",
      "metadata": {
        "id": "5ks823eFUZ44"
      },
      "source": [
        "#Hyperparameters for our model:\n",
        "batch_size = 64\n",
        "input_size = 28\n",
        "sequence_length = 28\n",
        "learning_rate = 1e-3\n",
        "num_layers = 2\n",
        "num_classes = 10\n",
        "hidden_size = 256\n",
        "epochs = 10"
      ],
      "execution_count": 46,
      "outputs": []
    },
    {
      "cell_type": "code",
      "metadata": {
        "id": "7WitrBJYU8lj"
      },
      "source": [
        "#We now defining our model class as follow:\n",
        "class RNN_GRU(nn.Module):\n",
        "    def __init__(self, input_size, hidden_size, num_layers, num_classes):\n",
        "        super(RNN_GRU, self).__init__()\n",
        "        self.hidden_size = hidden_size\n",
        "        self.num_layers = num_layers\n",
        "        self.gru = nn.GRU(input_size, hidden_size, num_layers, batch_first=True)\n",
        "        self.fc = nn.Linear(hidden_size * sequence_length, num_classes)\n",
        "\n",
        "    def forward(self, x):\n",
        "        # Set initial hidden and cell states\n",
        "        h0 = torch.zeros(self.num_layers, x.size(0), self.hidden_size).to(device)\n",
        "\n",
        "        # Forward propagate GRU\n",
        "        out, _ = self.gru(x, h0)\n",
        "        out = out.reshape(out.shape[0], -1)\n",
        "\n",
        "        # Decode the hidden state of the last time step\n",
        "        out = self.fc(out)\n",
        "        return out\n",
        "\n"
      ],
      "execution_count": 47,
      "outputs": []
    },
    {
      "cell_type": "code",
      "metadata": {
        "id": "WGAdWrFuYfhV"
      },
      "source": [
        "#Instantiating the model class:\n",
        "model = RNN_GRU(input_size,hidden_size,num_layers,num_classes).to(device)"
      ],
      "execution_count": 48,
      "outputs": []
    },
    {
      "cell_type": "code",
      "metadata": {
        "colab": {
          "base_uri": "https://localhost:8080/"
        },
        "id": "SoZeDD3tYuR8",
        "outputId": "13f7f5a0-851f-4c6a-d08f-6da1f9bd95d7"
      },
      "source": [
        "#Downloading the data:\n",
        "train_data = datasets.MNIST(root = \"train_dataset/\", train = True, transform = transforms.ToTensor(), download = True)\n",
        "test_data = datasets.MNIST(root = 'test_dataset/', train = False, transform = transforms.ToTensor(), download = True)\n",
        "train_loader = DataLoader(dataset = train_data, batch_size = batch_size, shuffle = True)\n",
        "test_loader = DataLoader(dataset = test_data, batch_size = batch_size, shuffle = True)\n",
        "x_batch_train, y_batch_train = next(iter(train_loader))\n",
        "print(f\"x_train_batch_shape: {x_batch_train.shape}\\ty_train_batch_shape: {y_batch_train.shape}\")"
      ],
      "execution_count": 49,
      "outputs": [
        {
          "output_type": "stream",
          "text": [
            "x_train_batch_shape: torch.Size([64, 1, 28, 28])\ty_train_batch_shape: torch.Size([64])\n"
          ],
          "name": "stdout"
        }
      ]
    },
    {
      "cell_type": "code",
      "metadata": {
        "id": "4JGk-dw0cgfw"
      },
      "source": [
        "#Obtain the loss object and optimizer"
      ],
      "execution_count": 50,
      "outputs": []
    },
    {
      "cell_type": "code",
      "metadata": {
        "id": "5ZnPzr8-c6TT"
      },
      "source": [
        "loss_fn = nn.CrossEntropyLoss()\n",
        "optimizer = optim.RMSprop(model.parameters(), lr = learning_rate)"
      ],
      "execution_count": 51,
      "outputs": []
    },
    {
      "cell_type": "code",
      "metadata": {
        "colab": {
          "base_uri": "https://localhost:8080/"
        },
        "id": "K95reBxfdHXM",
        "outputId": "f7680eea-6af9-4696-94e7-5486c4b5d102"
      },
      "source": [
        "#Training loop:\n",
        "tic = time.time()\n",
        "for epoch in range(epochs):\n",
        "  print(f\"training starts for epoch: {epoch + 1}\\n>>>>please wait while training...\")\n",
        "  for idx, (data, target) in enumerate(tqdm(train_loader)):\n",
        "    #feed the data into GPU when available:\n",
        "    data = data.to(device = device).squeeze(1)#squashing the channel dimension\n",
        "    target = target.to(device = device)\n",
        "    #performing foward pass\n",
        "    preds = model(data)\n",
        "    train_loss = loss_fn(preds, target)\n",
        "    #performing backward pass\n",
        "    optimizer.zero_grad()\n",
        "    train_loss.backward()\n",
        "    #performing gradient descent with RMSprop\n",
        "    optimizer.step()\n",
        "#Metric evaluation for the training and testing data\n",
        "def _model_checking(loader, model):\n",
        "  if loader.dataset.train:\n",
        "    print(f\"Checking accuracy over the train dataset\\n>>>please wait...\")\n",
        "  else:\n",
        "    print(f\"Cheking accuracy over the validation dataset\\n>>>please wait...\")\n",
        "  num_correct = 0\n",
        "  num_examples = 0\n",
        "  model.eval()\n",
        "  #no need to compute gradients again:\n",
        "  with torch.no_grad():\n",
        "    for x, y in loader:\n",
        "      x = x.to(device = device).squeeze(1)\n",
        "      y = y.to(device = device)\n",
        "      preds = model(x)\n",
        "      _,predictions = preds.max(1)\n",
        "      num_correct+=(predictions == y).sum()\n",
        "      num_examples+=predictions.size(0)\n",
        "  model.train()\n",
        "  return num_correct/num_examples\n",
        "print(f\"The accuracy for the training data is: {float(_model_checking(train_loader, model))* 100:.2f}\")\n",
        "print(f\"The accuracy for the validation data is: {float(_model_checking(test_loader, model))* 100:.2f}\")\n",
        "toc = time.time()\n",
        "print(f\"\\n>>>Total time for training and evaluation is:\\t{time_fmt(toc - tic)}\")"
      ],
      "execution_count": 52,
      "outputs": [
        {
          "output_type": "stream",
          "text": [
            "  1%|          | 6/938 [00:00<00:17, 52.83it/s]"
          ],
          "name": "stderr"
        },
        {
          "output_type": "stream",
          "text": [
            "training starts for epoch: 1\n",
            ">>>>please wait while training...\n"
          ],
          "name": "stdout"
        },
        {
          "output_type": "stream",
          "text": [
            "100%|██████████| 938/938 [00:11<00:00, 81.10it/s]\n",
            "  1%|          | 9/938 [00:00<00:10, 85.67it/s]"
          ],
          "name": "stderr"
        },
        {
          "output_type": "stream",
          "text": [
            "training starts for epoch: 2\n",
            ">>>>please wait while training...\n"
          ],
          "name": "stdout"
        },
        {
          "output_type": "stream",
          "text": [
            "100%|██████████| 938/938 [00:11<00:00, 82.18it/s]\n",
            "  1%|          | 9/938 [00:00<00:10, 86.16it/s]"
          ],
          "name": "stderr"
        },
        {
          "output_type": "stream",
          "text": [
            "training starts for epoch: 3\n",
            ">>>>please wait while training...\n"
          ],
          "name": "stdout"
        },
        {
          "output_type": "stream",
          "text": [
            "100%|██████████| 938/938 [00:11<00:00, 82.13it/s]\n",
            "  1%|          | 9/938 [00:00<00:11, 81.03it/s]"
          ],
          "name": "stderr"
        },
        {
          "output_type": "stream",
          "text": [
            "training starts for epoch: 4\n",
            ">>>>please wait while training...\n"
          ],
          "name": "stdout"
        },
        {
          "output_type": "stream",
          "text": [
            "100%|██████████| 938/938 [00:11<00:00, 83.32it/s]\n",
            "  1%|          | 9/938 [00:00<00:11, 82.17it/s]"
          ],
          "name": "stderr"
        },
        {
          "output_type": "stream",
          "text": [
            "training starts for epoch: 5\n",
            ">>>>please wait while training...\n"
          ],
          "name": "stdout"
        },
        {
          "output_type": "stream",
          "text": [
            "100%|██████████| 938/938 [00:11<00:00, 82.35it/s]\n",
            "  1%|          | 9/938 [00:00<00:11, 82.26it/s]"
          ],
          "name": "stderr"
        },
        {
          "output_type": "stream",
          "text": [
            "training starts for epoch: 6\n",
            ">>>>please wait while training...\n"
          ],
          "name": "stdout"
        },
        {
          "output_type": "stream",
          "text": [
            "100%|██████████| 938/938 [00:11<00:00, 82.67it/s]\n",
            "  1%|          | 9/938 [00:00<00:10, 85.03it/s]"
          ],
          "name": "stderr"
        },
        {
          "output_type": "stream",
          "text": [
            "training starts for epoch: 7\n",
            ">>>>please wait while training...\n"
          ],
          "name": "stdout"
        },
        {
          "output_type": "stream",
          "text": [
            "100%|██████████| 938/938 [00:11<00:00, 83.03it/s]\n",
            "  1%|          | 8/938 [00:00<00:12, 77.40it/s]"
          ],
          "name": "stderr"
        },
        {
          "output_type": "stream",
          "text": [
            "training starts for epoch: 8\n",
            ">>>>please wait while training...\n"
          ],
          "name": "stdout"
        },
        {
          "output_type": "stream",
          "text": [
            "100%|██████████| 938/938 [00:11<00:00, 82.54it/s]\n",
            "  1%|          | 9/938 [00:00<00:11, 79.04it/s]"
          ],
          "name": "stderr"
        },
        {
          "output_type": "stream",
          "text": [
            "training starts for epoch: 9\n",
            ">>>>please wait while training...\n"
          ],
          "name": "stdout"
        },
        {
          "output_type": "stream",
          "text": [
            "100%|██████████| 938/938 [00:11<00:00, 82.25it/s]\n",
            "  1%|          | 8/938 [00:00<00:12, 76.88it/s]"
          ],
          "name": "stderr"
        },
        {
          "output_type": "stream",
          "text": [
            "training starts for epoch: 10\n",
            ">>>>please wait while training...\n"
          ],
          "name": "stdout"
        },
        {
          "output_type": "stream",
          "text": [
            "100%|██████████| 938/938 [00:11<00:00, 82.00it/s]\n"
          ],
          "name": "stderr"
        },
        {
          "output_type": "stream",
          "text": [
            "Checking accuracy over the train dataset\n",
            ">>>please wait...\n",
            "The accuracy for the training data is: 99.49\n",
            "Cheking accuracy over the validation dataset\n",
            ">>>please wait...\n",
            "The accuracy for the validation data is: 98.76\n",
            "\n",
            ">>>Total time for training and evaluation is:\t0: 02: 03.00\n"
          ],
          "name": "stdout"
        }
      ]
    },
    {
      "cell_type": "code",
      "metadata": {
        "id": "6JPjcQpQhQsD"
      },
      "source": [
        ""
      ],
      "execution_count": 52,
      "outputs": []
    }
  ]
}