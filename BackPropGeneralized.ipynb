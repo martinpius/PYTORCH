{
  "cells": [
    {
      "cell_type": "markdown",
      "metadata": {
        "id": "view-in-github",
        "colab_type": "text"
      },
      "source": [
        "<a href=\"https://colab.research.google.com/github/martinpius/PYTORCH/blob/main/BackPropGeneralized.ipynb\" target=\"_parent\"><img src=\"https://colab.research.google.com/assets/colab-badge.svg\" alt=\"Open In Colab\"/></a>"
      ]
    },
    {
      "cell_type": "code",
      "source": [
        "from timeit import default_timer as timer\n",
        "t1 = timer()\n",
        "try:\n",
        "  from google.colab import drive\n",
        "  drive.mount(\"/content/drive/\", force_remount = True)\n",
        "  import torch, random, math\n",
        "  import torch.nn.functional as F\n",
        "  from tqdm.auto import tqdm\n",
        "  import matplotlib.pyplot as plt\n",
        "  print(f\">>>> You are in CoLaB with torch version: {torch.__version__}\")\n",
        "except Exception as e:\n",
        "  print(f\">>>> {type(e)}: {e}\\n>>>> Please correct {type(e)} and reload\")\n",
        "\n",
        "device = torch.device(\"cuda\") if torch.cuda.is_available() else torch.device(\"cpu\")\n",
        "print(f\">>>> Available device: {device}\")\n",
        "BATCH_SIZE = 128 if device == torch.device(\"cuda\") else 64\n",
        "def mytimer(t: float = timer())->float:\n",
        "  h = int(t / (60 * 60))\n",
        "  m = int(t % (60 * 60) / 60)\n",
        "  s = int(t % 60)\n",
        "  return f\"hrs: {h:04}, mins: {m:>02}, secs: {s:>5.2f}\"\n",
        "print(f\">>>> Time elapsed: \\t{mytimer(timer() - t1)}\")"
      ],
      "metadata": {
        "colab": {
          "base_uri": "https://localhost:8080/"
        },
        "id": "DyZ-kH1TdNDk",
        "outputId": "cce42eea-8f96-47f7-c368-ebab8b11a18a"
      },
      "execution_count": 1,
      "outputs": [
        {
          "output_type": "stream",
          "name": "stdout",
          "text": [
            "Mounted at /content/drive/\n",
            ">>>> You are in CoLaB with torch version: 2.0.1+cu118\n",
            ">>>> Available device: cpu\n",
            ">>>> Time elapsed: \thrs: 0000, mins: 00, secs: 43.00\n"
          ]
        }
      ]
    },
    {
      "cell_type": "code",
      "source": [
        "file_path = \"/content/drive/MyDrive/Language models/makemore-master/names.txt\"\n",
        "names  = open(file_path, \"r\").read().splitlines()\n",
        "print(f\">>>> The dataset has a toatal of {len(names):,} unique names\\\n",
        "\\n>>>> The length of the shortest name is {min(len(name) for name in names)} characters\\\n",
        "\\n>>>> The longest name has {max(len(name) for name in names)} characters\\\n",
        "\\n>>>> The first 10 names in the dataset are:\\n {names[:10]}\")"
      ],
      "metadata": {
        "colab": {
          "base_uri": "https://localhost:8080/"
        },
        "id": "QwZ2GqmGfjTz",
        "outputId": "6eae1025-b966-45b6-f973-13d2e842a0ea"
      },
      "execution_count": 2,
      "outputs": [
        {
          "output_type": "stream",
          "name": "stdout",
          "text": [
            ">>>> The dataset has a toatal of 32,033 unique names\n",
            ">>>> The length of the shortest name is 2 characters\n",
            ">>>> The longest name has 15 characters\n",
            ">>>> The first 10 names in the dataset are:\n",
            " ['emma', 'olivia', 'ava', 'isabella', 'sophia', 'charlotte', 'mia', 'amelia', 'harper', 'evelyn']\n"
          ]
        }
      ]
    },
    {
      "cell_type": "code",
      "source": [
        "chars = sorted(list(set(\"\".join(names))))\n",
        "stoi = {s: i + 1 for i, s in enumerate(chars)}\n",
        "stoi[\".\"] = 0\n",
        "itos = {i: s for s, i in stoi.items()}\n",
        "print(f\">>>> Total unique characters in the dataset is: {len(chars)}\\\n",
        "\\n>>>> The unique list of characters is:\\n {chars}\\\n",
        "\\n>>>> The character to index lookup dictionary is : \\n {stoi}\\\n",
        "\\n>>>> The index to character lookup dictionary is: \\n {itos}\")"
      ],
      "metadata": {
        "colab": {
          "base_uri": "https://localhost:8080/"
        },
        "id": "E3P0tYXzg1vi",
        "outputId": "754906c5-a846-462c-b189-87d7891d01fb"
      },
      "execution_count": 3,
      "outputs": [
        {
          "output_type": "stream",
          "name": "stdout",
          "text": [
            ">>>> Total unique characters in the dataset is: 26\n",
            ">>>> The unique list of characters is:\n",
            " ['a', 'b', 'c', 'd', 'e', 'f', 'g', 'h', 'i', 'j', 'k', 'l', 'm', 'n', 'o', 'p', 'q', 'r', 's', 't', 'u', 'v', 'w', 'x', 'y', 'z']\n",
            ">>>> The character to index lookup dictionary is : \n",
            " {'a': 1, 'b': 2, 'c': 3, 'd': 4, 'e': 5, 'f': 6, 'g': 7, 'h': 8, 'i': 9, 'j': 10, 'k': 11, 'l': 12, 'm': 13, 'n': 14, 'o': 15, 'p': 16, 'q': 17, 'r': 18, 's': 19, 't': 20, 'u': 21, 'v': 22, 'w': 23, 'x': 24, 'y': 25, 'z': 26, '.': 0}\n",
            ">>>> The index to character lookup dictionary is: \n",
            " {1: 'a', 2: 'b', 3: 'c', 4: 'd', 5: 'e', 6: 'f', 7: 'g', 8: 'h', 9: 'i', 10: 'j', 11: 'k', 12: 'l', 13: 'm', 14: 'n', 15: 'o', 16: 'p', 17: 'q', 18: 'r', 19: 's', 20: 't', 21: 'u', 22: 'v', 23: 'w', 24: 'x', 25: 'y', 26: 'z', 0: '.'}\n"
          ]
        }
      ]
    },
    {
      "cell_type": "code",
      "source": [
        "def backpropDataset(names_list):\n",
        "  \n",
        "  X, Y = [], []\n",
        "  block_size = 4\n",
        "\n",
        "  for name in names_list:\n",
        "\n",
        "    context = [0] * block_size\n",
        "    for char in name + \".\":\n",
        "      idx = stoi[char]\n",
        "      X.append(context)\n",
        "      Y.append(idx)\n",
        "      context = context[1:] + [idx]\n",
        "  \n",
        "  X, Y = torch.tensor(X), torch.tensor(Y)\n",
        "  return X, Y\n",
        "\n"
      ],
      "metadata": {
        "id": "EFuW0fVah19L"
      },
      "execution_count": 4,
      "outputs": []
    },
    {
      "cell_type": "code",
      "source": [
        "random.seed(1920)\n",
        "random.shuffle(names)\n",
        "n1, n2 = int(0.8 * len(names)), int(0.9 * len(names))\n",
        "\n",
        "X_tr, Y_tr = backpropDataset(names[:n1])\n",
        "X_val, Y_val = backpropDataset(names[n1:n2])\n",
        "X_ts, Y_ts = backpropDataset(names[n2:])\n",
        "print(f\">>>> X_tr shape: {X_tr.shape}, Y_tr shape: {Y_tr.shape}\\\n",
        "\\n>>>> X_val shape: {X_val.shape}, Y_val shape: {Y_val.shape}\\\n",
        "\\n>>>> X_ts shape: {X_ts.shape} Y_ts shape: {Y_ts.shape}\")"
      ],
      "metadata": {
        "colab": {
          "base_uri": "https://localhost:8080/"
        },
        "id": "iLX4jUNNiz27",
        "outputId": "a18b4de3-dcc5-487a-f77d-6ac4e0dbcd87"
      },
      "execution_count": 5,
      "outputs": [
        {
          "output_type": "stream",
          "name": "stdout",
          "text": [
            ">>>> X_tr shape: torch.Size([182507, 4]), Y_tr shape: torch.Size([182507])\n",
            ">>>> X_val shape: torch.Size([22843, 4]), Y_val shape: torch.Size([22843])\n",
            ">>>> X_ts shape: torch.Size([22796, 4]) Y_ts shape: torch.Size([22796])\n"
          ]
        }
      ]
    },
    {
      "cell_type": "code",
      "source": [
        "input_dim, output_dim = len(stoi), len(itos)\n",
        "emb_dim, h_dim = 10, 200\n",
        "block_size = 4\n",
        "g = torch.Generator().manual_seed(12190)\n",
        "C = torch.randn(size = (input_dim, emb_dim), generator = g)\n",
        "W1 = torch.randn(size = (block_size * emb_dim, h_dim), generator = g) * (5/3) * (block_size * emb_dim)**-0.5\n",
        "b1 = torch.randn(h_dim, generator = g) * 0.1\n",
        "W2 = torch.randn(size = (h_dim, output_dim), generator = g)*0.1\n",
        "b2 = torch.randn(output_dim, generator = g) * 0.1\n",
        "bn_gain = torch.randn(size = (1, h_dim), generator = g) * 0.1 + 1\n",
        "bn_bias = torch.randn(size = (1, h_dim))* 0.1\n",
        "\n",
        "parameters = [C, W1, W2, b1, b2, bn_gain, bn_bias]\n",
        "print(f\">>>> Total number of learnable parameters is : {sum(p.numel() for p in parameters):,}\")\n",
        "for p in parameters:\n",
        "  p.requires_grad = True"
      ],
      "metadata": {
        "colab": {
          "base_uri": "https://localhost:8080/"
        },
        "id": "8UFP4M7ekJCN",
        "outputId": "33d30fa6-2abe-4fb1-db79-d43bf1d6376f"
      },
      "execution_count": 6,
      "outputs": [
        {
          "output_type": "stream",
          "name": "stdout",
          "text": [
            ">>>> Total number of learnable parameters is : 14,297\n"
          ]
        }
      ]
    },
    {
      "cell_type": "code",
      "source": [
        "# Selecting a single batch for Testing:\n",
        "ix = torch.randint(low = 0, high = len(X_tr), size = (BATCH_SIZE,))\n",
        "xbatch, ybatch = X_tr[ix], Y_tr[ix]\n",
        "n = BATCH_SIZE"
      ],
      "metadata": {
        "id": "BQrgIrklmps6"
      },
      "execution_count": 7,
      "outputs": []
    },
    {
      "cell_type": "code",
      "source": [
        "def grads_checker(s, grad, auto_grad):\n",
        "  ex = torch.all(grad == auto_grad.grad).item()\n",
        "  app = torch.allclose(grad, auto_grad.grad)\n",
        "  max_diff = (grad - auto_grad.grad).abs().max().item()\n",
        "  print(f\">>>> {s:.5s}| exactly: {str(ex):5s} | approximately: {str(app):5s}, maximum difference: {max_diff}\")"
      ],
      "metadata": {
        "id": "NjwKzGdiBoJH"
      },
      "execution_count": 8,
      "outputs": []
    },
    {
      "cell_type": "code",
      "source": [
        "# Step by step back-prop\n",
        "EMB = C[xbatch] # get the embedding layer\n",
        "EMB_cat = EMB.view(BATCH_SIZE, -1) # Flatten Layer\n",
        "h_prebn = EMB_cat @ W1 + b1\n",
        "bn_meani = 1 / n * h_prebn.sum(dim = 0, keepdims = True) # mean over the batch\n",
        "bn_diff = h_prebn - bn_meani # deviation from the mean\n",
        "bn_diff2 = bn_diff ** 2 # squared distance from the mean\n",
        "bn_var = 1 / (n-1) * bn_diff2.sum(dim = 0, keepdims = True)\n",
        "bn_varinv = bn_var ** -0.5\n",
        "bn_raw = bn_diff * bn_varinv\n",
        "h_preact = bn_raw * bn_gain + bn_bias\n",
        "h = torch.tanh(h_preact)\n",
        "logits = h @ W2 + b2\n",
        "logits_maxes = logits.max(dim = 1, keepdims = True).values\n",
        "logits_norm = logits - logits_maxes\n",
        "counts = logits_norm.exp()\n",
        "counts_sum = counts.sum(dim = 1, keepdims = True)\n",
        "counts_suminv = counts_sum ** -1\n",
        "probs = counts * counts_suminv\n",
        "logprobs = probs.log()\n",
        "loss = -logprobs[torch.arange(n), ybatch].mean()\n",
        "\n",
        "for p in parameters:\n",
        "  p.grad = None\n",
        "\n",
        "for t in [logprobs, probs, counts, counts_suminv, counts_sum,\n",
        "          logits, logits_maxes, logits_norm, h, W2, b2,\n",
        "          h_preact, bn_raw, bn_diff, bn_var, bn_varinv,\n",
        "          bn_diff2, h_prebn, bn_meani, W1, b1, EMB, EMB_cat]:\n",
        "          t.retain_grad()\n",
        "# Pytorch autograd\n",
        "loss.backward()\n",
        "loss\n",
        "\n",
        "\n"
      ],
      "metadata": {
        "colab": {
          "base_uri": "https://localhost:8080/"
        },
        "id": "eCrrshh_nNyx",
        "outputId": "065434cb-6221-4086-be6a-3009f2fe5a2d"
      },
      "execution_count": 9,
      "outputs": [
        {
          "output_type": "execute_result",
          "data": {
            "text/plain": [
              "tensor(3.5592, grad_fn=<NegBackward0>)"
            ]
          },
          "metadata": {},
          "execution_count": 9
        }
      ]
    },
    {
      "cell_type": "code",
      "source": [],
      "metadata": {
        "id": "Hvhk6QlkHvP5"
      },
      "execution_count": 9,
      "outputs": []
    },
    {
      "cell_type": "code",
      "source": [
        "# hard-grads in action:\n",
        "dlogprobs = torch.zeros_like(logprobs)\n",
        "dlogprobs[torch.arange(n), ybatch] = -(1.0 / n)\n",
        "dprobs = 1.0 / probs * dlogprobs\n",
        "dcounts = counts_suminv * dprobs\n",
        "dcounts_suminv = (counts * dprobs).sum(dim = 1, keepdims = True)\n",
        "dcounts_sum = (-1.0 * counts_sum ** -2) * dcounts_suminv\n",
        "dcounts += torch.ones_like(counts) * dcounts_sum\n",
        "dlogits_norm = logits_norm.exp() * dcounts\n",
        "dlogits = torch.ones_like(logits) * dlogits_norm\n",
        "dlogits_maxes = (-1.0 * torch.ones_like(logits) * dlogits_norm).sum(dim = 1, keepdims = True)\n",
        "dlogits += F.one_hot(logits.max(dim = 1).indices, num_classes = logits.shape[1]) * dlogits_maxes\n",
        "dw2 = h.T @ dlogits\n",
        "dh = dlogits @ W2.T\n",
        "db2 = dlogits.sum(dim = 0)\n",
        "dh_preact = (1 - h**2) * dh\n",
        "dbn_raw = bn_gain * dh_preact\n",
        "dbn_gain = (bn_raw * dh_preact).sum(dim = 0, keepdims = True)\n",
        "dbn_bias = dh_preact.sum(dim = 0, keepdims = True)\n",
        "dbn_diff = bn_varinv * dbn_raw\n",
        "dbn_varinv = (bn_diff * dbn_raw).sum(dim = 0, keepdims = True)\n",
        "dbn_var = (-0.5 * bn_var ** -1.5) * dbn_varinv\n",
        "dbn_diff2 = (1 / (n - 1)) * torch.ones_like(bn_diff2) * dbn_var\n",
        "dbn_diff += 2 * bn_diff * dbn_diff2\n",
        "dh_prebn = 1.0 * torch.ones_like(h_prebn) * dbn_diff\n",
        "dbn_meani = (-1.0 * torch.ones_like(bn_meani) * dbn_diff).sum(dim = 0, keepdims = True)\n",
        "dh_prebn += 1/n * torch.ones_like(h_prebn) * dbn_meani\n",
        "db1 = dh_prebn.sum(dim = 0)\n",
        "dw1 = EMB_cat.T @ dh_prebn\n",
        "dEMB_cat = dh_prebn @ W1.T\n",
        "dEMB = dEMB_cat.clone().view(EMB.shape)\n",
        "\n",
        "dC = torch.zeros_like(C)\n",
        "for k in range(xbatch.shape[0]):\n",
        "  for j in range(xbatch.shape[1]):\n",
        "    ix = xbatch[k, j]\n",
        "    dC[ix] += dEMB[k,j]\n"
      ],
      "metadata": {
        "id": "DBYWMujUu0ju"
      },
      "execution_count": 33,
      "outputs": []
    },
    {
      "cell_type": "code",
      "source": [
        "grads_checker(\"dlogprobs\", dlogprobs, logprobs)\n",
        "grads_checker(\"dprobs\", dprobs, probs)\n",
        "grads_checker(\"dcounts\", dcounts, counts)\n",
        "grads_checker(\"dcounts_suminv\", dcounts_suminv, counts_suminv)\n",
        "grads_checker(\"dcounts_sum\", dcounts_sum, counts_sum)\n",
        "grads_checker(\"dlogits_norm\", dlogits_norm, logits_norm)\n",
        "grads_checker(\"dlogits\", dlogits, logits)\n",
        "grads_checker(\"dlogits_maxes\", dlogits_maxes, logits_maxes)\n",
        "grads_checker(\"dw2\", dw2, W2)\n",
        "grads_checker(\"db2\", db2, b2)\n",
        "grads_checker(\"dh\", dh, h)\n",
        "grads_checker(\"dh_preact\", dh_preact, h_preact)\n",
        "grads_checker(\"dbn_raw\", dbn_raw, bn_raw)\n",
        "grads_checker(\"dbn_gain\", dbn_gain, bn_gain)\n",
        "grads_checker(\"dbn_bias\", dbn_bias, bn_bias)\n",
        "grads_checker(\"dbn_diff\", dbn_diff, bn_diff)\n",
        "grads_checker(\"dbn_varinv\", dbn_varinv, bn_varinv)\n",
        "grads_checker(\"dbn_var\", dbn_var, bn_var)\n",
        "grads_checker(\"dbn_diff2\", dbn_diff2, bn_diff2)\n",
        "grads_checker(\"dh_prebn\", dh_prebn, h_prebn)\n",
        "grads_checker(\"dbn_meani\", dbn_meani, bn_meani)\n",
        "grads_checker(\"db1\", db1, b1)\n",
        "grads_checker(\"dw1\", dw1, W1)\n",
        "grads_checker(\"dEMB_cat\", dEMB_cat, EMB_cat)\n",
        "grads_checker(\"dEMB\", dEMB, EMB)\n",
        "grads_checker(\"dC\", dC, C)\n"
      ],
      "metadata": {
        "colab": {
          "base_uri": "https://localhost:8080/"
        },
        "id": "F7vC0-plEYv4",
        "outputId": "277eccbf-f078-467b-ab53-531b59804c8e"
      },
      "execution_count": 34,
      "outputs": [
        {
          "output_type": "stream",
          "name": "stdout",
          "text": [
            ">>>> dlogp| exactly: True  | approximately: True , maximum difference: 0.0\n",
            ">>>> dprob| exactly: True  | approximately: True , maximum difference: 0.0\n",
            ">>>> dcoun| exactly: True  | approximately: True , maximum difference: 0.0\n",
            ">>>> dcoun| exactly: True  | approximately: True , maximum difference: 0.0\n",
            ">>>> dcoun| exactly: True  | approximately: True , maximum difference: 0.0\n",
            ">>>> dlogi| exactly: True  | approximately: True , maximum difference: 0.0\n",
            ">>>> dlogi| exactly: True  | approximately: True , maximum difference: 0.0\n",
            ">>>> dlogi| exactly: True  | approximately: True , maximum difference: 0.0\n",
            ">>>> dw2| exactly: True  | approximately: True , maximum difference: 0.0\n",
            ">>>> db2| exactly: True  | approximately: True , maximum difference: 0.0\n",
            ">>>> dh| exactly: True  | approximately: True , maximum difference: 0.0\n",
            ">>>> dh_pr| exactly: False | approximately: True , maximum difference: 4.656612873077393e-10\n",
            ">>>> dbn_r| exactly: False | approximately: True , maximum difference: 4.656612873077393e-10\n",
            ">>>> dbn_g| exactly: False | approximately: True , maximum difference: 2.7939677238464355e-09\n",
            ">>>> dbn_b| exactly: False | approximately: True , maximum difference: 7.450580596923828e-09\n",
            ">>>> dbn_d| exactly: False | approximately: True , maximum difference: 4.656612873077393e-10\n",
            ">>>> dbn_v| exactly: False | approximately: True , maximum difference: 2.561137080192566e-09\n",
            ">>>> dbn_v| exactly: False | approximately: True , maximum difference: 4.656612873077393e-10\n",
            ">>>> dbn_d| exactly: False | approximately: True , maximum difference: 7.275957614183426e-12\n",
            ">>>> dh_pr| exactly: False | approximately: True , maximum difference: 4.656612873077393e-10\n",
            ">>>> dbn_m| exactly: False | approximately: True , maximum difference: 3.725290298461914e-09\n",
            ">>>> db1| exactly: False | approximately: True , maximum difference: 3.026798367500305e-09\n",
            ">>>> dw1| exactly: False | approximately: True , maximum difference: 5.587935447692871e-09\n",
            ">>>> dEMB_| exactly: False | approximately: True , maximum difference: 1.862645149230957e-09\n",
            ">>>> dEMB| exactly: False | approximately: True , maximum difference: 1.862645149230957e-09\n",
            ">>>> dC| exactly: False | approximately: True , maximum difference: 1.862645149230957e-08\n"
          ]
        }
      ]
    },
    {
      "cell_type": "code",
      "source": [
        "losses = []\n",
        "steps = []\n",
        "EPOCHES = 100000"
      ],
      "metadata": {
        "id": "mA4a41QeyMC9"
      },
      "execution_count": 35,
      "outputs": []
    },
    {
      "cell_type": "code",
      "source": [
        "# Training the network via our own back-prop:\n",
        "for epoch in tqdm(range(EPOCHES)):\n",
        "  ix = torch.randint(low = 0, high = len(X_tr), size = (BATCH_SIZE,))\n",
        "  xbatch, ybatch = X_tr[ix], Y_tr[ix]\n",
        "\n",
        "  # Forward pass\n",
        "  # Step by step back-prop\n",
        "  EMB = C[xbatch] # get the embedding layer\n",
        "  EMB_cat = EMB.view(BATCH_SIZE, -1) # Flatten Layer\n",
        "  h_prebn = EMB_cat @ W1 + b1\n",
        "  bn_meani = 1 / n * h_prebn.sum(dim = 0, keepdims = True) # mean over the batch\n",
        "  bn_diff = h_prebn - bn_meani # deviation from the mean\n",
        "  bn_diff2 = bn_diff ** 2 # squared distance from the mean\n",
        "  bn_var = 1 / (n-1) * bn_diff2.sum(dim = 0, keepdims = True)\n",
        "  bn_varinv = bn_var ** -0.5\n",
        "  bn_raw = bn_diff * bn_varinv\n",
        "  h_preact = bn_raw * bn_gain + bn_bias\n",
        "  h = torch.tanh(h_preact)\n",
        "  logits = h @ W2 + b2\n",
        "  logits_maxes = logits.max(dim = 1, keepdims = True).values\n",
        "  logits_norm = logits - logits_maxes\n",
        "  counts = logits_norm.exp()\n",
        "  counts_sum = counts.sum(dim = 1, keepdims = True)\n",
        "  counts_suminv = counts_sum ** -1\n",
        "  probs = counts * counts_suminv\n",
        "  logprobs = probs.log()\n",
        "  loss = -logprobs[torch.arange(n), ybatch].mean()\n",
        "\n",
        "  for p in parameters:\n",
        "    p.grad = None\n",
        "\n",
        "  # for t in [logprobs, probs, counts, counts_suminv, counts_sum,\n",
        "  #           logits, logits_maxes, logits_norm, h, W2, b2,\n",
        "  #           h_preact, bn_raw, bn_diff, bn_var, bn_varinv,\n",
        "  #           bn_diff2, h_prebn, bn_meani, W1, b1, EMB, EMB_cat]:\n",
        "  #           t.retain_grad()\n",
        "  # # Pytorch autograd\n",
        "  # loss.backward()\n",
        "  # loss\n",
        "\n",
        "  # hard-grads in action:\n",
        "  dlogprobs = torch.zeros_like(logprobs)\n",
        "  dlogprobs[torch.arange(n), ybatch] = -(1.0 / n)\n",
        "  dprobs = 1.0 / probs * dlogprobs\n",
        "  dcounts = counts_suminv * dprobs\n",
        "  dcounts_suminv = (counts * dprobs).sum(dim = 1, keepdims = True)\n",
        "  dcounts_sum = (-1.0 * counts_sum ** -2) * dcounts_suminv\n",
        "  dcounts += torch.ones_like(counts) * dcounts_sum\n",
        "  dlogits_norm = logits_norm.exp() * dcounts\n",
        "  dlogits = torch.ones_like(logits) * dlogits_norm\n",
        "  dlogits_maxes = (-1.0 * torch.ones_like(logits) * dlogits_norm).sum(dim = 1, keepdims = True)\n",
        "  dlogits += F.one_hot(logits.max(dim = 1).indices, num_classes = logits.shape[1]) * dlogits_maxes\n",
        "  dw2 = h.T @ dlogits\n",
        "  dh = dlogits @ W2.T\n",
        "  db2 = dlogits.sum(dim = 0)\n",
        "  dh_preact = (1 - h**2) * dh\n",
        "  dbn_raw = bn_gain * dh_preact\n",
        "  dbn_gain = (bn_raw * dh_preact).sum(dim = 0, keepdims = True)\n",
        "  dbn_bias = dh_preact.sum(dim = 0, keepdims = True)\n",
        "  dbn_diff = bn_varinv * dbn_raw\n",
        "  dbn_varinv = (bn_diff * dbn_raw).sum(dim = 0, keepdims = True)\n",
        "  dbn_var = (-0.5 * bn_var ** -1.5) * dbn_varinv\n",
        "  dbn_diff2 = (1 / (n - 1)) * torch.ones_like(bn_diff2) * dbn_var\n",
        "  dbn_diff += 2 * bn_diff * dbn_diff2\n",
        "  dh_prebn = 1.0 * torch.ones_like(h_prebn) * dbn_diff\n",
        "  dbn_meani = (-1.0 * torch.ones_like(bn_meani) * dbn_diff).sum(dim = 0, keepdims = True)\n",
        "  dh_prebn += 1/n * torch.ones_like(h_prebn) * dbn_meani\n",
        "  db1 = dh_prebn.sum(dim = 0)\n",
        "  dw1 = EMB_cat.T @ dh_prebn\n",
        "  dEMB_cat = dh_prebn @ W1.T\n",
        "  dEMB = dEMB_cat.clone().view(EMB.shape)\n",
        "\n",
        "  dC = torch.zeros_like(C)\n",
        "  for k in range(xbatch.shape[0]):\n",
        "    for j in range(xbatch.shape[1]):\n",
        "      ix = xbatch[k, j]\n",
        "      dC[ix] += dEMB[k,j]\n",
        "\n",
        "  # packing the grads\n",
        "  grads = [dC, dw1, dw2, db1, db2, dbn_gain, dbn_bias]\n",
        "\n",
        "  # optimization with LR decaying of 10%\n",
        "  LR = 0.1 if epoch < 60000 else 0.01\n",
        "  for p, grad in zip(parameters, grads):\n",
        "    p.data += -LR * grad\n",
        "\n",
        "  if epoch % 1000 == 0:\n",
        "    print(f\">>>> Epoch: {epoch + 1 if epoch == 0 else epoch}: Train Loss: {loss.item():.4f}\")\n",
        "  losses.append(loss.item())\n",
        "  steps.append(epoch)"
      ],
      "metadata": {
        "colab": {
          "base_uri": "https://localhost:8080/",
          "height": 1000,
          "referenced_widgets": [
            "20ae25df7e3843cf8d46950bab807887",
            "2658f6ad0f7b4ff1b049fd0222d36857",
            "dbea2c4f054840fa8c2e33706aeb5311",
            "c7f9e5e211f74d628771251ad3dcbcee",
            "720db0a8b332401eb824ce4c2e0a6301",
            "9c2c3d622cb544cda73a1ce15d83db29",
            "18203e5f82df465896a539d827db55d6",
            "e9a196446d1043e9bef1de613dbd4339",
            "6444843725f0414e9e03f3bd97fee272",
            "b1993d42e812412d9c1198a6ac1e1907",
            "d2dfb6106a6c491ca63c7fe82301e453"
          ]
        },
        "id": "3s6xaY4RU56F",
        "outputId": "2c17cf46-10c3-496a-c80d-3bd2d55f0aec"
      },
      "execution_count": 36,
      "outputs": [
        {
          "output_type": "display_data",
          "data": {
            "text/plain": [
              "  0%|          | 0/100000 [00:00<?, ?it/s]"
            ],
            "application/vnd.jupyter.widget-view+json": {
              "version_major": 2,
              "version_minor": 0,
              "model_id": "20ae25df7e3843cf8d46950bab807887"
            }
          },
          "metadata": {}
        },
        {
          "output_type": "stream",
          "name": "stdout",
          "text": [
            ">>>> Epoch: 1: Train Loss: 3.5571\n",
            ">>>> Epoch: 1000: Train Loss: 2.4242\n",
            ">>>> Epoch: 2000: Train Loss: 2.2365\n",
            ">>>> Epoch: 3000: Train Loss: 2.3555\n",
            ">>>> Epoch: 4000: Train Loss: 2.4022\n",
            ">>>> Epoch: 5000: Train Loss: 2.2103\n",
            ">>>> Epoch: 6000: Train Loss: 2.0471\n",
            ">>>> Epoch: 7000: Train Loss: 2.2278\n",
            ">>>> Epoch: 8000: Train Loss: 2.1677\n",
            ">>>> Epoch: 9000: Train Loss: 2.1677\n",
            ">>>> Epoch: 10000: Train Loss: 2.0961\n",
            ">>>> Epoch: 11000: Train Loss: 2.1581\n",
            ">>>> Epoch: 12000: Train Loss: 2.4246\n",
            ">>>> Epoch: 13000: Train Loss: 2.3672\n",
            ">>>> Epoch: 14000: Train Loss: 2.2103\n",
            ">>>> Epoch: 15000: Train Loss: 2.2140\n",
            ">>>> Epoch: 16000: Train Loss: 2.3844\n",
            ">>>> Epoch: 17000: Train Loss: 2.1711\n",
            ">>>> Epoch: 18000: Train Loss: 2.1329\n",
            ">>>> Epoch: 19000: Train Loss: 2.2465\n",
            ">>>> Epoch: 20000: Train Loss: 2.2563\n",
            ">>>> Epoch: 21000: Train Loss: 2.3143\n",
            ">>>> Epoch: 22000: Train Loss: 1.9779\n",
            ">>>> Epoch: 23000: Train Loss: 1.9562\n",
            ">>>> Epoch: 24000: Train Loss: 2.1728\n",
            ">>>> Epoch: 25000: Train Loss: 1.7600\n",
            ">>>> Epoch: 26000: Train Loss: 2.1199\n",
            ">>>> Epoch: 27000: Train Loss: 1.5605\n",
            ">>>> Epoch: 28000: Train Loss: 2.2107\n",
            ">>>> Epoch: 29000: Train Loss: 1.8633\n",
            ">>>> Epoch: 30000: Train Loss: 2.0751\n",
            ">>>> Epoch: 31000: Train Loss: 2.1161\n",
            ">>>> Epoch: 32000: Train Loss: 2.0855\n",
            ">>>> Epoch: 33000: Train Loss: 2.3434\n",
            ">>>> Epoch: 34000: Train Loss: 2.0678\n",
            ">>>> Epoch: 35000: Train Loss: 2.1529\n",
            ">>>> Epoch: 36000: Train Loss: 2.2128\n",
            ">>>> Epoch: 37000: Train Loss: 1.8572\n",
            ">>>> Epoch: 38000: Train Loss: 2.3524\n",
            ">>>> Epoch: 39000: Train Loss: 2.1449\n",
            ">>>> Epoch: 40000: Train Loss: 2.1532\n",
            ">>>> Epoch: 41000: Train Loss: 2.0996\n",
            ">>>> Epoch: 42000: Train Loss: 1.9586\n",
            ">>>> Epoch: 43000: Train Loss: 2.1955\n",
            ">>>> Epoch: 44000: Train Loss: 2.1359\n",
            ">>>> Epoch: 45000: Train Loss: 2.0852\n",
            ">>>> Epoch: 46000: Train Loss: 1.9975\n",
            ">>>> Epoch: 47000: Train Loss: 2.1537\n",
            ">>>> Epoch: 48000: Train Loss: 2.3393\n",
            ">>>> Epoch: 49000: Train Loss: 2.2360\n",
            ">>>> Epoch: 50000: Train Loss: 1.8777\n",
            ">>>> Epoch: 51000: Train Loss: 2.1043\n",
            ">>>> Epoch: 52000: Train Loss: 2.2609\n",
            ">>>> Epoch: 53000: Train Loss: 2.2096\n",
            ">>>> Epoch: 54000: Train Loss: 2.0750\n",
            ">>>> Epoch: 55000: Train Loss: 2.1661\n",
            ">>>> Epoch: 56000: Train Loss: 1.8578\n",
            ">>>> Epoch: 57000: Train Loss: 2.2758\n",
            ">>>> Epoch: 58000: Train Loss: 2.1137\n",
            ">>>> Epoch: 59000: Train Loss: 2.1812\n",
            ">>>> Epoch: 60000: Train Loss: 1.8676\n",
            ">>>> Epoch: 61000: Train Loss: 2.0832\n",
            ">>>> Epoch: 62000: Train Loss: 2.0719\n",
            ">>>> Epoch: 63000: Train Loss: 1.8128\n",
            ">>>> Epoch: 64000: Train Loss: 2.0902\n",
            ">>>> Epoch: 65000: Train Loss: 2.1164\n",
            ">>>> Epoch: 66000: Train Loss: 2.0605\n",
            ">>>> Epoch: 67000: Train Loss: 1.9816\n",
            ">>>> Epoch: 68000: Train Loss: 2.2210\n",
            ">>>> Epoch: 69000: Train Loss: 1.7395\n",
            ">>>> Epoch: 70000: Train Loss: 1.9198\n",
            ">>>> Epoch: 71000: Train Loss: 1.6443\n",
            ">>>> Epoch: 72000: Train Loss: 2.0640\n",
            ">>>> Epoch: 73000: Train Loss: 2.0645\n",
            ">>>> Epoch: 74000: Train Loss: 2.0638\n",
            ">>>> Epoch: 75000: Train Loss: 2.3434\n",
            ">>>> Epoch: 76000: Train Loss: 2.3209\n",
            ">>>> Epoch: 77000: Train Loss: 2.1253\n",
            ">>>> Epoch: 78000: Train Loss: 2.2100\n",
            ">>>> Epoch: 79000: Train Loss: 2.1262\n",
            ">>>> Epoch: 80000: Train Loss: 2.0466\n",
            ">>>> Epoch: 81000: Train Loss: 2.0275\n",
            ">>>> Epoch: 82000: Train Loss: 2.0508\n",
            ">>>> Epoch: 83000: Train Loss: 1.8232\n",
            ">>>> Epoch: 84000: Train Loss: 1.9184\n",
            ">>>> Epoch: 85000: Train Loss: 1.8293\n",
            ">>>> Epoch: 86000: Train Loss: 2.0508\n",
            ">>>> Epoch: 87000: Train Loss: 2.3524\n",
            ">>>> Epoch: 88000: Train Loss: 1.9898\n",
            ">>>> Epoch: 89000: Train Loss: 2.0566\n",
            ">>>> Epoch: 90000: Train Loss: 1.9027\n",
            ">>>> Epoch: 91000: Train Loss: 1.8686\n",
            ">>>> Epoch: 92000: Train Loss: 2.0546\n",
            ">>>> Epoch: 93000: Train Loss: 1.8941\n",
            ">>>> Epoch: 94000: Train Loss: 2.0705\n",
            ">>>> Epoch: 95000: Train Loss: 1.8833\n",
            ">>>> Epoch: 96000: Train Loss: 2.1377\n",
            ">>>> Epoch: 97000: Train Loss: 1.8105\n",
            ">>>> Epoch: 98000: Train Loss: 1.9931\n",
            ">>>> Epoch: 99000: Train Loss: 2.1276\n"
          ]
        }
      ]
    },
    {
      "cell_type": "code",
      "source": [
        "loss_smooth = torch.tensor(losses).view(-1, 1000).mean(dim = 1)\n",
        "plt.figure(figsize = (8,8))\n",
        "plt.plot(loss_smooth)\n",
        "plt.title(\"Smoothed Training Loss Trajectory\")"
      ],
      "metadata": {
        "colab": {
          "base_uri": "https://localhost:8080/",
          "height": 716
        },
        "id": "2FUXxpzUx3EB",
        "outputId": "db1ccdef-7761-4d06-f5ac-885c9dea4ee3"
      },
      "execution_count": 37,
      "outputs": [
        {
          "output_type": "execute_result",
          "data": {
            "text/plain": [
              "Text(0.5, 1.0, 'Smoothed Training Loss Trajectory')"
            ]
          },
          "metadata": {},
          "execution_count": 37
        },
        {
          "output_type": "display_data",
          "data": {
            "text/plain": [
              "<Figure size 800x800 with 1 Axes>"
            ],
            "image/png": "[encoded data removed]"
          },
          "metadata": {}
        }
      ]
    },
    {
      "cell_type": "code",
      "source": [],
      "metadata": {
        "id": "DsBgt1Ql3irb"
      },
      "execution_count": null,
      "outputs": []
    }
  ],
  "metadata": {
    "colab": {
      "provenance": [],
      "authorship_tag": "ABX9TyNgxX5uu9hWRepHZ9NynPzC",
      "include_colab_link": true
    },
    "kernelspec": {
      "display_name": "Python 3",
      "name": "python3"
    },
    "language_info": {
      "name": "python"
    },
    "widgets": {
      "application/vnd.jupyter.widget-state+json": {
        "20ae25df7e3843cf8d46950bab807887": {
          "model_module": "@jupyter-widgets/controls",
          "model_name": "HBoxModel",
          "model_module_version": "1.5.0",
          "state": {
            "_dom_classes": [],
            "_model_module": "@jupyter-widgets/controls",
            "_model_module_version": "1.5.0",
            "_model_name": "HBoxModel",
            "_view_count": null,
            "_view_module": "@jupyter-widgets/controls",
            "_view_module_version": "1.5.0",
            "_view_name": "HBoxView",
            "box_style": "",
            "children": [
              "IPY_MODEL_2658f6ad0f7b4ff1b049fd0222d36857",
              "IPY_MODEL_dbea2c4f054840fa8c2e33706aeb5311",
              "IPY_MODEL_c7f9e5e211f74d628771251ad3dcbcee"
            ],
            "layout": "IPY_MODEL_720db0a8b332401eb824ce4c2e0a6301"
          }
        },
        "2658f6ad0f7b4ff1b049fd0222d36857": {
          "model_module": "@jupyter-widgets/controls",
          "model_name": "HTMLModel",
          "model_module_version": "1.5.0",
          "state": {
            "_dom_classes": [],
            "_model_module": "@jupyter-widgets/controls",
            "_model_module_version": "1.5.0",
            "_model_name": "HTMLModel",
            "_view_count": null,
            "_view_module": "@jupyter-widgets/controls",
            "_view_module_version": "1.5.0",
            "_view_name": "HTMLView",
            "description": "",
            "description_tooltip": null,
            "layout": "IPY_MODEL_9c2c3d622cb544cda73a1ce15d83db29",
            "placeholder": "​",
            "style": "IPY_MODEL_18203e5f82df465896a539d827db55d6",
            "value": "100%"
          }
        },
        "dbea2c4f054840fa8c2e33706aeb5311": {
          "model_module": "@jupyter-widgets/controls",
          "model_name": "FloatProgressModel",
          "model_module_version": "1.5.0",
          "state": {
            "_dom_classes": [],
            "_model_module": "@jupyter-widgets/controls",
            "_model_module_version": "1.5.0",
            "_model_name": "FloatProgressModel",
            "_view_count": null,
            "_view_module": "@jupyter-widgets/controls",
            "_view_module_version": "1.5.0",
            "_view_name": "ProgressView",
            "bar_style": "success",
            "description": "",
            "description_tooltip": null,
            "layout": "IPY_MODEL_e9a196446d1043e9bef1de613dbd4339",
            "max": 100000,
            "min": 0,
            "orientation": "horizontal",
            "style": "IPY_MODEL_6444843725f0414e9e03f3bd97fee272",
            "value": 100000
          }
        },
        "c7f9e5e211f74d628771251ad3dcbcee": {
          "model_module": "@jupyter-widgets/controls",
          "model_name": "HTMLModel",
          "model_module_version": "1.5.0",
          "state": {
            "_dom_classes": [],
            "_model_module": "@jupyter-widgets/controls",
            "_model_module_version": "1.5.0",
            "_model_name": "HTMLModel",
            "_view_count": null,
            "_view_module": "@jupyter-widgets/controls",
            "_view_module_version": "1.5.0",
            "_view_name": "HTMLView",
            "description": "",
            "description_tooltip": null,
            "layout": "IPY_MODEL_b1993d42e812412d9c1198a6ac1e1907",
            "placeholder": "​",
            "style": "IPY_MODEL_d2dfb6106a6c491ca63c7fe82301e453",
            "value": " 100000/100000 [22:27&lt;00:00, 86.31it/s]"
          }
        },
        "720db0a8b332401eb824ce4c2e0a6301": {
          "model_module": "@jupyter-widgets/base",
          "model_name": "LayoutModel",
          "model_module_version": "1.2.0",
          "state": {
            "_model_module": "@jupyter-widgets/base",
            "_model_module_version": "1.2.0",
            "_model_name": "LayoutModel",
            "_view_count": null,
            "_view_module": "@jupyter-widgets/base",
            "_view_module_version": "1.2.0",
            "_view_name": "LayoutView",
            "align_content": null,
            "align_items": null,
            "align_self": null,
            "border": null,
            "bottom": null,
            "display": null,
            "flex": null,
            "flex_flow": null,
            "grid_area": null,
            "grid_auto_columns": null,
            "grid_auto_flow": null,
            "grid_auto_rows": null,
            "grid_column": null,
            "grid_gap": null,
            "grid_row": null,
            "grid_template_areas": null,
            "grid_template_columns": null,
            "grid_template_rows": null,
            "height": null,
            "justify_content": null,
            "justify_items": null,
            "left": null,
            "margin": null,
            "max_height": null,
            "max_width": null,
            "min_height": null,
            "min_width": null,
            "object_fit": null,
            "object_position": null,
            "order": null,
            "overflow": null,
            "overflow_x": null,
            "overflow_y": null,
            "padding": null,
            "right": null,
            "top": null,
            "visibility": null,
            "width": null
          }
        },
        "9c2c3d622cb544cda73a1ce15d83db29": {
          "model_module": "@jupyter-widgets/base",
          "model_name": "LayoutModel",
          "model_module_version": "1.2.0",
          "state": {
            "_model_module": "@jupyter-widgets/base",
            "_model_module_version": "1.2.0",
            "_model_name": "LayoutModel",
            "_view_count": null,
            "_view_module": "@jupyter-widgets/base",
            "_view_module_version": "1.2.0",
            "_view_name": "LayoutView",
            "align_content": null,
            "align_items": null,
            "align_self": null,
            "border": null,
            "bottom": null,
            "display": null,
            "flex": null,
            "flex_flow": null,
            "grid_area": null,
            "grid_auto_columns": null,
            "grid_auto_flow": null,
            "grid_auto_rows": null,
            "grid_column": null,
            "grid_gap": null,
            "grid_row": null,
            "grid_template_areas": null,
            "grid_template_columns": null,
            "grid_template_rows": null,
            "height": null,
            "justify_content": null,
            "justify_items": null,
            "left": null,
            "margin": null,
            "max_height": null,
            "max_width": null,
            "min_height": null,
            "min_width": null,
            "object_fit": null,
            "object_position": null,
            "order": null,
            "overflow": null,
            "overflow_x": null,
            "overflow_y": null,
            "padding": null,
            "right": null,
            "top": null,
            "visibility": null,
            "width": null
          }
        },
        "18203e5f82df465896a539d827db55d6": {
          "model_module": "@jupyter-widgets/controls",
          "model_name": "DescriptionStyleModel",
          "model_module_version": "1.5.0",
          "state": {
            "_model_module": "@jupyter-widgets/controls",
            "_model_module_version": "1.5.0",
            "_model_name": "DescriptionStyleModel",
            "_view_count": null,
            "_view_module": "@jupyter-widgets/base",
            "_view_module_version": "1.2.0",
            "_view_name": "StyleView",
            "description_width": ""
          }
        },
        "e9a196446d1043e9bef1de613dbd4339": {
          "model_module": "@jupyter-widgets/base",
          "model_name": "LayoutModel",
          "model_module_version": "1.2.0",
          "state": {
            "_model_module": "@jupyter-widgets/base",
            "_model_module_version": "1.2.0",
            "_model_name": "LayoutModel",
            "_view_count": null,
            "_view_module": "@jupyter-widgets/base",
            "_view_module_version": "1.2.0",
            "_view_name": "LayoutView",
            "align_content": null,
            "align_items": null,
            "align_self": null,
            "border": null,
            "bottom": null,
            "display": null,
            "flex": null,
            "flex_flow": null,
            "grid_area": null,
            "grid_auto_columns": null,
            "grid_auto_flow": null,
            "grid_auto_rows": null,
            "grid_column": null,
            "grid_gap": null,
            "grid_row": null,
            "grid_template_areas": null,
            "grid_template_columns": null,
            "grid_template_rows": null,
            "height": null,
            "justify_content": null,
            "justify_items": null,
            "left": null,
            "margin": null,
            "max_height": null,
            "max_width": null,
            "min_height": null,
            "min_width": null,
            "object_fit": null,
            "object_position": null,
            "order": null,
            "overflow": null,
            "overflow_x": null,
            "overflow_y": null,
            "padding": null,
            "right": null,
            "top": null,
            "visibility": null,
            "width": null
          }
        },
        "6444843725f0414e9e03f3bd97fee272": {
          "model_module": "@jupyter-widgets/controls",
          "model_name": "ProgressStyleModel",
          "model_module_version": "1.5.0",
          "state": {
            "_model_module": "@jupyter-widgets/controls",
            "_model_module_version": "1.5.0",
            "_model_name": "ProgressStyleModel",
            "_view_count": null,
            "_view_module": "@jupyter-widgets/base",
            "_view_module_version": "1.2.0",
            "_view_name": "StyleView",
            "bar_color": null,
            "description_width": ""
          }
        },
        "b1993d42e812412d9c1198a6ac1e1907": {
          "model_module": "@jupyter-widgets/base",
          "model_name": "LayoutModel",
          "model_module_version": "1.2.0",
          "state": {
            "_model_module": "@jupyter-widgets/base",
            "_model_module_version": "1.2.0",
            "_model_name": "LayoutModel",
            "_view_count": null,
            "_view_module": "@jupyter-widgets/base",
            "_view_module_version": "1.2.0",
            "_view_name": "LayoutView",
            "align_content": null,
            "align_items": null,
            "align_self": null,
            "border": null,
            "bottom": null,
            "display": null,
            "flex": null,
            "flex_flow": null,
            "grid_area": null,
            "grid_auto_columns": null,
            "grid_auto_flow": null,
            "grid_auto_rows": null,
            "grid_column": null,
            "grid_gap": null,
            "grid_row": null,
            "grid_template_areas": null,
            "grid_template_columns": null,
            "grid_template_rows": null,
            "height": null,
            "justify_content": null,
            "justify_items": null,
            "left": null,
            "margin": null,
            "max_height": null,
            "max_width": null,
            "min_height": null,
            "min_width": null,
            "object_fit": null,
            "object_position": null,
            "order": null,
            "overflow": null,
            "overflow_x": null,
            "overflow_y": null,
            "padding": null,
            "right": null,
            "top": null,
            "visibility": null,
            "width": null
          }
        },
        "d2dfb6106a6c491ca63c7fe82301e453": {
          "model_module": "@jupyter-widgets/controls",
          "model_name": "DescriptionStyleModel",
          "model_module_version": "1.5.0",
          "state": {
            "_model_module": "@jupyter-widgets/controls",
            "_model_module_version": "1.5.0",
            "_model_name": "DescriptionStyleModel",
            "_view_count": null,
            "_view_module": "@jupyter-widgets/base",
            "_view_module_version": "1.2.0",
            "_view_name": "StyleView",
            "description_width": ""
          }
        }
      }
    }
  },
  "nbformat": 4,
  "nbformat_minor": 0
}