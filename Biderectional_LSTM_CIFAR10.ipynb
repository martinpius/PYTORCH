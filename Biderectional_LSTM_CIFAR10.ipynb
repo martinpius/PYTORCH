{
  "nbformat": 4,
  "nbformat_minor": 0,
  "metadata": {
    "colab": {
      "name": "Biderectional LSTM-CIFAR10.ipynb",
      "provenance": [],
      "authorship_tag": "ABX9TyORjG0Tlyfc/nc8Ajk49ko4",
      "include_colab_link": true
    },
    "kernelspec": {
      "name": "python3",
      "display_name": "Python 3"
    },
    "language_info": {
      "name": "python"
    },
    "accelerator": "GPU"
  },
  "cells": [
    {
      "cell_type": "markdown",
      "metadata": {
        "id": "view-in-github",
        "colab_type": "text"
      },
      "source": [
        "<a href=\"https://colab.research.google.com/github/martinpius/PYTORCH/blob/main/Biderectional_LSTM_CIFAR10.ipynb\" target=\"_parent\"><img src=\"https://colab.research.google.com/assets/colab-badge.svg\" alt=\"Open In Colab\"/></a>"
      ]
    },
    {
      "cell_type": "code",
      "metadata": {
        "colab": {
          "base_uri": "https://localhost:8080/"
        },
        "id": "IATAO_5E__Ha",
        "outputId": "88727bff-8eda-4a9d-86ba-8386061acae8"
      },
      "source": [
        "from google.colab import drive\n",
        "drive.mount('/content/drive/', force_remount = True)\n",
        "try:\n",
        "  COLAB = True\n",
        "  import torch\n",
        "  print(f\"You are on Google Colab with Pytorch Version: {torch.__version__}\")\n",
        "except Exception as e:\n",
        "  print(f\"{type(e)}: {e}\\n>>>Please correct {type(e)} and reload\")\n",
        "  COLAB = False\n",
        "if torch.cuda.is_available():\n",
        "  device = torch.device('cuda')\n",
        "else:\n",
        "  device = torch.device('cpu')\n",
        "def time_fmt(t: float = 123.981)->float:\n",
        "  h = int(t / (60 * 60))\n",
        "  m = int(t % (60 * 60) / 60)\n",
        "  s = int(t % 60)\n",
        "  return f\"{h}: {m:>02}: {s:>05.2f}\"\n",
        "print(f\">>>time formating please wait...\\n>>>time elapse is: {time_fmt()}\")"
      ],
      "execution_count": 1,
      "outputs": [
        {
          "output_type": "stream",
          "text": [
            "Mounted at /content/drive/\n",
            "You are on Google Colab with Pytorch Version: 1.8.1+cu101\n",
            ">>>time formating please wait...\n",
            ">>>time elapse is: 0: 02: 03.00\n"
          ],
          "name": "stdout"
        }
      ]
    },
    {
      "cell_type": "code",
      "metadata": {
        "id": "Fh4h3d9OCNmG"
      },
      "source": [
        "#In this notbook we are going to train a biderectional rnn with an LSTM architecture on cifar10 dataset\n",
        "#here cifar10 is treated as a sequence data with 32 feature's size and 32 sequence legnth: We will ignore the channel dimension"
      ],
      "execution_count": 2,
      "outputs": []
    },
    {
      "cell_type": "code",
      "metadata": {
        "id": "PNCl89k9C4um"
      },
      "source": [
        "import torch\n",
        "import torch.nn as nn\n",
        "import torch.nn.functional as F\n",
        "import torch.optim as optim\n",
        "import torchvision.datasets as datasets\n",
        "from torch.utils.data import DataLoader\n",
        "from torchvision.transforms import transforms\n",
        "from tqdm import tqdm\n",
        "import time, sys"
      ],
      "execution_count": 3,
      "outputs": []
    },
    {
      "cell_type": "code",
      "metadata": {
        "id": "e8YtcB1dDh2V"
      },
      "source": [
        "#Hyperparameters for the model:\n",
        "batch_size = 64\n",
        "EPOCHS = 10\n",
        "learning_rate = 1e-3\n",
        "sequence_length = 32\n",
        "input_size = 32\n",
        "hidden_size = 512\n",
        "num_layers = 2\n",
        "num_classes = 10"
      ],
      "execution_count": 37,
      "outputs": []
    },
    {
      "cell_type": "code",
      "metadata": {
        "id": "Iak7oi6vHgwx"
      },
      "source": [
        "#BLSTM-class: This class build the bi-derectional-rnn with 2 layers LSTM and a fc output layer:"
      ],
      "execution_count": 27,
      "outputs": []
    },
    {
      "cell_type": "code",
      "metadata": {
        "id": "vgdGSL8IH6_Z"
      },
      "source": [
        "class BRNN(nn.Module):\n",
        "  def __init__(self,input_size, hidden_size, num_layers, num_classes):\n",
        "    super(BRNN, self).__init__()\n",
        "    self.num_layers = num_layers\n",
        "    self.hidden_size = hidden_size\n",
        "    self.brnn = nn.LSTM(input_size, \n",
        "                        hidden_size,\n",
        "                        num_layers, \n",
        "                        batch_first = True,\n",
        "                        bidirectional = True)\n",
        "    self.fc = nn.Linear(hidden_size*2, num_classes)\n",
        "    \n",
        "  def forward(self, input_tensor):\n",
        "    #initialize the hidden and cell states\n",
        "    c0 = torch.rand(self.num_layers * 2, input_tensor.size(0), self.hidden_size).to(device = device)\n",
        "    h0 = torch.rand(self.num_layers * 2, input_tensor.size(0), self.hidden_size).to(device = device)\n",
        "    output,_ = self.brnn(input_tensor, (h0,c0))\n",
        "    output = output[:,-1,:]\n",
        "    return self.fc(output)"
      ],
      "execution_count": 38,
      "outputs": []
    },
    {
      "cell_type": "code",
      "metadata": {
        "colab": {
          "base_uri": "https://localhost:8080/"
        },
        "id": "sonHjk2CM72r",
        "outputId": "4df41c4e-0071-41ca-ffab-26bd04ecbefe"
      },
      "source": [
        "#Instantiating and test the model class to see if its deliver the desired shape:(batch,10)\n",
        "model = BRNN(input_size, hidden_size,num_layers,num_classes).to(device = device)\n",
        "rnd_data = torch.rand(64, 3,32,32)[:,-1,:].to(device = device)\n",
        "print(f\"output_shape: {model(rnd_data).shape}\")"
      ],
      "execution_count": 39,
      "outputs": [
        {
          "output_type": "stream",
          "text": [
            "output_shape: torch.Size([64, 10])\n"
          ],
          "name": "stdout"
        }
      ]
    },
    {
      "cell_type": "code",
      "metadata": {
        "colab": {
          "base_uri": "https://localhost:8080/"
        },
        "id": "sDWcjn-QPUQB",
        "outputId": "735b4416-ce78-4145-e2ff-465d92aef867"
      },
      "source": [
        "#Load and split the data into batches with 64(minibatch) sizes the data from torch\n",
        "train_data = datasets.CIFAR10(root = '/train_data', train = True, transform = transforms.ToTensor(), download = True)\n",
        "test_data = datasets.CIFAR10(root = '/test_data', train = False, transform = transforms.ToTensor(), download = True)\n",
        "train_loader = DataLoader(dataset = train_data, shuffle = True, batch_size = batch_size)\n",
        "test_loader = DataLoader(dataset = test_data, shuffle = True, batch_size = batch_size)\n",
        "x_batch, y_batch = next(iter(train_loader))\n",
        "print(f\"x_batch_shape: {x_batch.shape}\\ty_batch_shape: {y_batch.shape}\")"
      ],
      "execution_count": 40,
      "outputs": [
        {
          "output_type": "stream",
          "text": [
            "Files already downloaded and verified\n",
            "Files already downloaded and verified\n",
            "x_batch_shape: torch.Size([64, 3, 32, 32])\ty_batch_shape: torch.Size([64])\n"
          ],
          "name": "stdout"
        }
      ]
    },
    {
      "cell_type": "code",
      "metadata": {
        "id": "e0wpXlcsdhmf"
      },
      "source": [
        "#Get the loss and optimizers objects\n",
        "optimizer = optim.Adam(params = model.parameters(), lr = learning_rate)\n",
        "loss_fn = nn.CrossEntropyLoss()"
      ],
      "execution_count": 41,
      "outputs": []
    },
    {
      "cell_type": "code",
      "metadata": {
        "colab": {
          "base_uri": "https://localhost:8080/"
        },
        "id": "NSgbdP8Bd35j",
        "outputId": "3239f80d-703d-475b-b7ef-132e59a9d7c3"
      },
      "source": [
        "#Training loop from scatch:\n",
        "tic = time.time()\n",
        "for epoch in range(EPOCHS):\n",
        "  print(f\"\\n>>>Train starts for epoch: {epoch + 1}\\n>>>Please MAITAIN SCREEN ACTIVITY!!!\\n>>>Model is training: Please wait.....\")\n",
        "  for idx, (data, target) in enumerate(tqdm(train_loader)):\n",
        "    #Loading the data into GPU when available\n",
        "    data = data[:,-1,:].to(device = device)#Alse we squeeze the channel dimension\n",
        "    target = target.to(device = device)\n",
        "    #Forward pass here\n",
        "    preds = model(data)\n",
        "    train_loss = loss_fn(preds, target)\n",
        "    #Backward pass here\n",
        "    optimizer.zero_grad()\n",
        "    train_loss.backward()\n",
        "    #Gradient descent with Adam optimizer\n",
        "    optimizer.step()\n",
        "\n",
        "#Evaluating model's performance:\n",
        "def performance_eval(loader, model):\n",
        "  if loader.dataset.train:\n",
        "    print(f\"\\n>>>Checking the performance over the trainining data\\n>>>Please wait...\")\n",
        "  else:\n",
        "    print(f\"\\n>>>Checking the performance over the validation data\\n>>>Please wait...\")\n",
        "  num_correct = 0\n",
        "  num_examples = 0\n",
        "  model.eval()\n",
        "  #No need to compute the slopr this time:\n",
        "  with torch.no_grad():\n",
        "    for x, y in(loader):\n",
        "      x = x[:,-1,:].to(device = device)\n",
        "      y = y.to(device = device)\n",
        "      preds = model(x)\n",
        "      _,predictions = preds.max(1)#fetch maximum probability in the vector of 10 proba-values\n",
        "      num_correct+=(predictions == y).sum()#Get the total for all correct classified samples\n",
        "      num_examples+=predictions.size(0)#Fetch all examples in a batch (64 in this case)\n",
        "  model.train()\n",
        "  return float(num_correct/num_examples)*100 #compute the accuracy (in percentage)\n",
        "\n",
        "toc = time.time()\n",
        "print(f\"\\n>>>The accuracy over the training dataset is: {performance_eval(train_loader, model):.2f}\")\n",
        "print(f\"\\n>>>The accuracy over the validation dataset is: {performance_eval(test_loader, model):.2f}\")\n",
        "print(f\"\\n>>>Total time elspsed for the training and validation is: {time_fmt(toc - tic)}\")"
      ],
      "execution_count": 42,
      "outputs": [
        {
          "output_type": "stream",
          "text": [
            "  1%|          | 5/782 [00:00<00:19, 40.39it/s]"
          ],
          "name": "stderr"
        },
        {
          "output_type": "stream",
          "text": [
            "\n",
            ">>>Train starts for epoch: 1\n",
            ">>>Please MAITAIN SCREEN ACTIVITY!!!\n",
            ">>>Model is training: Please wait.....\n"
          ],
          "name": "stdout"
        },
        {
          "output_type": "stream",
          "text": [
            "100%|██████████| 782/782 [00:19<00:00, 40.46it/s]\n",
            "  1%|          | 5/782 [00:00<00:18, 43.12it/s]"
          ],
          "name": "stderr"
        },
        {
          "output_type": "stream",
          "text": [
            "\n",
            ">>>Train starts for epoch: 2\n",
            ">>>Please MAITAIN SCREEN ACTIVITY!!!\n",
            ">>>Model is training: Please wait.....\n"
          ],
          "name": "stdout"
        },
        {
          "output_type": "stream",
          "text": [
            "100%|██████████| 782/782 [00:19<00:00, 40.54it/s]\n",
            "  1%|          | 5/782 [00:00<00:17, 43.41it/s]"
          ],
          "name": "stderr"
        },
        {
          "output_type": "stream",
          "text": [
            "\n",
            ">>>Train starts for epoch: 3\n",
            ">>>Please MAITAIN SCREEN ACTIVITY!!!\n",
            ">>>Model is training: Please wait.....\n"
          ],
          "name": "stdout"
        },
        {
          "output_type": "stream",
          "text": [
            "100%|██████████| 782/782 [00:19<00:00, 40.47it/s]\n",
            "  1%|          | 5/782 [00:00<00:18, 42.79it/s]"
          ],
          "name": "stderr"
        },
        {
          "output_type": "stream",
          "text": [
            "\n",
            ">>>Train starts for epoch: 4\n",
            ">>>Please MAITAIN SCREEN ACTIVITY!!!\n",
            ">>>Model is training: Please wait.....\n"
          ],
          "name": "stdout"
        },
        {
          "output_type": "stream",
          "text": [
            "100%|██████████| 782/782 [00:19<00:00, 40.49it/s]\n",
            "  1%|          | 5/782 [00:00<00:18, 41.41it/s]"
          ],
          "name": "stderr"
        },
        {
          "output_type": "stream",
          "text": [
            "\n",
            ">>>Train starts for epoch: 5\n",
            ">>>Please MAITAIN SCREEN ACTIVITY!!!\n",
            ">>>Model is training: Please wait.....\n"
          ],
          "name": "stdout"
        },
        {
          "output_type": "stream",
          "text": [
            "100%|██████████| 782/782 [00:19<00:00, 40.43it/s]\n",
            "  1%|          | 5/782 [00:00<00:17, 43.50it/s]"
          ],
          "name": "stderr"
        },
        {
          "output_type": "stream",
          "text": [
            "\n",
            ">>>Train starts for epoch: 6\n",
            ">>>Please MAITAIN SCREEN ACTIVITY!!!\n",
            ">>>Model is training: Please wait.....\n"
          ],
          "name": "stdout"
        },
        {
          "output_type": "stream",
          "text": [
            "100%|██████████| 782/782 [00:19<00:00, 40.49it/s]\n",
            "  1%|          | 5/782 [00:00<00:17, 43.33it/s]"
          ],
          "name": "stderr"
        },
        {
          "output_type": "stream",
          "text": [
            "\n",
            ">>>Train starts for epoch: 7\n",
            ">>>Please MAITAIN SCREEN ACTIVITY!!!\n",
            ">>>Model is training: Please wait.....\n"
          ],
          "name": "stdout"
        },
        {
          "output_type": "stream",
          "text": [
            "100%|██████████| 782/782 [00:19<00:00, 40.43it/s]\n",
            "  1%|          | 5/782 [00:00<00:18, 43.16it/s]"
          ],
          "name": "stderr"
        },
        {
          "output_type": "stream",
          "text": [
            "\n",
            ">>>Train starts for epoch: 8\n",
            ">>>Please MAITAIN SCREEN ACTIVITY!!!\n",
            ">>>Model is training: Please wait.....\n"
          ],
          "name": "stdout"
        },
        {
          "output_type": "stream",
          "text": [
            "100%|██████████| 782/782 [00:19<00:00, 40.49it/s]\n",
            "  1%|          | 5/782 [00:00<00:17, 43.66it/s]"
          ],
          "name": "stderr"
        },
        {
          "output_type": "stream",
          "text": [
            "\n",
            ">>>Train starts for epoch: 9\n",
            ">>>Please MAITAIN SCREEN ACTIVITY!!!\n",
            ">>>Model is training: Please wait.....\n"
          ],
          "name": "stdout"
        },
        {
          "output_type": "stream",
          "text": [
            "100%|██████████| 782/782 [00:19<00:00, 40.53it/s]\n",
            "  1%|          | 5/782 [00:00<00:18, 42.26it/s]"
          ],
          "name": "stderr"
        },
        {
          "output_type": "stream",
          "text": [
            "\n",
            ">>>Train starts for epoch: 10\n",
            ">>>Please MAITAIN SCREEN ACTIVITY!!!\n",
            ">>>Model is training: Please wait.....\n"
          ],
          "name": "stdout"
        },
        {
          "output_type": "stream",
          "text": [
            "100%|██████████| 782/782 [00:19<00:00, 40.54it/s]\n"
          ],
          "name": "stderr"
        },
        {
          "output_type": "stream",
          "text": [
            "\n",
            ">>>Checking the performance over the trainining data\n",
            ">>>Please wait...\n",
            "\n",
            ">>>The accuracy over the training dataset is: 86.69\n",
            "\n",
            ">>>Checking the performance over the validation data\n",
            ">>>Please wait...\n",
            "\n",
            ">>>The accuracy over the validation dataset is: 56.86\n",
            "\n",
            ">>>Total time elspsed for the training and validation is: 0: 03: 13.00\n"
          ],
          "name": "stdout"
        }
      ]
    },
    {
      "cell_type": "code",
      "metadata": {
        "id": "wbTqT_Akji8d"
      },
      "source": [
        ""
      ],
      "execution_count": 36,
      "outputs": []
    }
  ]
}