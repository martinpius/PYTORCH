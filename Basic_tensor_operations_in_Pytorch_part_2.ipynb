{
  "nbformat": 4,
  "nbformat_minor": 0,
  "metadata": {
    "colab": {
      "name": "Basic tensor operations in Pytorch part-2.ipynb",
      "provenance": [],
      "authorship_tag": "ABX9TyMIewvt/TMuliEey/luUQqD",
      "include_colab_link": true
    },
    "kernelspec": {
      "name": "python3",
      "display_name": "Python 3"
    },
    "language_info": {
      "name": "python"
    }
  },
  "cells": [
    {
      "cell_type": "markdown",
      "metadata": {
        "id": "view-in-github",
        "colab_type": "text"
      },
      "source": [
        "<a href=\"https://colab.research.google.com/github/martinpius/PYTORCH/blob/main/Basic_tensor_operations_in_Pytorch_part_2.ipynb\" target=\"_parent\"><img src=\"https://colab.research.google.com/assets/colab-badge.svg\" alt=\"Open In Colab\"/></a>"
      ]
    },
    {
      "cell_type": "code",
      "metadata": {
        "id": "mEBgHVIiJGV9"
      },
      "source": [
        "#In this notebook we are going to discuss more operations involving tensors in pytorch:"
      ],
      "execution_count": 1,
      "outputs": []
    },
    {
      "cell_type": "code",
      "metadata": {
        "id": "1aY57Tg4JZP6"
      },
      "source": [
        "#Imprting and checking the version of the library:"
      ],
      "execution_count": 2,
      "outputs": []
    },
    {
      "cell_type": "code",
      "metadata": {
        "colab": {
          "base_uri": "https://localhost:8080/"
        },
        "id": "WG-v_eu4Jfvp",
        "outputId": "884f34b4-b44b-4fae-b1a4-21cc7b97ae2a"
      },
      "source": [
        "import torch\n",
        "print(f\"You are using pytorch version: {torch.__version__}\")"
      ],
      "execution_count": 3,
      "outputs": [
        {
          "output_type": "stream",
          "text": [
            "You are using pytorch version: 1.8.1+cu101\n"
          ],
          "name": "stdout"
        }
      ]
    },
    {
      "cell_type": "code",
      "metadata": {
        "id": "1RQGYD7AJs1a"
      },
      "source": [
        "#Set up the gpu device:(Not necessarily important):\n",
        "if torch.cuda.is_available():\n",
        "  device = torch.device('cuda')\n",
        "else:\n",
        "  device = torch.device('cpu')"
      ],
      "execution_count": 5,
      "outputs": []
    },
    {
      "cell_type": "code",
      "metadata": {
        "id": "U0CuDZlCKwCv"
      },
      "source": [
        "#Defining and indexing high dimensional tensors:"
      ],
      "execution_count": 13,
      "outputs": []
    },
    {
      "cell_type": "code",
      "metadata": {
        "id": "H4Iqb1wYMLmB"
      },
      "source": [
        "batch_size, features_dimension = 64, 10"
      ],
      "execution_count": 14,
      "outputs": []
    },
    {
      "cell_type": "code",
      "metadata": {
        "id": "ilfItUfzMZPY"
      },
      "source": [
        "data = torch.rand(batch_size,features_dimension)"
      ],
      "execution_count": 15,
      "outputs": []
    },
    {
      "cell_type": "code",
      "metadata": {
        "colab": {
          "base_uri": "https://localhost:8080/"
        },
        "id": "YM19Uo3TMmXb",
        "outputId": "fab22293-e354-4950-a47b-8eb71560bf2d"
      },
      "source": [
        "data.shape"
      ],
      "execution_count": 16,
      "outputs": [
        {
          "output_type": "execute_result",
          "data": {
            "text/plain": [
              "torch.Size([64, 10])"
            ]
          },
          "metadata": {
            "tags": []
          },
          "execution_count": 16
        }
      ]
    },
    {
      "cell_type": "code",
      "metadata": {
        "colab": {
          "base_uri": "https://localhost:8080/"
        },
        "id": "V9jOG4HhNU4p",
        "outputId": "53e704d1-0d5b-488a-9eb7-4e544d239c87"
      },
      "source": [
        "data[0,1]#print out first features of the first sample"
      ],
      "execution_count": 17,
      "outputs": [
        {
          "output_type": "execute_result",
          "data": {
            "text/plain": [
              "tensor(0.4306)"
            ]
          },
          "metadata": {
            "tags": []
          },
          "execution_count": 17
        }
      ]
    },
    {
      "cell_type": "code",
      "metadata": {
        "colab": {
          "base_uri": "https://localhost:8080/"
        },
        "id": "fCjCFoy6NhrA",
        "outputId": "6e74aca1-00e3-4635-92b1-2387c9b45e64"
      },
      "source": [
        "data[0:,1]#print out first feature for 64 samples (64, 1)"
      ],
      "execution_count": 18,
      "outputs": [
        {
          "output_type": "execute_result",
          "data": {
            "text/plain": [
              "tensor([0.4306, 0.3847, 0.3577, 0.2745, 0.6679, 0.7124, 0.5579, 0.0248, 0.1369,\n",
              "        0.3077, 0.7070, 0.8965, 0.0294, 0.1462, 0.4632, 0.6674, 0.9653, 0.4809,\n",
              "        0.6203, 0.8605, 0.9091, 0.2375, 0.8325, 0.4182, 0.1368, 0.9671, 0.5832,\n",
              "        0.0295, 0.6557, 0.8592, 0.9350, 0.5335, 0.3905, 0.1478, 0.5085, 0.4906,\n",
              "        0.8198, 0.9692, 0.7693, 0.7150, 0.5877, 0.0947, 0.6173, 0.6315, 0.8110,\n",
              "        0.8769, 0.4432, 0.9287, 0.3530, 0.3850, 0.0856, 0.1794, 0.2968, 0.8524,\n",
              "        0.0178, 0.1185, 0.7261, 0.0573, 0.7205, 0.3090, 0.2183, 0.4250, 0.3279,\n",
              "        0.4983])"
            ]
          },
          "metadata": {
            "tags": []
          },
          "execution_count": 18
        }
      ]
    },
    {
      "cell_type": "code",
      "metadata": {
        "colab": {
          "base_uri": "https://localhost:8080/"
        },
        "id": "J_HY9l19NxCl",
        "outputId": "2ab8cdca-8d88-4555-fb11-a3387ffb2c45"
      },
      "source": [
        "data[0,1:] #print out all features of sample 1 (1, 10)"
      ],
      "execution_count": 19,
      "outputs": [
        {
          "output_type": "execute_result",
          "data": {
            "text/plain": [
              "tensor([0.4306, 0.3195, 0.8911, 0.6757, 0.0826, 0.2655, 0.7347, 0.2713, 0.0321])"
            ]
          },
          "metadata": {
            "tags": []
          },
          "execution_count": 19
        }
      ]
    },
    {
      "cell_type": "code",
      "metadata": {
        "colab": {
          "base_uri": "https://localhost:8080/"
        },
        "id": "MDKZVx1TN_rU",
        "outputId": "5020cf64-8210-43b8-a9ab-a42625428db6"
      },
      "source": [
        "#We can also iterate over the data to print out any part of it:\n",
        "for t in data[0:3,3:6]:#for the first 3 samples we print featres from third to fith (3,4,5)==shape(3,3)\n",
        "  print(t)\n"
      ],
      "execution_count": 21,
      "outputs": [
        {
          "output_type": "stream",
          "text": [
            "tensor([0.8911, 0.6757, 0.0826])\n",
            "tensor([0.5503, 0.1960, 0.2728])\n",
            "tensor([0.0212, 0.6930, 0.1860])\n"
          ],
          "name": "stdout"
        }
      ]
    },
    {
      "cell_type": "code",
      "metadata": {
        "colab": {
          "base_uri": "https://localhost:8080/"
        },
        "id": "OezCZd1mOVsS",
        "outputId": "292edf3c-9cb7-4d87-c4e8-76069d20cd91"
      },
      "source": [
        "#We can also do some oprations such as sum, multi, div, abs, argmax,argmin, ect:\n",
        "print(torch.argmax(data, dim = 1)) #Maximum across first dimension(features) for every sample"
      ],
      "execution_count": 22,
      "outputs": [
        {
          "output_type": "stream",
          "text": [
            "tensor([3, 0, 2, 7, 7, 3, 7, 4, 5, 9, 7, 0, 4, 3, 9, 9, 1, 0, 3, 1, 4, 6, 9, 2,\n",
            "        3, 1, 7, 9, 8, 4, 1, 6, 3, 3, 3, 4, 1, 1, 0, 8, 3, 7, 2, 7, 1, 1, 4, 1,\n",
            "        0, 3, 0, 9, 8, 5, 6, 0, 8, 2, 5, 0, 5, 8, 0, 5])\n"
          ],
          "name": "stdout"
        }
      ]
    },
    {
      "cell_type": "code",
      "metadata": {
        "colab": {
          "base_uri": "https://localhost:8080/"
        },
        "id": "NZoT2qrmPKAl",
        "outputId": "8cdcbf71-fbeb-4b90-f8c9-7ef353dde4be"
      },
      "source": [
        "print(torch.argmin(data, dim = 1))#same as above but minimum"
      ],
      "execution_count": 23,
      "outputs": [
        {
          "output_type": "stream",
          "text": [
            "tensor([9, 8, 3, 1, 3, 0, 4, 1, 0, 6, 6, 5, 1, 1, 0, 4, 2, 8, 9, 0, 9, 2, 0, 7,\n",
            "        6, 6, 0, 1, 6, 8, 9, 2, 5, 1, 8, 0, 9, 9, 6, 7, 6, 8, 4, 8, 2, 7, 0, 9,\n",
            "        6, 5, 9, 1, 1, 0, 1, 9, 4, 7, 0, 8, 6, 2, 3, 8])\n"
          ],
          "name": "stdout"
        }
      ]
    },
    {
      "cell_type": "code",
      "metadata": {
        "colab": {
          "base_uri": "https://localhost:8080/"
        },
        "id": "OAOb9hhaPo7e",
        "outputId": "c587fb45-4a8e-46ae-a5a0-f66f29ef3b68"
      },
      "source": [
        "print(torch.sum(data, dim = 1)) #For every sample it sum accross features"
      ],
      "execution_count": 24,
      "outputs": [
        {
          "output_type": "stream",
          "text": [
            "tensor([4.2683, 3.8662, 3.9191, 5.4495, 4.1818, 4.5903, 6.5624, 3.9692, 4.3327,\n",
            "        5.9408, 5.6117, 6.2155, 5.7945, 5.0035, 4.7998, 4.1431, 5.2330, 5.1600,\n",
            "        5.4755, 6.1760, 5.2397, 4.9707, 5.0271, 5.5111, 4.0100, 4.1149, 5.0250,\n",
            "        4.3043, 5.3490, 5.6308, 4.5864, 4.4252, 6.2077, 4.2058, 5.2380, 3.5842,\n",
            "        3.8370, 5.1539, 5.7442, 4.8946, 5.0333, 4.1032, 4.8975, 4.1743, 4.0056,\n",
            "        3.5056, 4.4511, 6.2728, 5.4105, 4.6999, 5.1096, 5.2018, 6.7528, 5.7043,\n",
            "        3.0581, 3.1656, 4.9240, 5.7527, 6.3589, 4.9019, 4.1039, 4.2991, 5.2222,\n",
            "        3.9279])\n"
          ],
          "name": "stdout"
        }
      ]
    },
    {
      "cell_type": "code",
      "metadata": {
        "colab": {
          "base_uri": "https://localhost:8080/"
        },
        "id": "LUTzYnYTPyye",
        "outputId": "4666e947-7a46-4d0f-e306-ef2dbf6e62a2"
      },
      "source": [
        "print(torch.mm(data, torch.rand(10,10)).shape) #element-wise multiplication"
      ],
      "execution_count": 31,
      "outputs": [
        {
          "output_type": "stream",
          "text": [
            "torch.Size([64, 10])\n"
          ],
          "name": "stdout"
        }
      ]
    },
    {
      "cell_type": "code",
      "metadata": {
        "colab": {
          "base_uri": "https://localhost:8080/"
        },
        "id": "nPyy_1BeQbWw",
        "outputId": "a1ea2564-af30-4b46-846c-d927fc8b6bcc"
      },
      "source": [
        "print(torch.exp(data).shape) #get the taylor expansion type of math"
      ],
      "execution_count": 33,
      "outputs": [
        {
          "output_type": "stream",
          "text": [
            "torch.Size([64, 10])\n"
          ],
          "name": "stdout"
        }
      ]
    },
    {
      "cell_type": "code",
      "metadata": {
        "id": "-XKERtrlRblv"
      },
      "source": [
        "#We can also filter our data using some indices:"
      ],
      "execution_count": 34,
      "outputs": []
    },
    {
      "cell_type": "code",
      "metadata": {
        "colab": {
          "base_uri": "https://localhost:8080/"
        },
        "id": "9SaLXur1SkIv",
        "outputId": "59fc093b-b125-48d4-ab47-13186448bd30"
      },
      "source": [
        "x = torch.arange(0,10)\n",
        "indices = [0,5,9]\n",
        "print(f\"x = {x}, filtered_x = {x[indices]}\")"
      ],
      "execution_count": 35,
      "outputs": [
        {
          "output_type": "stream",
          "text": [
            "x = tensor([0, 1, 2, 3, 4, 5, 6, 7, 8, 9]), filtered_x = tensor([0, 5, 9])\n"
          ],
          "name": "stdout"
        }
      ]
    },
    {
      "cell_type": "code",
      "metadata": {
        "id": "DD3LdUNjS3U7"
      },
      "source": [
        "#We can also select specific row and columns from a high dimension tensor:"
      ],
      "execution_count": 36,
      "outputs": []
    },
    {
      "cell_type": "code",
      "metadata": {
        "colab": {
          "base_uri": "https://localhost:8080/"
        },
        "id": "stlgUiNqTgxG",
        "outputId": "933b530c-032f-4410-d60b-8c2b6df77816"
      },
      "source": [
        "rows = torch.tensor([10,20,30])\n",
        "cols = torch.tensor([0,5,8])\n",
        "print(data[rows, cols]) # from our previousily defined data we pick columns 0,5, and 8 for samples 10,20, and 30"
      ],
      "execution_count": 39,
      "outputs": [
        {
          "output_type": "stream",
          "text": [
            "tensor([0.7644, 0.7739, 0.2881])\n"
          ],
          "name": "stdout"
        }
      ]
    },
    {
      "cell_type": "code",
      "metadata": {
        "id": "8Qhx1CXaT1_j"
      },
      "source": [
        "#More on indexing a tensor:(can applied to create masks)\n",
        "x = torch.rand(64,10)"
      ],
      "execution_count": 51,
      "outputs": []
    },
    {
      "cell_type": "code",
      "metadata": {
        "colab": {
          "base_uri": "https://localhost:8080/"
        },
        "id": "ehjM02GEXa9w",
        "outputId": "3bb94a35-a431-4c48-f0cd-da49fd8a039e"
      },
      "source": [
        "print(data[(x >3)|(x<6)].shape)"
      ],
      "execution_count": 54,
      "outputs": [
        {
          "output_type": "stream",
          "text": [
            "torch.Size([640])\n"
          ],
          "name": "stdout"
        }
      ]
    },
    {
      "cell_type": "code",
      "metadata": {
        "colab": {
          "base_uri": "https://localhost:8080/"
        },
        "id": "BO-mObo5X3eo",
        "outputId": "d04bbeec-15fb-4e71-e575-e1e448e6492a"
      },
      "source": [
        "#Indexing with some conditions:\n",
        "x = torch.arange(10)\n",
        "print(x[x.where(x%2==0, x-2)]) "
      ],
      "execution_count": 63,
      "outputs": [
        {
          "output_type": "stream",
          "text": [
            "tensor([0, 9, 2, 1, 4, 3, 6, 5, 8, 7])\n"
          ],
          "name": "stdout"
        }
      ]
    },
    {
      "cell_type": "code",
      "metadata": {
        "colab": {
          "base_uri": "https://localhost:8080/"
        },
        "id": "AlX21uwYaYfK",
        "outputId": "5f879c08-3453-41b1-b1b9-20f861defc3a"
      },
      "source": [
        "try:\n",
        "  print(x[x.remainder(2)==0])\n",
        "except RuntimeError as e:\n",
        "  print(f\"not divisible by zero\")"
      ],
      "execution_count": 66,
      "outputs": [
        {
          "output_type": "stream",
          "text": [
            "tensor([0, 2, 4, 6, 8])\n"
          ],
          "name": "stdout"
        }
      ]
    },
    {
      "cell_type": "code",
      "metadata": {
        "colab": {
          "base_uri": "https://localhost:8080/"
        },
        "id": "L5Gd2pckbd5C",
        "outputId": "07d326d5-3b59-4a92-af5f-73e5afa0e54c"
      },
      "source": [
        "print(x.where(x>10,x),x*2)"
      ],
      "execution_count": 69,
      "outputs": [
        {
          "output_type": "stream",
          "text": [
            "tensor([0, 1, 2, 3, 4, 5, 6, 7, 8, 9]) tensor([ 0,  2,  4,  6,  8, 10, 12, 14, 16, 18])\n"
          ],
          "name": "stdout"
        }
      ]
    },
    {
      "cell_type": "code",
      "metadata": {
        "colab": {
          "base_uri": "https://localhost:8080/"
        },
        "id": "KRIgpmDceKE8",
        "outputId": "1a5f471e-070e-41b2-c051-2fabdd685fbb"
      },
      "source": [
        " print(torch.where(x%2 == 0, x, x*2))"
      ],
      "execution_count": 72,
      "outputs": [
        {
          "output_type": "stream",
          "text": [
            "tensor([ 0,  2,  2,  6,  4, 10,  6, 14,  8, 18])\n"
          ],
          "name": "stdout"
        }
      ]
    },
    {
      "cell_type": "code",
      "metadata": {
        "colab": {
          "base_uri": "https://localhost:8080/"
        },
        "id": "tmamKNdxnnjR",
        "outputId": "cbd80c5b-b271-4a9d-e49f-4e876a5d0b85"
      },
      "source": [
        "print(x)"
      ],
      "execution_count": 71,
      "outputs": [
        {
          "output_type": "stream",
          "text": [
            "tensor([0, 1, 2, 3, 4, 5, 6, 7, 8, 9])\n"
          ],
          "name": "stdout"
        }
      ]
    },
    {
      "cell_type": "code",
      "metadata": {
        "colab": {
          "base_uri": "https://localhost:8080/"
        },
        "id": "9ZTvmqXOnwg5",
        "outputId": "5cd53066-cb95-4d30-d95d-f4eb04154f61"
      },
      "source": [
        "print(torch.tensor([0,1,2,2,3,4,5,5,5,6,9]).unique())"
      ],
      "execution_count": 74,
      "outputs": [
        {
          "output_type": "stream",
          "text": [
            "tensor([0, 1, 2, 3, 4, 5, 6, 9])\n"
          ],
          "name": "stdout"
        }
      ]
    },
    {
      "cell_type": "code",
      "metadata": {
        "id": "lgxq4lxhqM1g"
      },
      "source": [
        "tensor = torch.rand(10,10,10,3)"
      ],
      "execution_count": 75,
      "outputs": []
    },
    {
      "cell_type": "code",
      "metadata": {
        "colab": {
          "base_uri": "https://localhost:8080/"
        },
        "id": "Bp0vd-fCqbVZ",
        "outputId": "f3b1536d-079e-4aee-f61b-ee9f366642f6"
      },
      "source": [
        "print(tensor.ndimension())#returns the number of dimension for the tensor."
      ],
      "execution_count": 76,
      "outputs": [
        {
          "output_type": "stream",
          "text": [
            "4\n"
          ],
          "name": "stdout"
        }
      ]
    },
    {
      "cell_type": "code",
      "metadata": {
        "colab": {
          "base_uri": "https://localhost:8080/"
        },
        "id": "rPVYKo-kqrJ3",
        "outputId": "0c2dd3c1-b2ca-4130-fe0a-a5817c926962"
      },
      "source": [
        "print(data.numel()) #return total number of elements in a dataset/tensor/of any dimension"
      ],
      "execution_count": 81,
      "outputs": [
        {
          "output_type": "stream",
          "text": [
            "640\n"
          ],
          "name": "stdout"
        }
      ]
    },
    {
      "cell_type": "code",
      "metadata": {
        "id": "a2_3npcJrhT9"
      },
      "source": [
        "#Reshaping the tensors:"
      ],
      "execution_count": 82,
      "outputs": []
    },
    {
      "cell_type": "code",
      "metadata": {
        "colab": {
          "base_uri": "https://localhost:8080/"
        },
        "id": "oGAF6Z-Mtnz2",
        "outputId": "53c0a5bd-d84b-4c2a-8ec6-0a0ea0fb01fc"
      },
      "source": [
        "A = torch.rand(3,5)\n",
        "print(f\"A3x5 = {A}\\nA_5x3 = {A.reshape(5,3)}\")"
      ],
      "execution_count": 84,
      "outputs": [
        {
          "output_type": "stream",
          "text": [
            "A3x5 = tensor([[0.4457, 0.5364, 0.0775, 0.2252, 0.5754],\n",
            "        [0.4507, 0.7307, 0.2432, 0.9046, 0.7587],\n",
            "        [0.2009, 0.8690, 0.1590, 0.4105, 0.0594]])\n",
            "A_5x3 = tensor([[0.4457, 0.5364, 0.0775],\n",
            "        [0.2252, 0.5754, 0.4507],\n",
            "        [0.7307, 0.2432, 0.9046],\n",
            "        [0.7587, 0.2009, 0.8690],\n",
            "        [0.1590, 0.4105, 0.0594]])\n"
          ],
          "name": "stdout"
        }
      ]
    },
    {
      "cell_type": "code",
      "metadata": {
        "colab": {
          "base_uri": "https://localhost:8080/"
        },
        "id": "Cx8iGkYBt6jQ",
        "outputId": "7fa7336e-3f33-434f-9014-d625e8b11a1f"
      },
      "source": [
        "t = torch.arange(9)\n",
        "print(t.view(3,3))"
      ],
      "execution_count": 85,
      "outputs": [
        {
          "output_type": "stream",
          "text": [
            "tensor([[0, 1, 2],\n",
            "        [3, 4, 5],\n",
            "        [6, 7, 8]])\n"
          ],
          "name": "stdout"
        }
      ]
    },
    {
      "cell_type": "code",
      "metadata": {
        "colab": {
          "base_uri": "https://localhost:8080/"
        },
        "id": "vvK86zD_ugm3",
        "outputId": "f001a67a-7334-41d8-cd57-ddc5db400c0f"
      },
      "source": [
        "print(t.reshape(3,3))"
      ],
      "execution_count": 86,
      "outputs": [
        {
          "output_type": "stream",
          "text": [
            "tensor([[0, 1, 2],\n",
            "        [3, 4, 5],\n",
            "        [6, 7, 8]])\n"
          ],
          "name": "stdout"
        }
      ]
    },
    {
      "cell_type": "code",
      "metadata": {
        "colab": {
          "base_uri": "https://localhost:8080/"
        },
        "id": "x-QOUGV5uj8A",
        "outputId": "aefa9f19-1335-41f8-dcba-7202339745f9"
      },
      "source": [
        "print(f\"t_trn: {t.t().reshape(3,3)}\")"
      ],
      "execution_count": 87,
      "outputs": [
        {
          "output_type": "stream",
          "text": [
            "t_trn: tensor([[0, 1, 2],\n",
            "        [3, 4, 5],\n",
            "        [6, 7, 8]])\n"
          ],
          "name": "stdout"
        }
      ]
    },
    {
      "cell_type": "code",
      "metadata": {
        "colab": {
          "base_uri": "https://localhost:8080/"
        },
        "id": "0MYNRz1ouvGQ",
        "outputId": "d548307a-c62c-49a5-95f5-64c8cae990fa"
      },
      "source": [
        "print(torch.cat((t, t.t()), dim = 0).reshape(3,6))"
      ],
      "execution_count": 95,
      "outputs": [
        {
          "output_type": "stream",
          "text": [
            "tensor([[0, 1, 2, 3, 4, 5],\n",
            "        [6, 7, 8, 0, 1, 2],\n",
            "        [3, 4, 5, 6, 7, 8]])\n"
          ],
          "name": "stdout"
        }
      ]
    },
    {
      "cell_type": "code",
      "metadata": {
        "colab": {
          "base_uri": "https://localhost:8080/"
        },
        "id": "L9cSmEz6vAMr",
        "outputId": "2e2517ed-28af-4769-f301-591a72187aff"
      },
      "source": [
        "x = torch.arange(3)\n",
        "y = torch.rand(3)\n",
        "print(f\"x = {x}, \\ny = {y}, \\nz = {torch.cat((x, y), dim = 0).reshape(3,2)}\")"
      ],
      "execution_count": 98,
      "outputs": [
        {
          "output_type": "stream",
          "text": [
            "x = tensor([0, 1, 2]), \n",
            "y = tensor([0.2052, 0.4762, 0.9486]), \n",
            "z = tensor([[0.0000, 1.0000],\n",
            "        [2.0000, 0.2052],\n",
            "        [0.4762, 0.9486]])\n"
          ],
          "name": "stdout"
        }
      ]
    },
    {
      "cell_type": "code",
      "metadata": {
        "id": "ChBf7Ok2wLZV"
      },
      "source": [
        "#flattening/Unrolling a tensor to 1d"
      ],
      "execution_count": 99,
      "outputs": []
    },
    {
      "cell_type": "code",
      "metadata": {
        "colab": {
          "base_uri": "https://localhost:8080/"
        },
        "id": "zmt369zgw3OC",
        "outputId": "b0e0673e-91dd-40d7-c58a-eae79df96bf9"
      },
      "source": [
        "data = torch.rand(3,5)\n",
        "data_flat = data.view(-1)\n",
        "print(f\"data_shape: {data.shape}\\ndata_flat_shape: {data_flat.shape}\")"
      ],
      "execution_count": 100,
      "outputs": [
        {
          "output_type": "stream",
          "text": [
            "data_shape: torch.Size([3, 5])\n",
            "data_flat_shape: torch.Size([15])\n"
          ],
          "name": "stdout"
        }
      ]
    },
    {
      "cell_type": "code",
      "metadata": {
        "colab": {
          "base_uri": "https://localhost:8080/"
        },
        "id": "5SHQcLRMxxUh",
        "outputId": "dc783c49-57c6-46fb-8be1-d0eb08fc19fa"
      },
      "source": [
        "#Unrolling images in batches:\n",
        "batch, height, width, channels = 64, 128,128,3\n",
        "rand_img = torch.rand(batch, height,width,channels)\n",
        "print(f\"img_shape: {rand_img.shape}\\nimg_unrolled_shape: {rand_img.view(batch, -1).shape}\")"
      ],
      "execution_count": 102,
      "outputs": [
        {
          "output_type": "stream",
          "text": [
            "img_shape: torch.Size([64, 128, 128, 3])\n",
            "img_unrolled_shape: torch.Size([64, 49152])\n"
          ],
          "name": "stdout"
        }
      ]
    },
    {
      "cell_type": "code",
      "metadata": {
        "id": "BqEnt5WLy2n9"
      },
      "source": [
        ""
      ],
      "execution_count": null,
      "outputs": []
    }
  ]
}