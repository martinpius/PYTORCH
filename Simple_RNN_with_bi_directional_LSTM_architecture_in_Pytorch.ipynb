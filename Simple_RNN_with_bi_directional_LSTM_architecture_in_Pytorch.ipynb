{
  "nbformat": 4,
  "nbformat_minor": 0,
  "metadata": {
    "accelerator": "GPU",
    "colab": {
      "name": "Simple RNN with bi-directional LSTM architecture in Pytorch.ipynb",
      "provenance": [],
      "authorship_tag": "ABX9TyPPer0fdwm1jF0a6dJG7scv",
      "include_colab_link": true
    },
    "kernelspec": {
      "display_name": "Python 3",
      "name": "python3"
    },
    "language_info": {
      "name": "python"
    }
  },
  "cells": [
    {
      "cell_type": "markdown",
      "metadata": {
        "id": "view-in-github",
        "colab_type": "text"
      },
      "source": [
        "<a href=\"https://colab.research.google.com/github/martinpius/PYTORCH/blob/main/Simple_RNN_with_bi_directional_LSTM_architecture_in_Pytorch.ipynb\" target=\"_parent\"><img src=\"https://colab.research.google.com/assets/colab-badge.svg\" alt=\"Open In Colab\"/></a>"
      ]
    },
    {
      "cell_type": "code",
      "metadata": {
        "colab": {
          "base_uri": "https://localhost:8080/"
        },
        "id": "dchawXTpwvbO",
        "outputId": "223187ee-93b4-466f-ab29-2a04dbc05849"
      },
      "source": [
        "from google.colab import drive\n",
        "drive.mount(\"/content/drive\", force_remount = True)\n",
        "try:\n",
        "  COLAB = True\n",
        "  import torch\n",
        "  print(f\"You are on CoLaB with Pytorch version: {torch.__version__}\")\n",
        "except Exception as e:\n",
        "  print(f\"{type(e)}: {e}\\n>>>please load your drive...\")\n",
        "  COLAB = False\n",
        "#Assigning the GPU device when available:\n",
        "if torch.cuda.is_available():\n",
        "  device = torch.device('cuda')\n",
        "else:\n",
        "  device = torch.device('cpu')\n",
        "def time_fmt(t:float = 123.890)->float:\n",
        "  h = int(t / (60 * 60))\n",
        "  m = int(t % (60 * 60) / 60)\n",
        "  s = int(t % 60)\n",
        "  return f\"{h}: {m:>02}: {s:>05.2f}\"\n",
        "print(f\">>>time testing\\tplease wait...\\n>>>time elapse:\\t{time_fmt()}\")"
      ],
      "execution_count": null,
      "outputs": [
        {
          "output_type": "stream",
          "text": [
            "Mounted at /content/drive\n",
            "You are on CoLaB with Pytorch version: 1.8.1+cu101\n",
            ">>>time testing\tplease wait...\n",
            ">>>time elapse:\t0: 02: 03.00\n"
          ],
          "name": "stdout"
        }
      ]
    },
    {
      "cell_type": "code",
      "metadata": {
        "id": "9DVQEeKK7LJW"
      },
      "source": [
        "#In this notebook we are going to train a simple rnn with a bi-directional LSTM architecture\n",
        "#on the mnist data set: We are going to treat the column and the width of the mnist images\n",
        "#as sequence lrngth and features: Since the mnist image has the shape of (1,28,28) we will spueeze the channel dimension\n",
        "#to construct the input of shape (batch_size, 28,28)"
      ],
      "execution_count": null,
      "outputs": []
    },
    {
      "cell_type": "code",
      "metadata": {
        "id": "-dVWhLBmHCY_"
      },
      "source": [
        "#We start by importing necessary packages and modules from torch:\n",
        "import torch\n",
        "import numpy as np\n",
        "import torch.nn as nn\n",
        "import torch.optim as optim\n",
        "import torch.nn.functional as F\n",
        "from torch.utils.data import DataLoader\n",
        "import torchvision.datasets as datasets\n",
        "from torchvision.transforms import transforms\n",
        "from tqdm import tqdm\n",
        "import time, datetime, sys, os"
      ],
      "execution_count": null,
      "outputs": []
    },
    {
      "cell_type": "code",
      "metadata": {
        "id": "3YQSce06Hygo"
      },
      "source": [
        "#Hyperparameters declaration:\n",
        "batch_size = 64\n",
        "epochs = 10\n",
        "input_size = 28\n",
        "sequence_length = 28\n",
        "hidden_size = 256\n",
        "num_layers = 2\n",
        "num_classes = 10\n",
        "learning_rate = 1e-3\n"
      ],
      "execution_count": null,
      "outputs": []
    },
    {
      "cell_type": "code",
      "metadata": {
        "id": "A5zBxtO5ISbi"
      },
      "source": [
        "#We define our model using the following class with inheritance from nn.Module:\n",
        "class RNN_BLSTM(nn.Module):\n",
        "  def __init__(self, input_size, hidden_size, num_layers, num_classes):\n",
        "    super(RNN_BLSTM, self).__init__()\n",
        "    self.num_layers = num_layers\n",
        "    self.hidden_size = hidden_size\n",
        "    self.blstm = nn.LSTM(input_size, hidden_size, num_layers, batch_first = True, bidirectional = True, dropout = 0.25)\n",
        "    self.fc = nn.Linear(hidden_size*2, num_classes)\n",
        "  def forward(self, x):\n",
        "    #initialize hidden and cell-state to zeros\n",
        "    h0 = torch.zeros(self.num_layers*2, x.size(0), self.hidden_size).to(device)\n",
        "    c0 = torch.zeros(self.num_layers*2, x.size(0), self.hidden_size).to(device)\n",
        "    out, _ = self.blstm(x, (h0,c0))\n",
        "    out = out[:,-1,:]\n",
        "    out = self.fc(out)\n",
        "    return out\n",
        "\n"
      ],
      "execution_count": null,
      "outputs": []
    },
    {
      "cell_type": "code",
      "metadata": {
        "id": "dQ8vOoxfQr2v"
      },
      "source": [
        "#Instantiating the model class: \n",
        "model = RNN_BLSTM(input_size, hidden_size, num_layers, num_classes).to(device = device)"
      ],
      "execution_count": null,
      "outputs": []
    },
    {
      "cell_type": "code",
      "metadata": {
        "id": "Rlz6vdiSRAIR"
      },
      "source": [
        "#Getting the loss object and an optimizer:\n",
        "loss_obj = nn.CrossEntropyLoss()\n",
        "optimizer = optim.RMSprop(model.parameters(), lr = learning_rate)"
      ],
      "execution_count": null,
      "outputs": []
    },
    {
      "cell_type": "code",
      "metadata": {
        "id": "ELu5aAC_TIR2"
      },
      "source": [
        "#Get and prepare the data for training:\n",
        "train_data = datasets.MNIST(root = 'train_dataset/', train = True, transform = transforms.ToTensor(), download = True)\n",
        "test_data = datasets.MNIST(root = 'test_dataset/', train = False, transform = transforms.ToTensor(),download = True)\n",
        "train_loader = DataLoader(dataset = train_data, batch_size = batch_size, shuffle = True)\n",
        "test_loader = DataLoader(dataset = test_data, shuffle = True, batch_size = batch_size)"
      ],
      "execution_count": null,
      "outputs": []
    },
    {
      "cell_type": "code",
      "metadata": {
        "colab": {
          "background_save": true,
          "base_uri": "https://localhost:8080/"
        },
        "id": "NzWuowcKUO46",
        "outputId": "ef4fc756-d80d-4d6c-d2a5-96fa9fea6234"
      },
      "source": [
        "#The training loop:\n",
        "tic = time.time()\n",
        "for epoch in range(epochs):\n",
        "  print(f\"train starts for epoch {epoch + 1}\\n>>>>please wait\\t... ..training on progress.....\")\n",
        "  for idx, (data, target) in enumerate(tqdm(train_loader)):\n",
        "    #loading data to gpu when available\n",
        "    data = data.to(device = device).squeeze(1)\n",
        "    target = target.to(device = device)\n",
        "    #forward pass\n",
        "    preds = model(data)\n",
        "    train_loss = loss_obj(preds, target) \n",
        "    #backward pass\n",
        "    optimizer.zero_grad()\n",
        "    train_loss.backward()\n",
        "    #gradient descent with adam optimizer\n",
        "    optimizer.step()\n",
        "#Checking the evaluation and training metrics:\n",
        "def _model_checking(loader, model):\n",
        "  if loader.dataset.train:\n",
        "    print(f\"Checking accuracy for the training data\\n>>>>please wait....\")\n",
        "  else:\n",
        "    print(f\"Checking the accuracy for the validation data\\n>>>>please wait....\")\n",
        "  num_correct = 0\n",
        "  num_examples = 0\n",
        "  model.eval()\n",
        "  #No need to compute the gradient again:\n",
        "  with torch.no_grad():\n",
        "    for x, y in loader:\n",
        "      x = x.to(device = device).squeeze(1)\n",
        "      y = y.to(device = device)\n",
        "      preds = model(x)\n",
        "      _,predictions = preds.max(1)\n",
        "      num_correct+= (predictions == y).sum()\n",
        "      num_examples+= predictions.size(0)\n",
        "  model.train()\n",
        "  return num_correct/num_examples\n",
        "toc = time.time()\n",
        "print(f\"The accuracy for the training data: {float(_model_checking(train_loader, model))*100:.2f}\")\n",
        "print(f\"The accuracy for the validation data: {float(_model_checking(test_loader, model))*100:.2f}\")\n",
        "print(f\"\\n>>>Total time for the training and evaluation is: {time_fmt(toc - tic)}\")"
      ],
      "execution_count": null,
      "outputs": [
        {
          "output_type": "stream",
          "text": [
            "\r  0%|          | 0/938 [00:00<?, ?it/s]"
          ],
          "name": "stderr"
        },
        {
          "output_type": "stream",
          "text": [
            "train starts for epoch 1\n",
            ">>>>please wait\t... ..training on progress.....\n"
          ],
          "name": "stdout"
        },
        {
          "output_type": "stream",
          "text": [
            "100%|██████████| 938/938 [05:51<00:00,  2.67it/s]\n",
            "  0%|          | 0/938 [00:00<?, ?it/s]"
          ],
          "name": "stderr"
        },
        {
          "output_type": "stream",
          "text": [
            "train starts for epoch 2\n",
            ">>>>please wait\t... ..training on progress.....\n"
          ],
          "name": "stdout"
        },
        {
          "output_type": "stream",
          "text": [
            "100%|██████████| 938/938 [05:44<00:00,  2.72it/s]\n",
            "  0%|          | 0/938 [00:00<?, ?it/s]"
          ],
          "name": "stderr"
        },
        {
          "output_type": "stream",
          "text": [
            "train starts for epoch 3\n",
            ">>>>please wait\t... ..training on progress.....\n"
          ],
          "name": "stdout"
        },
        {
          "output_type": "stream",
          "text": [
            "100%|██████████| 938/938 [05:46<00:00,  2.71it/s]\n",
            "  0%|          | 0/938 [00:00<?, ?it/s]"
          ],
          "name": "stderr"
        },
        {
          "output_type": "stream",
          "text": [
            "train starts for epoch 4\n",
            ">>>>please wait\t... ..training on progress.....\n"
          ],
          "name": "stdout"
        },
        {
          "output_type": "stream",
          "text": [
            "100%|██████████| 938/938 [05:40<00:00,  2.76it/s]\n",
            "  0%|          | 0/938 [00:00<?, ?it/s]"
          ],
          "name": "stderr"
        },
        {
          "output_type": "stream",
          "text": [
            "train starts for epoch 5\n",
            ">>>>please wait\t... ..training on progress.....\n"
          ],
          "name": "stdout"
        },
        {
          "output_type": "stream",
          "text": [
            "100%|██████████| 938/938 [05:41<00:00,  2.75it/s]\n",
            "  0%|          | 0/938 [00:00<?, ?it/s]"
          ],
          "name": "stderr"
        },
        {
          "output_type": "stream",
          "text": [
            "train starts for epoch 6\n",
            ">>>>please wait\t... ..training on progress.....\n"
          ],
          "name": "stdout"
        },
        {
          "output_type": "stream",
          "text": [
            "100%|██████████| 938/938 [05:39<00:00,  2.76it/s]\n",
            "  0%|          | 0/938 [00:00<?, ?it/s]"
          ],
          "name": "stderr"
        },
        {
          "output_type": "stream",
          "text": [
            "train starts for epoch 7\n",
            ">>>>please wait\t... ..training on progress.....\n"
          ],
          "name": "stdout"
        },
        {
          "output_type": "stream",
          "text": [
            "100%|██████████| 938/938 [05:39<00:00,  2.76it/s]\n",
            "  0%|          | 0/938 [00:00<?, ?it/s]"
          ],
          "name": "stderr"
        },
        {
          "output_type": "stream",
          "text": [
            "train starts for epoch 8\n",
            ">>>>please wait\t... ..training on progress.....\n"
          ],
          "name": "stdout"
        },
        {
          "output_type": "stream",
          "text": [
            "100%|██████████| 938/938 [05:40<00:00,  2.76it/s]\n",
            "  0%|          | 0/938 [00:00<?, ?it/s]"
          ],
          "name": "stderr"
        },
        {
          "output_type": "stream",
          "text": [
            "train starts for epoch 9\n",
            ">>>>please wait\t... ..training on progress.....\n"
          ],
          "name": "stdout"
        },
        {
          "output_type": "stream",
          "text": [
            "100%|██████████| 938/938 [05:40<00:00,  2.75it/s]\n",
            "  0%|          | 0/938 [00:00<?, ?it/s]"
          ],
          "name": "stderr"
        },
        {
          "output_type": "stream",
          "text": [
            "train starts for epoch 10\n",
            ">>>>please wait\t... ..training on progress.....\n"
          ],
          "name": "stdout"
        },
        {
          "output_type": "stream",
          "text": [
            "100%|██████████| 938/938 [05:39<00:00,  2.76it/s]\n"
          ],
          "name": "stderr"
        },
        {
          "output_type": "stream",
          "text": [
            "Checking accuracy for the training data\n",
            ">>>>please wait....\n",
            "The accuracy for the training data: 99.12\n",
            "Checking the accuracy for the validation data\n",
            ">>>>please wait....\n",
            "The accuracy for the validation data: 98.47\n",
            "\n",
            ">>>Total time for the training and evaluation is: 0: 57: 04.00\n"
          ],
          "name": "stdout"
        }
      ]
    },
    {
      "cell_type": "code",
      "metadata": {
        "id": "yOY0dbY6aTeU"
      },
      "source": [
        ""
      ],
      "execution_count": null,
      "outputs": []
    }
  ]
}