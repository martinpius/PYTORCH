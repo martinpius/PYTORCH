{
  "nbformat": 4,
  "nbformat_minor": 0,
  "metadata": {
    "colab": {
      "name": "Simple neural net using pytorch.ipynb",
      "provenance": [],
      "authorship_tag": "ABX9TyNJaPM2/TD5JwyKBEfUcHto",
      "include_colab_link": true
    },
    "kernelspec": {
      "name": "python3",
      "display_name": "Python 3"
    },
    "language_info": {
      "name": "python"
    }
  },
  "cells": [
    {
      "cell_type": "markdown",
      "metadata": {
        "id": "view-in-github",
        "colab_type": "text"
      },
      "source": [
        "<a href=\"https://colab.research.google.com/github/martinpius/PYTORCH/blob/main/Simple_neural_net_using_pytorch.ipynb\" target=\"_parent\"><img src=\"https://colab.research.google.com/assets/colab-badge.svg\" alt=\"Open In Colab\"/></a>"
      ]
    },
    {
      "cell_type": "code",
      "metadata": {
        "colab": {
          "base_uri": "https://localhost:8080/"
        },
        "id": "8852IiLOBoep",
        "outputId": "861cee0a-eb1d-4d7d-ff59-f9d9be9c33bf"
      },
      "source": [
        "from google.colab import drive\n",
        "drive.mount('/content/drive', force_remount = True)\n",
        "try:\n",
        "  COLAB = True\n",
        "  import tensorflow as tf\n",
        "  print(f\"You are on CoLaB with tensorflow version: {tf.__version__}\")\n",
        "except Exception as e:\n",
        "  print(f\"{type(e)}: {e}\\nplease load your drive....\")\n",
        "def time_fmt(t:float = 123.1819)->float:\n",
        "  h = int(t / (60 * 60))\n",
        "  m = int(t % (60 * 60) / 60)\n",
        "  s = int(t % 60)\n",
        "  return f\"{h}: {m:>02}: {s:>05.2f}\"\n",
        "print(f\">>>time testing\\tplease wait...\\n>>>time elapse:\\t{time_fmt()}\")\n"
      ],
      "execution_count": 34,
      "outputs": [
        {
          "output_type": "stream",
          "text": [
            "Mounted at /content/drive\n",
            "You are on CoLaB with tensorflow version: 2.4.1\n",
            ">>>time testing\tplease wait...\n",
            ">>>time elapse:\t0: 02: 03.00\n"
          ],
          "name": "stdout"
        }
      ]
    },
    {
      "cell_type": "code",
      "metadata": {
        "colab": {
          "base_uri": "https://localhost:8080/"
        },
        "id": "o-flTpsNC6vD",
        "outputId": "035f64a1-317a-4466-c721-5a05173362cf"
      },
      "source": [
        "#In this notebook we are going to build a simple neural network  using pytorch:\n",
        "import torch\n",
        "print(f\"you are on CoLaB with pytorch version: {torch.__version__}\")\n",
        "\n",
        "#setup the gpu env:\n",
        "if torch.cuda.is_available():\n",
        "  device = torch.device('cuda')\n",
        "else:\n",
        "  device = torch.device('cpu')\n",
        "import numpy as np\n",
        "import time, datetime, os, sys\n",
        "import tensorflow_datasets as tfds"
      ],
      "execution_count": 35,
      "outputs": [
        {
          "output_type": "stream",
          "text": [
            "you are on CoLaB with pytorch version: 1.8.1+cu101\n"
          ],
          "name": "stdout"
        }
      ]
    },
    {
      "cell_type": "code",
      "metadata": {
        "id": "VFQpCLMcIZZ-"
      },
      "source": [
        "import torch.nn as nn\n",
        "from torch.utils.data import DataLoader\n",
        "import torch.optim as optim\n",
        "import torch.nn.functional as F\n",
        "import torchvision.datasets as datasets\n",
        "import torchvision.transforms as transforms"
      ],
      "execution_count": 36,
      "outputs": []
    },
    {
      "cell_type": "code",
      "metadata": {
        "id": "3a9OEE8AS-qa"
      },
      "source": [
        "#We define a simple mlp using torch:"
      ],
      "execution_count": 37,
      "outputs": []
    },
    {
      "cell_type": "code",
      "metadata": {
        "id": "qrGSbbItVtMX"
      },
      "source": [
        "class MLP(nn.Module):\n",
        "  def __init__(self, input_size, num_classes):\n",
        "    super(MLP, self).__init__()\n",
        "    self.fc1 = nn.Linear(input_size, 100)\n",
        "    self.fc2 = nn.Linear(100, 50)\n",
        "    self.out = nn.Linear(50, num_classes)\n",
        "  \n",
        "  def forward(self, x):\n",
        "    x = F.relu(self.fc1(x))\n",
        "    x = F.relu(self.fc2(x))\n",
        "    x = self.out(x)\n",
        "    return x\n",
        "  "
      ],
      "execution_count": 38,
      "outputs": []
    },
    {
      "cell_type": "code",
      "metadata": {
        "colab": {
          "base_uri": "https://localhost:8080/"
        },
        "id": "TE7NEcgXW-2p",
        "outputId": "b95aa7b3-c2f0-4513-cf18-f8893c974d53"
      },
      "source": [
        "#Testing the class to see if it does what we want:\n",
        "data = torch.rand(64, 784)\n",
        "mlp = MLP(784, 10)\n",
        "mlp(data).shape #Must return an output for 64 samples "
      ],
      "execution_count": 39,
      "outputs": [
        {
          "output_type": "execute_result",
          "data": {
            "text/plain": [
              "torch.Size([64, 10])"
            ]
          },
          "metadata": {
            "tags": []
          },
          "execution_count": 39
        }
      ]
    },
    {
      "cell_type": "code",
      "metadata": {
        "id": "8E69NoZUXl4k"
      },
      "source": [
        "#Hyper parameters for our model:\n",
        "batch_size, num_epochs, learning_rate = 64, 10, 0.001\n",
        "\n",
        "#inputs-outputs dimensions\n",
        "input_size = 784\n",
        "output_size = 10\n"
      ],
      "execution_count": 40,
      "outputs": []
    },
    {
      "cell_type": "code",
      "metadata": {
        "id": "Sqc01bloaBaY"
      },
      "source": [
        "#Loading the MNIST dataset from torch_vission.datasets\n",
        "train_dfm = datasets.MNIST(root = 'MNIST_torch/', train = True, transform = transforms.ToTensor(), download = True)\n",
        "train_loader = DataLoader(dataset = train_dfm, batch_size = batch_size, shuffle = True)\n",
        "test_dfm = datasets.MNIST(root = 'MNIST_torch', train = False, transform = transforms.ToTensor(), download = True)\n",
        "test_loader = DataLoader(dataset = test_dfm, batch_size = batch_size, shuffle = True)"
      ],
      "execution_count": 41,
      "outputs": []
    },
    {
      "cell_type": "code",
      "metadata": {
        "colab": {
          "base_uri": "https://localhost:8080/"
        },
        "id": "KDAwGf0MdDEW",
        "outputId": "34048e86-4aa5-4cc8-fb5f-625cf3f9ef70"
      },
      "source": [
        "x_train_batch, y_train_batch = next(iter(train_loader))\n",
        "print(f\"{x_train_batch.shape}\\n{y_train_batch.shape}\")"
      ],
      "execution_count": 42,
      "outputs": [
        {
          "output_type": "stream",
          "text": [
            "torch.Size([64, 1, 28, 28])\n",
            "torch.Size([64])\n"
          ],
          "name": "stdout"
        }
      ]
    },
    {
      "cell_type": "code",
      "metadata": {
        "id": "ePZQ0aNVdlPr"
      },
      "source": [
        "#Initialize the model , get the loss and optimizer\n",
        "model = MLP(input_size = input_size, num_classes = output_size).to(device)"
      ],
      "execution_count": 43,
      "outputs": []
    },
    {
      "cell_type": "code",
      "metadata": {
        "id": "aG7e_nVkguLS"
      },
      "source": [
        "loss = nn.CrossEntropyLoss()\n",
        "optimizer = optim.Adam(model.parameters(), lr = learning_rate)"
      ],
      "execution_count": 44,
      "outputs": []
    },
    {
      "cell_type": "code",
      "metadata": {
        "colab": {
          "base_uri": "https://localhost:8080/"
        },
        "id": "L2iLhUWNh6av",
        "outputId": "eecef5dc-a6d7-4e06-f77a-02ed54f5fcfc"
      },
      "source": [
        "#Training the model:\n",
        "tic = time.time()\n",
        "for epoch in range(num_epochs):\n",
        "  print(f\">>>training begin for epoch: {epoch}\\tplease wait...\")\n",
        "  for batch_idx, (x_batch, target_batch) in enumerate(train_loader):\n",
        "    #Get the data to cuda if available\n",
        "    x_batch.to(device = device)\n",
        "    target_batch.to(device = device)\n",
        "    #reshaping the data to train a simple mlp\n",
        "    x_batch = x_batch.reshape(x_batch.shape[0],-1) #flatten the image into 64, 784\n",
        "    \n",
        "    #fowrad pass:\n",
        "    scores = model(x_batch)\n",
        "    train_loss = loss(scores, target_batch)\n",
        "\n",
        "    #backward pass:\n",
        "    optimizer.zero_grad()\n",
        "    train_loss.backward()\n",
        "\n",
        "    #gradient descent (here we do adam_step)\n",
        "    optimizer.step()\n",
        "\n",
        "#now we can monitor the training and perform the validation computations:\n",
        "def check_accuracy(loader, model):\n",
        "  if loader.dataset.train:\n",
        "    print('checking accuracy on training data')\n",
        "  else:\n",
        "    print('cheking accuracy on test data')\n",
        "  num_correct = 0\n",
        "  num_examples = 0\n",
        "  model.eval()\n",
        "  \n",
        "  with torch.no_grad():#no need to compute the gradient again\n",
        "    for x, y in loader:\n",
        "      x = x.to(device = device)\n",
        "      y = y.to(device = device)\n",
        "      x = x.reshape(x.shape[0],-1)\n",
        "      scores = model(x) #returns predictions of shape (batch, num_classes)\n",
        "      _, predictions = scores.max(1) #Get the index for the maximum prob\n",
        "      num_correct+= (predictions == y).sum()#how many are correctly classified out of a batch\n",
        "      num_examples+=predictions.size(0)# 64 samples in a batch\n",
        "    print(f\"Got {num_correct}/{num_examples} with the accuracy of: {float(num_correct)/float(num_examples)*100:.2f}\")\n",
        "  model.train()\n",
        "\n",
        "check_accuracy(train_loader, model)\n",
        "check_accuracy(test_loader,model)\n",
        "toc = time.time()\n",
        "print(f\"\\ntrain and validation time for this model is: {time_fmt(toc - tic)}\")"
      ],
      "execution_count": 45,
      "outputs": [
        {
          "output_type": "stream",
          "text": [
            ">>>training begin for epoch: 0\tplease wait...\n",
            ">>>training begin for epoch: 1\tplease wait...\n",
            ">>>training begin for epoch: 2\tplease wait...\n",
            ">>>training begin for epoch: 3\tplease wait...\n",
            ">>>training begin for epoch: 4\tplease wait...\n",
            ">>>training begin for epoch: 5\tplease wait...\n",
            ">>>training begin for epoch: 6\tplease wait...\n",
            ">>>training begin for epoch: 7\tplease wait...\n",
            ">>>training begin for epoch: 8\tplease wait...\n",
            ">>>training begin for epoch: 9\tplease wait...\n",
            "checking accuracy on training data\n",
            "Got 59605/60000 with the accuracy of: 99.34\n",
            "cheking accuracy on test data\n",
            "Got 9743/10000 with the accuracy of: 97.43\n",
            "\n",
            "train and validation time for this model is: 0: 01: 11.00\n"
          ],
          "name": "stdout"
        }
      ]
    },
    {
      "cell_type": "code",
      "metadata": {
        "id": "OCqUl79Djirq"
      },
      "source": [
        ""
      ],
      "execution_count": 45,
      "outputs": []
    }
  ]
}