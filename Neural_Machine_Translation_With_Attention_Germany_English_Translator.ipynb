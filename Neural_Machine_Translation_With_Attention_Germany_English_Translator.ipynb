{
  "nbformat": 4,
  "nbformat_minor": 0,
  "metadata": {
    "colab": {
      "name": "Neural Machine Translation With Attention: Germany-English Translator.ipynb",
      "provenance": [],
      "authorship_tag": "ABX9TyPTGSx+ZbpQFNo9BSQEI8b9",
      "include_colab_link": true
    },
    "kernelspec": {
      "name": "python3",
      "display_name": "Python 3"
    },
    "language_info": {
      "name": "python"
    },
    "accelerator": "GPU"
  },
  "cells": [
    {
      "cell_type": "markdown",
      "metadata": {
        "id": "view-in-github",
        "colab_type": "text"
      },
      "source": [
        "<a href=\"https://colab.research.google.com/github/martinpius/PYTORCH/blob/main/Neural_Machine_Translation_With_Attention_Germany_English_Translator.ipynb\" target=\"_parent\"><img src=\"https://colab.research.google.com/assets/colab-badge.svg\" alt=\"Open In Colab\"/></a>"
      ]
    },
    {
      "cell_type": "code",
      "metadata": {
        "colab": {
          "base_uri": "https://localhost:8080/"
        },
        "id": "wb-DkpUGqG94",
        "outputId": "44f1a9c6-19d1-4d40-dbc5-0e0dc9b213e4"
      },
      "source": [
        "from google.colab import drive\n",
        "drive.mount(\"/content/drive\", force_remount = True)\n",
        "try:\n",
        "  COLAB = True\n",
        "  import torch\n",
        "  print(f\"You are on CoLab with torch version {torch.__version__}\")\n",
        "except Exception as e:\n",
        "  print(f\"{type(e)}: {e}\\n>>>>please correct {type(e)} and re-load\")\n",
        "  COLAB = False\n",
        "if torch.cuda.is_available():\n",
        "  device = torch.device('cuda')\n",
        "else:\n",
        "  device = torch.device('cpu')\n",
        "def time_fmt(t: float = 123.817)->float:\n",
        "  h = int(t / (60 * 60))\n",
        "  m = int(t % (60 * 60) / 60)\n",
        "  s = int(t % 60)\n",
        "  return f\"hrs: {h}: min: {m:>02}: sec: {s:>05.2f}\"\n",
        "print(f\">>>>time formating\\ttesting the function.....\\n>>>>time elapsed\\t{time_fmt()}\")"
      ],
      "execution_count": 1,
      "outputs": [
        {
          "output_type": "stream",
          "text": [
            "Mounted at /content/drive\n",
            "You are on CoLab with torch version 1.8.1+cu101\n",
            ">>>>time formating\ttesting the function.....\n",
            ">>>>time elapsed\thrs: 0: min: 02: sec: 03.00\n"
          ],
          "name": "stdout"
        }
      ]
    },
    {
      "cell_type": "code",
      "metadata": {
        "id": "PlXqv4A_vNF2"
      },
      "source": [
        "#In this notebook we will build a simple google translater application that translates\n",
        "#germany language to english: The model is a typical autoencoder architecture that is\n",
        "#built under rnn with attention in Pytorch.\n",
        "#For demonstration we will apply the data from torchtext."
      ],
      "execution_count": 2,
      "outputs": []
    },
    {
      "cell_type": "code",
      "metadata": {
        "id": "sRfHTXGowGFu"
      },
      "source": [
        "#Importing all necessary modules\n",
        "import torch, spacy, time, math, random,sys\n",
        "import torch.nn as nn\n",
        "import torch.optim as optim\n",
        "import numpy as np\n",
        "from torchtext.legacy.datasets import Multi30k\n",
        "from torchtext.legacy.data import Field, BucketIterator\n",
        "from tqdm import tqdm\n"
      ],
      "execution_count": 3,
      "outputs": []
    },
    {
      "cell_type": "code",
      "metadata": {
        "colab": {
          "base_uri": "https://localhost:8080/"
        },
        "id": "suHsQmwswrY4",
        "outputId": "170013fe-27ae-4e15-d820-63da0a669786"
      },
      "source": [
        "#downloading and loading the pre-trained tokenizers for both languges from Spacy \n",
        "!python -m spacy download de_core_news_sm\n",
        "!python -m spacy download en_core_web_sm\n",
        "spacy_de = spacy.load(\"de_core_news_sm\")\n",
        "spacy_en = spacy.load(\"en_core_web_sm\")"
      ],
      "execution_count": 4,
      "outputs": [
        {
          "output_type": "stream",
          "text": [
            "Requirement already satisfied: de_core_news_sm==2.2.5 from https://github.com/explosion/spacy-models/releases/download/de_core_news_sm-2.2.5/de_core_news_sm-2.2.5.tar.gz#egg=de_core_news_sm==2.2.5 in /usr/local/lib/python3.7/dist-packages (2.2.5)\n",
            "Requirement already satisfied: spacy>=2.2.2 in /usr/local/lib/python3.7/dist-packages (from de_core_news_sm==2.2.5) (2.2.4)\n",
            "Requirement already satisfied: blis<0.5.0,>=0.4.0 in /usr/local/lib/python3.7/dist-packages (from spacy>=2.2.2->de_core_news_sm==2.2.5) (0.4.1)\n",
            "Requirement already satisfied: catalogue<1.1.0,>=0.0.7 in /usr/local/lib/python3.7/dist-packages (from spacy>=2.2.2->de_core_news_sm==2.2.5) (1.0.0)\n",
            "Requirement already satisfied: numpy>=1.15.0 in /usr/local/lib/python3.7/dist-packages (from spacy>=2.2.2->de_core_news_sm==2.2.5) (1.19.5)\n",
            "Requirement already satisfied: requests<3.0.0,>=2.13.0 in /usr/local/lib/python3.7/dist-packages (from spacy>=2.2.2->de_core_news_sm==2.2.5) (2.23.0)\n",
            "Requirement already satisfied: plac<1.2.0,>=0.9.6 in /usr/local/lib/python3.7/dist-packages (from spacy>=2.2.2->de_core_news_sm==2.2.5) (1.1.3)\n",
            "Requirement already satisfied: cymem<2.1.0,>=2.0.2 in /usr/local/lib/python3.7/dist-packages (from spacy>=2.2.2->de_core_news_sm==2.2.5) (2.0.5)\n",
            "Requirement already satisfied: preshed<3.1.0,>=3.0.2 in /usr/local/lib/python3.7/dist-packages (from spacy>=2.2.2->de_core_news_sm==2.2.5) (3.0.5)\n",
            "Requirement already satisfied: wasabi<1.1.0,>=0.4.0 in /usr/local/lib/python3.7/dist-packages (from spacy>=2.2.2->de_core_news_sm==2.2.5) (0.8.2)\n",
            "Requirement already satisfied: thinc==7.4.0 in /usr/local/lib/python3.7/dist-packages (from spacy>=2.2.2->de_core_news_sm==2.2.5) (7.4.0)\n",
            "Requirement already satisfied: srsly<1.1.0,>=1.0.2 in /usr/local/lib/python3.7/dist-packages (from spacy>=2.2.2->de_core_news_sm==2.2.5) (1.0.5)\n",
            "Requirement already satisfied: tqdm<5.0.0,>=4.38.0 in /usr/local/lib/python3.7/dist-packages (from spacy>=2.2.2->de_core_news_sm==2.2.5) (4.41.1)\n",
            "Requirement already satisfied: setuptools in /usr/local/lib/python3.7/dist-packages (from spacy>=2.2.2->de_core_news_sm==2.2.5) (56.0.0)\n",
            "Requirement already satisfied: murmurhash<1.1.0,>=0.28.0 in /usr/local/lib/python3.7/dist-packages (from spacy>=2.2.2->de_core_news_sm==2.2.5) (1.0.5)\n",
            "Requirement already satisfied: importlib-metadata>=0.20; python_version < \"3.8\" in /usr/local/lib/python3.7/dist-packages (from catalogue<1.1.0,>=0.0.7->spacy>=2.2.2->de_core_news_sm==2.2.5) (3.10.1)\n",
            "Requirement already satisfied: urllib3!=1.25.0,!=1.25.1,<1.26,>=1.21.1 in /usr/local/lib/python3.7/dist-packages (from requests<3.0.0,>=2.13.0->spacy>=2.2.2->de_core_news_sm==2.2.5) (1.24.3)\n",
            "Requirement already satisfied: idna<3,>=2.5 in /usr/local/lib/python3.7/dist-packages (from requests<3.0.0,>=2.13.0->spacy>=2.2.2->de_core_news_sm==2.2.5) (2.10)\n",
            "Requirement already satisfied: certifi>=2017.4.17 in /usr/local/lib/python3.7/dist-packages (from requests<3.0.0,>=2.13.0->spacy>=2.2.2->de_core_news_sm==2.2.5) (2020.12.5)\n",
            "Requirement already satisfied: chardet<4,>=3.0.2 in /usr/local/lib/python3.7/dist-packages (from requests<3.0.0,>=2.13.0->spacy>=2.2.2->de_core_news_sm==2.2.5) (3.0.4)\n",
            "Requirement already satisfied: typing-extensions>=3.6.4; python_version < \"3.8\" in /usr/local/lib/python3.7/dist-packages (from importlib-metadata>=0.20; python_version < \"3.8\"->catalogue<1.1.0,>=0.0.7->spacy>=2.2.2->de_core_news_sm==2.2.5) (3.7.4.3)\n",
            "Requirement already satisfied: zipp>=0.5 in /usr/local/lib/python3.7/dist-packages (from importlib-metadata>=0.20; python_version < \"3.8\"->catalogue<1.1.0,>=0.0.7->spacy>=2.2.2->de_core_news_sm==2.2.5) (3.4.1)\n",
            "\u001b[38;5;2m✔ Download and installation successful\u001b[0m\n",
            "You can now load the model via spacy.load('de_core_news_sm')\n",
            "Requirement already satisfied: en_core_web_sm==2.2.5 from https://github.com/explosion/spacy-models/releases/download/en_core_web_sm-2.2.5/en_core_web_sm-2.2.5.tar.gz#egg=en_core_web_sm==2.2.5 in /usr/local/lib/python3.7/dist-packages (2.2.5)\n",
            "Requirement already satisfied: spacy>=2.2.2 in /usr/local/lib/python3.7/dist-packages (from en_core_web_sm==2.2.5) (2.2.4)\n",
            "Requirement already satisfied: catalogue<1.1.0,>=0.0.7 in /usr/local/lib/python3.7/dist-packages (from spacy>=2.2.2->en_core_web_sm==2.2.5) (1.0.0)\n",
            "Requirement already satisfied: plac<1.2.0,>=0.9.6 in /usr/local/lib/python3.7/dist-packages (from spacy>=2.2.2->en_core_web_sm==2.2.5) (1.1.3)\n",
            "Requirement already satisfied: blis<0.5.0,>=0.4.0 in /usr/local/lib/python3.7/dist-packages (from spacy>=2.2.2->en_core_web_sm==2.2.5) (0.4.1)\n",
            "Requirement already satisfied: cymem<2.1.0,>=2.0.2 in /usr/local/lib/python3.7/dist-packages (from spacy>=2.2.2->en_core_web_sm==2.2.5) (2.0.5)\n",
            "Requirement already satisfied: tqdm<5.0.0,>=4.38.0 in /usr/local/lib/python3.7/dist-packages (from spacy>=2.2.2->en_core_web_sm==2.2.5) (4.41.1)\n",
            "Requirement already satisfied: requests<3.0.0,>=2.13.0 in /usr/local/lib/python3.7/dist-packages (from spacy>=2.2.2->en_core_web_sm==2.2.5) (2.23.0)\n",
            "Requirement already satisfied: srsly<1.1.0,>=1.0.2 in /usr/local/lib/python3.7/dist-packages (from spacy>=2.2.2->en_core_web_sm==2.2.5) (1.0.5)\n",
            "Requirement already satisfied: murmurhash<1.1.0,>=0.28.0 in /usr/local/lib/python3.7/dist-packages (from spacy>=2.2.2->en_core_web_sm==2.2.5) (1.0.5)\n",
            "Requirement already satisfied: numpy>=1.15.0 in /usr/local/lib/python3.7/dist-packages (from spacy>=2.2.2->en_core_web_sm==2.2.5) (1.19.5)\n",
            "Requirement already satisfied: setuptools in /usr/local/lib/python3.7/dist-packages (from spacy>=2.2.2->en_core_web_sm==2.2.5) (56.0.0)\n",
            "Requirement already satisfied: preshed<3.1.0,>=3.0.2 in /usr/local/lib/python3.7/dist-packages (from spacy>=2.2.2->en_core_web_sm==2.2.5) (3.0.5)\n",
            "Requirement already satisfied: wasabi<1.1.0,>=0.4.0 in /usr/local/lib/python3.7/dist-packages (from spacy>=2.2.2->en_core_web_sm==2.2.5) (0.8.2)\n",
            "Requirement already satisfied: thinc==7.4.0 in /usr/local/lib/python3.7/dist-packages (from spacy>=2.2.2->en_core_web_sm==2.2.5) (7.4.0)\n",
            "Requirement already satisfied: importlib-metadata>=0.20; python_version < \"3.8\" in /usr/local/lib/python3.7/dist-packages (from catalogue<1.1.0,>=0.0.7->spacy>=2.2.2->en_core_web_sm==2.2.5) (3.10.1)\n",
            "Requirement already satisfied: chardet<4,>=3.0.2 in /usr/local/lib/python3.7/dist-packages (from requests<3.0.0,>=2.13.0->spacy>=2.2.2->en_core_web_sm==2.2.5) (3.0.4)\n",
            "Requirement already satisfied: idna<3,>=2.5 in /usr/local/lib/python3.7/dist-packages (from requests<3.0.0,>=2.13.0->spacy>=2.2.2->en_core_web_sm==2.2.5) (2.10)\n",
            "Requirement already satisfied: certifi>=2017.4.17 in /usr/local/lib/python3.7/dist-packages (from requests<3.0.0,>=2.13.0->spacy>=2.2.2->en_core_web_sm==2.2.5) (2020.12.5)\n",
            "Requirement already satisfied: urllib3!=1.25.0,!=1.25.1,<1.26,>=1.21.1 in /usr/local/lib/python3.7/dist-packages (from requests<3.0.0,>=2.13.0->spacy>=2.2.2->en_core_web_sm==2.2.5) (1.24.3)\n",
            "Requirement already satisfied: typing-extensions>=3.6.4; python_version < \"3.8\" in /usr/local/lib/python3.7/dist-packages (from importlib-metadata>=0.20; python_version < \"3.8\"->catalogue<1.1.0,>=0.0.7->spacy>=2.2.2->en_core_web_sm==2.2.5) (3.7.4.3)\n",
            "Requirement already satisfied: zipp>=0.5 in /usr/local/lib/python3.7/dist-packages (from importlib-metadata>=0.20; python_version < \"3.8\"->catalogue<1.1.0,>=0.0.7->spacy>=2.2.2->en_core_web_sm==2.2.5) (3.4.1)\n",
            "\u001b[38;5;2m✔ Download and installation successful\u001b[0m\n",
            "You can now load the model via spacy.load('en_core_web_sm')\n"
          ],
          "name": "stdout"
        }
      ]
    },
    {
      "cell_type": "code",
      "metadata": {
        "id": "qipCX7txxUql"
      },
      "source": [
        "#We can now defines our tokenizer functions as follows\n",
        "def de_tokenizer(text):\n",
        "  '''\n",
        "  takes a germany text and returns a list of tokens\n",
        "  '''\n",
        "  return [tok.text for tok in spacy_de.tokenizer(text)]\n",
        "\n",
        "def en_tokenizer(text):\n",
        "  '''\n",
        "  take an english text and return a list of tokens\n",
        "  '''\n",
        "  return [tok.text for tok in spacy_en.tokenizer(text)]"
      ],
      "execution_count": 5,
      "outputs": []
    },
    {
      "cell_type": "code",
      "metadata": {
        "id": "R4q-NVH5yJqC"
      },
      "source": [
        "#We defines fields object to be used to preprocess the texts with the aid of Field module:\n",
        "germany = Field(tokenize = de_tokenizer, init_token = \"<sos>\", eos_token = \"<eos>\", lower = True)\n",
        "english = Field(tokenize = en_tokenizer, init_token = \"<sos>\", eos_token = \"<eos>\", lower = True)\n"
      ],
      "execution_count": 6,
      "outputs": []
    },
    {
      "cell_type": "code",
      "metadata": {
        "colab": {
          "base_uri": "https://localhost:8080/"
        },
        "id": "vv6sbLmsyys0",
        "outputId": "59caf17c-14a1-4bb1-a19f-b4fc4966deac"
      },
      "source": [
        "#We finally load and preprocess the data automatically using the above field\n",
        "#This may take time depending with the internet speed and device(gpu/cpu)\n",
        "tic = time.time()\n",
        "train_data, validation_data, test_data = Multi30k.splits(exts = ('.de', '.en'), fields = (germany, english))\n",
        "toc = time.time()\n",
        "print(f\"\\n>>>>Total loading and preprocessing time: {time_fmt(toc - tic)}\")"
      ],
      "execution_count": 7,
      "outputs": [
        {
          "output_type": "stream",
          "text": [
            "\n",
            ">>>>Total loading and preprocessing time: hrs: 0: min: 25: sec: 07.00\n"
          ],
          "name": "stdout"
        }
      ]
    },
    {
      "cell_type": "code",
      "metadata": {
        "colab": {
          "base_uri": "https://localhost:8080/"
        },
        "id": "S0J9NiJezpbq",
        "outputId": "c8833d6c-e321-49b2-c679-14a5facca114"
      },
      "source": [
        "#print total number of examples on each dataset to see if we have downloaded the correct files:\n",
        "print(f\">>>>Total train examples: {len(train_data.examples)}\\n>>>>Total validation examples: {len(validation_data.examples)}\\n>>>>Total test examples: {len(test_data.examples)}\")"
      ],
      "execution_count": 8,
      "outputs": [
        {
          "output_type": "stream",
          "text": [
            ">>>>Total train examples: 29000\n",
            ">>>>Total validation examples: 1014\n",
            ">>>>Total test examples: 1000\n"
          ],
          "name": "stdout"
        }
      ]
    },
    {
      "cell_type": "code",
      "metadata": {
        "colab": {
          "base_uri": "https://localhost:8080/"
        },
        "id": "VHUM_Frl0ZXi",
        "outputId": "e9a690d8-ba80-4b8b-ccb0-1e370e6be588"
      },
      "source": [
        "#Print out the first line of data in the training set to see if the pre-process went correctly:\n",
        "print(f\"First train tuple: {vars(train_data.examples[0])}\")"
      ],
      "execution_count": 9,
      "outputs": [
        {
          "output_type": "stream",
          "text": [
            "First train tuple: {'src': ['zwei', 'junge', 'weiße', 'männer', 'sind', 'im', 'freien', 'in', 'der', 'nähe', 'vieler', 'büsche', '.'], 'trg': ['two', 'young', ',', 'white', 'males', 'are', 'outside', 'near', 'many', 'bushes', '.']}\n"
          ],
          "name": "stdout"
        }
      ]
    },
    {
      "cell_type": "code",
      "metadata": {
        "id": "iZULJqUM25DV"
      },
      "source": [
        "#We now build vocabulary (List of indices from the tokens) only from using the training dataset\n",
        "#Pick indices for those tokens which occured at least twice in the list\n",
        "germany.build_vocab(train_data, min_freq = 2) \n",
        "english.build_vocab(train_data, min_freq = 2)"
      ],
      "execution_count": 10,
      "outputs": []
    },
    {
      "cell_type": "code",
      "metadata": {
        "id": "7uuql9DP3vJX"
      },
      "source": [
        "#We prepare the iterator (to stream in data one sample at a time) during training and validation stage:\n",
        "batch_size = 128\n",
        "train_iter, validation_iter, test_iter = BucketIterator.splits(\n",
        "    (train_data, validation_data, test_data),\n",
        "    batch_size = batch_size,\n",
        "    sort_within_batch = True,\n",
        "    device = device\n",
        ")"
      ],
      "execution_count": 11,
      "outputs": []
    },
    {
      "cell_type": "code",
      "metadata": {
        "id": "Dn2NLlzm4YCI"
      },
      "source": [
        "#Model Building stage: We start with the ENCODER NETWORK\n",
        "class ENCODER(nn.Module):\n",
        "  def __init__(self, input_dim, enc_embd, enc_hidden, dec_hidden, dropout):\n",
        "    super(ENCODER, self).__init__()\n",
        "    self.dropout = nn.Dropout(dropout)\n",
        "    self.embedding = nn.Embedding(input_dim, enc_embd)\n",
        "    self.rnn = nn.GRU(enc_embd, enc_hidden, bidirectional = True)\n",
        "    self.fc = nn.Linear((2* enc_hidden), dec_hidden)\n",
        "  \n",
        "  def forward(self, enc_input):\n",
        "    '''\n",
        "    enc_input shape: [enc_input_len, batch_size]\n",
        "    embeded shape:  [enc_input_len, batch_size, enc_embd]\n",
        "    enc_output: [enc_input_len, batch_size, enc_hidden *2 = num_directions]\n",
        "    hidden shape: [2 * num_layers, batch_size, enc_hidden]\n",
        "    forward hidden subseting: hidden[-2,:, :]\n",
        "    backward hidden subseting: hidden[-1,:,:]\n",
        "    hidden shape (new): [batch_size, dec_hidden]\n",
        "    '''\n",
        "    embeded = self.dropout(self.embedding(enc_input))\n",
        "    enc_output, hidden = self.rnn(embeded)\n",
        "    #concatenating forward and backward rnn hidden states and pass it through the fc layer\n",
        "    hidden = torch.tanh(self.fc(torch.cat((hidden[-2,:,:], hidden[-1,:,:]), dim = 1)))\n",
        "    return enc_output, hidden\n",
        "    \n"
      ],
      "execution_count": 56,
      "outputs": []
    },
    {
      "cell_type": "code",
      "metadata": {
        "id": "dGTKiVDe8zMG"
      },
      "source": [
        "#The Attention Block:\n",
        "class Attention(nn.Module):\n",
        "  def __init__(self, enc_hidden, dec_hidden):\n",
        "    super(Attention, self).__init__()\n",
        "    self.attn = nn.Linear((2*enc_hidden) + dec_hidden, dec_hidden)\n",
        "    self.v = nn.Linear(dec_hidden, 1, bias = False)\n",
        "  def forward(self,hidden, enc_output):\n",
        "    '''\n",
        "    hidden shape: [batch_size, hidden_dim]\n",
        "    enc_output shape: [enc_inp_len, batch_size, enc_hidden *2]\n",
        "    -We need to add more dim to the hidden dimension and repeat it several times\n",
        "    -We need to reshape the decoder output to allow concatenation to take place accross hidden_dim\n",
        "    -we return information weights ranging between 0,1 and add up to 1 (the softmax transformation)\n",
        "    '''\n",
        "    batch_size = enc_output.shape[1]\n",
        "    seq_len = enc_output.shape[0]\n",
        "    #Expand hidden dim and repeat seq_len times to match the dec_output\n",
        "    hidden = hidden.unsqueeze(1).repeat(1, seq_len, 1)\n",
        "    enc_output = enc_output.permute(1,0,2) #new shape [batch_size, seq_len, enc_hidden *2]\n",
        "    E_values = torch.tanh(self.attn(torch.cat((hidden, enc_output), dim = 2))) #shape = [batch_size, seq_len, hidden_dim]\n",
        "    attention = self.v(E_values).squeeze(2) # shape: [batch_size, seq_len]\n",
        "    return nn.functional.softmax(attention, dim = 1)\n"
      ],
      "execution_count": 57,
      "outputs": []
    },
    {
      "cell_type": "code",
      "metadata": {
        "id": "LYgsxRtNJeCd"
      },
      "source": [
        "#The decoder Class: This do all computation for the prediction:\n",
        "class DECODER(nn.Module):\n",
        "  def __init__(self, output_dim, dec_embd, enc_hidden, dec_hidden, dropout, attention):\n",
        "    super(DECODER, self).__init__()\n",
        "    self.dropout = nn.Dropout(dropout)\n",
        "    self.output_dim = output_dim\n",
        "    self.attention = attention\n",
        "    self.embedding = nn.Embedding(output_dim, dec_embd)\n",
        "    self.rnn = nn.GRU((2*enc_hidden) + dec_embd, enc_hidden)\n",
        "    self.fc = nn.Linear((2*enc_hidden) + dec_embd + dec_hidden, output_dim)\n",
        "\n",
        "  def forward(self, input, hidden, enc_output):\n",
        "    '''\n",
        "    input shape: [batch_size] we are taking one token at a time\n",
        "    hidden shape: [batch_size, dec_hidden]\n",
        "    enc_output shape [input_len, batch_size, dec_hidden *2]\n",
        "    -input need to be expanded\n",
        "    -compute attention vector a\n",
        "    -compute weghted quantity\n",
        "    '''\n",
        "    input = input.unsqueeze(0) #shape [1, batch_size]\n",
        "    embeded = self.dropout(self.embedding(input)) # shape [1, batch_size, dec_embed_dim]\n",
        "    a = self.attention(hidden, enc_output) #shape [batch_size, enc_input_len]\n",
        "    a = a.unsqueeze(1) #shape [batch_size, 1, enc_input_len]\n",
        "    enc_output = enc_output.permute(1,0,2) #shape [batch_size, input_len, dec_hidden *2]\n",
        "    weighted = torch.bmm(a, enc_output) #shape [batch_size,1, enc_hidden_dim*2]\n",
        "    weighted = weighted.permute(1,0,2) #shape = [1, batch_size, enc_hidden *2]\n",
        "    rnn_input = torch.cat((embeded, weighted), dim = 2) # shape [1, batch_size, enc_hidden*2 + dec_embed_dim]\n",
        "    dec_output, hidden = self.rnn(rnn_input, hidden.unsqueeze(0))\n",
        "    #dec_output shape : [dec_inp_len, batch_size, 2*enc_hidden], hidden shape: [2*num_layers, batch_size, dec_hidden_dim]\n",
        "    weighted = weighted.squeeze(0) #shape = [batch_size, enc_hidden *2]\n",
        "    embeded = embeded.squeeze(0) # shape = [batch_size, dec_embeded_dim]\n",
        "    dec_output = dec_output.squeeze(0) #shape = [batch_size, 2*enc_hidden]\n",
        "    preds = torch.tanh(self.fc(torch.cat((dec_output, weighted, embeded), dim = 1))) #shape [batch_size, output_dim]\n",
        "    return preds, hidden.squeeze(0)\n",
        "\n",
        "    \n",
        "\n"
      ],
      "execution_count": 58,
      "outputs": []
    },
    {
      "cell_type": "code",
      "metadata": {
        "id": "_xbN6ob6YF8w"
      },
      "source": [
        "#The Model Class : We combine the Encoder, decoder and attention classes\n",
        "class MTL_Model(nn.Module):\n",
        "  def __init__(self, encoder, decoder, device):\n",
        "    super(MTL_Model, self).__init__()\n",
        "    self.encoder = encoder\n",
        "    self.decoder = decoder\n",
        "    self.device = device\n",
        "  \n",
        "  def forward(self, input, target, teacher_force_ratio = 0.5):\n",
        "    '''\n",
        "    This method take input from encoder and attention to yield predictions\n",
        "    input shape = [input_len, batch_size]\n",
        "    target shape = [target_len, batch_size]\n",
        "    if teacher force = 0.5 then 50% of times we use ground truth for the next prediction else\n",
        "    we use the best guess/previeous prediction as input\n",
        "    -we create container to store the predicted tokens\n",
        "    '''\n",
        "    target_voc_size = self.decoder.output_dim\n",
        "    target_len = target.shape[0]\n",
        "    batch_size = input.shape[1]\n",
        "    outputs = torch.zeros(target_len, batch_size, target_voc_size).to(device)\n",
        "    enc_output, enc_hidden = self.encoder(input) #run the encoder\n",
        "    #grab the first token (\"<sos>\") of the decoder\n",
        "    first_input = target[0,:] \n",
        "    for t in range(1, target_len):\n",
        "      output, hidden = self.decoder(first_input, enc_hidden, enc_output)\n",
        "      #store the output of the decoder at every time step\n",
        "      outputs[t] = output\n",
        "      teacher_force = random.random() < teacher_force_ratio\n",
        "      best_guess = output.argmax(1) #grab max proba value\n",
        "      first_input = target[t] if teacher_force else best_guess\n",
        "    return outputs\n",
        "    \n"
      ],
      "execution_count": 59,
      "outputs": []
    },
    {
      "cell_type": "code",
      "metadata": {
        "id": "Ff8blEsYcQOL"
      },
      "source": [
        "#Instantiating the model class"
      ],
      "execution_count": 60,
      "outputs": []
    },
    {
      "cell_type": "code",
      "metadata": {
        "colab": {
          "base_uri": "https://localhost:8080/"
        },
        "id": "THhSSrlscXjR",
        "outputId": "2f158019-05cb-4a1a-f5c5-f8c81d123ee8"
      },
      "source": [
        "#HyperParameters\n",
        "enc_input = len(germany.vocab)\n",
        "dec_input = len(english.vocab)\n",
        "enc_embd = 300\n",
        "dec_embd = 300\n",
        "enc_hidden = 512\n",
        "dec_hidden = 512\n",
        "enc_dropout = 0.5\n",
        "dec_dropout = 0.5\n",
        "attention = Attention(enc_hidden, dec_hidden)\n",
        "encoder = ENCODER(enc_input, enc_embd, enc_hidden, enc_hidden, enc_dropout)\n",
        "decoder = DECODER(dec_input, dec_embd, enc_hidden, dec_hidden, dec_dropout,attention)\n",
        "model = MTL_Model(encoder, decoder, device).to(device)\n",
        "\n",
        "#Initialize the parameters to random normal\n",
        "def param_initializer(model):\n",
        "  for name, param in model.named_parameters():\n",
        "    if 'weight' in name:\n",
        "      torch.nn.init.normal_(param.data, mean = 0, std = 0.01)\n",
        "    else:\n",
        "      torch.nn.init.constant_(param.data, 0)\n",
        "model.apply(param_initializer)"
      ],
      "execution_count": 61,
      "outputs": [
        {
          "output_type": "execute_result",
          "data": {
            "text/plain": [
              "MTL_Model(\n",
              "  (encoder): ENCODER(\n",
              "    (dropout): Dropout(p=0.5, inplace=False)\n",
              "    (embedding): Embedding(7855, 300)\n",
              "    (rnn): GRU(300, 512, bidirectional=True)\n",
              "    (fc): Linear(in_features=1024, out_features=512, bias=True)\n",
              "  )\n",
              "  (decoder): DECODER(\n",
              "    (dropout): Dropout(p=0.5, inplace=False)\n",
              "    (attention): Attention(\n",
              "      (attn): Linear(in_features=1536, out_features=512, bias=True)\n",
              "      (v): Linear(in_features=512, out_features=1, bias=False)\n",
              "    )\n",
              "    (embedding): Embedding(5893, 300)\n",
              "    (rnn): GRU(1324, 512)\n",
              "    (fc): Linear(in_features=1836, out_features=5893, bias=True)\n",
              "  )\n",
              ")"
            ]
          },
          "metadata": {
            "tags": []
          },
          "execution_count": 61
        }
      ]
    },
    {
      "cell_type": "code",
      "metadata": {
        "colab": {
          "base_uri": "https://localhost:8080/"
        },
        "id": "vRJgLD79gucQ",
        "outputId": "83fd9517-673f-4616-8893-06c0dcbb64c4"
      },
      "source": [
        "#Counting the number of trainable parameters in the network:\n",
        "def param_counter(model):\n",
        "  return sum(p.numel() for p in model.parameters() if p.requires_grad)\n",
        "print(f\">>>>This model has the total of {param_counter(model):,} trainable parameters\")"
      ],
      "execution_count": 62,
      "outputs": [
        {
          "output_type": "stream",
          "text": [
            ">>>>This model has the total of 21,585,873 trainable parameters\n"
          ],
          "name": "stdout"
        }
      ]
    },
    {
      "cell_type": "code",
      "metadata": {
        "id": "RVG0UI2Ehszv"
      },
      "source": [
        "#Get the loss and the optimizer objects\n",
        "padded_idx = english.vocab.stoi[english.pad_token]\n",
        "loss_obj = nn.CrossEntropyLoss(ignore_index = padded_idx)\n",
        "optimizer = optim.Adam(params = model.parameters(), lr = 1e-3)\n"
      ],
      "execution_count": 63,
      "outputs": []
    },
    {
      "cell_type": "code",
      "metadata": {
        "id": "jJSvWLiOimw9"
      },
      "source": [
        "#The training loop:\n",
        "def training_loop(model, iterator, optimizer, loss_obj, clip):\n",
        "  model.train() #switch on the regularizers\n",
        "  loss_per_epoch = 0\n",
        "  for idx, batch in enumerate(tqdm(train_iter)):\n",
        "    input = batch.src\n",
        "    target = batch.trg\n",
        "    optimizer.zero_grad()\n",
        "    output = model(input, target) #forward pass\n",
        "    output_dim = output.shape[-1] #grab the last pred dim, [target_len, batch_size, output_dim]\n",
        "    output = output[1:].view(-1, output_dim) #reshape output: [target_len - 1 * batch_size, output_dim]\n",
        "    target = target[1:].view(-1) # shape [target_len-1 * batch_size]\n",
        "    train_loss = loss_obj(output, target)\n",
        "    train_loss.backward() #backward pass\n",
        "    torch.nn.utils.clip_grad_norm_(model.parameters(), clip) #clipping\n",
        "    optimizer.step() #gradient descent\n",
        "    loss_per_epoch += train_loss.item()\n",
        "  \n",
        "  return float(loss_per_epoch / len(iterator))\n",
        "\n"
      ],
      "execution_count": 64,
      "outputs": []
    },
    {
      "cell_type": "code",
      "metadata": {
        "id": "HrXiCSPhk-rB"
      },
      "source": [
        "#The validation Loop:\n",
        "def validation_loop(model, iterator, loss_obj):\n",
        "  model.eval() # shut-down the regularizers\n",
        "  loss_per_epoch = 0\n",
        "  #No need to compute the gradients\n",
        "  with torch.no_grad():\n",
        "    for idx, batch in enumerate(tqdm(iterator)):\n",
        "      input = batch.src # shape [input_len, batch_size]\n",
        "      target = batch.trg # shape [target_len, batch_size]\n",
        "      #We turn-off teacher force technique by substitute  zero\n",
        "      output = model(input, target, 0) #shape [dec_inp_len, batch_size, output_dim]\n",
        "      output_dim = output.shape[-1] #grab the output shape\n",
        "      output = output[1:].view(-1, output_dim) #new shape: [(dec_input_len-1) * batch_size, output_dim]\n",
        "      target = target[1:].view(-1) # new shape = [(target_len-1) * batch_size]\n",
        "      valid_loss = loss_obj(output, target)\n",
        "      loss_per_epoch += valid_loss.item()\n",
        "  return float(loss_per_epoch / len(iterator))\n"
      ],
      "execution_count": 67,
      "outputs": []
    },
    {
      "cell_type": "code",
      "metadata": {
        "colab": {
          "base_uri": "https://localhost:8080/"
        },
        "id": "JJyMKGnhyV58",
        "outputId": "14c4c78e-167c-4b0e-df88-d355ba677f3f"
      },
      "source": [
        "#We finally train our model using the following codes snippest\n",
        "#We return both loss and exponentiation of losses (PPL) for better vissualization\n",
        "#We also save best weights at each epoch\n",
        "EPOCHS = 100\n",
        "tic1 = time.time()\n",
        "best_valid_loss = float('inf')\n",
        "clip = 1 #For gradient clipping\n",
        "for epoch in range(EPOCHS):\n",
        "  tic = time.time()\n",
        "  print(f\"\\n>>>>training begins for epoch {epoch + 1}:\\n>>>>please wait while the model is training......\")\n",
        "  train_loss = training_loop(model, train_iter, optimizer,loss_obj, clip)\n",
        "  valid_loss = validation_loop(model,validation_iter,loss_obj)\n",
        "  if valid_loss < best_valid_loss:\n",
        "    best_valid_loss = valid_loss\n",
        "    torch.save(model.state_dict(), 'nmt-new.pt')\n",
        "  toc = time.time()\n",
        "  print(f\"\\n>>>>time elapsed for epoch {epoch + 1}: {time_fmt(toc - tic)}\")\n",
        "  print(f\">>>>train loss: {train_loss:.4f}\\ttrain PPL: {math.exp(train_loss):7.4f}\")\n",
        "  print(f\">>>>validation loss: {valid_loss:.4f}\\tvalidation PPL: {math.exp(valid_loss):7.4f}\")\n",
        "toc1 = time.time()\n",
        "print(f\"\\n>>>>Total time for training and evaluation for this model is: {time_fmt(toc1 - tic1)}\")"
      ],
      "execution_count": 68,
      "outputs": [
        {
          "output_type": "stream",
          "text": [
            "\r  0%|          | 0/227 [00:00<?, ?it/s]"
          ],
          "name": "stderr"
        },
        {
          "output_type": "stream",
          "text": [
            "\n",
            ">>>>training begins for epoch 1:\n",
            ">>>>please wait while the model is training......\n"
          ],
          "name": "stdout"
        },
        {
          "output_type": "stream",
          "text": [
            "100%|██████████| 227/227 [00:37<00:00,  6.11it/s]\n",
            "100%|██████████| 8/8 [00:00<00:00, 13.66it/s]\n",
            "  0%|          | 0/227 [00:00<?, ?it/s]"
          ],
          "name": "stderr"
        },
        {
          "output_type": "stream",
          "text": [
            "\n",
            ">>>>time elapsed for epoch 1: hrs: 0: min: 00: sec: 37.00\n",
            ">>>>train loss: 7.3306\ttrain PPL: 1526.2329\n",
            ">>>>validation loss: 7.3074\tvalidation PPL: 1491.2518\n",
            "\n",
            ">>>>training begins for epoch 2:\n",
            ">>>>please wait while the model is training......\n"
          ],
          "name": "stdout"
        },
        {
          "output_type": "stream",
          "text": [
            "100%|██████████| 227/227 [00:36<00:00,  6.19it/s]\n",
            "100%|██████████| 8/8 [00:00<00:00, 13.90it/s]\n",
            "  0%|          | 0/227 [00:00<?, ?it/s]"
          ],
          "name": "stderr"
        },
        {
          "output_type": "stream",
          "text": [
            "\n",
            ">>>>time elapsed for epoch 2: hrs: 0: min: 00: sec: 37.00\n",
            ">>>>train loss: 7.3430\ttrain PPL: 1545.3768\n",
            ">>>>validation loss: 7.3238\tvalidation PPL: 1515.9851\n",
            "\n",
            ">>>>training begins for epoch 3:\n",
            ">>>>please wait while the model is training......\n"
          ],
          "name": "stdout"
        },
        {
          "output_type": "stream",
          "text": [
            "100%|██████████| 227/227 [00:36<00:00,  6.15it/s]\n",
            "100%|██████████| 8/8 [00:00<00:00, 13.81it/s]\n",
            "  0%|          | 0/227 [00:00<?, ?it/s]"
          ],
          "name": "stderr"
        },
        {
          "output_type": "stream",
          "text": [
            "\n",
            ">>>>time elapsed for epoch 3: hrs: 0: min: 00: sec: 37.00\n",
            ">>>>train loss: 7.3372\ttrain PPL: 1536.3621\n",
            ">>>>validation loss: 7.3132\tvalidation PPL: 1500.0224\n",
            "\n",
            ">>>>training begins for epoch 4:\n",
            ">>>>please wait while the model is training......\n"
          ],
          "name": "stdout"
        },
        {
          "output_type": "stream",
          "text": [
            "100%|██████████| 227/227 [00:37<00:00,  6.13it/s]\n",
            "100%|██████████| 8/8 [00:00<00:00, 13.78it/s]\n",
            "  0%|          | 0/227 [00:00<?, ?it/s]"
          ],
          "name": "stderr"
        },
        {
          "output_type": "stream",
          "text": [
            "\n",
            ">>>>time elapsed for epoch 4: hrs: 0: min: 00: sec: 37.00\n",
            ">>>>train loss: 7.3346\ttrain PPL: 1532.4185\n",
            ">>>>validation loss: 7.3084\tvalidation PPL: 1492.8209\n",
            "\n",
            ">>>>training begins for epoch 5:\n",
            ">>>>please wait while the model is training......\n"
          ],
          "name": "stdout"
        },
        {
          "output_type": "stream",
          "text": [
            "100%|██████████| 227/227 [00:36<00:00,  6.15it/s]\n",
            "100%|██████████| 8/8 [00:00<00:00, 13.71it/s]\n",
            "  0%|          | 0/227 [00:00<?, ?it/s]"
          ],
          "name": "stderr"
        },
        {
          "output_type": "stream",
          "text": [
            "\n",
            ">>>>time elapsed for epoch 5: hrs: 0: min: 00: sec: 37.00\n",
            ">>>>train loss: 7.3329\ttrain PPL: 1529.7964\n",
            ">>>>validation loss: 7.3057\tvalidation PPL: 1488.6930\n",
            "\n",
            ">>>>training begins for epoch 6:\n",
            ">>>>please wait while the model is training......\n"
          ],
          "name": "stdout"
        },
        {
          "output_type": "stream",
          "text": [
            "100%|██████████| 227/227 [00:37<00:00,  6.10it/s]\n",
            "100%|██████████| 8/8 [00:00<00:00, 13.82it/s]\n",
            "  0%|          | 0/227 [00:00<?, ?it/s]"
          ],
          "name": "stderr"
        },
        {
          "output_type": "stream",
          "text": [
            "\n",
            ">>>>time elapsed for epoch 6: hrs: 0: min: 00: sec: 37.00\n",
            ">>>>train loss: 7.3322\ttrain PPL: 1528.7504\n",
            ">>>>validation loss: 7.3042\tvalidation PPL: 1486.4961\n",
            "\n",
            ">>>>training begins for epoch 7:\n",
            ">>>>please wait while the model is training......\n"
          ],
          "name": "stdout"
        },
        {
          "output_type": "stream",
          "text": [
            "100%|██████████| 227/227 [00:36<00:00,  6.16it/s]\n",
            "100%|██████████| 8/8 [00:00<00:00, 13.77it/s]\n",
            "  0%|          | 0/227 [00:00<?, ?it/s]"
          ],
          "name": "stderr"
        },
        {
          "output_type": "stream",
          "text": [
            "\n",
            ">>>>time elapsed for epoch 7: hrs: 0: min: 00: sec: 37.00\n",
            ">>>>train loss: 7.3244\ttrain PPL: 1516.8363\n",
            ">>>>validation loss: 7.3000\tvalidation PPL: 1480.2378\n",
            "\n",
            ">>>>training begins for epoch 8:\n",
            ">>>>please wait while the model is training......\n"
          ],
          "name": "stdout"
        },
        {
          "output_type": "stream",
          "text": [
            "100%|██████████| 227/227 [00:37<00:00,  6.12it/s]\n",
            "100%|██████████| 8/8 [00:00<00:00, 13.67it/s]\n",
            "  0%|          | 0/227 [00:00<?, ?it/s]"
          ],
          "name": "stderr"
        },
        {
          "output_type": "stream",
          "text": [
            "\n",
            ">>>>time elapsed for epoch 8: hrs: 0: min: 00: sec: 37.00\n",
            ">>>>train loss: 7.3188\ttrain PPL: 1508.4073\n",
            ">>>>validation loss: 7.2950\tvalidation PPL: 1472.8900\n",
            "\n",
            ">>>>training begins for epoch 9:\n",
            ">>>>please wait while the model is training......\n"
          ],
          "name": "stdout"
        },
        {
          "output_type": "stream",
          "text": [
            "100%|██████████| 227/227 [00:37<00:00,  6.12it/s]\n",
            "100%|██████████| 8/8 [00:00<00:00, 13.67it/s]\n",
            "  0%|          | 0/227 [00:00<?, ?it/s]"
          ],
          "name": "stderr"
        },
        {
          "output_type": "stream",
          "text": [
            "\n",
            ">>>>time elapsed for epoch 9: hrs: 0: min: 00: sec: 37.00\n",
            ">>>>train loss: 7.3148\ttrain PPL: 1502.4004\n",
            ">>>>validation loss: 7.2963\tvalidation PPL: 1474.8997\n",
            "\n",
            ">>>>training begins for epoch 10:\n",
            ">>>>please wait while the model is training......\n"
          ],
          "name": "stdout"
        },
        {
          "output_type": "stream",
          "text": [
            "100%|██████████| 227/227 [00:36<00:00,  6.14it/s]\n",
            "100%|██████████| 8/8 [00:00<00:00, 13.76it/s]\n",
            "  0%|          | 0/227 [00:00<?, ?it/s]"
          ],
          "name": "stderr"
        },
        {
          "output_type": "stream",
          "text": [
            "\n",
            ">>>>time elapsed for epoch 10: hrs: 0: min: 00: sec: 37.00\n",
            ">>>>train loss: 7.3076\ttrain PPL: 1491.5791\n",
            ">>>>validation loss: 7.2882\tvalidation PPL: 1462.9960\n",
            "\n",
            ">>>>training begins for epoch 11:\n",
            ">>>>please wait while the model is training......\n"
          ],
          "name": "stdout"
        },
        {
          "output_type": "stream",
          "text": [
            "100%|██████████| 227/227 [00:36<00:00,  6.14it/s]\n",
            "100%|██████████| 8/8 [00:00<00:00, 13.69it/s]\n",
            "  0%|          | 0/227 [00:00<?, ?it/s]"
          ],
          "name": "stderr"
        },
        {
          "output_type": "stream",
          "text": [
            "\n",
            ">>>>time elapsed for epoch 11: hrs: 0: min: 00: sec: 37.00\n",
            ">>>>train loss: 7.2998\ttrain PPL: 1479.9836\n",
            ">>>>validation loss: 7.2787\tvalidation PPL: 1449.0984\n",
            "\n",
            ">>>>training begins for epoch 12:\n",
            ">>>>please wait while the model is training......\n"
          ],
          "name": "stdout"
        },
        {
          "output_type": "stream",
          "text": [
            "100%|██████████| 227/227 [00:37<00:00,  6.12it/s]\n",
            "100%|██████████| 8/8 [00:00<00:00, 13.75it/s]\n",
            "  0%|          | 0/227 [00:00<?, ?it/s]"
          ],
          "name": "stderr"
        },
        {
          "output_type": "stream",
          "text": [
            "\n",
            ">>>>time elapsed for epoch 12: hrs: 0: min: 00: sec: 37.00\n",
            ">>>>train loss: 7.2914\ttrain PPL: 1467.6451\n",
            ">>>>validation loss: 7.2724\tvalidation PPL: 1439.9417\n",
            "\n",
            ">>>>training begins for epoch 13:\n",
            ">>>>please wait while the model is training......\n"
          ],
          "name": "stdout"
        },
        {
          "output_type": "stream",
          "text": [
            "100%|██████████| 227/227 [00:36<00:00,  6.18it/s]\n",
            "100%|██████████| 8/8 [00:00<00:00, 13.59it/s]\n",
            "  0%|          | 0/227 [00:00<?, ?it/s]"
          ],
          "name": "stderr"
        },
        {
          "output_type": "stream",
          "text": [
            "\n",
            ">>>>time elapsed for epoch 13: hrs: 0: min: 00: sec: 37.00\n",
            ">>>>train loss: 7.2810\ttrain PPL: 1452.4638\n",
            ">>>>validation loss: 7.2673\tvalidation PPL: 1432.7095\n",
            "\n",
            ">>>>training begins for epoch 14:\n",
            ">>>>please wait while the model is training......\n"
          ],
          "name": "stdout"
        },
        {
          "output_type": "stream",
          "text": [
            "100%|██████████| 227/227 [00:36<00:00,  6.14it/s]\n",
            "100%|██████████| 8/8 [00:00<00:00, 13.65it/s]\n",
            "  0%|          | 0/227 [00:00<?, ?it/s]"
          ],
          "name": "stderr"
        },
        {
          "output_type": "stream",
          "text": [
            "\n",
            ">>>>time elapsed for epoch 14: hrs: 0: min: 00: sec: 37.00\n",
            ">>>>train loss: 7.2750\ttrain PPL: 1443.7073\n",
            ">>>>validation loss: 7.2605\tvalidation PPL: 1422.9478\n",
            "\n",
            ">>>>training begins for epoch 15:\n",
            ">>>>please wait while the model is training......\n"
          ],
          "name": "stdout"
        },
        {
          "output_type": "stream",
          "text": [
            "100%|██████████| 227/227 [00:36<00:00,  6.16it/s]\n",
            "100%|██████████| 8/8 [00:00<00:00, 13.63it/s]\n",
            "  0%|          | 0/227 [00:00<?, ?it/s]"
          ],
          "name": "stderr"
        },
        {
          "output_type": "stream",
          "text": [
            "\n",
            ">>>>time elapsed for epoch 15: hrs: 0: min: 00: sec: 37.00\n",
            ">>>>train loss: 7.2659\ttrain PPL: 1430.6036\n",
            ">>>>validation loss: 7.2548\tvalidation PPL: 1414.8221\n",
            "\n",
            ">>>>training begins for epoch 16:\n",
            ">>>>please wait while the model is training......\n"
          ],
          "name": "stdout"
        },
        {
          "output_type": "stream",
          "text": [
            "100%|██████████| 227/227 [00:37<00:00,  6.13it/s]\n",
            "100%|██████████| 8/8 [00:00<00:00, 13.64it/s]\n",
            "  0%|          | 0/227 [00:00<?, ?it/s]"
          ],
          "name": "stderr"
        },
        {
          "output_type": "stream",
          "text": [
            "\n",
            ">>>>time elapsed for epoch 16: hrs: 0: min: 00: sec: 37.00\n",
            ">>>>train loss: 7.2555\ttrain PPL: 1415.8040\n",
            ">>>>validation loss: 7.2446\tvalidation PPL: 1400.5661\n",
            "\n",
            ">>>>training begins for epoch 17:\n",
            ">>>>please wait while the model is training......\n"
          ],
          "name": "stdout"
        },
        {
          "output_type": "stream",
          "text": [
            "100%|██████████| 227/227 [00:37<00:00,  6.12it/s]\n",
            "100%|██████████| 8/8 [00:00<00:00, 13.62it/s]\n",
            "  0%|          | 0/227 [00:00<?, ?it/s]"
          ],
          "name": "stderr"
        },
        {
          "output_type": "stream",
          "text": [
            "\n",
            ">>>>time elapsed for epoch 17: hrs: 0: min: 00: sec: 37.00\n",
            ">>>>train loss: 7.2396\ttrain PPL: 1393.5398\n",
            ">>>>validation loss: 7.2334\tvalidation PPL: 1384.8967\n",
            "\n",
            ">>>>training begins for epoch 18:\n",
            ">>>>please wait while the model is training......\n"
          ],
          "name": "stdout"
        },
        {
          "output_type": "stream",
          "text": [
            "100%|██████████| 227/227 [00:37<00:00,  6.08it/s]\n",
            "100%|██████████| 8/8 [00:00<00:00, 13.65it/s]\n",
            "  0%|          | 0/227 [00:00<?, ?it/s]"
          ],
          "name": "stderr"
        },
        {
          "output_type": "stream",
          "text": [
            "\n",
            ">>>>time elapsed for epoch 18: hrs: 0: min: 00: sec: 38.00\n",
            ">>>>train loss: 7.2186\ttrain PPL: 1364.5326\n",
            ">>>>validation loss: 7.2272\tvalidation PPL: 1376.4103\n",
            "\n",
            ">>>>training begins for epoch 19:\n",
            ">>>>please wait while the model is training......\n"
          ],
          "name": "stdout"
        },
        {
          "output_type": "stream",
          "text": [
            "100%|██████████| 227/227 [00:37<00:00,  6.08it/s]\n",
            "100%|██████████| 8/8 [00:00<00:00, 13.59it/s]\n",
            "  0%|          | 0/227 [00:00<?, ?it/s]"
          ],
          "name": "stderr"
        },
        {
          "output_type": "stream",
          "text": [
            "\n",
            ">>>>time elapsed for epoch 19: hrs: 0: min: 00: sec: 38.00\n",
            ">>>>train loss: 7.1973\ttrain PPL: 1335.7994\n",
            ">>>>validation loss: 7.1941\tvalidation PPL: 1331.5566\n",
            "\n",
            ">>>>training begins for epoch 20:\n",
            ">>>>please wait while the model is training......\n"
          ],
          "name": "stdout"
        },
        {
          "output_type": "stream",
          "text": [
            "100%|██████████| 227/227 [00:37<00:00,  6.07it/s]\n",
            "100%|██████████| 8/8 [00:00<00:00, 13.51it/s]\n",
            "  0%|          | 0/227 [00:00<?, ?it/s]"
          ],
          "name": "stderr"
        },
        {
          "output_type": "stream",
          "text": [
            "\n",
            ">>>>time elapsed for epoch 20: hrs: 0: min: 00: sec: 38.00\n",
            ">>>>train loss: 7.1692\ttrain PPL: 1298.8295\n",
            ">>>>validation loss: 7.1726\tvalidation PPL: 1303.1846\n",
            "\n",
            ">>>>training begins for epoch 21:\n",
            ">>>>please wait while the model is training......\n"
          ],
          "name": "stdout"
        },
        {
          "output_type": "stream",
          "text": [
            "100%|██████████| 227/227 [00:37<00:00,  6.08it/s]\n",
            "100%|██████████| 8/8 [00:00<00:00, 13.63it/s]\n",
            "  0%|          | 0/227 [00:00<?, ?it/s]"
          ],
          "name": "stderr"
        },
        {
          "output_type": "stream",
          "text": [
            "\n",
            ">>>>time elapsed for epoch 21: hrs: 0: min: 00: sec: 38.00\n",
            ">>>>train loss: 7.1451\ttrain PPL: 1267.8216\n",
            ">>>>validation loss: 7.1569\tvalidation PPL: 1282.8711\n",
            "\n",
            ">>>>training begins for epoch 22:\n",
            ">>>>please wait while the model is training......\n"
          ],
          "name": "stdout"
        },
        {
          "output_type": "stream",
          "text": [
            "100%|██████████| 227/227 [00:37<00:00,  6.09it/s]\n",
            "100%|██████████| 8/8 [00:00<00:00, 13.57it/s]\n",
            "  0%|          | 1/227 [00:00<00:42,  5.31it/s]"
          ],
          "name": "stderr"
        },
        {
          "output_type": "stream",
          "text": [
            "\n",
            ">>>>time elapsed for epoch 22: hrs: 0: min: 00: sec: 38.00\n",
            ">>>>train loss: 7.1247\ttrain PPL: 1242.2589\n",
            ">>>>validation loss: 7.1382\tvalidation PPL: 1259.1153\n",
            "\n",
            ">>>>training begins for epoch 23:\n",
            ">>>>please wait while the model is training......\n"
          ],
          "name": "stdout"
        },
        {
          "output_type": "stream",
          "text": [
            "100%|██████████| 227/227 [00:37<00:00,  6.09it/s]\n",
            "100%|██████████| 8/8 [00:00<00:00, 13.56it/s]\n",
            "  0%|          | 0/227 [00:00<?, ?it/s]"
          ],
          "name": "stderr"
        },
        {
          "output_type": "stream",
          "text": [
            "\n",
            ">>>>time elapsed for epoch 23: hrs: 0: min: 00: sec: 38.00\n",
            ">>>>train loss: 7.1064\ttrain PPL: 1219.7160\n",
            ">>>>validation loss: 7.1272\tvalidation PPL: 1245.3491\n",
            "\n",
            ">>>>training begins for epoch 24:\n",
            ">>>>please wait while the model is training......\n"
          ],
          "name": "stdout"
        },
        {
          "output_type": "stream",
          "text": [
            "100%|██████████| 227/227 [00:37<00:00,  6.07it/s]\n",
            "100%|██████████| 8/8 [00:00<00:00, 13.43it/s]\n",
            "  0%|          | 0/227 [00:00<?, ?it/s]"
          ],
          "name": "stderr"
        },
        {
          "output_type": "stream",
          "text": [
            "\n",
            ">>>>time elapsed for epoch 24: hrs: 0: min: 00: sec: 38.00\n",
            ">>>>train loss: 7.0921\ttrain PPL: 1202.3943\n",
            ">>>>validation loss: 7.1167\tvalidation PPL: 1232.3765\n",
            "\n",
            ">>>>training begins for epoch 25:\n",
            ">>>>please wait while the model is training......\n"
          ],
          "name": "stdout"
        },
        {
          "output_type": "stream",
          "text": [
            "100%|██████████| 227/227 [00:37<00:00,  6.07it/s]\n",
            "100%|██████████| 8/8 [00:00<00:00, 13.59it/s]\n",
            "  0%|          | 0/227 [00:00<?, ?it/s]"
          ],
          "name": "stderr"
        },
        {
          "output_type": "stream",
          "text": [
            "\n",
            ">>>>time elapsed for epoch 25: hrs: 0: min: 00: sec: 38.00\n",
            ">>>>train loss: 7.0789\ttrain PPL: 1186.6472\n",
            ">>>>validation loss: 7.1219\tvalidation PPL: 1238.8046\n",
            "\n",
            ">>>>training begins for epoch 26:\n",
            ">>>>please wait while the model is training......\n"
          ],
          "name": "stdout"
        },
        {
          "output_type": "stream",
          "text": [
            "100%|██████████| 227/227 [00:37<00:00,  6.06it/s]\n",
            "100%|██████████| 8/8 [00:00<00:00, 13.48it/s]\n",
            "  0%|          | 0/227 [00:00<?, ?it/s]"
          ],
          "name": "stderr"
        },
        {
          "output_type": "stream",
          "text": [
            "\n",
            ">>>>time elapsed for epoch 26: hrs: 0: min: 00: sec: 38.00\n",
            ">>>>train loss: 7.0687\ttrain PPL: 1174.6365\n",
            ">>>>validation loss: 7.1047\tvalidation PPL: 1217.6681\n",
            "\n",
            ">>>>training begins for epoch 27:\n",
            ">>>>please wait while the model is training......\n"
          ],
          "name": "stdout"
        },
        {
          "output_type": "stream",
          "text": [
            "100%|██████████| 227/227 [00:37<00:00,  6.09it/s]\n",
            "100%|██████████| 8/8 [00:00<00:00, 13.58it/s]\n",
            "  0%|          | 0/227 [00:00<?, ?it/s]"
          ],
          "name": "stderr"
        },
        {
          "output_type": "stream",
          "text": [
            "\n",
            ">>>>time elapsed for epoch 27: hrs: 0: min: 00: sec: 38.00\n",
            ">>>>train loss: 7.0545\ttrain PPL: 1158.0979\n",
            ">>>>validation loss: 7.0895\tvalidation PPL: 1199.2761\n",
            "\n",
            ">>>>training begins for epoch 28:\n",
            ">>>>please wait while the model is training......\n"
          ],
          "name": "stdout"
        },
        {
          "output_type": "stream",
          "text": [
            "100%|██████████| 227/227 [00:37<00:00,  6.03it/s]\n",
            "100%|██████████| 8/8 [00:00<00:00, 13.59it/s]\n",
            "  0%|          | 0/227 [00:00<?, ?it/s]"
          ],
          "name": "stderr"
        },
        {
          "output_type": "stream",
          "text": [
            "\n",
            ">>>>time elapsed for epoch 28: hrs: 0: min: 00: sec: 38.00\n",
            ">>>>train loss: 7.0408\ttrain PPL: 1142.2585\n",
            ">>>>validation loss: 7.0852\tvalidation PPL: 1194.2067\n",
            "\n",
            ">>>>training begins for epoch 29:\n",
            ">>>>please wait while the model is training......\n"
          ],
          "name": "stdout"
        },
        {
          "output_type": "stream",
          "text": [
            "100%|██████████| 227/227 [00:37<00:00,  6.10it/s]\n",
            "100%|██████████| 8/8 [00:00<00:00, 13.74it/s]\n",
            "  0%|          | 0/227 [00:00<?, ?it/s]"
          ],
          "name": "stderr"
        },
        {
          "output_type": "stream",
          "text": [
            "\n",
            ">>>>time elapsed for epoch 29: hrs: 0: min: 00: sec: 37.00\n",
            ">>>>train loss: 7.0306\ttrain PPL: 1130.6616\n",
            ">>>>validation loss: 7.0755\tvalidation PPL: 1182.6121\n",
            "\n",
            ">>>>training begins for epoch 30:\n",
            ">>>>please wait while the model is training......\n"
          ],
          "name": "stdout"
        },
        {
          "output_type": "stream",
          "text": [
            "100%|██████████| 227/227 [00:37<00:00,  6.07it/s]\n",
            "100%|██████████| 8/8 [00:00<00:00, 13.57it/s]\n",
            "  0%|          | 0/227 [00:00<?, ?it/s]"
          ],
          "name": "stderr"
        },
        {
          "output_type": "stream",
          "text": [
            "\n",
            ">>>>time elapsed for epoch 30: hrs: 0: min: 00: sec: 38.00\n",
            ">>>>train loss: 7.0186\ttrain PPL: 1117.2140\n",
            ">>>>validation loss: 7.0751\tvalidation PPL: 1182.1748\n",
            "\n",
            ">>>>training begins for epoch 31:\n",
            ">>>>please wait while the model is training......\n"
          ],
          "name": "stdout"
        },
        {
          "output_type": "stream",
          "text": [
            "100%|██████████| 227/227 [00:37<00:00,  6.06it/s]\n",
            "100%|██████████| 8/8 [00:00<00:00, 13.67it/s]\n",
            "  0%|          | 0/227 [00:00<?, ?it/s]"
          ],
          "name": "stderr"
        },
        {
          "output_type": "stream",
          "text": [
            "\n",
            ">>>>time elapsed for epoch 31: hrs: 0: min: 00: sec: 38.00\n",
            ">>>>train loss: 7.0082\ttrain PPL: 1105.7082\n",
            ">>>>validation loss: 7.0709\tvalidation PPL: 1177.1837\n",
            "\n",
            ">>>>training begins for epoch 32:\n",
            ">>>>please wait while the model is training......\n"
          ],
          "name": "stdout"
        },
        {
          "output_type": "stream",
          "text": [
            "100%|██████████| 227/227 [00:37<00:00,  6.05it/s]\n",
            "100%|██████████| 8/8 [00:00<00:00, 13.58it/s]\n",
            "  0%|          | 0/227 [00:00<?, ?it/s]"
          ],
          "name": "stderr"
        },
        {
          "output_type": "stream",
          "text": [
            "\n",
            ">>>>time elapsed for epoch 32: hrs: 0: min: 00: sec: 38.00\n",
            ">>>>train loss: 6.9997\ttrain PPL: 1096.2682\n",
            ">>>>validation loss: 7.0688\tvalidation PPL: 1174.7961\n",
            "\n",
            ">>>>training begins for epoch 33:\n",
            ">>>>please wait while the model is training......\n"
          ],
          "name": "stdout"
        },
        {
          "output_type": "stream",
          "text": [
            "100%|██████████| 227/227 [00:37<00:00,  6.07it/s]\n",
            "100%|██████████| 8/8 [00:00<00:00, 13.55it/s]\n",
            "  0%|          | 0/227 [00:00<?, ?it/s]"
          ],
          "name": "stderr"
        },
        {
          "output_type": "stream",
          "text": [
            "\n",
            ">>>>time elapsed for epoch 33: hrs: 0: min: 00: sec: 38.00\n",
            ">>>>train loss: 6.9922\ttrain PPL: 1088.0783\n",
            ">>>>validation loss: 7.0623\tvalidation PPL: 1167.0925\n",
            "\n",
            ">>>>training begins for epoch 34:\n",
            ">>>>please wait while the model is training......\n"
          ],
          "name": "stdout"
        },
        {
          "output_type": "stream",
          "text": [
            "100%|██████████| 227/227 [00:37<00:00,  6.08it/s]\n",
            "100%|██████████| 8/8 [00:00<00:00, 13.54it/s]\n",
            "  0%|          | 0/227 [00:00<?, ?it/s]"
          ],
          "name": "stderr"
        },
        {
          "output_type": "stream",
          "text": [
            "\n",
            ">>>>time elapsed for epoch 34: hrs: 0: min: 00: sec: 38.00\n",
            ">>>>train loss: 6.9835\ttrain PPL: 1078.7132\n",
            ">>>>validation loss: 7.0603\tvalidation PPL: 1164.7575\n",
            "\n",
            ">>>>training begins for epoch 35:\n",
            ">>>>please wait while the model is training......\n"
          ],
          "name": "stdout"
        },
        {
          "output_type": "stream",
          "text": [
            "100%|██████████| 227/227 [00:37<00:00,  6.11it/s]\n",
            "100%|██████████| 8/8 [00:00<00:00, 13.59it/s]\n",
            "  0%|          | 0/227 [00:00<?, ?it/s]"
          ],
          "name": "stderr"
        },
        {
          "output_type": "stream",
          "text": [
            "\n",
            ">>>>time elapsed for epoch 35: hrs: 0: min: 00: sec: 37.00\n",
            ">>>>train loss: 6.9761\ttrain PPL: 1070.7156\n",
            ">>>>validation loss: 7.0587\tvalidation PPL: 1162.9242\n",
            "\n",
            ">>>>training begins for epoch 36:\n",
            ">>>>please wait while the model is training......\n"
          ],
          "name": "stdout"
        },
        {
          "output_type": "stream",
          "text": [
            "100%|██████████| 227/227 [00:37<00:00,  6.07it/s]\n",
            "100%|██████████| 8/8 [00:00<00:00, 13.63it/s]\n",
            "  0%|          | 0/227 [00:00<?, ?it/s]"
          ],
          "name": "stderr"
        },
        {
          "output_type": "stream",
          "text": [
            "\n",
            ">>>>time elapsed for epoch 36: hrs: 0: min: 00: sec: 38.00\n",
            ">>>>train loss: 6.9678\ttrain PPL: 1061.9062\n",
            ">>>>validation loss: 7.0547\tvalidation PPL: 1158.2569\n",
            "\n",
            ">>>>training begins for epoch 37:\n",
            ">>>>please wait while the model is training......\n"
          ],
          "name": "stdout"
        },
        {
          "output_type": "stream",
          "text": [
            "100%|██████████| 227/227 [00:37<00:00,  6.09it/s]\n",
            "100%|██████████| 8/8 [00:00<00:00, 13.60it/s]\n",
            "  0%|          | 0/227 [00:00<?, ?it/s]"
          ],
          "name": "stderr"
        },
        {
          "output_type": "stream",
          "text": [
            "\n",
            ">>>>time elapsed for epoch 37: hrs: 0: min: 00: sec: 38.00\n",
            ">>>>train loss: 6.9611\ttrain PPL: 1054.7573\n",
            ">>>>validation loss: 7.0528\tvalidation PPL: 1156.1011\n",
            "\n",
            ">>>>training begins for epoch 38:\n",
            ">>>>please wait while the model is training......\n"
          ],
          "name": "stdout"
        },
        {
          "output_type": "stream",
          "text": [
            "100%|██████████| 227/227 [00:37<00:00,  6.07it/s]\n",
            "100%|██████████| 8/8 [00:00<00:00, 13.66it/s]\n",
            "  0%|          | 0/227 [00:00<?, ?it/s]"
          ],
          "name": "stderr"
        },
        {
          "output_type": "stream",
          "text": [
            "\n",
            ">>>>time elapsed for epoch 38: hrs: 0: min: 00: sec: 38.00\n",
            ">>>>train loss: 6.9546\ttrain PPL: 1048.0083\n",
            ">>>>validation loss: 7.0509\tvalidation PPL: 1153.9252\n",
            "\n",
            ">>>>training begins for epoch 39:\n",
            ">>>>please wait while the model is training......\n"
          ],
          "name": "stdout"
        },
        {
          "output_type": "stream",
          "text": [
            "100%|██████████| 227/227 [00:37<00:00,  6.10it/s]\n",
            "100%|██████████| 8/8 [00:00<00:00, 13.60it/s]\n",
            "  0%|          | 0/227 [00:00<?, ?it/s]"
          ],
          "name": "stderr"
        },
        {
          "output_type": "stream",
          "text": [
            "\n",
            ">>>>time elapsed for epoch 39: hrs: 0: min: 00: sec: 37.00\n",
            ">>>>train loss: 6.9488\ttrain PPL: 1041.8794\n",
            ">>>>validation loss: 7.0513\tvalidation PPL: 1154.3886\n",
            "\n",
            ">>>>training begins for epoch 40:\n",
            ">>>>please wait while the model is training......\n"
          ],
          "name": "stdout"
        },
        {
          "output_type": "stream",
          "text": [
            "100%|██████████| 227/227 [00:37<00:00,  6.06it/s]\n",
            "100%|██████████| 8/8 [00:00<00:00, 13.63it/s]\n",
            "  0%|          | 0/227 [00:00<?, ?it/s]"
          ],
          "name": "stderr"
        },
        {
          "output_type": "stream",
          "text": [
            "\n",
            ">>>>time elapsed for epoch 40: hrs: 0: min: 00: sec: 38.00\n",
            ">>>>train loss: 6.9429\ttrain PPL: 1035.7428\n",
            ">>>>validation loss: 7.0496\tvalidation PPL: 1152.3424\n",
            "\n",
            ">>>>training begins for epoch 41:\n",
            ">>>>please wait while the model is training......\n"
          ],
          "name": "stdout"
        },
        {
          "output_type": "stream",
          "text": [
            "100%|██████████| 227/227 [00:37<00:00,  6.07it/s]\n",
            "100%|██████████| 8/8 [00:00<00:00, 13.64it/s]\n",
            "  0%|          | 0/227 [00:00<?, ?it/s]"
          ],
          "name": "stderr"
        },
        {
          "output_type": "stream",
          "text": [
            "\n",
            ">>>>time elapsed for epoch 41: hrs: 0: min: 00: sec: 38.00\n",
            ">>>>train loss: 6.9389\ttrain PPL: 1031.6350\n",
            ">>>>validation loss: 7.0491\tvalidation PPL: 1151.8502\n",
            "\n",
            ">>>>training begins for epoch 42:\n",
            ">>>>please wait while the model is training......\n"
          ],
          "name": "stdout"
        },
        {
          "output_type": "stream",
          "text": [
            "100%|██████████| 227/227 [00:37<00:00,  6.10it/s]\n",
            "100%|██████████| 8/8 [00:00<00:00, 13.64it/s]\n",
            "  0%|          | 0/227 [00:00<?, ?it/s]"
          ],
          "name": "stderr"
        },
        {
          "output_type": "stream",
          "text": [
            "\n",
            ">>>>time elapsed for epoch 42: hrs: 0: min: 00: sec: 37.00\n",
            ">>>>train loss: 6.9337\ttrain PPL: 1026.2720\n",
            ">>>>validation loss: 7.0455\tvalidation PPL: 1147.6907\n",
            "\n",
            ">>>>training begins for epoch 43:\n",
            ">>>>please wait while the model is training......\n"
          ],
          "name": "stdout"
        },
        {
          "output_type": "stream",
          "text": [
            "100%|██████████| 227/227 [00:37<00:00,  6.08it/s]\n",
            "100%|██████████| 8/8 [00:00<00:00, 13.56it/s]\n",
            "  0%|          | 0/227 [00:00<?, ?it/s]"
          ],
          "name": "stderr"
        },
        {
          "output_type": "stream",
          "text": [
            "\n",
            ">>>>time elapsed for epoch 43: hrs: 0: min: 00: sec: 37.00\n",
            ">>>>train loss: 6.9300\ttrain PPL: 1022.5173\n",
            ">>>>validation loss: 7.0488\tvalidation PPL: 1151.4350\n",
            "\n",
            ">>>>training begins for epoch 44:\n",
            ">>>>please wait while the model is training......\n"
          ],
          "name": "stdout"
        },
        {
          "output_type": "stream",
          "text": [
            "100%|██████████| 227/227 [00:37<00:00,  6.06it/s]\n",
            "100%|██████████| 8/8 [00:00<00:00, 13.64it/s]\n",
            "  0%|          | 0/227 [00:00<?, ?it/s]"
          ],
          "name": "stderr"
        },
        {
          "output_type": "stream",
          "text": [
            "\n",
            ">>>>time elapsed for epoch 44: hrs: 0: min: 00: sec: 38.00\n",
            ">>>>train loss: 6.9256\ttrain PPL: 1018.0214\n",
            ">>>>validation loss: 7.0452\tvalidation PPL: 1147.3866\n",
            "\n",
            ">>>>training begins for epoch 45:\n",
            ">>>>please wait while the model is training......\n"
          ],
          "name": "stdout"
        },
        {
          "output_type": "stream",
          "text": [
            "100%|██████████| 227/227 [00:37<00:00,  6.07it/s]\n",
            "100%|██████████| 8/8 [00:00<00:00, 13.63it/s]\n",
            "  0%|          | 0/227 [00:00<?, ?it/s]"
          ],
          "name": "stderr"
        },
        {
          "output_type": "stream",
          "text": [
            "\n",
            ">>>>time elapsed for epoch 45: hrs: 0: min: 00: sec: 37.00\n",
            ">>>>train loss: 6.9227\ttrain PPL: 1015.0723\n",
            ">>>>validation loss: 7.0454\tvalidation PPL: 1147.5320\n",
            "\n",
            ">>>>training begins for epoch 46:\n",
            ">>>>please wait while the model is training......\n"
          ],
          "name": "stdout"
        },
        {
          "output_type": "stream",
          "text": [
            "100%|██████████| 227/227 [00:37<00:00,  6.07it/s]\n",
            "100%|██████████| 8/8 [00:00<00:00, 13.69it/s]\n",
            "  0%|          | 0/227 [00:00<?, ?it/s]"
          ],
          "name": "stderr"
        },
        {
          "output_type": "stream",
          "text": [
            "\n",
            ">>>>time elapsed for epoch 46: hrs: 0: min: 00: sec: 38.00\n",
            ">>>>train loss: 6.9200\ttrain PPL: 1012.2838\n",
            ">>>>validation loss: 7.0452\tvalidation PPL: 1147.2810\n",
            "\n",
            ">>>>training begins for epoch 47:\n",
            ">>>>please wait while the model is training......\n"
          ],
          "name": "stdout"
        },
        {
          "output_type": "stream",
          "text": [
            "100%|██████████| 227/227 [00:37<00:00,  6.09it/s]\n",
            "100%|██████████| 8/8 [00:00<00:00, 13.73it/s]\n",
            "  0%|          | 0/227 [00:00<?, ?it/s]"
          ],
          "name": "stderr"
        },
        {
          "output_type": "stream",
          "text": [
            "\n",
            ">>>>time elapsed for epoch 47: hrs: 0: min: 00: sec: 38.00\n",
            ">>>>train loss: 6.9157\ttrain PPL: 1008.0167\n",
            ">>>>validation loss: 7.0420\tvalidation PPL: 1143.6695\n",
            "\n",
            ">>>>training begins for epoch 48:\n",
            ">>>>please wait while the model is training......\n"
          ],
          "name": "stdout"
        },
        {
          "output_type": "stream",
          "text": [
            "100%|██████████| 227/227 [00:37<00:00,  6.08it/s]\n",
            "100%|██████████| 8/8 [00:00<00:00, 13.55it/s]\n",
            "  0%|          | 0/227 [00:00<?, ?it/s]"
          ],
          "name": "stderr"
        },
        {
          "output_type": "stream",
          "text": [
            "\n",
            ">>>>time elapsed for epoch 48: hrs: 0: min: 00: sec: 37.00\n",
            ">>>>train loss: 6.9130\ttrain PPL: 1005.2473\n",
            ">>>>validation loss: 7.0430\tvalidation PPL: 1144.8196\n",
            "\n",
            ">>>>training begins for epoch 49:\n",
            ">>>>please wait while the model is training......\n"
          ],
          "name": "stdout"
        },
        {
          "output_type": "stream",
          "text": [
            "100%|██████████| 227/227 [00:37<00:00,  6.09it/s]\n",
            "100%|██████████| 8/8 [00:00<00:00, 13.64it/s]\n",
            "  0%|          | 0/227 [00:00<?, ?it/s]"
          ],
          "name": "stderr"
        },
        {
          "output_type": "stream",
          "text": [
            "\n",
            ">>>>time elapsed for epoch 49: hrs: 0: min: 00: sec: 38.00\n",
            ">>>>train loss: 6.9104\ttrain PPL: 1002.6455\n",
            ">>>>validation loss: 7.0400\tvalidation PPL: 1141.3327\n",
            "\n",
            ">>>>training begins for epoch 50:\n",
            ">>>>please wait while the model is training......\n"
          ],
          "name": "stdout"
        },
        {
          "output_type": "stream",
          "text": [
            "100%|██████████| 227/227 [00:37<00:00,  6.05it/s]\n",
            "100%|██████████| 8/8 [00:00<00:00, 13.48it/s]\n",
            "  0%|          | 0/227 [00:00<?, ?it/s]"
          ],
          "name": "stderr"
        },
        {
          "output_type": "stream",
          "text": [
            "\n",
            ">>>>time elapsed for epoch 50: hrs: 0: min: 00: sec: 38.00\n",
            ">>>>train loss: 6.9070\ttrain PPL: 999.2422\n",
            ">>>>validation loss: 7.0423\tvalidation PPL: 1144.0616\n",
            "\n",
            ">>>>training begins for epoch 51:\n",
            ">>>>please wait while the model is training......\n"
          ],
          "name": "stdout"
        },
        {
          "output_type": "stream",
          "text": [
            "100%|██████████| 227/227 [00:37<00:00,  6.10it/s]\n",
            "100%|██████████| 8/8 [00:00<00:00, 13.56it/s]\n",
            "  0%|          | 0/227 [00:00<?, ?it/s]"
          ],
          "name": "stderr"
        },
        {
          "output_type": "stream",
          "text": [
            "\n",
            ">>>>time elapsed for epoch 51: hrs: 0: min: 00: sec: 37.00\n",
            ">>>>train loss: 6.9049\ttrain PPL: 997.1093\n",
            ">>>>validation loss: 7.0402\tvalidation PPL: 1141.6606\n",
            "\n",
            ">>>>training begins for epoch 52:\n",
            ">>>>please wait while the model is training......\n"
          ],
          "name": "stdout"
        },
        {
          "output_type": "stream",
          "text": [
            "100%|██████████| 227/227 [00:37<00:00,  6.07it/s]\n",
            "100%|██████████| 8/8 [00:00<00:00, 13.38it/s]\n",
            "  0%|          | 0/227 [00:00<?, ?it/s]"
          ],
          "name": "stderr"
        },
        {
          "output_type": "stream",
          "text": [
            "\n",
            ">>>>time elapsed for epoch 52: hrs: 0: min: 00: sec: 37.00\n",
            ">>>>train loss: 6.9021\ttrain PPL: 994.3391\n",
            ">>>>validation loss: 7.0431\tvalidation PPL: 1144.9667\n",
            "\n",
            ">>>>training begins for epoch 53:\n",
            ">>>>please wait while the model is training......\n"
          ],
          "name": "stdout"
        },
        {
          "output_type": "stream",
          "text": [
            "100%|██████████| 227/227 [00:37<00:00,  6.07it/s]\n",
            "100%|██████████| 8/8 [00:00<00:00, 13.57it/s]\n",
            "  0%|          | 0/227 [00:00<?, ?it/s]"
          ],
          "name": "stderr"
        },
        {
          "output_type": "stream",
          "text": [
            "\n",
            ">>>>time elapsed for epoch 53: hrs: 0: min: 00: sec: 37.00\n",
            ">>>>train loss: 6.9001\ttrain PPL: 992.3565\n",
            ">>>>validation loss: 7.0448\tvalidation PPL: 1146.8714\n",
            "\n",
            ">>>>training begins for epoch 54:\n",
            ">>>>please wait while the model is training......\n"
          ],
          "name": "stdout"
        },
        {
          "output_type": "stream",
          "text": [
            "100%|██████████| 227/227 [00:37<00:00,  6.08it/s]\n",
            "100%|██████████| 8/8 [00:00<00:00, 13.61it/s]\n",
            "  0%|          | 0/227 [00:00<?, ?it/s]"
          ],
          "name": "stderr"
        },
        {
          "output_type": "stream",
          "text": [
            "\n",
            ">>>>time elapsed for epoch 54: hrs: 0: min: 00: sec: 37.00\n",
            ">>>>train loss: 6.8978\ttrain PPL: 990.1349\n",
            ">>>>validation loss: 7.0450\tvalidation PPL: 1147.0993\n",
            "\n",
            ">>>>training begins for epoch 55:\n",
            ">>>>please wait while the model is training......\n"
          ],
          "name": "stdout"
        },
        {
          "output_type": "stream",
          "text": [
            "100%|██████████| 227/227 [00:37<00:00,  6.10it/s]\n",
            "100%|██████████| 8/8 [00:00<00:00, 13.48it/s]\n",
            "  0%|          | 0/227 [00:00<?, ?it/s]"
          ],
          "name": "stderr"
        },
        {
          "output_type": "stream",
          "text": [
            "\n",
            ">>>>time elapsed for epoch 55: hrs: 0: min: 00: sec: 37.00\n",
            ">>>>train loss: 6.8955\ttrain PPL: 987.8209\n",
            ">>>>validation loss: 7.0445\tvalidation PPL: 1146.5073\n",
            "\n",
            ">>>>training begins for epoch 56:\n",
            ">>>>please wait while the model is training......\n"
          ],
          "name": "stdout"
        },
        {
          "output_type": "stream",
          "text": [
            "100%|██████████| 227/227 [00:37<00:00,  6.07it/s]\n",
            "100%|██████████| 8/8 [00:00<00:00, 13.56it/s]\n",
            "  0%|          | 0/227 [00:00<?, ?it/s]"
          ],
          "name": "stderr"
        },
        {
          "output_type": "stream",
          "text": [
            "\n",
            ">>>>time elapsed for epoch 56: hrs: 0: min: 00: sec: 38.00\n",
            ">>>>train loss: 6.8943\ttrain PPL: 986.5938\n",
            ">>>>validation loss: 7.0390\tvalidation PPL: 1140.2733\n",
            "\n",
            ">>>>training begins for epoch 57:\n",
            ">>>>please wait while the model is training......\n"
          ],
          "name": "stdout"
        },
        {
          "output_type": "stream",
          "text": [
            "100%|██████████| 227/227 [00:37<00:00,  6.07it/s]\n",
            "100%|██████████| 8/8 [00:00<00:00, 13.52it/s]\n",
            "  0%|          | 0/227 [00:00<?, ?it/s]"
          ],
          "name": "stderr"
        },
        {
          "output_type": "stream",
          "text": [
            "\n",
            ">>>>time elapsed for epoch 57: hrs: 0: min: 00: sec: 37.00\n",
            ">>>>train loss: 6.8919\ttrain PPL: 984.2585\n",
            ">>>>validation loss: 7.0429\tvalidation PPL: 1144.7201\n",
            "\n",
            ">>>>training begins for epoch 58:\n",
            ">>>>please wait while the model is training......\n"
          ],
          "name": "stdout"
        },
        {
          "output_type": "stream",
          "text": [
            "100%|██████████| 227/227 [00:37<00:00,  6.09it/s]\n",
            "100%|██████████| 8/8 [00:00<00:00, 13.61it/s]\n",
            "  0%|          | 0/227 [00:00<?, ?it/s]"
          ],
          "name": "stderr"
        },
        {
          "output_type": "stream",
          "text": [
            "\n",
            ">>>>time elapsed for epoch 58: hrs: 0: min: 00: sec: 37.00\n",
            ">>>>train loss: 6.8899\ttrain PPL: 982.3374\n",
            ">>>>validation loss: 7.0405\tvalidation PPL: 1141.9550\n",
            "\n",
            ">>>>training begins for epoch 59:\n",
            ">>>>please wait while the model is training......\n"
          ],
          "name": "stdout"
        },
        {
          "output_type": "stream",
          "text": [
            "100%|██████████| 227/227 [00:37<00:00,  6.09it/s]\n",
            "100%|██████████| 8/8 [00:00<00:00, 13.50it/s]\n",
            "  0%|          | 0/227 [00:00<?, ?it/s]"
          ],
          "name": "stderr"
        },
        {
          "output_type": "stream",
          "text": [
            "\n",
            ">>>>time elapsed for epoch 59: hrs: 0: min: 00: sec: 37.00\n",
            ">>>>train loss: 6.8881\ttrain PPL: 980.5160\n",
            ">>>>validation loss: 7.0428\tvalidation PPL: 1144.5671\n",
            "\n",
            ">>>>training begins for epoch 60:\n",
            ">>>>please wait while the model is training......\n"
          ],
          "name": "stdout"
        },
        {
          "output_type": "stream",
          "text": [
            "100%|██████████| 227/227 [00:37<00:00,  6.09it/s]\n",
            "100%|██████████| 8/8 [00:00<00:00, 13.62it/s]\n",
            "  0%|          | 0/227 [00:00<?, ?it/s]"
          ],
          "name": "stderr"
        },
        {
          "output_type": "stream",
          "text": [
            "\n",
            ">>>>time elapsed for epoch 60: hrs: 0: min: 00: sec: 37.00\n",
            ">>>>train loss: 6.8868\ttrain PPL: 979.2237\n",
            ">>>>validation loss: 7.0432\tvalidation PPL: 1145.0700\n",
            "\n",
            ">>>>training begins for epoch 61:\n",
            ">>>>please wait while the model is training......\n"
          ],
          "name": "stdout"
        },
        {
          "output_type": "stream",
          "text": [
            "100%|██████████| 227/227 [00:37<00:00,  6.09it/s]\n",
            "100%|██████████| 8/8 [00:00<00:00, 13.64it/s]\n",
            "  0%|          | 0/227 [00:00<?, ?it/s]"
          ],
          "name": "stderr"
        },
        {
          "output_type": "stream",
          "text": [
            "\n",
            ">>>>time elapsed for epoch 61: hrs: 0: min: 00: sec: 37.00\n",
            ">>>>train loss: 6.8850\ttrain PPL: 977.4836\n",
            ">>>>validation loss: 7.0406\tvalidation PPL: 1142.0209\n",
            "\n",
            ">>>>training begins for epoch 62:\n",
            ">>>>please wait while the model is training......\n"
          ],
          "name": "stdout"
        },
        {
          "output_type": "stream",
          "text": [
            "100%|██████████| 227/227 [00:37<00:00,  6.07it/s]\n",
            "100%|██████████| 8/8 [00:00<00:00, 13.58it/s]\n",
            "  0%|          | 0/227 [00:00<?, ?it/s]"
          ],
          "name": "stderr"
        },
        {
          "output_type": "stream",
          "text": [
            "\n",
            ">>>>time elapsed for epoch 62: hrs: 0: min: 00: sec: 38.00\n",
            ">>>>train loss: 6.8837\ttrain PPL: 976.2012\n",
            ">>>>validation loss: 7.0383\tvalidation PPL: 1139.4593\n",
            "\n",
            ">>>>training begins for epoch 63:\n",
            ">>>>please wait while the model is training......\n"
          ],
          "name": "stdout"
        },
        {
          "output_type": "stream",
          "text": [
            "100%|██████████| 227/227 [00:37<00:00,  6.10it/s]\n",
            "100%|██████████| 8/8 [00:00<00:00, 13.56it/s]\n",
            "  0%|          | 0/227 [00:00<?, ?it/s]"
          ],
          "name": "stderr"
        },
        {
          "output_type": "stream",
          "text": [
            "\n",
            ">>>>time elapsed for epoch 63: hrs: 0: min: 00: sec: 37.00\n",
            ">>>>train loss: 6.8821\ttrain PPL: 974.6710\n",
            ">>>>validation loss: 7.0433\tvalidation PPL: 1145.2105\n",
            "\n",
            ">>>>training begins for epoch 64:\n",
            ">>>>please wait while the model is training......\n"
          ],
          "name": "stdout"
        },
        {
          "output_type": "stream",
          "text": [
            "100%|██████████| 227/227 [00:37<00:00,  6.08it/s]\n",
            "100%|██████████| 8/8 [00:00<00:00, 13.56it/s]\n",
            "  0%|          | 0/227 [00:00<?, ?it/s]"
          ],
          "name": "stderr"
        },
        {
          "output_type": "stream",
          "text": [
            "\n",
            ">>>>time elapsed for epoch 64: hrs: 0: min: 00: sec: 37.00\n",
            ">>>>train loss: 6.8815\ttrain PPL: 974.0656\n",
            ">>>>validation loss: 7.0389\tvalidation PPL: 1140.0932\n",
            "\n",
            ">>>>training begins for epoch 65:\n",
            ">>>>please wait while the model is training......\n"
          ],
          "name": "stdout"
        },
        {
          "output_type": "stream",
          "text": [
            "100%|██████████| 227/227 [00:37<00:00,  6.08it/s]\n",
            "100%|██████████| 8/8 [00:00<00:00, 13.61it/s]\n",
            "  0%|          | 0/227 [00:00<?, ?it/s]"
          ],
          "name": "stderr"
        },
        {
          "output_type": "stream",
          "text": [
            "\n",
            ">>>>time elapsed for epoch 65: hrs: 0: min: 00: sec: 38.00\n",
            ">>>>train loss: 6.8802\ttrain PPL: 972.8143\n",
            ">>>>validation loss: 7.0382\tvalidation PPL: 1139.3121\n",
            "\n",
            ">>>>training begins for epoch 66:\n",
            ">>>>please wait while the model is training......\n"
          ],
          "name": "stdout"
        },
        {
          "output_type": "stream",
          "text": [
            "100%|██████████| 227/227 [00:37<00:00,  6.07it/s]\n",
            "100%|██████████| 8/8 [00:00<00:00, 13.66it/s]\n",
            "  0%|          | 0/227 [00:00<?, ?it/s]"
          ],
          "name": "stderr"
        },
        {
          "output_type": "stream",
          "text": [
            "\n",
            ">>>>time elapsed for epoch 66: hrs: 0: min: 00: sec: 37.00\n",
            ">>>>train loss: 6.8784\ttrain PPL: 971.0461\n",
            ">>>>validation loss: 7.0413\tvalidation PPL: 1142.8669\n",
            "\n",
            ">>>>training begins for epoch 67:\n",
            ">>>>please wait while the model is training......\n"
          ],
          "name": "stdout"
        },
        {
          "output_type": "stream",
          "text": [
            "100%|██████████| 227/227 [00:37<00:00,  6.07it/s]\n",
            "100%|██████████| 8/8 [00:00<00:00, 13.57it/s]\n",
            "  0%|          | 0/227 [00:00<?, ?it/s]"
          ],
          "name": "stderr"
        },
        {
          "output_type": "stream",
          "text": [
            "\n",
            ">>>>time elapsed for epoch 67: hrs: 0: min: 00: sec: 37.00\n",
            ">>>>train loss: 6.8769\ttrain PPL: 969.6455\n",
            ">>>>validation loss: 7.0404\tvalidation PPL: 1141.8959\n",
            "\n",
            ">>>>training begins for epoch 68:\n",
            ">>>>please wait while the model is training......\n"
          ],
          "name": "stdout"
        },
        {
          "output_type": "stream",
          "text": [
            "100%|██████████| 227/227 [00:37<00:00,  6.10it/s]\n",
            "100%|██████████| 8/8 [00:00<00:00, 13.65it/s]\n",
            "  0%|          | 0/227 [00:00<?, ?it/s]"
          ],
          "name": "stderr"
        },
        {
          "output_type": "stream",
          "text": [
            "\n",
            ">>>>time elapsed for epoch 68: hrs: 0: min: 00: sec: 37.00\n",
            ">>>>train loss: 6.8761\ttrain PPL: 968.8178\n",
            ">>>>validation loss: 7.0388\tvalidation PPL: 1140.0214\n",
            "\n",
            ">>>>training begins for epoch 69:\n",
            ">>>>please wait while the model is training......\n"
          ],
          "name": "stdout"
        },
        {
          "output_type": "stream",
          "text": [
            "100%|██████████| 227/227 [00:37<00:00,  6.06it/s]\n",
            "100%|██████████| 8/8 [00:00<00:00, 13.58it/s]\n",
            "  0%|          | 0/227 [00:00<?, ?it/s]"
          ],
          "name": "stderr"
        },
        {
          "output_type": "stream",
          "text": [
            "\n",
            ">>>>time elapsed for epoch 69: hrs: 0: min: 00: sec: 38.00\n",
            ">>>>train loss: 6.8753\ttrain PPL: 968.0656\n",
            ">>>>validation loss: 7.0423\tvalidation PPL: 1144.0171\n",
            "\n",
            ">>>>training begins for epoch 70:\n",
            ">>>>please wait while the model is training......\n"
          ],
          "name": "stdout"
        },
        {
          "output_type": "stream",
          "text": [
            "100%|██████████| 227/227 [00:37<00:00,  6.09it/s]\n",
            "100%|██████████| 8/8 [00:00<00:00, 13.65it/s]\n",
            "  0%|          | 0/227 [00:00<?, ?it/s]"
          ],
          "name": "stderr"
        },
        {
          "output_type": "stream",
          "text": [
            "\n",
            ">>>>time elapsed for epoch 70: hrs: 0: min: 00: sec: 37.00\n",
            ">>>>train loss: 6.8741\ttrain PPL: 966.9375\n",
            ">>>>validation loss: 7.0409\tvalidation PPL: 1142.4414\n",
            "\n",
            ">>>>training begins for epoch 71:\n",
            ">>>>please wait while the model is training......\n"
          ],
          "name": "stdout"
        },
        {
          "output_type": "stream",
          "text": [
            "100%|██████████| 227/227 [00:37<00:00,  6.13it/s]\n",
            "100%|██████████| 8/8 [00:00<00:00, 13.65it/s]\n",
            "  0%|          | 0/227 [00:00<?, ?it/s]"
          ],
          "name": "stderr"
        },
        {
          "output_type": "stream",
          "text": [
            "\n",
            ">>>>time elapsed for epoch 71: hrs: 0: min: 00: sec: 37.00\n",
            ">>>>train loss: 6.8731\ttrain PPL: 965.9163\n",
            ">>>>validation loss: 7.0406\tvalidation PPL: 1142.1255\n",
            "\n",
            ">>>>training begins for epoch 72:\n",
            ">>>>please wait while the model is training......\n"
          ],
          "name": "stdout"
        },
        {
          "output_type": "stream",
          "text": [
            "100%|██████████| 227/227 [00:37<00:00,  6.09it/s]\n",
            "100%|██████████| 8/8 [00:00<00:00, 13.44it/s]\n",
            "  0%|          | 0/227 [00:00<?, ?it/s]"
          ],
          "name": "stderr"
        },
        {
          "output_type": "stream",
          "text": [
            "\n",
            ">>>>time elapsed for epoch 72: hrs: 0: min: 00: sec: 37.00\n",
            ">>>>train loss: 6.8724\ttrain PPL: 965.2935\n",
            ">>>>validation loss: 7.0440\tvalidation PPL: 1146.0194\n",
            "\n",
            ">>>>training begins for epoch 73:\n",
            ">>>>please wait while the model is training......\n"
          ],
          "name": "stdout"
        },
        {
          "output_type": "stream",
          "text": [
            "100%|██████████| 227/227 [00:37<00:00,  6.08it/s]\n",
            "100%|██████████| 8/8 [00:00<00:00, 13.42it/s]\n",
            "  0%|          | 0/227 [00:00<?, ?it/s]"
          ],
          "name": "stderr"
        },
        {
          "output_type": "stream",
          "text": [
            "\n",
            ">>>>time elapsed for epoch 73: hrs: 0: min: 00: sec: 37.00\n",
            ">>>>train loss: 6.8712\ttrain PPL: 964.0717\n",
            ">>>>validation loss: 7.0418\tvalidation PPL: 1143.3919\n",
            "\n",
            ">>>>training begins for epoch 74:\n",
            ">>>>please wait while the model is training......\n"
          ],
          "name": "stdout"
        },
        {
          "output_type": "stream",
          "text": [
            "100%|██████████| 227/227 [00:37<00:00,  6.07it/s]\n",
            "100%|██████████| 8/8 [00:00<00:00, 13.62it/s]\n",
            "  0%|          | 0/227 [00:00<?, ?it/s]"
          ],
          "name": "stderr"
        },
        {
          "output_type": "stream",
          "text": [
            "\n",
            ">>>>time elapsed for epoch 74: hrs: 0: min: 00: sec: 37.00\n",
            ">>>>train loss: 6.8706\ttrain PPL: 963.5508\n",
            ">>>>validation loss: 7.0436\tvalidation PPL: 1145.4730\n",
            "\n",
            ">>>>training begins for epoch 75:\n",
            ">>>>please wait while the model is training......\n"
          ],
          "name": "stdout"
        },
        {
          "output_type": "stream",
          "text": [
            "100%|██████████| 227/227 [00:37<00:00,  6.10it/s]\n",
            "100%|██████████| 8/8 [00:00<00:00, 13.68it/s]\n",
            "  0%|          | 0/227 [00:00<?, ?it/s]"
          ],
          "name": "stderr"
        },
        {
          "output_type": "stream",
          "text": [
            "\n",
            ">>>>time elapsed for epoch 75: hrs: 0: min: 00: sec: 37.00\n",
            ">>>>train loss: 6.8698\ttrain PPL: 962.7902\n",
            ">>>>validation loss: 7.0416\tvalidation PPL: 1143.2459\n",
            "\n",
            ">>>>training begins for epoch 76:\n",
            ">>>>please wait while the model is training......\n"
          ],
          "name": "stdout"
        },
        {
          "output_type": "stream",
          "text": [
            "100%|██████████| 227/227 [00:37<00:00,  6.08it/s]\n",
            "100%|██████████| 8/8 [00:00<00:00, 13.62it/s]\n",
            "  0%|          | 0/227 [00:00<?, ?it/s]"
          ],
          "name": "stderr"
        },
        {
          "output_type": "stream",
          "text": [
            "\n",
            ">>>>time elapsed for epoch 76: hrs: 0: min: 00: sec: 37.00\n",
            ">>>>train loss: 6.8691\ttrain PPL: 962.0851\n",
            ">>>>validation loss: 7.0433\tvalidation PPL: 1145.1465\n",
            "\n",
            ">>>>training begins for epoch 77:\n",
            ">>>>please wait while the model is training......\n"
          ],
          "name": "stdout"
        },
        {
          "output_type": "stream",
          "text": [
            "100%|██████████| 227/227 [00:37<00:00,  6.09it/s]\n",
            "100%|██████████| 8/8 [00:00<00:00, 13.59it/s]\n",
            "  0%|          | 0/227 [00:00<?, ?it/s]"
          ],
          "name": "stderr"
        },
        {
          "output_type": "stream",
          "text": [
            "\n",
            ">>>>time elapsed for epoch 77: hrs: 0: min: 00: sec: 37.00\n",
            ">>>>train loss: 6.8683\ttrain PPL: 961.3587\n",
            ">>>>validation loss: 7.0396\tvalidation PPL: 1140.8805\n",
            "\n",
            ">>>>training begins for epoch 78:\n",
            ">>>>please wait while the model is training......\n"
          ],
          "name": "stdout"
        },
        {
          "output_type": "stream",
          "text": [
            "100%|██████████| 227/227 [00:37<00:00,  6.09it/s]\n",
            "100%|██████████| 8/8 [00:00<00:00, 13.61it/s]\n",
            "  0%|          | 0/227 [00:00<?, ?it/s]"
          ],
          "name": "stderr"
        },
        {
          "output_type": "stream",
          "text": [
            "\n",
            ">>>>time elapsed for epoch 78: hrs: 0: min: 00: sec: 37.00\n",
            ">>>>train loss: 6.8673\ttrain PPL: 960.3999\n",
            ">>>>validation loss: 7.0394\tvalidation PPL: 1140.6772\n",
            "\n",
            ">>>>training begins for epoch 79:\n",
            ">>>>please wait while the model is training......\n"
          ],
          "name": "stdout"
        },
        {
          "output_type": "stream",
          "text": [
            "100%|██████████| 227/227 [00:37<00:00,  6.13it/s]\n",
            "100%|██████████| 8/8 [00:00<00:00, 13.52it/s]\n",
            "  0%|          | 0/227 [00:00<?, ?it/s]"
          ],
          "name": "stderr"
        },
        {
          "output_type": "stream",
          "text": [
            "\n",
            ">>>>time elapsed for epoch 79: hrs: 0: min: 00: sec: 37.00\n",
            ">>>>train loss: 6.8662\ttrain PPL: 959.3171\n",
            ">>>>validation loss: 7.0381\tvalidation PPL: 1139.2064\n",
            "\n",
            ">>>>training begins for epoch 80:\n",
            ">>>>please wait while the model is training......\n"
          ],
          "name": "stdout"
        },
        {
          "output_type": "stream",
          "text": [
            "100%|██████████| 227/227 [00:37<00:00,  6.05it/s]\n",
            "100%|██████████| 8/8 [00:00<00:00, 13.58it/s]\n",
            "  0%|          | 0/227 [00:00<?, ?it/s]"
          ],
          "name": "stderr"
        },
        {
          "output_type": "stream",
          "text": [
            "\n",
            ">>>>time elapsed for epoch 80: hrs: 0: min: 00: sec: 38.00\n",
            ">>>>train loss: 6.8655\ttrain PPL: 958.5781\n",
            ">>>>validation loss: 7.0435\tvalidation PPL: 1145.4393\n",
            "\n",
            ">>>>training begins for epoch 81:\n",
            ">>>>please wait while the model is training......\n"
          ],
          "name": "stdout"
        },
        {
          "output_type": "stream",
          "text": [
            "100%|██████████| 227/227 [00:37<00:00,  6.11it/s]\n",
            "100%|██████████| 8/8 [00:00<00:00, 13.56it/s]\n",
            "  0%|          | 0/227 [00:00<?, ?it/s]"
          ],
          "name": "stderr"
        },
        {
          "output_type": "stream",
          "text": [
            "\n",
            ">>>>time elapsed for epoch 81: hrs: 0: min: 00: sec: 37.00\n",
            ">>>>train loss: 6.8649\ttrain PPL: 958.0554\n",
            ">>>>validation loss: 7.0439\tvalidation PPL: 1145.9041\n",
            "\n",
            ">>>>training begins for epoch 82:\n",
            ">>>>please wait while the model is training......\n"
          ],
          "name": "stdout"
        },
        {
          "output_type": "stream",
          "text": [
            "100%|██████████| 227/227 [00:37<00:00,  6.06it/s]\n",
            "100%|██████████| 8/8 [00:00<00:00, 13.63it/s]\n",
            "  0%|          | 0/227 [00:00<?, ?it/s]"
          ],
          "name": "stderr"
        },
        {
          "output_type": "stream",
          "text": [
            "\n",
            ">>>>time elapsed for epoch 82: hrs: 0: min: 00: sec: 38.00\n",
            ">>>>train loss: 6.8639\ttrain PPL: 957.0956\n",
            ">>>>validation loss: 7.0390\tvalidation PPL: 1140.2762\n",
            "\n",
            ">>>>training begins for epoch 83:\n",
            ">>>>please wait while the model is training......\n"
          ],
          "name": "stdout"
        },
        {
          "output_type": "stream",
          "text": [
            "100%|██████████| 227/227 [00:37<00:00,  6.10it/s]\n",
            "100%|██████████| 8/8 [00:00<00:00, 13.64it/s]\n",
            "  0%|          | 0/227 [00:00<?, ?it/s]"
          ],
          "name": "stderr"
        },
        {
          "output_type": "stream",
          "text": [
            "\n",
            ">>>>time elapsed for epoch 83: hrs: 0: min: 00: sec: 37.00\n",
            ">>>>train loss: 6.8636\ttrain PPL: 956.8355\n",
            ">>>>validation loss: 7.0432\tvalidation PPL: 1145.0479\n",
            "\n",
            ">>>>training begins for epoch 84:\n",
            ">>>>please wait while the model is training......\n"
          ],
          "name": "stdout"
        },
        {
          "output_type": "stream",
          "text": [
            "100%|██████████| 227/227 [00:37<00:00,  6.08it/s]\n",
            "100%|██████████| 8/8 [00:00<00:00, 13.38it/s]\n",
            "  0%|          | 0/227 [00:00<?, ?it/s]"
          ],
          "name": "stderr"
        },
        {
          "output_type": "stream",
          "text": [
            "\n",
            ">>>>time elapsed for epoch 84: hrs: 0: min: 00: sec: 37.00\n",
            ">>>>train loss: 6.8631\ttrain PPL: 956.2982\n",
            ">>>>validation loss: 7.0443\tvalidation PPL: 1146.3366\n",
            "\n",
            ">>>>training begins for epoch 85:\n",
            ">>>>please wait while the model is training......\n"
          ],
          "name": "stdout"
        },
        {
          "output_type": "stream",
          "text": [
            "100%|██████████| 227/227 [00:37<00:00,  6.09it/s]\n",
            "100%|██████████| 8/8 [00:00<00:00, 13.71it/s]\n",
            "  0%|          | 0/227 [00:00<?, ?it/s]"
          ],
          "name": "stderr"
        },
        {
          "output_type": "stream",
          "text": [
            "\n",
            ">>>>time elapsed for epoch 85: hrs: 0: min: 00: sec: 37.00\n",
            ">>>>train loss: 6.8621\ttrain PPL: 955.3547\n",
            ">>>>validation loss: 7.0438\tvalidation PPL: 1145.6795\n",
            "\n",
            ">>>>training begins for epoch 86:\n",
            ">>>>please wait while the model is training......\n"
          ],
          "name": "stdout"
        },
        {
          "output_type": "stream",
          "text": [
            "100%|██████████| 227/227 [00:37<00:00,  6.08it/s]\n",
            "100%|██████████| 8/8 [00:00<00:00, 13.44it/s]\n",
            "  0%|          | 0/227 [00:00<?, ?it/s]"
          ],
          "name": "stderr"
        },
        {
          "output_type": "stream",
          "text": [
            "\n",
            ">>>>time elapsed for epoch 86: hrs: 0: min: 00: sec: 37.00\n",
            ">>>>train loss: 6.8615\ttrain PPL: 954.8070\n",
            ">>>>validation loss: 7.0450\tvalidation PPL: 1147.1648\n",
            "\n",
            ">>>>training begins for epoch 87:\n",
            ">>>>please wait while the model is training......\n"
          ],
          "name": "stdout"
        },
        {
          "output_type": "stream",
          "text": [
            "100%|██████████| 227/227 [00:37<00:00,  6.09it/s]\n",
            "100%|██████████| 8/8 [00:00<00:00, 13.75it/s]\n",
            "  0%|          | 0/227 [00:00<?, ?it/s]"
          ],
          "name": "stderr"
        },
        {
          "output_type": "stream",
          "text": [
            "\n",
            ">>>>time elapsed for epoch 87: hrs: 0: min: 00: sec: 37.00\n",
            ">>>>train loss: 6.8607\ttrain PPL: 954.0095\n",
            ">>>>validation loss: 7.0427\tvalidation PPL: 1144.4273\n",
            "\n",
            ">>>>training begins for epoch 88:\n",
            ">>>>please wait while the model is training......\n"
          ],
          "name": "stdout"
        },
        {
          "output_type": "stream",
          "text": [
            "100%|██████████| 227/227 [00:37<00:00,  6.08it/s]\n",
            "100%|██████████| 8/8 [00:00<00:00, 13.65it/s]\n",
            "  0%|          | 0/227 [00:00<?, ?it/s]"
          ],
          "name": "stderr"
        },
        {
          "output_type": "stream",
          "text": [
            "\n",
            ">>>>time elapsed for epoch 88: hrs: 0: min: 00: sec: 37.00\n",
            ">>>>train loss: 6.8607\ttrain PPL: 954.0109\n",
            ">>>>validation loss: 7.0443\tvalidation PPL: 1146.2508\n",
            "\n",
            ">>>>training begins for epoch 89:\n",
            ">>>>please wait while the model is training......\n"
          ],
          "name": "stdout"
        },
        {
          "output_type": "stream",
          "text": [
            "100%|██████████| 227/227 [00:37<00:00,  6.08it/s]\n",
            "100%|██████████| 8/8 [00:00<00:00, 13.46it/s]\n",
            "  0%|          | 0/227 [00:00<?, ?it/s]"
          ],
          "name": "stderr"
        },
        {
          "output_type": "stream",
          "text": [
            "\n",
            ">>>>time elapsed for epoch 89: hrs: 0: min: 00: sec: 37.00\n",
            ">>>>train loss: 6.8592\ttrain PPL: 952.6482\n",
            ">>>>validation loss: 7.0420\tvalidation PPL: 1143.7292\n",
            "\n",
            ">>>>training begins for epoch 90:\n",
            ">>>>please wait while the model is training......\n"
          ],
          "name": "stdout"
        },
        {
          "output_type": "stream",
          "text": [
            "100%|██████████| 227/227 [00:37<00:00,  6.12it/s]\n",
            "100%|██████████| 8/8 [00:00<00:00, 13.66it/s]\n",
            "  0%|          | 0/227 [00:00<?, ?it/s]"
          ],
          "name": "stderr"
        },
        {
          "output_type": "stream",
          "text": [
            "\n",
            ">>>>time elapsed for epoch 90: hrs: 0: min: 00: sec: 37.00\n",
            ">>>>train loss: 6.8590\ttrain PPL: 952.3781\n",
            ">>>>validation loss: 7.0416\tvalidation PPL: 1143.2363\n",
            "\n",
            ">>>>training begins for epoch 91:\n",
            ">>>>please wait while the model is training......\n"
          ],
          "name": "stdout"
        },
        {
          "output_type": "stream",
          "text": [
            "100%|██████████| 227/227 [00:37<00:00,  6.10it/s]\n",
            "100%|██████████| 8/8 [00:00<00:00, 13.65it/s]\n",
            "  0%|          | 0/227 [00:00<?, ?it/s]"
          ],
          "name": "stderr"
        },
        {
          "output_type": "stream",
          "text": [
            "\n",
            ">>>>time elapsed for epoch 91: hrs: 0: min: 00: sec: 37.00\n",
            ">>>>train loss: 6.8587\ttrain PPL: 952.1698\n",
            ">>>>validation loss: 7.0423\tvalidation PPL: 1144.0060\n",
            "\n",
            ">>>>training begins for epoch 92:\n",
            ">>>>please wait while the model is training......\n"
          ],
          "name": "stdout"
        },
        {
          "output_type": "stream",
          "text": [
            "100%|██████████| 227/227 [00:37<00:00,  6.10it/s]\n",
            "100%|██████████| 8/8 [00:00<00:00, 13.56it/s]\n",
            "  0%|          | 0/227 [00:00<?, ?it/s]"
          ],
          "name": "stderr"
        },
        {
          "output_type": "stream",
          "text": [
            "\n",
            ">>>>time elapsed for epoch 92: hrs: 0: min: 00: sec: 37.00\n",
            ">>>>train loss: 6.8585\ttrain PPL: 951.9650\n",
            ">>>>validation loss: 7.0408\tvalidation PPL: 1142.3215\n",
            "\n",
            ">>>>training begins for epoch 93:\n",
            ">>>>please wait while the model is training......\n"
          ],
          "name": "stdout"
        },
        {
          "output_type": "stream",
          "text": [
            "100%|██████████| 227/227 [00:37<00:00,  6.09it/s]\n",
            "100%|██████████| 8/8 [00:00<00:00, 13.67it/s]\n",
            "  0%|          | 0/227 [00:00<?, ?it/s]"
          ],
          "name": "stderr"
        },
        {
          "output_type": "stream",
          "text": [
            "\n",
            ">>>>time elapsed for epoch 93: hrs: 0: min: 00: sec: 37.00\n",
            ">>>>train loss: 6.8568\ttrain PPL: 950.2863\n",
            ">>>>validation loss: 7.0437\tvalidation PPL: 1145.6162\n",
            "\n",
            ">>>>training begins for epoch 94:\n",
            ">>>>please wait while the model is training......\n"
          ],
          "name": "stdout"
        },
        {
          "output_type": "stream",
          "text": [
            "100%|██████████| 227/227 [00:37<00:00,  6.12it/s]\n",
            "100%|██████████| 8/8 [00:00<00:00, 13.64it/s]\n",
            "  0%|          | 0/227 [00:00<?, ?it/s]"
          ],
          "name": "stderr"
        },
        {
          "output_type": "stream",
          "text": [
            "\n",
            ">>>>time elapsed for epoch 94: hrs: 0: min: 00: sec: 37.00\n",
            ">>>>train loss: 6.8565\ttrain PPL: 950.0710\n",
            ">>>>validation loss: 7.0374\tvalidation PPL: 1138.4189\n",
            "\n",
            ">>>>training begins for epoch 95:\n",
            ">>>>please wait while the model is training......\n"
          ],
          "name": "stdout"
        },
        {
          "output_type": "stream",
          "text": [
            "100%|██████████| 227/227 [00:37<00:00,  6.08it/s]\n",
            "100%|██████████| 8/8 [00:00<00:00, 13.65it/s]\n",
            "  0%|          | 0/227 [00:00<?, ?it/s]"
          ],
          "name": "stderr"
        },
        {
          "output_type": "stream",
          "text": [
            "\n",
            ">>>>time elapsed for epoch 95: hrs: 0: min: 00: sec: 37.00\n",
            ">>>>train loss: 6.8563\ttrain PPL: 949.8262\n",
            ">>>>validation loss: 7.0381\tvalidation PPL: 1139.2201\n",
            "\n",
            ">>>>training begins for epoch 96:\n",
            ">>>>please wait while the model is training......\n"
          ],
          "name": "stdout"
        },
        {
          "output_type": "stream",
          "text": [
            "100%|██████████| 227/227 [00:37<00:00,  6.08it/s]\n",
            "100%|██████████| 8/8 [00:00<00:00, 13.66it/s]\n",
            "  0%|          | 0/227 [00:00<?, ?it/s]"
          ],
          "name": "stderr"
        },
        {
          "output_type": "stream",
          "text": [
            "\n",
            ">>>>time elapsed for epoch 96: hrs: 0: min: 00: sec: 37.00\n",
            ">>>>train loss: 6.8555\ttrain PPL: 949.1105\n",
            ">>>>validation loss: 7.0387\tvalidation PPL: 1139.9412\n",
            "\n",
            ">>>>training begins for epoch 97:\n",
            ">>>>please wait while the model is training......\n"
          ],
          "name": "stdout"
        },
        {
          "output_type": "stream",
          "text": [
            "100%|██████████| 227/227 [00:37<00:00,  6.09it/s]\n",
            "100%|██████████| 8/8 [00:00<00:00, 13.73it/s]\n",
            "  0%|          | 0/227 [00:00<?, ?it/s]"
          ],
          "name": "stderr"
        },
        {
          "output_type": "stream",
          "text": [
            "\n",
            ">>>>time elapsed for epoch 97: hrs: 0: min: 00: sec: 37.00\n",
            ">>>>train loss: 6.8552\ttrain PPL: 948.8190\n",
            ">>>>validation loss: 7.0393\tvalidation PPL: 1140.5778\n",
            "\n",
            ">>>>training begins for epoch 98:\n",
            ">>>>please wait while the model is training......\n"
          ],
          "name": "stdout"
        },
        {
          "output_type": "stream",
          "text": [
            "100%|██████████| 227/227 [00:37<00:00,  6.11it/s]\n",
            "100%|██████████| 8/8 [00:00<00:00, 13.59it/s]\n",
            "  0%|          | 0/227 [00:00<?, ?it/s]"
          ],
          "name": "stderr"
        },
        {
          "output_type": "stream",
          "text": [
            "\n",
            ">>>>time elapsed for epoch 98: hrs: 0: min: 00: sec: 37.00\n",
            ">>>>train loss: 6.8549\ttrain PPL: 948.5586\n",
            ">>>>validation loss: 7.0397\tvalidation PPL: 1141.0243\n",
            "\n",
            ">>>>training begins for epoch 99:\n",
            ">>>>please wait while the model is training......\n"
          ],
          "name": "stdout"
        },
        {
          "output_type": "stream",
          "text": [
            "100%|██████████| 227/227 [00:37<00:00,  6.09it/s]\n",
            "100%|██████████| 8/8 [00:00<00:00, 13.51it/s]\n",
            "  0%|          | 0/227 [00:00<?, ?it/s]"
          ],
          "name": "stderr"
        },
        {
          "output_type": "stream",
          "text": [
            "\n",
            ">>>>time elapsed for epoch 99: hrs: 0: min: 00: sec: 37.00\n",
            ">>>>train loss: 6.8541\ttrain PPL: 947.7246\n",
            ">>>>validation loss: 7.0422\tvalidation PPL: 1143.9245\n",
            "\n",
            ">>>>training begins for epoch 100:\n",
            ">>>>please wait while the model is training......\n"
          ],
          "name": "stdout"
        },
        {
          "output_type": "stream",
          "text": [
            "100%|██████████| 227/227 [00:37<00:00,  6.10it/s]\n",
            "100%|██████████| 8/8 [00:00<00:00, 13.26it/s]"
          ],
          "name": "stderr"
        },
        {
          "output_type": "stream",
          "text": [
            "\n",
            ">>>>time elapsed for epoch 100: hrs: 0: min: 00: sec: 37.00\n",
            ">>>>train loss: 6.8538\ttrain PPL: 947.4376\n",
            ">>>>validation loss: 7.0412\tvalidation PPL: 1142.7562\n",
            "\n",
            ">>>>Total time for training and evaluation for this model is: hrs: 1: min: 03: sec: 12.00\n"
          ],
          "name": "stdout"
        },
        {
          "output_type": "stream",
          "text": [
            "\n"
          ],
          "name": "stderr"
        }
      ]
    },
    {
      "cell_type": "code",
      "metadata": {
        "id": "e78MSwoD9o_G"
      },
      "source": [
        ""
      ],
      "execution_count": 68,
      "outputs": []
    }
  ]
}