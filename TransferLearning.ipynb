{
  "nbformat": 4,
  "nbformat_minor": 0,
  "metadata": {
    "colab": {
      "provenance": [],
      "authorship_tag": "ABX9TyN72qzspiIwEHkGgwyyZZ0b",
      "include_colab_link": true
    },
    "kernelspec": {
      "name": "python3",
      "display_name": "Python 3"
    },
    "language_info": {
      "name": "python"
    },
    "accelerator": "GPU",
    "gpuClass": "standard",
    "widgets": {
      "application/vnd.jupyter.widget-state+json": {
        "29c2aa2df2bd4ae3b3f751d4757848ad": {
          "model_module": "@jupyter-widgets/controls",
          "model_name": "HBoxModel",
          "model_module_version": "1.5.0",
          "state": {
            "_dom_classes": [],
            "_model_module": "@jupyter-widgets/controls",
            "_model_module_version": "1.5.0",
            "_model_name": "HBoxModel",
            "_view_count": null,
            "_view_module": "@jupyter-widgets/controls",
            "_view_module_version": "1.5.0",
            "_view_name": "HBoxView",
            "box_style": "",
            "children": [
              "IPY_MODEL_337a61c776684f9da422f65b0d99cfb3",
              "IPY_MODEL_a5918a7f15954b8bb9fd972c7044cf8a",
              "IPY_MODEL_80be1d9a0e69497eaedc9ada78d55ae0"
            ],
            "layout": "IPY_MODEL_3dcd1d8f4f62499699458843af1cfa1c"
          }
        },
        "337a61c776684f9da422f65b0d99cfb3": {
          "model_module": "@jupyter-widgets/controls",
          "model_name": "HTMLModel",
          "model_module_version": "1.5.0",
          "state": {
            "_dom_classes": [],
            "_model_module": "@jupyter-widgets/controls",
            "_model_module_version": "1.5.0",
            "_model_name": "HTMLModel",
            "_view_count": null,
            "_view_module": "@jupyter-widgets/controls",
            "_view_module_version": "1.5.0",
            "_view_name": "HTMLView",
            "description": "",
            "description_tooltip": null,
            "layout": "IPY_MODEL_2c02e300d30e4dc7971a1ee8c1ad6ea2",
            "placeholder": "​",
            "style": "IPY_MODEL_d6c5b3777538461cb329135b1aebfd99",
            "value": "100%"
          }
        },
        "a5918a7f15954b8bb9fd972c7044cf8a": {
          "model_module": "@jupyter-widgets/controls",
          "model_name": "FloatProgressModel",
          "model_module_version": "1.5.0",
          "state": {
            "_dom_classes": [],
            "_model_module": "@jupyter-widgets/controls",
            "_model_module_version": "1.5.0",
            "_model_name": "FloatProgressModel",
            "_view_count": null,
            "_view_module": "@jupyter-widgets/controls",
            "_view_module_version": "1.5.0",
            "_view_name": "ProgressView",
            "bar_style": "success",
            "description": "",
            "description_tooltip": null,
            "layout": "IPY_MODEL_b32885a7c8c64fafa4867443ebd1d4c8",
            "max": 100,
            "min": 0,
            "orientation": "horizontal",
            "style": "IPY_MODEL_5762061387ec4de09c07dfd74d823576",
            "value": 100
          }
        },
        "80be1d9a0e69497eaedc9ada78d55ae0": {
          "model_module": "@jupyter-widgets/controls",
          "model_name": "HTMLModel",
          "model_module_version": "1.5.0",
          "state": {
            "_dom_classes": [],
            "_model_module": "@jupyter-widgets/controls",
            "_model_module_version": "1.5.0",
            "_model_name": "HTMLModel",
            "_view_count": null,
            "_view_module": "@jupyter-widgets/controls",
            "_view_module_version": "1.5.0",
            "_view_name": "HTMLView",
            "description": "",
            "description_tooltip": null,
            "layout": "IPY_MODEL_0f3b820038a24f6bb4a7ab5037b319bb",
            "placeholder": "​",
            "style": "IPY_MODEL_3c864b0431b94e14829e75b7f48f155c",
            "value": " 100/100 [1:00:24&lt;00:00, 36.14s/it]"
          }
        },
        "3dcd1d8f4f62499699458843af1cfa1c": {
          "model_module": "@jupyter-widgets/base",
          "model_name": "LayoutModel",
          "model_module_version": "1.2.0",
          "state": {
            "_model_module": "@jupyter-widgets/base",
            "_model_module_version": "1.2.0",
            "_model_name": "LayoutModel",
            "_view_count": null,
            "_view_module": "@jupyter-widgets/base",
            "_view_module_version": "1.2.0",
            "_view_name": "LayoutView",
            "align_content": null,
            "align_items": null,
            "align_self": null,
            "border": null,
            "bottom": null,
            "display": null,
            "flex": null,
            "flex_flow": null,
            "grid_area": null,
            "grid_auto_columns": null,
            "grid_auto_flow": null,
            "grid_auto_rows": null,
            "grid_column": null,
            "grid_gap": null,
            "grid_row": null,
            "grid_template_areas": null,
            "grid_template_columns": null,
            "grid_template_rows": null,
            "height": null,
            "justify_content": null,
            "justify_items": null,
            "left": null,
            "margin": null,
            "max_height": null,
            "max_width": null,
            "min_height": null,
            "min_width": null,
            "object_fit": null,
            "object_position": null,
            "order": null,
            "overflow": null,
            "overflow_x": null,
            "overflow_y": null,
            "padding": null,
            "right": null,
            "top": null,
            "visibility": null,
            "width": null
          }
        },
        "2c02e300d30e4dc7971a1ee8c1ad6ea2": {
          "model_module": "@jupyter-widgets/base",
          "model_name": "LayoutModel",
          "model_module_version": "1.2.0",
          "state": {
            "_model_module": "@jupyter-widgets/base",
            "_model_module_version": "1.2.0",
            "_model_name": "LayoutModel",
            "_view_count": null,
            "_view_module": "@jupyter-widgets/base",
            "_view_module_version": "1.2.0",
            "_view_name": "LayoutView",
            "align_content": null,
            "align_items": null,
            "align_self": null,
            "border": null,
            "bottom": null,
            "display": null,
            "flex": null,
            "flex_flow": null,
            "grid_area": null,
            "grid_auto_columns": null,
            "grid_auto_flow": null,
            "grid_auto_rows": null,
            "grid_column": null,
            "grid_gap": null,
            "grid_row": null,
            "grid_template_areas": null,
            "grid_template_columns": null,
            "grid_template_rows": null,
            "height": null,
            "justify_content": null,
            "justify_items": null,
            "left": null,
            "margin": null,
            "max_height": null,
            "max_width": null,
            "min_height": null,
            "min_width": null,
            "object_fit": null,
            "object_position": null,
            "order": null,
            "overflow": null,
            "overflow_x": null,
            "overflow_y": null,
            "padding": null,
            "right": null,
            "top": null,
            "visibility": null,
            "width": null
          }
        },
        "d6c5b3777538461cb329135b1aebfd99": {
          "model_module": "@jupyter-widgets/controls",
          "model_name": "DescriptionStyleModel",
          "model_module_version": "1.5.0",
          "state": {
            "_model_module": "@jupyter-widgets/controls",
            "_model_module_version": "1.5.0",
            "_model_name": "DescriptionStyleModel",
            "_view_count": null,
            "_view_module": "@jupyter-widgets/base",
            "_view_module_version": "1.2.0",
            "_view_name": "StyleView",
            "description_width": ""
          }
        },
        "b32885a7c8c64fafa4867443ebd1d4c8": {
          "model_module": "@jupyter-widgets/base",
          "model_name": "LayoutModel",
          "model_module_version": "1.2.0",
          "state": {
            "_model_module": "@jupyter-widgets/base",
            "_model_module_version": "1.2.0",
            "_model_name": "LayoutModel",
            "_view_count": null,
            "_view_module": "@jupyter-widgets/base",
            "_view_module_version": "1.2.0",
            "_view_name": "LayoutView",
            "align_content": null,
            "align_items": null,
            "align_self": null,
            "border": null,
            "bottom": null,
            "display": null,
            "flex": null,
            "flex_flow": null,
            "grid_area": null,
            "grid_auto_columns": null,
            "grid_auto_flow": null,
            "grid_auto_rows": null,
            "grid_column": null,
            "grid_gap": null,
            "grid_row": null,
            "grid_template_areas": null,
            "grid_template_columns": null,
            "grid_template_rows": null,
            "height": null,
            "justify_content": null,
            "justify_items": null,
            "left": null,
            "margin": null,
            "max_height": null,
            "max_width": null,
            "min_height": null,
            "min_width": null,
            "object_fit": null,
            "object_position": null,
            "order": null,
            "overflow": null,
            "overflow_x": null,
            "overflow_y": null,
            "padding": null,
            "right": null,
            "top": null,
            "visibility": null,
            "width": null
          }
        },
        "5762061387ec4de09c07dfd74d823576": {
          "model_module": "@jupyter-widgets/controls",
          "model_name": "ProgressStyleModel",
          "model_module_version": "1.5.0",
          "state": {
            "_model_module": "@jupyter-widgets/controls",
            "_model_module_version": "1.5.0",
            "_model_name": "ProgressStyleModel",
            "_view_count": null,
            "_view_module": "@jupyter-widgets/base",
            "_view_module_version": "1.2.0",
            "_view_name": "StyleView",
            "bar_color": null,
            "description_width": ""
          }
        },
        "0f3b820038a24f6bb4a7ab5037b319bb": {
          "model_module": "@jupyter-widgets/base",
          "model_name": "LayoutModel",
          "model_module_version": "1.2.0",
          "state": {
            "_model_module": "@jupyter-widgets/base",
            "_model_module_version": "1.2.0",
            "_model_name": "LayoutModel",
            "_view_count": null,
            "_view_module": "@jupyter-widgets/base",
            "_view_module_version": "1.2.0",
            "_view_name": "LayoutView",
            "align_content": null,
            "align_items": null,
            "align_self": null,
            "border": null,
            "bottom": null,
            "display": null,
            "flex": null,
            "flex_flow": null,
            "grid_area": null,
            "grid_auto_columns": null,
            "grid_auto_flow": null,
            "grid_auto_rows": null,
            "grid_column": null,
            "grid_gap": null,
            "grid_row": null,
            "grid_template_areas": null,
            "grid_template_columns": null,
            "grid_template_rows": null,
            "height": null,
            "justify_content": null,
            "justify_items": null,
            "left": null,
            "margin": null,
            "max_height": null,
            "max_width": null,
            "min_height": null,
            "min_width": null,
            "object_fit": null,
            "object_position": null,
            "order": null,
            "overflow": null,
            "overflow_x": null,
            "overflow_y": null,
            "padding": null,
            "right": null,
            "top": null,
            "visibility": null,
            "width": null
          }
        },
        "3c864b0431b94e14829e75b7f48f155c": {
          "model_module": "@jupyter-widgets/controls",
          "model_name": "DescriptionStyleModel",
          "model_module_version": "1.5.0",
          "state": {
            "_model_module": "@jupyter-widgets/controls",
            "_model_module_version": "1.5.0",
            "_model_name": "DescriptionStyleModel",
            "_view_count": null,
            "_view_module": "@jupyter-widgets/base",
            "_view_module_version": "1.2.0",
            "_view_name": "StyleView",
            "description_width": ""
          }
        },
        "b02d5f4266ae4c149da210e5cce18b84": {
          "model_module": "@jupyter-widgets/controls",
          "model_name": "HBoxModel",
          "model_module_version": "1.5.0",
          "state": {
            "_dom_classes": [],
            "_model_module": "@jupyter-widgets/controls",
            "_model_module_version": "1.5.0",
            "_model_name": "HBoxModel",
            "_view_count": null,
            "_view_module": "@jupyter-widgets/controls",
            "_view_module_version": "1.5.0",
            "_view_name": "HBoxView",
            "box_style": "",
            "children": [
              "IPY_MODEL_d7e7a6811ce44fda834e06f27bd60479",
              "IPY_MODEL_a859816b55434d4299953a45696563f7",
              "IPY_MODEL_8c34f2d688a946e395338f8358928220"
            ],
            "layout": "IPY_MODEL_51d9fca236344547835516d23f1c4588"
          }
        },
        "d7e7a6811ce44fda834e06f27bd60479": {
          "model_module": "@jupyter-widgets/controls",
          "model_name": "HTMLModel",
          "model_module_version": "1.5.0",
          "state": {
            "_dom_classes": [],
            "_model_module": "@jupyter-widgets/controls",
            "_model_module_version": "1.5.0",
            "_model_name": "HTMLModel",
            "_view_count": null,
            "_view_module": "@jupyter-widgets/controls",
            "_view_module_version": "1.5.0",
            "_view_name": "HTMLView",
            "description": "",
            "description_tooltip": null,
            "layout": "IPY_MODEL_261bcd03ba8045a2844772ac48bb9417",
            "placeholder": "​",
            "style": "IPY_MODEL_7fc2625f924847f28125dbeb4c7f07b9",
            "value": "100%"
          }
        },
        "a859816b55434d4299953a45696563f7": {
          "model_module": "@jupyter-widgets/controls",
          "model_name": "FloatProgressModel",
          "model_module_version": "1.5.0",
          "state": {
            "_dom_classes": [],
            "_model_module": "@jupyter-widgets/controls",
            "_model_module_version": "1.5.0",
            "_model_name": "FloatProgressModel",
            "_view_count": null,
            "_view_module": "@jupyter-widgets/controls",
            "_view_module_version": "1.5.0",
            "_view_name": "ProgressView",
            "bar_style": "success",
            "description": "",
            "description_tooltip": null,
            "layout": "IPY_MODEL_4ad4ef89ae3645739b3c0f2f169b9b83",
            "max": 101,
            "min": 0,
            "orientation": "horizontal",
            "style": "IPY_MODEL_6f4491d3785c481e98ab04e0726ac93f",
            "value": 101
          }
        },
        "8c34f2d688a946e395338f8358928220": {
          "model_module": "@jupyter-widgets/controls",
          "model_name": "HTMLModel",
          "model_module_version": "1.5.0",
          "state": {
            "_dom_classes": [],
            "_model_module": "@jupyter-widgets/controls",
            "_model_module_version": "1.5.0",
            "_model_name": "HTMLModel",
            "_view_count": null,
            "_view_module": "@jupyter-widgets/controls",
            "_view_module_version": "1.5.0",
            "_view_name": "HTMLView",
            "description": "",
            "description_tooltip": null,
            "layout": "IPY_MODEL_122d7aea9e0e498abaa1ff5fa73ab07f",
            "placeholder": "​",
            "style": "IPY_MODEL_31ac48b53fda4ac2982c6212ffdebd77",
            "value": " 101/101 [05:35&lt;00:00,  3.39s/it]"
          }
        },
        "51d9fca236344547835516d23f1c4588": {
          "model_module": "@jupyter-widgets/base",
          "model_name": "LayoutModel",
          "model_module_version": "1.2.0",
          "state": {
            "_model_module": "@jupyter-widgets/base",
            "_model_module_version": "1.2.0",
            "_model_name": "LayoutModel",
            "_view_count": null,
            "_view_module": "@jupyter-widgets/base",
            "_view_module_version": "1.2.0",
            "_view_name": "LayoutView",
            "align_content": null,
            "align_items": null,
            "align_self": null,
            "border": null,
            "bottom": null,
            "display": null,
            "flex": null,
            "flex_flow": null,
            "grid_area": null,
            "grid_auto_columns": null,
            "grid_auto_flow": null,
            "grid_auto_rows": null,
            "grid_column": null,
            "grid_gap": null,
            "grid_row": null,
            "grid_template_areas": null,
            "grid_template_columns": null,
            "grid_template_rows": null,
            "height": null,
            "justify_content": null,
            "justify_items": null,
            "left": null,
            "margin": null,
            "max_height": null,
            "max_width": null,
            "min_height": null,
            "min_width": null,
            "object_fit": null,
            "object_position": null,
            "order": null,
            "overflow": null,
            "overflow_x": null,
            "overflow_y": null,
            "padding": null,
            "right": null,
            "top": null,
            "visibility": null,
            "width": null
          }
        },
        "261bcd03ba8045a2844772ac48bb9417": {
          "model_module": "@jupyter-widgets/base",
          "model_name": "LayoutModel",
          "model_module_version": "1.2.0",
          "state": {
            "_model_module": "@jupyter-widgets/base",
            "_model_module_version": "1.2.0",
            "_model_name": "LayoutModel",
            "_view_count": null,
            "_view_module": "@jupyter-widgets/base",
            "_view_module_version": "1.2.0",
            "_view_name": "LayoutView",
            "align_content": null,
            "align_items": null,
            "align_self": null,
            "border": null,
            "bottom": null,
            "display": null,
            "flex": null,
            "flex_flow": null,
            "grid_area": null,
            "grid_auto_columns": null,
            "grid_auto_flow": null,
            "grid_auto_rows": null,
            "grid_column": null,
            "grid_gap": null,
            "grid_row": null,
            "grid_template_areas": null,
            "grid_template_columns": null,
            "grid_template_rows": null,
            "height": null,
            "justify_content": null,
            "justify_items": null,
            "left": null,
            "margin": null,
            "max_height": null,
            "max_width": null,
            "min_height": null,
            "min_width": null,
            "object_fit": null,
            "object_position": null,
            "order": null,
            "overflow": null,
            "overflow_x": null,
            "overflow_y": null,
            "padding": null,
            "right": null,
            "top": null,
            "visibility": null,
            "width": null
          }
        },
        "7fc2625f924847f28125dbeb4c7f07b9": {
          "model_module": "@jupyter-widgets/controls",
          "model_name": "DescriptionStyleModel",
          "model_module_version": "1.5.0",
          "state": {
            "_model_module": "@jupyter-widgets/controls",
            "_model_module_version": "1.5.0",
            "_model_name": "DescriptionStyleModel",
            "_view_count": null,
            "_view_module": "@jupyter-widgets/base",
            "_view_module_version": "1.2.0",
            "_view_name": "StyleView",
            "description_width": ""
          }
        },
        "4ad4ef89ae3645739b3c0f2f169b9b83": {
          "model_module": "@jupyter-widgets/base",
          "model_name": "LayoutModel",
          "model_module_version": "1.2.0",
          "state": {
            "_model_module": "@jupyter-widgets/base",
            "_model_module_version": "1.2.0",
            "_model_name": "LayoutModel",
            "_view_count": null,
            "_view_module": "@jupyter-widgets/base",
            "_view_module_version": "1.2.0",
            "_view_name": "LayoutView",
            "align_content": null,
            "align_items": null,
            "align_self": null,
            "border": null,
            "bottom": null,
            "display": null,
            "flex": null,
            "flex_flow": null,
            "grid_area": null,
            "grid_auto_columns": null,
            "grid_auto_flow": null,
            "grid_auto_rows": null,
            "grid_column": null,
            "grid_gap": null,
            "grid_row": null,
            "grid_template_areas": null,
            "grid_template_columns": null,
            "grid_template_rows": null,
            "height": null,
            "justify_content": null,
            "justify_items": null,
            "left": null,
            "margin": null,
            "max_height": null,
            "max_width": null,
            "min_height": null,
            "min_width": null,
            "object_fit": null,
            "object_position": null,
            "order": null,
            "overflow": null,
            "overflow_x": null,
            "overflow_y": null,
            "padding": null,
            "right": null,
            "top": null,
            "visibility": null,
            "width": null
          }
        },
        "6f4491d3785c481e98ab04e0726ac93f": {
          "model_module": "@jupyter-widgets/controls",
          "model_name": "ProgressStyleModel",
          "model_module_version": "1.5.0",
          "state": {
            "_model_module": "@jupyter-widgets/controls",
            "_model_module_version": "1.5.0",
            "_model_name": "ProgressStyleModel",
            "_view_count": null,
            "_view_module": "@jupyter-widgets/base",
            "_view_module_version": "1.2.0",
            "_view_name": "StyleView",
            "bar_color": null,
            "description_width": ""
          }
        },
        "122d7aea9e0e498abaa1ff5fa73ab07f": {
          "model_module": "@jupyter-widgets/base",
          "model_name": "LayoutModel",
          "model_module_version": "1.2.0",
          "state": {
            "_model_module": "@jupyter-widgets/base",
            "_model_module_version": "1.2.0",
            "_model_name": "LayoutModel",
            "_view_count": null,
            "_view_module": "@jupyter-widgets/base",
            "_view_module_version": "1.2.0",
            "_view_name": "LayoutView",
            "align_content": null,
            "align_items": null,
            "align_self": null,
            "border": null,
            "bottom": null,
            "display": null,
            "flex": null,
            "flex_flow": null,
            "grid_area": null,
            "grid_auto_columns": null,
            "grid_auto_flow": null,
            "grid_auto_rows": null,
            "grid_column": null,
            "grid_gap": null,
            "grid_row": null,
            "grid_template_areas": null,
            "grid_template_columns": null,
            "grid_template_rows": null,
            "height": null,
            "justify_content": null,
            "justify_items": null,
            "left": null,
            "margin": null,
            "max_height": null,
            "max_width": null,
            "min_height": null,
            "min_width": null,
            "object_fit": null,
            "object_position": null,
            "order": null,
            "overflow": null,
            "overflow_x": null,
            "overflow_y": null,
            "padding": null,
            "right": null,
            "top": null,
            "visibility": null,
            "width": null
          }
        },
        "31ac48b53fda4ac2982c6212ffdebd77": {
          "model_module": "@jupyter-widgets/controls",
          "model_name": "DescriptionStyleModel",
          "model_module_version": "1.5.0",
          "state": {
            "_model_module": "@jupyter-widgets/controls",
            "_model_module_version": "1.5.0",
            "_model_name": "DescriptionStyleModel",
            "_view_count": null,
            "_view_module": "@jupyter-widgets/base",
            "_view_module_version": "1.2.0",
            "_view_name": "StyleView",
            "description_width": ""
          }
        }
      }
    }
  },
  "cells": [
    {
      "cell_type": "markdown",
      "metadata": {
        "id": "view-in-github",
        "colab_type": "text"
      },
      "source": [
        "<a href=\"https://colab.research.google.com/github/martinpius/PYTORCH/blob/main/TransferLearning.ipynb\" target=\"_parent\"><img src=\"https://colab.research.google.com/assets/colab-badge.svg\" alt=\"Open In Colab\"/></a>"
      ]
    },
    {
      "cell_type": "code",
      "source": [
        "from timeit import default_timer as timer\n",
        "t1 = timer()\n",
        "try:\n",
        "  from google.colab import drive\n",
        "  drive.mount(\"/content/drive/\", force_remount = True)\n",
        "  import torch, torchvision, os\n",
        "  from torch import nn, optim\n",
        "  from torch.nn import CrossEntropyLoss\n",
        "  from torch.utils.data import DataLoader\n",
        "  from torchvision import datasets, transforms\n",
        "  from PIL import Image\n",
        "  import matplotlib.pyplot as plt\n",
        "  from tqdm.auto import tqdm\n",
        "  print(f\">>>> You are on ColaB with torch version: {torch.__version__}\")\n",
        "except Exception as e:\n",
        "  print(f\">>>> {type(e)}: {e}\\n>>>> Please correct {type(e)} and reload your drive\")\n",
        "\n",
        "def mytimer(t: float = timer())->float:\n",
        "  h = int(t / (60 * 60))\n",
        "  m = int(t % (60 * 60) / 60)\n",
        "  s = int(t % 60)\n",
        "  return f\"hrs: {h}, mins: {m:>02}, secs: {s:>05.2f}\"\n",
        "\n",
        "device = torch.device(\"cuda\") if torch.cuda.is_available() else torch.device(\"cpu\")\n",
        "BATCH_SIZE = 64 if device == torch.device(\"cuda\") else 32\n",
        "print(f\">>>> Available device: {device}\")\n",
        "!nvidia-smi\n",
        "print(f\"\\n>>>> Time elapsed:\\t {mytimer(timer() - t1)}\")"
      ],
      "metadata": {
        "colab": {
          "base_uri": "https://localhost:8080/"
        },
        "id": "jsmQU0lFZTSz",
        "outputId": "93851b3c-5766-424c-8465-e08753775d7c"
      },
      "execution_count": 1,
      "outputs": [
        {
          "output_type": "stream",
          "name": "stdout",
          "text": [
            "Mounted at /content/drive/\n",
            ">>>> You are on ColaB with torch version: 2.0.0+cu118\n",
            ">>>> Available device: cuda\n",
            "Fri Apr  7 19:01:22 2023       \n",
            "+-----------------------------------------------------------------------------+\n",
            "| NVIDIA-SMI 525.85.12    Driver Version: 525.85.12    CUDA Version: 12.0     |\n",
            "|-------------------------------+----------------------+----------------------+\n",
            "| GPU  Name        Persistence-M| Bus-Id        Disp.A | Volatile Uncorr. ECC |\n",
            "| Fan  Temp  Perf  Pwr:Usage/Cap|         Memory-Usage | GPU-Util  Compute M. |\n",
            "|                               |                      |               MIG M. |\n",
            "|===============================+======================+======================|\n",
            "|   0  Tesla T4            Off  | 00000000:00:04.0 Off |                    0 |\n",
            "| N/A   62C    P8    11W /  70W |      3MiB / 15360MiB |      0%      Default |\n",
            "|                               |                      |                  N/A |\n",
            "+-------------------------------+----------------------+----------------------+\n",
            "                                                                               \n",
            "+-----------------------------------------------------------------------------+\n",
            "| Processes:                                                                  |\n",
            "|  GPU   GI   CI        PID   Type   Process name                  GPU Memory |\n",
            "|        ID   ID                                                   Usage      |\n",
            "|=============================================================================|\n",
            "|  No running processes found                                                 |\n",
            "+-----------------------------------------------------------------------------+\n",
            "\n",
            ">>>> Time elapsed:\t hrs: 0, mins: 00, secs: 10.00\n"
          ]
        }
      ]
    },
    {
      "cell_type": "code",
      "source": [
        "def parsCounter(model: nn.Module)->int:\n",
        "  return sum(p.numel() for p in model.parameters() if p.requires_grad)\n",
        "\n"
      ],
      "metadata": {
        "id": "uFB_0iLb1LRR"
      },
      "execution_count": 2,
      "outputs": []
    },
    {
      "cell_type": "code",
      "source": [
        "VGG19_pretrained = torchvision.models.vgg19(weights = True)\n",
        "print(VGG19_pretrained)"
      ],
      "metadata": {
        "colab": {
          "base_uri": "https://localhost:8080/"
        },
        "id": "5kl2lOxp2ZN2",
        "outputId": "f98e4f7c-f02f-4ba1-f0af-be6a0b7ce502"
      },
      "execution_count": 3,
      "outputs": [
        {
          "output_type": "stream",
          "name": "stderr",
          "text": [
            "/usr/local/lib/python3.9/dist-packages/torchvision/models/_utils.py:223: UserWarning: Arguments other than a weight enum or `None` for 'weights' are deprecated since 0.13 and may be removed in the future. The current behavior is equivalent to passing `weights=VGG19_Weights.IMAGENET1K_V1`. You can also use `weights=VGG19_Weights.DEFAULT` to get the most up-to-date weights.\n",
            "  warnings.warn(msg)\n"
          ]
        },
        {
          "output_type": "stream",
          "name": "stdout",
          "text": [
            "VGG(\n",
            "  (features): Sequential(\n",
            "    (0): Conv2d(3, 64, kernel_size=(3, 3), stride=(1, 1), padding=(1, 1))\n",
            "    (1): ReLU(inplace=True)\n",
            "    (2): Conv2d(64, 64, kernel_size=(3, 3), stride=(1, 1), padding=(1, 1))\n",
            "    (3): ReLU(inplace=True)\n",
            "    (4): MaxPool2d(kernel_size=2, stride=2, padding=0, dilation=1, ceil_mode=False)\n",
            "    (5): Conv2d(64, 128, kernel_size=(3, 3), stride=(1, 1), padding=(1, 1))\n",
            "    (6): ReLU(inplace=True)\n",
            "    (7): Conv2d(128, 128, kernel_size=(3, 3), stride=(1, 1), padding=(1, 1))\n",
            "    (8): ReLU(inplace=True)\n",
            "    (9): MaxPool2d(kernel_size=2, stride=2, padding=0, dilation=1, ceil_mode=False)\n",
            "    (10): Conv2d(128, 256, kernel_size=(3, 3), stride=(1, 1), padding=(1, 1))\n",
            "    (11): ReLU(inplace=True)\n",
            "    (12): Conv2d(256, 256, kernel_size=(3, 3), stride=(1, 1), padding=(1, 1))\n",
            "    (13): ReLU(inplace=True)\n",
            "    (14): Conv2d(256, 256, kernel_size=(3, 3), stride=(1, 1), padding=(1, 1))\n",
            "    (15): ReLU(inplace=True)\n",
            "    (16): Conv2d(256, 256, kernel_size=(3, 3), stride=(1, 1), padding=(1, 1))\n",
            "    (17): ReLU(inplace=True)\n",
            "    (18): MaxPool2d(kernel_size=2, stride=2, padding=0, dilation=1, ceil_mode=False)\n",
            "    (19): Conv2d(256, 512, kernel_size=(3, 3), stride=(1, 1), padding=(1, 1))\n",
            "    (20): ReLU(inplace=True)\n",
            "    (21): Conv2d(512, 512, kernel_size=(3, 3), stride=(1, 1), padding=(1, 1))\n",
            "    (22): ReLU(inplace=True)\n",
            "    (23): Conv2d(512, 512, kernel_size=(3, 3), stride=(1, 1), padding=(1, 1))\n",
            "    (24): ReLU(inplace=True)\n",
            "    (25): Conv2d(512, 512, kernel_size=(3, 3), stride=(1, 1), padding=(1, 1))\n",
            "    (26): ReLU(inplace=True)\n",
            "    (27): MaxPool2d(kernel_size=2, stride=2, padding=0, dilation=1, ceil_mode=False)\n",
            "    (28): Conv2d(512, 512, kernel_size=(3, 3), stride=(1, 1), padding=(1, 1))\n",
            "    (29): ReLU(inplace=True)\n",
            "    (30): Conv2d(512, 512, kernel_size=(3, 3), stride=(1, 1), padding=(1, 1))\n",
            "    (31): ReLU(inplace=True)\n",
            "    (32): Conv2d(512, 512, kernel_size=(3, 3), stride=(1, 1), padding=(1, 1))\n",
            "    (33): ReLU(inplace=True)\n",
            "    (34): Conv2d(512, 512, kernel_size=(3, 3), stride=(1, 1), padding=(1, 1))\n",
            "    (35): ReLU(inplace=True)\n",
            "    (36): MaxPool2d(kernel_size=2, stride=2, padding=0, dilation=1, ceil_mode=False)\n",
            "  )\n",
            "  (avgpool): AdaptiveAvgPool2d(output_size=(7, 7))\n",
            "  (classifier): Sequential(\n",
            "    (0): Linear(in_features=25088, out_features=4096, bias=True)\n",
            "    (1): ReLU(inplace=True)\n",
            "    (2): Dropout(p=0.5, inplace=False)\n",
            "    (3): Linear(in_features=4096, out_features=4096, bias=True)\n",
            "    (4): ReLU(inplace=True)\n",
            "    (5): Dropout(p=0.5, inplace=False)\n",
            "    (6): Linear(in_features=4096, out_features=1000, bias=True)\n",
            "  )\n",
            ")\n"
          ]
        }
      ]
    },
    {
      "cell_type": "code",
      "source": [
        "print(f\">>>> Total number of learnable parameters is in {VGG19_pretrained.__class__.__name__}: \\\n",
        "{parsCounter(VGG19_pretrained):,}\")"
      ],
      "metadata": {
        "colab": {
          "base_uri": "https://localhost:8080/"
        },
        "id": "pe0KZmU82-Pz",
        "outputId": "feadaa79-3759-4096-92db-e45d8edd50b0"
      },
      "execution_count": 4,
      "outputs": [
        {
          "output_type": "stream",
          "name": "stdout",
          "text": [
            ">>>> Total number of learnable parameters is in VGG: 143,667,240\n"
          ]
        }
      ]
    },
    {
      "cell_type": "code",
      "source": [
        "class AvgPool_same(nn.Module):\n",
        "\n",
        "  def __init__(self):\n",
        "    super().__init__()\n",
        "    \n",
        "  \n",
        "  def forward(self, x: torch.Tensor)->torch.Tensor:\n",
        "    return x\n"
      ],
      "metadata": {
        "id": "rBmWYx0O3qC9"
      },
      "execution_count": 5,
      "outputs": []
    },
    {
      "cell_type": "code",
      "source": [
        "FC_Net = nn.Sequential(\n",
        "    nn.Linear(in_features = 512, out_features = 256),\n",
        "    nn.BatchNorm1d(num_features = 256),\n",
        "    nn.ReLU(),\n",
        "    nn.Dropout(p = 0.45),\n",
        "    nn.Linear(in_features = 256, out_features = 128),\n",
        "    nn.ReLU(),\n",
        "    nn.Linear(in_features = 128, out_features = 10)\n",
        ")"
      ],
      "metadata": {
        "id": "brDZ5fXe4fCa"
      },
      "execution_count": 6,
      "outputs": []
    },
    {
      "cell_type": "code",
      "source": [
        "VGG19_pretrained.avgpool = AvgPool_same()\n",
        "VGG19_pretrained.classifier = FC_Net\n",
        "#print(VGG19_pretrained)"
      ],
      "metadata": {
        "id": "RTagC6_z4Zb2"
      },
      "execution_count": 7,
      "outputs": []
    },
    {
      "cell_type": "code",
      "source": [
        "print(f\">>>> Total number of trainable parameters in the transfer VGG19-model:\\\n",
        "{parsCounter(VGG19_pretrained):,} parameters\")"
      ],
      "metadata": {
        "colab": {
          "base_uri": "https://localhost:8080/"
        },
        "id": "pwKIMQ8R5obP",
        "outputId": "866183f6-e5e1-45af-9bd9-58b125506e52"
      },
      "execution_count": 8,
      "outputs": [
        {
          "output_type": "stream",
          "name": "stdout",
          "text": [
            ">>>> Total number of trainable parameters in the transfer VGG19-model:20,190,410 parameters\n"
          ]
        }
      ]
    },
    {
      "cell_type": "code",
      "source": [
        "def metrics(logits: torch.Tensor, labels: torch.Tensor)->float:\n",
        "  if len(labels.unique()) > 2:\n",
        "    preds = torch.softmax(logits, dim = 1).argmax(dim = 1)\n",
        "  else:\n",
        "    preds = torch.round(torch.sigmoid(logits))\n",
        "  acc = torch.eq(preds, labels).sum().item()\n",
        "  acc /= len(labels)\n",
        "  acc *= 100\n",
        "  return acc"
      ],
      "metadata": {
        "id": "Rr2xwByw6B2z"
      },
      "execution_count": 9,
      "outputs": []
    },
    {
      "cell_type": "code",
      "source": [
        "LR = 1e-4\n",
        "optimizer = optim.Adam(params = VGG19_pretrained.parameters(), lr = LR)\n",
        "criterion = CrossEntropyLoss()\n"
      ],
      "metadata": {
        "id": "Fgq-gUSo6_hF"
      },
      "execution_count": 10,
      "outputs": []
    },
    {
      "cell_type": "code",
      "source": [
        "def validation(model: nn.Module,\n",
        "               val_loader: DataLoader,\n",
        "               criterion: nn.Module,\n",
        "               EPOCHS: int = 100\n",
        "               )->None:\n",
        "\n",
        "  total_val_loss = 0\n",
        "  n_samples = 0\n",
        "  model = model.to(device = device)\n",
        "  model.eval()\n",
        "  with torch.inference_mode():\n",
        "    for epoch in tqdm(range(EPOCHS + 1)):\n",
        "      for idx, (data, labels) in enumerate(val_loader):\n",
        "        data = data.repeat(1, 3, 1, 1).to(device = device) # Cast to RGB images\n",
        "        labels = labels.to(device = device)\n",
        "        logits = model(data)\n",
        "        val_loss = criterion(logits, labels)\n",
        "        total_val_loss += val_loss\n",
        "        val_acc = metrics(logits = logits, labels = labels)\n",
        "        n_samples += idx\n",
        "\n",
        "    if epoch % 10 == 0:\n",
        "      print(f\">>>> End of epoch: {epoch + 1 if epoch == 0 else epoch}:\\\n",
        "      \\tValid Loss: {total_val_loss / n_samples:.4f}:\\\n",
        "      \\tValid Accuracy: {val_acc:.2f} %\")\n"
      ],
      "metadata": {
        "id": "BZKSwzeX7Uzq"
      },
      "execution_count": 11,
      "outputs": []
    },
    {
      "cell_type": "code",
      "source": [
        "def trainer(model: nn.Module,\n",
        "            train_loader: DataLoader,\n",
        "            criterion: nn.Module,\n",
        "            optimizer: optim,\n",
        "            EPOCHS: int = 100)->None:\n",
        "  \n",
        "  total_tr_loss = 0\n",
        "  n_samples = 0\n",
        "\n",
        "  model = model.to(device = device)\n",
        "  model.train()\n",
        "\n",
        "  for epoch in tqdm(range(EPOCHS)):\n",
        "    for idx, (data, labels) in enumerate(train_loader):\n",
        "      data = data.repeat(1, 3, 1, 1).to(device = device) # cast to RGB\n",
        "      labels = labels.to(device)\n",
        "\n",
        "      logits = model(data)\n",
        "      tr_loss = criterion(logits, labels)\n",
        "      tr_acc = metrics(logits = logits, labels = labels)\n",
        "      optimizer.zero_grad()\n",
        "      tr_loss.backward()\n",
        "      optimizer.step()\n",
        "      total_tr_loss += tr_loss\n",
        "      n_samples += idx\n",
        "\n",
        "    if epoch % 10 == 0:\n",
        "      print(f\">>>> End of epoch: {epoch + 1 if epoch == 0 else epoch}:\\\n",
        "      \\tTrain Loss: {total_tr_loss / n_samples:.4f}:\\\n",
        "      \\tTrain accuracy: {tr_acc:.2f} %\")"
      ],
      "metadata": {
        "id": "GXQ42h9l-cdr"
      },
      "execution_count": 12,
      "outputs": []
    },
    {
      "cell_type": "code",
      "source": [
        "train_data = datasets.FashionMNIST(root = \"/train/data\",\n",
        "                                   train = True,\n",
        "                                   transform = transforms.Compose([\n",
        "                                       transforms.Resize((32, 32)),\n",
        "                                       transforms.ToTensor()\n",
        "                                   ]),\n",
        "                                   download = True)\n",
        "val_data = datasets.FashionMNIST(root = \"/test/data\", train = False,\n",
        "                                 transform = transforms.Compose(\n",
        "                                     [transforms.Resize((32, 32)),\n",
        "                                      transforms.ToTensor()]\n",
        "                                 ), download = True)\n",
        "train_loader = DataLoader(dataset = train_data, batch_size = BATCH_SIZE,\n",
        "                          shuffle = True)\n",
        "val_loader = DataLoader(dataset = val_data, batch_size = BATCH_SIZE, shuffle = False)\n",
        "\n",
        "x_train, y_train = next(iter(train_loader))\n",
        "x_test, y_test = next(iter(val_loader))\n",
        "assert x_train.shape == x_test.shape == (BATCH_SIZE, 1, 32, 32)\n",
        "assert y_train.shape == y_test.shape == (BATCH_SIZE,)"
      ],
      "metadata": {
        "id": "kogZaesGAsPW"
      },
      "execution_count": 13,
      "outputs": []
    },
    {
      "cell_type": "code",
      "source": [
        "tic = timer()\n",
        "EPOCHS = 100\n",
        "print(f\">>>> Start Training the {VGG19_pretrained.__class__.__name__} pretrained for {EPOCHS} epochs\\\n",
        "ALL PARAMETERS\\n>>>> Please wait...........................................................................\")\n",
        "trainer(model = VGG19_pretrained,\n",
        "        train_loader = train_loader,\n",
        "        criterion = criterion,\n",
        "        optimizer = optimizer,\n",
        "        EPOCHS = EPOCHS)\n",
        "print(f\"\\n>>>> Evaluation: Please wait.......................................................................\")\n",
        "validation(model = VGG19_pretrained,\n",
        "           val_loader = val_loader,\n",
        "           criterion = criterion,\n",
        "           EPOCHS = EPOCHS)\n",
        "print(f\"\\n>>>> End of experiment: Total Time elapsed: {mytimer(timer() - tic)}\")"
      ],
      "metadata": {
        "colab": {
          "base_uri": "https://localhost:8080/",
          "height": 383,
          "referenced_widgets": [
            "29c2aa2df2bd4ae3b3f751d4757848ad",
            "337a61c776684f9da422f65b0d99cfb3",
            "a5918a7f15954b8bb9fd972c7044cf8a",
            "80be1d9a0e69497eaedc9ada78d55ae0",
            "3dcd1d8f4f62499699458843af1cfa1c",
            "2c02e300d30e4dc7971a1ee8c1ad6ea2",
            "d6c5b3777538461cb329135b1aebfd99",
            "b32885a7c8c64fafa4867443ebd1d4c8",
            "5762061387ec4de09c07dfd74d823576",
            "0f3b820038a24f6bb4a7ab5037b319bb",
            "3c864b0431b94e14829e75b7f48f155c",
            "b02d5f4266ae4c149da210e5cce18b84",
            "d7e7a6811ce44fda834e06f27bd60479",
            "a859816b55434d4299953a45696563f7",
            "8c34f2d688a946e395338f8358928220",
            "51d9fca236344547835516d23f1c4588",
            "261bcd03ba8045a2844772ac48bb9417",
            "7fc2625f924847f28125dbeb4c7f07b9",
            "4ad4ef89ae3645739b3c0f2f169b9b83",
            "6f4491d3785c481e98ab04e0726ac93f",
            "122d7aea9e0e498abaa1ff5fa73ab07f",
            "31ac48b53fda4ac2982c6212ffdebd77"
          ]
        },
        "id": "ttmsQMejCp_f",
        "outputId": "d9c6c5b4-223d-4492-904a-4f07bbdec3f6"
      },
      "execution_count": 14,
      "outputs": [
        {
          "output_type": "stream",
          "name": "stdout",
          "text": [
            ">>>> Start Training the VGG pretrained for 100 epochsALL PARAMETERS\n",
            ">>>> Please wait...........................................................................\n"
          ]
        },
        {
          "output_type": "display_data",
          "data": {
            "text/plain": [
              "  0%|          | 0/100 [00:00<?, ?it/s]"
            ],
            "application/vnd.jupyter.widget-view+json": {
              "version_major": 2,
              "version_minor": 0,
              "model_id": "29c2aa2df2bd4ae3b3f751d4757848ad"
            }
          },
          "metadata": {}
        },
        {
          "output_type": "stream",
          "name": "stdout",
          "text": [
            ">>>> End of epoch: 1:      \tTrain Loss: 0.0009:      \tTrain accuracy: 93.75 %\n",
            ">>>> End of epoch: 10:      \tTrain Loss: 0.0003:      \tTrain accuracy: 93.75 %\n",
            ">>>> End of epoch: 20:      \tTrain Loss: 0.0002:      \tTrain accuracy: 90.62 %\n",
            ">>>> End of epoch: 30:      \tTrain Loss: 0.0001:      \tTrain accuracy: 100.00 %\n",
            ">>>> End of epoch: 40:      \tTrain Loss: 0.0001:      \tTrain accuracy: 96.88 %\n",
            ">>>> End of epoch: 50:      \tTrain Loss: 0.0001:      \tTrain accuracy: 100.00 %\n",
            ">>>> End of epoch: 60:      \tTrain Loss: 0.0001:      \tTrain accuracy: 100.00 %\n",
            ">>>> End of epoch: 70:      \tTrain Loss: 0.0001:      \tTrain accuracy: 100.00 %\n",
            ">>>> End of epoch: 80:      \tTrain Loss: 0.0001:      \tTrain accuracy: 100.00 %\n",
            ">>>> End of epoch: 90:      \tTrain Loss: 0.0000:      \tTrain accuracy: 100.00 %\n",
            "\n",
            ">>>> Evaluation: Please wait.......................................................................\n"
          ]
        },
        {
          "output_type": "display_data",
          "data": {
            "text/plain": [
              "  0%|          | 0/101 [00:00<?, ?it/s]"
            ],
            "application/vnd.jupyter.widget-view+json": {
              "version_major": 2,
              "version_minor": 0,
              "model_id": "b02d5f4266ae4c149da210e5cce18b84"
            }
          },
          "metadata": {}
        },
        {
          "output_type": "stream",
          "name": "stdout",
          "text": [
            ">>>> End of epoch: 100:      \tValid Loss: 0.0049:      \tValid Accuracy: 100.00 %\n",
            "\n",
            ">>>> End of experiment: Total Time elapsed: hrs: 1, mins: 06, secs: 06.00\n"
          ]
        }
      ]
    },
    {
      "cell_type": "code",
      "source": [],
      "metadata": {
        "id": "gT6u_8eaFh-V"
      },
      "execution_count": 14,
      "outputs": []
    }
  ]
}