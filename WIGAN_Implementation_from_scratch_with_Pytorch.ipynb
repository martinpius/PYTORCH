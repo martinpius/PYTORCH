{
  "nbformat": 4,
  "nbformat_minor": 0,
  "metadata": {
    "colab": {
      "name": "WIGAN Implementation from scratch with Pytorch.ipynb",
      "provenance": [],
      "collapsed_sections": [],
      "authorship_tag": "ABX9TyM3rxbAy+9q1reUdBMOzKaf",
      "include_colab_link": true
    },
    "kernelspec": {
      "name": "python3",
      "display_name": "Python 3"
    },
    "language_info": {
      "name": "python"
    },
    "accelerator": "GPU",
    "widgets": {
      "application/vnd.jupyter.widget-state+json": {
        "568d95786c3b4f1d89f677a43eac0f6c": {
          "model_module": "@jupyter-widgets/controls",
          "model_name": "HBoxModel",
          "state": {
            "_view_name": "HBoxView",
            "_dom_classes": [],
            "_model_name": "HBoxModel",
            "_view_module": "@jupyter-widgets/controls",
            "_model_module_version": "1.5.0",
            "_view_count": null,
            "_view_module_version": "1.5.0",
            "box_style": "",
            "layout": "IPY_MODEL_258e692765ac4e5ebf2d89012dd9ff7b",
            "_model_module": "@jupyter-widgets/controls",
            "children": [
              "IPY_MODEL_497a32c8503d4133831d547d4f6bdde6",
              "IPY_MODEL_0ea49d2fcd274dd6bef2523a269f1bf1"
            ]
          }
        },
        "258e692765ac4e5ebf2d89012dd9ff7b": {
          "model_module": "@jupyter-widgets/base",
          "model_name": "LayoutModel",
          "state": {
            "_view_name": "LayoutView",
            "grid_template_rows": null,
            "right": null,
            "justify_content": null,
            "_view_module": "@jupyter-widgets/base",
            "overflow": null,
            "_model_module_version": "1.2.0",
            "_view_count": null,
            "flex_flow": null,
            "width": null,
            "min_width": null,
            "border": null,
            "align_items": null,
            "bottom": null,
            "_model_module": "@jupyter-widgets/base",
            "top": null,
            "grid_column": null,
            "overflow_y": null,
            "overflow_x": null,
            "grid_auto_flow": null,
            "grid_area": null,
            "grid_template_columns": null,
            "flex": null,
            "_model_name": "LayoutModel",
            "justify_items": null,
            "grid_row": null,
            "max_height": null,
            "align_content": null,
            "visibility": null,
            "align_self": null,
            "height": null,
            "min_height": null,
            "padding": null,
            "grid_auto_rows": null,
            "grid_gap": null,
            "max_width": null,
            "order": null,
            "_view_module_version": "1.2.0",
            "grid_template_areas": null,
            "object_position": null,
            "object_fit": null,
            "grid_auto_columns": null,
            "margin": null,
            "display": null,
            "left": null
          }
        },
        "497a32c8503d4133831d547d4f6bdde6": {
          "model_module": "@jupyter-widgets/controls",
          "model_name": "FloatProgressModel",
          "state": {
            "_view_name": "ProgressView",
            "style": "IPY_MODEL_24db88a272b1422bbc629f57dc619465",
            "_dom_classes": [],
            "description": "",
            "_model_name": "FloatProgressModel",
            "bar_style": "success",
            "max": 9912422,
            "_view_module": "@jupyter-widgets/controls",
            "_model_module_version": "1.5.0",
            "value": 9912422,
            "_view_count": null,
            "_view_module_version": "1.5.0",
            "orientation": "horizontal",
            "min": 0,
            "description_tooltip": null,
            "_model_module": "@jupyter-widgets/controls",
            "layout": "IPY_MODEL_16daa098e6734f1bb3b55a2c0430e25a"
          }
        },
        "0ea49d2fcd274dd6bef2523a269f1bf1": {
          "model_module": "@jupyter-widgets/controls",
          "model_name": "HTMLModel",
          "state": {
            "_view_name": "HTMLView",
            "style": "IPY_MODEL_a3a5c670b73f45beaa8fb425479f8b7c",
            "_dom_classes": [],
            "description": "",
            "_model_name": "HTMLModel",
            "placeholder": "​",
            "_view_module": "@jupyter-widgets/controls",
            "_model_module_version": "1.5.0",
            "value": " 9913344/? [00:01&lt;00:00, 5922185.06it/s]",
            "_view_count": null,
            "_view_module_version": "1.5.0",
            "description_tooltip": null,
            "_model_module": "@jupyter-widgets/controls",
            "layout": "IPY_MODEL_35f52aded9764720ae9ab4b04e7e87e7"
          }
        },
        "24db88a272b1422bbc629f57dc619465": {
          "model_module": "@jupyter-widgets/controls",
          "model_name": "ProgressStyleModel",
          "state": {
            "_view_name": "StyleView",
            "_model_name": "ProgressStyleModel",
            "description_width": "initial",
            "_view_module": "@jupyter-widgets/base",
            "_model_module_version": "1.5.0",
            "_view_count": null,
            "_view_module_version": "1.2.0",
            "bar_color": null,
            "_model_module": "@jupyter-widgets/controls"
          }
        },
        "16daa098e6734f1bb3b55a2c0430e25a": {
          "model_module": "@jupyter-widgets/base",
          "model_name": "LayoutModel",
          "state": {
            "_view_name": "LayoutView",
            "grid_template_rows": null,
            "right": null,
            "justify_content": null,
            "_view_module": "@jupyter-widgets/base",
            "overflow": null,
            "_model_module_version": "1.2.0",
            "_view_count": null,
            "flex_flow": null,
            "width": null,
            "min_width": null,
            "border": null,
            "align_items": null,
            "bottom": null,
            "_model_module": "@jupyter-widgets/base",
            "top": null,
            "grid_column": null,
            "overflow_y": null,
            "overflow_x": null,
            "grid_auto_flow": null,
            "grid_area": null,
            "grid_template_columns": null,
            "flex": null,
            "_model_name": "LayoutModel",
            "justify_items": null,
            "grid_row": null,
            "max_height": null,
            "align_content": null,
            "visibility": null,
            "align_self": null,
            "height": null,
            "min_height": null,
            "padding": null,
            "grid_auto_rows": null,
            "grid_gap": null,
            "max_width": null,
            "order": null,
            "_view_module_version": "1.2.0",
            "grid_template_areas": null,
            "object_position": null,
            "object_fit": null,
            "grid_auto_columns": null,
            "margin": null,
            "display": null,
            "left": null
          }
        },
        "a3a5c670b73f45beaa8fb425479f8b7c": {
          "model_module": "@jupyter-widgets/controls",
          "model_name": "DescriptionStyleModel",
          "state": {
            "_view_name": "StyleView",
            "_model_name": "DescriptionStyleModel",
            "description_width": "",
            "_view_module": "@jupyter-widgets/base",
            "_model_module_version": "1.5.0",
            "_view_count": null,
            "_view_module_version": "1.2.0",
            "_model_module": "@jupyter-widgets/controls"
          }
        },
        "35f52aded9764720ae9ab4b04e7e87e7": {
          "model_module": "@jupyter-widgets/base",
          "model_name": "LayoutModel",
          "state": {
            "_view_name": "LayoutView",
            "grid_template_rows": null,
            "right": null,
            "justify_content": null,
            "_view_module": "@jupyter-widgets/base",
            "overflow": null,
            "_model_module_version": "1.2.0",
            "_view_count": null,
            "flex_flow": null,
            "width": null,
            "min_width": null,
            "border": null,
            "align_items": null,
            "bottom": null,
            "_model_module": "@jupyter-widgets/base",
            "top": null,
            "grid_column": null,
            "overflow_y": null,
            "overflow_x": null,
            "grid_auto_flow": null,
            "grid_area": null,
            "grid_template_columns": null,
            "flex": null,
            "_model_name": "LayoutModel",
            "justify_items": null,
            "grid_row": null,
            "max_height": null,
            "align_content": null,
            "visibility": null,
            "align_self": null,
            "height": null,
            "min_height": null,
            "padding": null,
            "grid_auto_rows": null,
            "grid_gap": null,
            "max_width": null,
            "order": null,
            "_view_module_version": "1.2.0",
            "grid_template_areas": null,
            "object_position": null,
            "object_fit": null,
            "grid_auto_columns": null,
            "margin": null,
            "display": null,
            "left": null
          }
        },
        "9a4787ac508642559bd2b8ceb67aa011": {
          "model_module": "@jupyter-widgets/controls",
          "model_name": "HBoxModel",
          "state": {
            "_view_name": "HBoxView",
            "_dom_classes": [],
            "_model_name": "HBoxModel",
            "_view_module": "@jupyter-widgets/controls",
            "_model_module_version": "1.5.0",
            "_view_count": null,
            "_view_module_version": "1.5.0",
            "box_style": "",
            "layout": "IPY_MODEL_3b44765d7f8e4d638c25359e3c57b557",
            "_model_module": "@jupyter-widgets/controls",
            "children": [
              "IPY_MODEL_9947578637a840ab94a7afffaaf4a2b4",
              "IPY_MODEL_1e3c27a50f534b6cb67958ba0efc3870"
            ]
          }
        },
        "3b44765d7f8e4d638c25359e3c57b557": {
          "model_module": "@jupyter-widgets/base",
          "model_name": "LayoutModel",
          "state": {
            "_view_name": "LayoutView",
            "grid_template_rows": null,
            "right": null,
            "justify_content": null,
            "_view_module": "@jupyter-widgets/base",
            "overflow": null,
            "_model_module_version": "1.2.0",
            "_view_count": null,
            "flex_flow": null,
            "width": null,
            "min_width": null,
            "border": null,
            "align_items": null,
            "bottom": null,
            "_model_module": "@jupyter-widgets/base",
            "top": null,
            "grid_column": null,
            "overflow_y": null,
            "overflow_x": null,
            "grid_auto_flow": null,
            "grid_area": null,
            "grid_template_columns": null,
            "flex": null,
            "_model_name": "LayoutModel",
            "justify_items": null,
            "grid_row": null,
            "max_height": null,
            "align_content": null,
            "visibility": null,
            "align_self": null,
            "height": null,
            "min_height": null,
            "padding": null,
            "grid_auto_rows": null,
            "grid_gap": null,
            "max_width": null,
            "order": null,
            "_view_module_version": "1.2.0",
            "grid_template_areas": null,
            "object_position": null,
            "object_fit": null,
            "grid_auto_columns": null,
            "margin": null,
            "display": null,
            "left": null
          }
        },
        "9947578637a840ab94a7afffaaf4a2b4": {
          "model_module": "@jupyter-widgets/controls",
          "model_name": "FloatProgressModel",
          "state": {
            "_view_name": "ProgressView",
            "style": "IPY_MODEL_56de172969e14e3687e43db1484e9742",
            "_dom_classes": [],
            "description": "",
            "_model_name": "FloatProgressModel",
            "bar_style": "success",
            "max": 28881,
            "_view_module": "@jupyter-widgets/controls",
            "_model_module_version": "1.5.0",
            "value": 28881,
            "_view_count": null,
            "_view_module_version": "1.5.0",
            "orientation": "horizontal",
            "min": 0,
            "description_tooltip": null,
            "_model_module": "@jupyter-widgets/controls",
            "layout": "IPY_MODEL_2695f8e4d148429c87401f5cc7398f9a"
          }
        },
        "1e3c27a50f534b6cb67958ba0efc3870": {
          "model_module": "@jupyter-widgets/controls",
          "model_name": "HTMLModel",
          "state": {
            "_view_name": "HTMLView",
            "style": "IPY_MODEL_5b3cf2520ca3439aa1e597eeb00818ca",
            "_dom_classes": [],
            "description": "",
            "_model_name": "HTMLModel",
            "placeholder": "​",
            "_view_module": "@jupyter-widgets/controls",
            "_model_module_version": "1.5.0",
            "value": " 29696/? [00:03&lt;00:00, 9194.87it/s]",
            "_view_count": null,
            "_view_module_version": "1.5.0",
            "description_tooltip": null,
            "_model_module": "@jupyter-widgets/controls",
            "layout": "IPY_MODEL_98c0048b4a3b437094be1823dd83f37b"
          }
        },
        "56de172969e14e3687e43db1484e9742": {
          "model_module": "@jupyter-widgets/controls",
          "model_name": "ProgressStyleModel",
          "state": {
            "_view_name": "StyleView",
            "_model_name": "ProgressStyleModel",
            "description_width": "initial",
            "_view_module": "@jupyter-widgets/base",
            "_model_module_version": "1.5.0",
            "_view_count": null,
            "_view_module_version": "1.2.0",
            "bar_color": null,
            "_model_module": "@jupyter-widgets/controls"
          }
        },
        "2695f8e4d148429c87401f5cc7398f9a": {
          "model_module": "@jupyter-widgets/base",
          "model_name": "LayoutModel",
          "state": {
            "_view_name": "LayoutView",
            "grid_template_rows": null,
            "right": null,
            "justify_content": null,
            "_view_module": "@jupyter-widgets/base",
            "overflow": null,
            "_model_module_version": "1.2.0",
            "_view_count": null,
            "flex_flow": null,
            "width": null,
            "min_width": null,
            "border": null,
            "align_items": null,
            "bottom": null,
            "_model_module": "@jupyter-widgets/base",
            "top": null,
            "grid_column": null,
            "overflow_y": null,
            "overflow_x": null,
            "grid_auto_flow": null,
            "grid_area": null,
            "grid_template_columns": null,
            "flex": null,
            "_model_name": "LayoutModel",
            "justify_items": null,
            "grid_row": null,
            "max_height": null,
            "align_content": null,
            "visibility": null,
            "align_self": null,
            "height": null,
            "min_height": null,
            "padding": null,
            "grid_auto_rows": null,
            "grid_gap": null,
            "max_width": null,
            "order": null,
            "_view_module_version": "1.2.0",
            "grid_template_areas": null,
            "object_position": null,
            "object_fit": null,
            "grid_auto_columns": null,
            "margin": null,
            "display": null,
            "left": null
          }
        },
        "5b3cf2520ca3439aa1e597eeb00818ca": {
          "model_module": "@jupyter-widgets/controls",
          "model_name": "DescriptionStyleModel",
          "state": {
            "_view_name": "StyleView",
            "_model_name": "DescriptionStyleModel",
            "description_width": "",
            "_view_module": "@jupyter-widgets/base",
            "_model_module_version": "1.5.0",
            "_view_count": null,
            "_view_module_version": "1.2.0",
            "_model_module": "@jupyter-widgets/controls"
          }
        },
        "98c0048b4a3b437094be1823dd83f37b": {
          "model_module": "@jupyter-widgets/base",
          "model_name": "LayoutModel",
          "state": {
            "_view_name": "LayoutView",
            "grid_template_rows": null,
            "right": null,
            "justify_content": null,
            "_view_module": "@jupyter-widgets/base",
            "overflow": null,
            "_model_module_version": "1.2.0",
            "_view_count": null,
            "flex_flow": null,
            "width": null,
            "min_width": null,
            "border": null,
            "align_items": null,
            "bottom": null,
            "_model_module": "@jupyter-widgets/base",
            "top": null,
            "grid_column": null,
            "overflow_y": null,
            "overflow_x": null,
            "grid_auto_flow": null,
            "grid_area": null,
            "grid_template_columns": null,
            "flex": null,
            "_model_name": "LayoutModel",
            "justify_items": null,
            "grid_row": null,
            "max_height": null,
            "align_content": null,
            "visibility": null,
            "align_self": null,
            "height": null,
            "min_height": null,
            "padding": null,
            "grid_auto_rows": null,
            "grid_gap": null,
            "max_width": null,
            "order": null,
            "_view_module_version": "1.2.0",
            "grid_template_areas": null,
            "object_position": null,
            "object_fit": null,
            "grid_auto_columns": null,
            "margin": null,
            "display": null,
            "left": null
          }
        },
        "c35d779022ef4ed982b1b6b078637681": {
          "model_module": "@jupyter-widgets/controls",
          "model_name": "HBoxModel",
          "state": {
            "_view_name": "HBoxView",
            "_dom_classes": [],
            "_model_name": "HBoxModel",
            "_view_module": "@jupyter-widgets/controls",
            "_model_module_version": "1.5.0",
            "_view_count": null,
            "_view_module_version": "1.5.0",
            "box_style": "",
            "layout": "IPY_MODEL_e07052b20f7f4d1ab3e254f66aa3a382",
            "_model_module": "@jupyter-widgets/controls",
            "children": [
              "IPY_MODEL_32729976018e4b2895504f43a783ed7b",
              "IPY_MODEL_4bd0eb9aa78744a88a345c8e8b21eeba"
            ]
          }
        },
        "e07052b20f7f4d1ab3e254f66aa3a382": {
          "model_module": "@jupyter-widgets/base",
          "model_name": "LayoutModel",
          "state": {
            "_view_name": "LayoutView",
            "grid_template_rows": null,
            "right": null,
            "justify_content": null,
            "_view_module": "@jupyter-widgets/base",
            "overflow": null,
            "_model_module_version": "1.2.0",
            "_view_count": null,
            "flex_flow": null,
            "width": null,
            "min_width": null,
            "border": null,
            "align_items": null,
            "bottom": null,
            "_model_module": "@jupyter-widgets/base",
            "top": null,
            "grid_column": null,
            "overflow_y": null,
            "overflow_x": null,
            "grid_auto_flow": null,
            "grid_area": null,
            "grid_template_columns": null,
            "flex": null,
            "_model_name": "LayoutModel",
            "justify_items": null,
            "grid_row": null,
            "max_height": null,
            "align_content": null,
            "visibility": null,
            "align_self": null,
            "height": null,
            "min_height": null,
            "padding": null,
            "grid_auto_rows": null,
            "grid_gap": null,
            "max_width": null,
            "order": null,
            "_view_module_version": "1.2.0",
            "grid_template_areas": null,
            "object_position": null,
            "object_fit": null,
            "grid_auto_columns": null,
            "margin": null,
            "display": null,
            "left": null
          }
        },
        "32729976018e4b2895504f43a783ed7b": {
          "model_module": "@jupyter-widgets/controls",
          "model_name": "FloatProgressModel",
          "state": {
            "_view_name": "ProgressView",
            "style": "IPY_MODEL_1afb007124164c7da781b0b6f8fa623e",
            "_dom_classes": [],
            "description": "",
            "_model_name": "FloatProgressModel",
            "bar_style": "success",
            "max": 1648877,
            "_view_module": "@jupyter-widgets/controls",
            "_model_module_version": "1.5.0",
            "value": 1648877,
            "_view_count": null,
            "_view_module_version": "1.5.0",
            "orientation": "horizontal",
            "min": 0,
            "description_tooltip": null,
            "_model_module": "@jupyter-widgets/controls",
            "layout": "IPY_MODEL_c38414bc3f5f4b229beb54dff7b3d475"
          }
        },
        "4bd0eb9aa78744a88a345c8e8b21eeba": {
          "model_module": "@jupyter-widgets/controls",
          "model_name": "HTMLModel",
          "state": {
            "_view_name": "HTMLView",
            "style": "IPY_MODEL_c19860f8782a4114b6cf78a4e7cf5eed",
            "_dom_classes": [],
            "description": "",
            "_model_name": "HTMLModel",
            "placeholder": "​",
            "_view_module": "@jupyter-widgets/controls",
            "_model_module_version": "1.5.0",
            "value": " 1649664/? [00:01&lt;00:00, 855617.94it/s]",
            "_view_count": null,
            "_view_module_version": "1.5.0",
            "description_tooltip": null,
            "_model_module": "@jupyter-widgets/controls",
            "layout": "IPY_MODEL_dfa825b5b13040709aeeaf99ca7ee394"
          }
        },
        "1afb007124164c7da781b0b6f8fa623e": {
          "model_module": "@jupyter-widgets/controls",
          "model_name": "ProgressStyleModel",
          "state": {
            "_view_name": "StyleView",
            "_model_name": "ProgressStyleModel",
            "description_width": "initial",
            "_view_module": "@jupyter-widgets/base",
            "_model_module_version": "1.5.0",
            "_view_count": null,
            "_view_module_version": "1.2.0",
            "bar_color": null,
            "_model_module": "@jupyter-widgets/controls"
          }
        },
        "c38414bc3f5f4b229beb54dff7b3d475": {
          "model_module": "@jupyter-widgets/base",
          "model_name": "LayoutModel",
          "state": {
            "_view_name": "LayoutView",
            "grid_template_rows": null,
            "right": null,
            "justify_content": null,
            "_view_module": "@jupyter-widgets/base",
            "overflow": null,
            "_model_module_version": "1.2.0",
            "_view_count": null,
            "flex_flow": null,
            "width": null,
            "min_width": null,
            "border": null,
            "align_items": null,
            "bottom": null,
            "_model_module": "@jupyter-widgets/base",
            "top": null,
            "grid_column": null,
            "overflow_y": null,
            "overflow_x": null,
            "grid_auto_flow": null,
            "grid_area": null,
            "grid_template_columns": null,
            "flex": null,
            "_model_name": "LayoutModel",
            "justify_items": null,
            "grid_row": null,
            "max_height": null,
            "align_content": null,
            "visibility": null,
            "align_self": null,
            "height": null,
            "min_height": null,
            "padding": null,
            "grid_auto_rows": null,
            "grid_gap": null,
            "max_width": null,
            "order": null,
            "_view_module_version": "1.2.0",
            "grid_template_areas": null,
            "object_position": null,
            "object_fit": null,
            "grid_auto_columns": null,
            "margin": null,
            "display": null,
            "left": null
          }
        },
        "c19860f8782a4114b6cf78a4e7cf5eed": {
          "model_module": "@jupyter-widgets/controls",
          "model_name": "DescriptionStyleModel",
          "state": {
            "_view_name": "StyleView",
            "_model_name": "DescriptionStyleModel",
            "description_width": "",
            "_view_module": "@jupyter-widgets/base",
            "_model_module_version": "1.5.0",
            "_view_count": null,
            "_view_module_version": "1.2.0",
            "_model_module": "@jupyter-widgets/controls"
          }
        },
        "dfa825b5b13040709aeeaf99ca7ee394": {
          "model_module": "@jupyter-widgets/base",
          "model_name": "LayoutModel",
          "state": {
            "_view_name": "LayoutView",
            "grid_template_rows": null,
            "right": null,
            "justify_content": null,
            "_view_module": "@jupyter-widgets/base",
            "overflow": null,
            "_model_module_version": "1.2.0",
            "_view_count": null,
            "flex_flow": null,
            "width": null,
            "min_width": null,
            "border": null,
            "align_items": null,
            "bottom": null,
            "_model_module": "@jupyter-widgets/base",
            "top": null,
            "grid_column": null,
            "overflow_y": null,
            "overflow_x": null,
            "grid_auto_flow": null,
            "grid_area": null,
            "grid_template_columns": null,
            "flex": null,
            "_model_name": "LayoutModel",
            "justify_items": null,
            "grid_row": null,
            "max_height": null,
            "align_content": null,
            "visibility": null,
            "align_self": null,
            "height": null,
            "min_height": null,
            "padding": null,
            "grid_auto_rows": null,
            "grid_gap": null,
            "max_width": null,
            "order": null,
            "_view_module_version": "1.2.0",
            "grid_template_areas": null,
            "object_position": null,
            "object_fit": null,
            "grid_auto_columns": null,
            "margin": null,
            "display": null,
            "left": null
          }
        },
        "897b7048fbd140b2a5c421b94fea5d8b": {
          "model_module": "@jupyter-widgets/controls",
          "model_name": "HBoxModel",
          "state": {
            "_view_name": "HBoxView",
            "_dom_classes": [],
            "_model_name": "HBoxModel",
            "_view_module": "@jupyter-widgets/controls",
            "_model_module_version": "1.5.0",
            "_view_count": null,
            "_view_module_version": "1.5.0",
            "box_style": "",
            "layout": "IPY_MODEL_732151fb0a4d4fe19db45ec310fb2022",
            "_model_module": "@jupyter-widgets/controls",
            "children": [
              "IPY_MODEL_e7d7f869a269425ca59463c474e9a82d",
              "IPY_MODEL_b8155821116141369c286cfcc0384846"
            ]
          }
        },
        "732151fb0a4d4fe19db45ec310fb2022": {
          "model_module": "@jupyter-widgets/base",
          "model_name": "LayoutModel",
          "state": {
            "_view_name": "LayoutView",
            "grid_template_rows": null,
            "right": null,
            "justify_content": null,
            "_view_module": "@jupyter-widgets/base",
            "overflow": null,
            "_model_module_version": "1.2.0",
            "_view_count": null,
            "flex_flow": null,
            "width": null,
            "min_width": null,
            "border": null,
            "align_items": null,
            "bottom": null,
            "_model_module": "@jupyter-widgets/base",
            "top": null,
            "grid_column": null,
            "overflow_y": null,
            "overflow_x": null,
            "grid_auto_flow": null,
            "grid_area": null,
            "grid_template_columns": null,
            "flex": null,
            "_model_name": "LayoutModel",
            "justify_items": null,
            "grid_row": null,
            "max_height": null,
            "align_content": null,
            "visibility": null,
            "align_self": null,
            "height": null,
            "min_height": null,
            "padding": null,
            "grid_auto_rows": null,
            "grid_gap": null,
            "max_width": null,
            "order": null,
            "_view_module_version": "1.2.0",
            "grid_template_areas": null,
            "object_position": null,
            "object_fit": null,
            "grid_auto_columns": null,
            "margin": null,
            "display": null,
            "left": null
          }
        },
        "e7d7f869a269425ca59463c474e9a82d": {
          "model_module": "@jupyter-widgets/controls",
          "model_name": "FloatProgressModel",
          "state": {
            "_view_name": "ProgressView",
            "style": "IPY_MODEL_14a472f73cd64fe789be758443ac6e1f",
            "_dom_classes": [],
            "description": "",
            "_model_name": "FloatProgressModel",
            "bar_style": "success",
            "max": 4542,
            "_view_module": "@jupyter-widgets/controls",
            "_model_module_version": "1.5.0",
            "value": 4542,
            "_view_count": null,
            "_view_module_version": "1.5.0",
            "orientation": "horizontal",
            "min": 0,
            "description_tooltip": null,
            "_model_module": "@jupyter-widgets/controls",
            "layout": "IPY_MODEL_6c72bc10a57b4fe5bd344e4b3f749fae"
          }
        },
        "b8155821116141369c286cfcc0384846": {
          "model_module": "@jupyter-widgets/controls",
          "model_name": "HTMLModel",
          "state": {
            "_view_name": "HTMLView",
            "style": "IPY_MODEL_210e59da9d304b99b332d7826a62acdf",
            "_dom_classes": [],
            "description": "",
            "_model_name": "HTMLModel",
            "placeholder": "​",
            "_view_module": "@jupyter-widgets/controls",
            "_model_module_version": "1.5.0",
            "value": " 5120/? [00:00&lt;00:00, 14332.09it/s]",
            "_view_count": null,
            "_view_module_version": "1.5.0",
            "description_tooltip": null,
            "_model_module": "@jupyter-widgets/controls",
            "layout": "IPY_MODEL_96211e1ac7e44b6e8a34115ef9fc4b55"
          }
        },
        "14a472f73cd64fe789be758443ac6e1f": {
          "model_module": "@jupyter-widgets/controls",
          "model_name": "ProgressStyleModel",
          "state": {
            "_view_name": "StyleView",
            "_model_name": "ProgressStyleModel",
            "description_width": "initial",
            "_view_module": "@jupyter-widgets/base",
            "_model_module_version": "1.5.0",
            "_view_count": null,
            "_view_module_version": "1.2.0",
            "bar_color": null,
            "_model_module": "@jupyter-widgets/controls"
          }
        },
        "6c72bc10a57b4fe5bd344e4b3f749fae": {
          "model_module": "@jupyter-widgets/base",
          "model_name": "LayoutModel",
          "state": {
            "_view_name": "LayoutView",
            "grid_template_rows": null,
            "right": null,
            "justify_content": null,
            "_view_module": "@jupyter-widgets/base",
            "overflow": null,
            "_model_module_version": "1.2.0",
            "_view_count": null,
            "flex_flow": null,
            "width": null,
            "min_width": null,
            "border": null,
            "align_items": null,
            "bottom": null,
            "_model_module": "@jupyter-widgets/base",
            "top": null,
            "grid_column": null,
            "overflow_y": null,
            "overflow_x": null,
            "grid_auto_flow": null,
            "grid_area": null,
            "grid_template_columns": null,
            "flex": null,
            "_model_name": "LayoutModel",
            "justify_items": null,
            "grid_row": null,
            "max_height": null,
            "align_content": null,
            "visibility": null,
            "align_self": null,
            "height": null,
            "min_height": null,
            "padding": null,
            "grid_auto_rows": null,
            "grid_gap": null,
            "max_width": null,
            "order": null,
            "_view_module_version": "1.2.0",
            "grid_template_areas": null,
            "object_position": null,
            "object_fit": null,
            "grid_auto_columns": null,
            "margin": null,
            "display": null,
            "left": null
          }
        },
        "210e59da9d304b99b332d7826a62acdf": {
          "model_module": "@jupyter-widgets/controls",
          "model_name": "DescriptionStyleModel",
          "state": {
            "_view_name": "StyleView",
            "_model_name": "DescriptionStyleModel",
            "description_width": "",
            "_view_module": "@jupyter-widgets/base",
            "_model_module_version": "1.5.0",
            "_view_count": null,
            "_view_module_version": "1.2.0",
            "_model_module": "@jupyter-widgets/controls"
          }
        },
        "96211e1ac7e44b6e8a34115ef9fc4b55": {
          "model_module": "@jupyter-widgets/base",
          "model_name": "LayoutModel",
          "state": {
            "_view_name": "LayoutView",
            "grid_template_rows": null,
            "right": null,
            "justify_content": null,
            "_view_module": "@jupyter-widgets/base",
            "overflow": null,
            "_model_module_version": "1.2.0",
            "_view_count": null,
            "flex_flow": null,
            "width": null,
            "min_width": null,
            "border": null,
            "align_items": null,
            "bottom": null,
            "_model_module": "@jupyter-widgets/base",
            "top": null,
            "grid_column": null,
            "overflow_y": null,
            "overflow_x": null,
            "grid_auto_flow": null,
            "grid_area": null,
            "grid_template_columns": null,
            "flex": null,
            "_model_name": "LayoutModel",
            "justify_items": null,
            "grid_row": null,
            "max_height": null,
            "align_content": null,
            "visibility": null,
            "align_self": null,
            "height": null,
            "min_height": null,
            "padding": null,
            "grid_auto_rows": null,
            "grid_gap": null,
            "max_width": null,
            "order": null,
            "_view_module_version": "1.2.0",
            "grid_template_areas": null,
            "object_position": null,
            "object_fit": null,
            "grid_auto_columns": null,
            "margin": null,
            "display": null,
            "left": null
          }
        }
      }
    }
  },
  "cells": [
    {
      "cell_type": "markdown",
      "metadata": {
        "id": "view-in-github",
        "colab_type": "text"
      },
      "source": [
        "<a href=\"https://colab.research.google.com/github/martinpius/PYTORCH/blob/main/WIGAN_Implementation_from_scratch_with_Pytorch.ipynb\" target=\"_parent\"><img src=\"https://colab.research.google.com/assets/colab-badge.svg\" alt=\"Open In Colab\"/></a>"
      ]
    },
    {
      "cell_type": "code",
      "metadata": {
        "colab": {
          "base_uri": "https://localhost:8080/"
        },
        "id": "frNCyYExxU7w",
        "outputId": "46b1eb7a-ea6b-44d4-a57a-dbc10929a7f3"
      },
      "source": [
        "#seting-up the CoLaB environment and the GPU device if available\n",
        "from google.colab import drive\n",
        "drive.mount(\"/content/drive\", force_remount = True)\n",
        "try:\n",
        "  COLAB = True\n",
        "  import torch\n",
        "  print(f\">>>>You are on CoLaB with torch version: {torch.__version__}\")\n",
        "except Exception as e:\n",
        "  print(f\">>>>{type(e)}: {e}\\n>>>>please correct {type(e)} and reload\")\n",
        "  COLAB = False\n",
        "if torch.cuda.is_available():\n",
        "  device = torch.device(\"cuda\")\n",
        "else:\n",
        "  device = torch.device(\"cpu\")\n",
        "def time_fmt(t: float = 126.891)->float:\n",
        "  h = int(t / (60 * 60))\n",
        "  m = int(t % (60 * 60) / 60)\n",
        "  s = int(t % 60)\n",
        "  return f\"{h} hrs: {m:>02} min: {s:>05.2f} sec\"\n",
        "print(f\">>>>time formating:\\tplease wait.....\\n>>>>time elapsed is\\t{time_fmt()}\")"
      ],
      "execution_count": 1,
      "outputs": [
        {
          "output_type": "stream",
          "text": [
            "Mounted at /content/drive\n",
            ">>>>You are on CoLaB with torch version: 1.8.1+cu101\n",
            ">>>>time formating:\tplease wait.....\n",
            ">>>>time elapsed is\t0 hrs: 02 min: 06.00 sec\n"
          ],
          "name": "stdout"
        }
      ]
    },
    {
      "cell_type": "code",
      "metadata": {
        "id": "2-gJgzK_zKqx"
      },
      "source": [
        "#In this notebook we are going to train an improved DCGAN using Wasserstein Loss\n",
        "#On the nutshell this is an implementantion of WGAN."
      ],
      "execution_count": 2,
      "outputs": []
    },
    {
      "cell_type": "code",
      "metadata": {
        "id": "I5eQ2bjO1deh"
      },
      "source": [
        "#Importing modules and set-up the seed values for reproducability \n",
        "# we also setting the gpu to deterministic to avoid errors during training\n"
      ],
      "execution_count": 3,
      "outputs": []
    },
    {
      "cell_type": "code",
      "metadata": {
        "id": "Myk7YSR-17Dn"
      },
      "source": [
        "import torch\n",
        "import torchvision\n",
        "import numpy as np\n",
        "import torch.nn as nn\n",
        "import torch.optim as optim\n",
        "import torchvision.datasets as datasets\n",
        "import torchvision.transforms as transforms\n",
        "from torch.utils.data import DataLoader\n",
        "from torch.utils.tensorboard import SummaryWriter\n",
        "from tqdm import tqdm\n",
        "import time, random, math\n"
      ],
      "execution_count": 4,
      "outputs": []
    },
    {
      "cell_type": "code",
      "metadata": {
        "id": "WQZHeNNl2gVr"
      },
      "source": [
        "seed = 1234\n",
        "random.seed(seed)\n",
        "np.random.seed(seed)\n",
        "torch.manual_seed(seed)\n",
        "torch.cuda.manual_seed(seed)\n",
        "torch.backends.cudnn.deterministic = True"
      ],
      "execution_count": 5,
      "outputs": []
    },
    {
      "cell_type": "code",
      "metadata": {
        "id": "dK0E9tv73Jyq"
      },
      "source": [
        "#This model is a typical GAN architecture with the few difference on the loss function and training loop\n",
        "#We have both the Generator and the discriminator as in a ussual DCGAN (Using CNN architecture)\n",
        "#For demonstration we are going to use MNIST images but any images can be imployed here:"
      ],
      "execution_count": 6,
      "outputs": []
    },
    {
      "cell_type": "code",
      "metadata": {
        "id": "dfntuROx3rJ8"
      },
      "source": [
        "#The following class build the discriminator network:\n",
        "class Discriminator(nn.Module):\n",
        "  def __init__(self, img_channels, d_features):\n",
        "    super(Discriminator, self).__init__()\n",
        "    self.discriminator = nn.Sequential(\n",
        "        nn.Conv2d(img_channels,\n",
        "                  d_features,\n",
        "                  kernel_size = 4,\n",
        "                  stride = 2,\n",
        "                  padding = 1),\n",
        "        nn.LeakyReLU(0.2),\n",
        "        self.__dblock__(d_features, 2*d_features, 4, 2, 1),\n",
        "        self.__dblock__(2*d_features, 4*d_features, 4,2,1),\n",
        "        self.__dblock__(4*d_features, 8*d_features, 4,2,1),\n",
        "        nn.Conv2d(8*d_features, 1, kernel_size = 4, stride = 2, padding = 0))\n",
        "  def __dblock__(self, in_channels, out_channels, kernel_size, stride, padding):\n",
        "    return nn.Sequential(\n",
        "        nn.Conv2d(\n",
        "            in_channels,\n",
        "            out_channels,\n",
        "            kernel_size,\n",
        "            stride,\n",
        "            padding,\n",
        "            bias = False\n",
        "        ),\n",
        "      nn.BatchNorm2d(out_channels),\n",
        "      nn.LeakyReLU(0.2))\n",
        "  \n",
        "  def forward(self, input_tensor):\n",
        "    return self.discriminator(input_tensor)"
      ],
      "execution_count": 7,
      "outputs": []
    },
    {
      "cell_type": "code",
      "metadata": {
        "id": "_rqfmGOq8Hgg"
      },
      "source": [
        "#The following class build the generator network:\n",
        "class Generator(nn.Module):\n",
        "  def __init__(self, z_dim, in_channels, g_features):\n",
        "    super(Generator, self).__init__()\n",
        "    self.generator = nn.Sequential(\n",
        "        self.__gblock__(z_dim, g_features*16, 4, 2, 0),\n",
        "        self.__gblock__(g_features*16, g_features*8, 4,2,1),\n",
        "        self.__gblock__(g_features*8, g_features*4, 4,2,1),\n",
        "        self.__gblock__(g_features*4, g_features*2, 4, 2,1),\n",
        "        nn.ConvTranspose2d(2*g_features, in_channels, kernel_size = 4, stride = 2, padding = 1),\n",
        "        nn.Tanh())\n",
        "\n",
        "  def __gblock__(self, in_channels, out_channels, kernel_size, stride, padding):\n",
        "    return nn.Sequential(\n",
        "        nn.ConvTranspose2d(\n",
        "            in_channels,\n",
        "            out_channels,\n",
        "            kernel_size,\n",
        "            stride,\n",
        "            padding,\n",
        "            bias = False\n",
        "        ),\n",
        "      nn.BatchNorm2d(out_channels),\n",
        "      nn.ReLU()\n",
        "    )\n",
        "  \n",
        "  def forward(self, input_tensor):\n",
        "    return self.generator(input_tensor)\n",
        "  "
      ],
      "execution_count": 8,
      "outputs": []
    },
    {
      "cell_type": "code",
      "metadata": {
        "id": "oO6w7WLKEjDO"
      },
      "source": [
        "#We can test the above classes if they yield the intended outputs:\n",
        "#The generator must give an image as output and the discriminator must\n",
        "#give a probability (sigmoid) to classify the input as fake/real"
      ],
      "execution_count": 9,
      "outputs": []
    },
    {
      "cell_type": "code",
      "metadata": {
        "id": "wtV4gKbbFBDk"
      },
      "source": [
        "def __test__():\n",
        "  img_channels = 3\n",
        "  batch_size = 64\n",
        "  z_dim = 100\n",
        "  H, W = 64, 64\n",
        "  rand_noise = torch.randn((batch_size, z_dim, 1,1))\n",
        "  rand_img = torch.randn((batch_size,img_channels,H,W))\n",
        "  disc = Discriminator(img_channels, 8)\n",
        "  gen = Generator(z_dim, img_channels, 8)\n",
        "  gen_out = gen(rand_noise)\n",
        "  disc_out = disc(rand_img)\n",
        "  return gen_out.shape, disc_out.shape"
      ],
      "execution_count": 10,
      "outputs": []
    },
    {
      "cell_type": "code",
      "metadata": {
        "colab": {
          "base_uri": "https://localhost:8080/"
        },
        "id": "0qGeJFjvGdhI",
        "outputId": "8a915533-cee8-454c-f6e9-d7f1e92aaad3"
      },
      "source": [
        "__test__()"
      ],
      "execution_count": 11,
      "outputs": [
        {
          "output_type": "execute_result",
          "data": {
            "text/plain": [
              "(torch.Size([64, 3, 64, 64]), torch.Size([64, 1, 1, 1]))"
            ]
          },
          "metadata": {
            "tags": []
          },
          "execution_count": 11
        }
      ]
    },
    {
      "cell_type": "code",
      "metadata": {
        "id": "ZkMuYoPOGgHM"
      },
      "source": [
        "#We initialize the parameters to random normal distribution with mean 0 and std 0.01\n",
        "def __par__(model):\n",
        "  for m in model.modules():\n",
        "    if isinstance(m, (nn.Conv2d, nn.ConvTranspose2d, nn.BatchNorm2d)):\n",
        "      nn.init.normal_(m.weight.data, mean = 0.00, std = 0.01)"
      ],
      "execution_count": 12,
      "outputs": []
    },
    {
      "cell_type": "code",
      "metadata": {
        "id": "rj9pY_i1PJoi"
      },
      "source": [
        "#Hyperparameters to used for training this model:\n",
        "learning_rate = 5e-5\n",
        "batch_size = 64\n",
        "img_size = 64\n",
        "z_dim = 100\n",
        "g_features = 64\n",
        "d_features = 64\n",
        "img_channels = 1#may be any number of channel..works with rgb too\n",
        "EPOCHS = 10\n",
        "clip_interval = 0.01\n",
        "disc_iter = 5\n"
      ],
      "execution_count": 13,
      "outputs": []
    },
    {
      "cell_type": "code",
      "metadata": {
        "id": "GU-2_oWHQrDO"
      },
      "source": [
        "#Instantiate the model class and initialize the weights using the above function:\n",
        "generator = Generator(z_dim, img_channels,g_features).to(device = device)\n",
        "discriminator = Discriminator(img_channels, d_features).to(device = device)\n",
        "__par__(generator)\n",
        "__par__(discriminator)"
      ],
      "execution_count": 14,
      "outputs": []
    },
    {
      "cell_type": "code",
      "metadata": {
        "colab": {
          "base_uri": "https://localhost:8080/",
          "height": 828,
          "referenced_widgets": [
            "568d95786c3b4f1d89f677a43eac0f6c",
            "258e692765ac4e5ebf2d89012dd9ff7b",
            "497a32c8503d4133831d547d4f6bdde6",
            "0ea49d2fcd274dd6bef2523a269f1bf1",
            "24db88a272b1422bbc629f57dc619465",
            "16daa098e6734f1bb3b55a2c0430e25a",
            "a3a5c670b73f45beaa8fb425479f8b7c",
            "35f52aded9764720ae9ab4b04e7e87e7",
            "9a4787ac508642559bd2b8ceb67aa011",
            "3b44765d7f8e4d638c25359e3c57b557",
            "9947578637a840ab94a7afffaaf4a2b4",
            "1e3c27a50f534b6cb67958ba0efc3870",
            "56de172969e14e3687e43db1484e9742",
            "2695f8e4d148429c87401f5cc7398f9a",
            "5b3cf2520ca3439aa1e597eeb00818ca",
            "98c0048b4a3b437094be1823dd83f37b",
            "c35d779022ef4ed982b1b6b078637681",
            "e07052b20f7f4d1ab3e254f66aa3a382",
            "32729976018e4b2895504f43a783ed7b",
            "4bd0eb9aa78744a88a345c8e8b21eeba",
            "1afb007124164c7da781b0b6f8fa623e",
            "c38414bc3f5f4b229beb54dff7b3d475",
            "c19860f8782a4114b6cf78a4e7cf5eed",
            "dfa825b5b13040709aeeaf99ca7ee394",
            "897b7048fbd140b2a5c421b94fea5d8b",
            "732151fb0a4d4fe19db45ec310fb2022",
            "e7d7f869a269425ca59463c474e9a82d",
            "b8155821116141369c286cfcc0384846",
            "14a472f73cd64fe789be758443ac6e1f",
            "6c72bc10a57b4fe5bd344e4b3f749fae",
            "210e59da9d304b99b332d7826a62acdf",
            "96211e1ac7e44b6e8a34115ef9fc4b55"
          ]
        },
        "id": "L7K2On0mRRh0",
        "outputId": "7b55ce1d-bc25-4d67-b079-135ada46e377"
      },
      "source": [
        "#Loading and preprocessing the data using transforms module:\n",
        "transforms = transforms.Compose([\n",
        "                                 transforms.ToTensor(),\n",
        "                                 transforms.Resize(img_size),\n",
        "                                 transforms.Normalize(\n",
        "                                     [0.5 for _ in range(img_channels)], [0.5 for _ in range(img_channels)]\n",
        "                                 )])\n",
        "dfm = datasets.MNIST(root = \"mnist_data/\",transform = transforms, download = True)\n",
        "loader = DataLoader(dataset = dfm, shuffle = True, batch_size = batch_size)\n",
        "x_dfm, y_dfm = next(iter(loader))\n",
        "print(f\"x_dfm_shape: {x_dfm.shape}\\ty_dfm_shape: {y_dfm.shape}\")"
      ],
      "execution_count": 15,
      "outputs": [
        {
          "output_type": "stream",
          "text": [
            "Downloading http://yann.lecun.com/exdb/mnist/train-images-idx3-ubyte.gz\n",
            "Downloading http://yann.lecun.com/exdb/mnist/train-images-idx3-ubyte.gz to mnist_data/MNIST/raw/train-images-idx3-ubyte.gz\n",
            "Failed to download (trying next):\n",
            "HTTP Error 503: Service Unavailable\n",
            "\n",
            "Downloading https://ossci-datasets.s3.amazonaws.com/mnist/train-images-idx3-ubyte.gz\n",
            "Downloading https://ossci-datasets.s3.amazonaws.com/mnist/train-images-idx3-ubyte.gz to mnist_data/MNIST/raw/train-images-idx3-ubyte.gz\n"
          ],
          "name": "stdout"
        },
        {
          "output_type": "display_data",
          "data": {
            "application/vnd.jupyter.widget-view+json": {
              "model_id": "568d95786c3b4f1d89f677a43eac0f6c",
              "version_minor": 0,
              "version_major": 2
            },
            "text/plain": [
              "HBox(children=(FloatProgress(value=0.0, max=9912422.0), HTML(value='')))"
            ]
          },
          "metadata": {
            "tags": []
          }
        },
        {
          "output_type": "stream",
          "text": [
            "\n",
            "Extracting mnist_data/MNIST/raw/train-images-idx3-ubyte.gz to mnist_data/MNIST/raw\n",
            "\n",
            "Downloading http://yann.lecun.com/exdb/mnist/train-labels-idx1-ubyte.gz\n",
            "Downloading http://yann.lecun.com/exdb/mnist/train-labels-idx1-ubyte.gz to mnist_data/MNIST/raw/train-labels-idx1-ubyte.gz\n"
          ],
          "name": "stdout"
        },
        {
          "output_type": "display_data",
          "data": {
            "application/vnd.jupyter.widget-view+json": {
              "model_id": "9a4787ac508642559bd2b8ceb67aa011",
              "version_minor": 0,
              "version_major": 2
            },
            "text/plain": [
              "HBox(children=(FloatProgress(value=0.0, max=28881.0), HTML(value='')))"
            ]
          },
          "metadata": {
            "tags": []
          }
        },
        {
          "output_type": "stream",
          "text": [
            "\n",
            "Extracting mnist_data/MNIST/raw/train-labels-idx1-ubyte.gz to mnist_data/MNIST/raw\n",
            "\n",
            "Downloading http://yann.lecun.com/exdb/mnist/t10k-images-idx3-ubyte.gz\n",
            "Downloading http://yann.lecun.com/exdb/mnist/t10k-images-idx3-ubyte.gz to mnist_data/MNIST/raw/t10k-images-idx3-ubyte.gz\n",
            "Failed to download (trying next):\n",
            "HTTP Error 503: Service Unavailable\n",
            "\n",
            "Downloading https://ossci-datasets.s3.amazonaws.com/mnist/t10k-images-idx3-ubyte.gz\n",
            "Downloading https://ossci-datasets.s3.amazonaws.com/mnist/t10k-images-idx3-ubyte.gz to mnist_data/MNIST/raw/t10k-images-idx3-ubyte.gz\n"
          ],
          "name": "stdout"
        },
        {
          "output_type": "display_data",
          "data": {
            "application/vnd.jupyter.widget-view+json": {
              "model_id": "c35d779022ef4ed982b1b6b078637681",
              "version_minor": 0,
              "version_major": 2
            },
            "text/plain": [
              "HBox(children=(FloatProgress(value=0.0, max=1648877.0), HTML(value='')))"
            ]
          },
          "metadata": {
            "tags": []
          }
        },
        {
          "output_type": "stream",
          "text": [
            "\n",
            "Extracting mnist_data/MNIST/raw/t10k-images-idx3-ubyte.gz to mnist_data/MNIST/raw\n",
            "\n",
            "Downloading http://yann.lecun.com/exdb/mnist/t10k-labels-idx1-ubyte.gz\n",
            "Failed to download (trying next):\n",
            "HTTP Error 503: Service Unavailable\n",
            "\n",
            "Downloading https://ossci-datasets.s3.amazonaws.com/mnist/t10k-labels-idx1-ubyte.gz\n",
            "Downloading https://ossci-datasets.s3.amazonaws.com/mnist/t10k-labels-idx1-ubyte.gz to mnist_data/MNIST/raw/t10k-labels-idx1-ubyte.gz\n"
          ],
          "name": "stdout"
        },
        {
          "output_type": "display_data",
          "data": {
            "application/vnd.jupyter.widget-view+json": {
              "model_id": "897b7048fbd140b2a5c421b94fea5d8b",
              "version_minor": 0,
              "version_major": 2
            },
            "text/plain": [
              "HBox(children=(FloatProgress(value=0.0, max=4542.0), HTML(value='')))"
            ]
          },
          "metadata": {
            "tags": []
          }
        },
        {
          "output_type": "stream",
          "text": [
            "\n",
            "Extracting mnist_data/MNIST/raw/t10k-labels-idx1-ubyte.gz to mnist_data/MNIST/raw\n",
            "\n",
            "Processing...\n",
            "Done!\n"
          ],
          "name": "stdout"
        },
        {
          "output_type": "stream",
          "text": [
            "/usr/local/lib/python3.7/dist-packages/torchvision/datasets/mnist.py:502: UserWarning: The given NumPy array is not writeable, and PyTorch does not support non-writeable tensors. This means you can write to the underlying (supposedly non-writeable) NumPy array using the tensor. You may want to copy the array to protect its data or make it writeable before converting it to a tensor. This type of warning will be suppressed for the rest of this program. (Triggered internally at  /pytorch/torch/csrc/utils/tensor_numpy.cpp:143.)\n",
            "  return torch.from_numpy(parsed.astype(m[2], copy=False)).view(*s)\n"
          ],
          "name": "stderr"
        },
        {
          "output_type": "stream",
          "text": [
            "x_dfm_shape: torch.Size([64, 1, 64, 64])\ty_dfm_shape: torch.Size([64])\n"
          ],
          "name": "stdout"
        }
      ]
    },
    {
      "cell_type": "code",
      "metadata": {
        "id": "srUDRPjPSI0O"
      },
      "source": [
        "#Get the optimizers objects:\n",
        "#Note: we are going to use RMSprop optimizer exclusively for better results as suggested in WGAN paper\n",
        "#We are going to apply WASERSTEIN LOSS instead of BINARY CROSS ENTROPY so for BCE object in this case"
      ],
      "execution_count": 16,
      "outputs": []
    },
    {
      "cell_type": "code",
      "metadata": {
        "id": "eT0W_PdGUl3l"
      },
      "source": [
        "disc_optimizer = optim.RMSprop(params = discriminator.parameters(), lr = learning_rate)\n",
        "gen_optimizer = optim.RMSprop(params = generator.parameters(), lr = learning_rate)\n",
        "real_writer = SummaryWriter(f\"logs/real_images\")\n",
        "fake_writer = SummaryWriter(f\"logs/fake_images\")\n",
        "fixed_noise = torch.randn(batch_size,z_dim, 1, 1).to(device = device) # to generate fake images later after training the generator "
      ],
      "execution_count": 17,
      "outputs": []
    },
    {
      "cell_type": "code",
      "metadata": {
        "id": "nbTa1Ktna7Cy"
      },
      "source": [
        "#The training loop from scratch:"
      ],
      "execution_count": 18,
      "outputs": []
    },
    {
      "cell_type": "code",
      "metadata": {
        "colab": {
          "base_uri": "https://localhost:8080/"
        },
        "id": "riszk9B5bPzV",
        "outputId": "c5857563-bc22-4ec0-e281-7e4a481adbe9"
      },
      "source": [
        "step = 0\n",
        "global_tic = time.time()\n",
        "for epoch in range(EPOCHS):\n",
        "  tic = time.time()\n",
        "  print(f\"\\ntraining begins for epoch: {epoch + 1}\\tplease wait........\")\n",
        "  for idx, (data,_) in enumerate(tqdm(loader)):\n",
        "    data = data.to(device = device)\n",
        "    noise = torch.randn(batch_size, z_dim, 1,1).to(device = device)\n",
        "    fake_img = generator(noise)\n",
        "    #We train the discriminator in the loop (specified frequency)\n",
        "    for _ in range(disc_iter):\n",
        "      noise = torch.randn(batch_size, z_dim, 1,1).to(device = device)\n",
        "      fake_img = generator(noise)\n",
        "      real_out = discriminator(data).reshape(-1) #flattening everything to 1d\n",
        "      fake_out = discriminator(fake_img).reshape(-1)\n",
        "      disc_loss = -(torch.mean(real_out) - torch.mean(fake_out)) #maximize[log(D(x) + D(G(z)))]\n",
        "      discriminator.zero_grad()#initialize gradients to zero\n",
        "      disc_loss.backward(retain_graph = True)#discriminator backward pass\n",
        "      disc_optimizer.step()#gradient descent with RMSprop optimizer for the discriminator\n",
        "    for m in discriminator.parameters():\n",
        "      m.data.clamp_(-clip_interval, clip_interval)\n",
        "    #trainining the generator (its trained fewer number of times compared to discriminator)\n",
        "    #Here we want to maximize [log(D(G(z)))]\n",
        "    gen_out = discriminator(fake_img).reshape(-1) #forward pass for the generator\n",
        "    gen_loss = -torch.mean(gen_out)#Wasserstein loss\n",
        "    generator.zero_grad()#initialize the gradients to zeros for the generator\n",
        "    gen_loss.backward()#backward pass for the generator\n",
        "    gen_optimizer.step()#gradient descent with RMSprop optimizer for the generator\n",
        "    toc = time.time()\n",
        "\n",
        "    if idx % 100 ==0:\n",
        "      print(f\"\\n>>>>Time elapsed at the end of epoch: {epoch}/{EPOCHS} is {time_fmt(toc - tic)}\")\n",
        "      print(f\"\\n>>>>Generator loss: {gen_loss:.4f} | Generator PPL: {math.exp(gen_loss):7.4f}\")\n",
        "      print(f\">>>>Discriminator loss: {disc_loss:.4f} | Discriminator PPL: {math.exp(disc_loss):7.4f}\")\n",
        "\n",
        "      #saving fake and real images to the specified directories in batches of size 64\n",
        "      with torch.no_grad():\n",
        "        fake_image = generator(fixed_noise)\n",
        "        real_image_grid = torchvision.utils.make_grid(data[:64], normalize = True)\n",
        "        fake_image_grid = torchvision.utils.make_grid(fake_image[:64], normalize = True)\n",
        "        real_writer.add_image('Real_images', real_image_grid, global_step = step)\n",
        "        fake_writer.add_image('Fake_images', fake_image_grid, global_step = step)\n",
        "      step+=1\n",
        "global_toc = time.time()\n",
        "print(f\"\\n>>>>Total time elapsed for training this model is: {time_fmt(global_toc - global_tic)}\")\n"
      ],
      "execution_count": null,
      "outputs": [
        {
          "output_type": "stream",
          "text": [
            "\r  0%|          | 0/938 [00:00<?, ?it/s]"
          ],
          "name": "stderr"
        },
        {
          "output_type": "stream",
          "text": [
            "\n",
            "training begins for epoch: 1\tplease wait........\n",
            "\n",
            ">>>>Time elapsed at the end of epoch: 0/10 is 0 hrs: 00 min: 01.00 sec\n",
            "\n",
            ">>>>Generator loss: -0.0010 | Generator PPL:  0.9990\n",
            ">>>>Discriminator loss: -0.4532 | Discriminator PPL:  0.6356\n"
          ],
          "name": "stdout"
        },
        {
          "output_type": "stream",
          "text": [
            " 11%|█         | 100/938 [02:51<23:50,  1.71s/it]"
          ],
          "name": "stderr"
        },
        {
          "output_type": "stream",
          "text": [
            "\n",
            ">>>>Time elapsed at the end of epoch: 0/10 is 0 hrs: 02 min: 53.00 sec\n",
            "\n",
            ">>>>Generator loss: 0.7275 | Generator PPL:  2.0699\n",
            ">>>>Discriminator loss: -1.6033 | Discriminator PPL:  0.2012\n"
          ],
          "name": "stdout"
        },
        {
          "output_type": "stream",
          "text": [
            " 21%|██▏       | 200/938 [05:42<20:59,  1.71s/it]"
          ],
          "name": "stderr"
        },
        {
          "output_type": "stream",
          "text": [
            "\n",
            ">>>>Time elapsed at the end of epoch: 0/10 is 0 hrs: 05 min: 44.00 sec\n",
            "\n",
            ">>>>Generator loss: 0.7296 | Generator PPL:  2.0742\n",
            ">>>>Discriminator loss: -1.6079 | Discriminator PPL:  0.2003\n"
          ],
          "name": "stdout"
        },
        {
          "output_type": "stream",
          "text": [
            " 32%|███▏      | 300/938 [08:33<18:08,  1.71s/it]"
          ],
          "name": "stderr"
        },
        {
          "output_type": "stream",
          "text": [
            "\n",
            ">>>>Time elapsed at the end of epoch: 0/10 is 0 hrs: 08 min: 35.00 sec\n",
            "\n",
            ">>>>Generator loss: 0.7298 | Generator PPL:  2.0746\n",
            ">>>>Discriminator loss: -1.6091 | Discriminator PPL:  0.2001\n"
          ],
          "name": "stdout"
        },
        {
          "output_type": "stream",
          "text": [
            " 43%|████▎     | 400/938 [11:24<15:18,  1.71s/it]"
          ],
          "name": "stderr"
        },
        {
          "output_type": "stream",
          "text": [
            "\n",
            ">>>>Time elapsed at the end of epoch: 0/10 is 0 hrs: 11 min: 26.00 sec\n",
            "\n",
            ">>>>Generator loss: 0.7301 | Generator PPL:  2.0753\n",
            ">>>>Discriminator loss: -1.6095 | Discriminator PPL:  0.2000\n"
          ],
          "name": "stdout"
        },
        {
          "output_type": "stream",
          "text": [
            " 53%|█████▎    | 500/938 [14:15<12:28,  1.71s/it]"
          ],
          "name": "stderr"
        },
        {
          "output_type": "stream",
          "text": [
            "\n",
            ">>>>Time elapsed at the end of epoch: 0/10 is 0 hrs: 14 min: 17.00 sec\n",
            "\n",
            ">>>>Generator loss: 0.7298 | Generator PPL:  2.0747\n",
            ">>>>Discriminator loss: -1.6102 | Discriminator PPL:  0.1998\n"
          ],
          "name": "stdout"
        },
        {
          "output_type": "stream",
          "text": [
            " 64%|██████▍   | 600/938 [17:06<09:36,  1.71s/it]"
          ],
          "name": "stderr"
        },
        {
          "output_type": "stream",
          "text": [
            "\n",
            ">>>>Time elapsed at the end of epoch: 0/10 is 0 hrs: 17 min: 08.00 sec\n",
            "\n",
            ">>>>Generator loss: 0.7298 | Generator PPL:  2.0746\n",
            ">>>>Discriminator loss: -1.6100 | Discriminator PPL:  0.1999\n"
          ],
          "name": "stdout"
        },
        {
          "output_type": "stream",
          "text": [
            " 75%|███████▍  | 700/938 [19:57<06:46,  1.71s/it]"
          ],
          "name": "stderr"
        },
        {
          "output_type": "stream",
          "text": [
            "\n",
            ">>>>Time elapsed at the end of epoch: 0/10 is 0 hrs: 19 min: 59.00 sec\n",
            "\n",
            ">>>>Generator loss: 0.7292 | Generator PPL:  2.0735\n",
            ">>>>Discriminator loss: -1.6085 | Discriminator PPL:  0.2002\n"
          ],
          "name": "stdout"
        },
        {
          "output_type": "stream",
          "text": [
            " 85%|████████▌ | 800/938 [22:48<03:55,  1.71s/it]"
          ],
          "name": "stderr"
        },
        {
          "output_type": "stream",
          "text": [
            "\n",
            ">>>>Time elapsed at the end of epoch: 0/10 is 0 hrs: 22 min: 50.00 sec\n",
            "\n",
            ">>>>Generator loss: 0.7292 | Generator PPL:  2.0734\n",
            ">>>>Discriminator loss: -1.6104 | Discriminator PPL:  0.1998\n"
          ],
          "name": "stdout"
        },
        {
          "output_type": "stream",
          "text": [
            " 96%|█████████▌| 900/938 [25:39<01:04,  1.71s/it]"
          ],
          "name": "stderr"
        },
        {
          "output_type": "stream",
          "text": [
            "\n",
            ">>>>Time elapsed at the end of epoch: 0/10 is 0 hrs: 25 min: 41.00 sec\n",
            "\n",
            ">>>>Generator loss: 0.7291 | Generator PPL:  2.0732\n",
            ">>>>Discriminator loss: -1.6098 | Discriminator PPL:  0.1999\n"
          ],
          "name": "stdout"
        },
        {
          "output_type": "stream",
          "text": [
            "100%|██████████| 938/938 [26:45<00:00,  1.71s/it]\n",
            "  0%|          | 0/938 [00:00<?, ?it/s]"
          ],
          "name": "stderr"
        },
        {
          "output_type": "stream",
          "text": [
            "\n",
            "training begins for epoch: 2\tplease wait........\n",
            "\n",
            ">>>>Time elapsed at the end of epoch: 1/10 is 0 hrs: 00 min: 01.00 sec\n",
            "\n",
            ">>>>Generator loss: 0.7284 | Generator PPL:  2.0717\n",
            ">>>>Discriminator loss: -1.6094 | Discriminator PPL:  0.2000\n"
          ],
          "name": "stdout"
        },
        {
          "output_type": "stream",
          "text": [
            " 11%|█         | 100/938 [02:50<23:50,  1.71s/it]"
          ],
          "name": "stderr"
        },
        {
          "output_type": "stream",
          "text": [
            "\n",
            ">>>>Time elapsed at the end of epoch: 1/10 is 0 hrs: 02 min: 52.00 sec\n",
            "\n",
            ">>>>Generator loss: 0.7289 | Generator PPL:  2.0729\n",
            ">>>>Discriminator loss: -1.6085 | Discriminator PPL:  0.2002\n"
          ],
          "name": "stdout"
        },
        {
          "output_type": "stream",
          "text": [
            " 21%|██▏       | 200/938 [05:41<20:59,  1.71s/it]"
          ],
          "name": "stderr"
        },
        {
          "output_type": "stream",
          "text": [
            "\n",
            ">>>>Time elapsed at the end of epoch: 1/10 is 0 hrs: 05 min: 43.00 sec\n",
            "\n",
            ">>>>Generator loss: 0.7287 | Generator PPL:  2.0724\n",
            ">>>>Discriminator loss: -1.6090 | Discriminator PPL:  0.2001\n"
          ],
          "name": "stdout"
        },
        {
          "output_type": "stream",
          "text": [
            " 32%|███▏      | 300/938 [08:33<18:08,  1.71s/it]"
          ],
          "name": "stderr"
        },
        {
          "output_type": "stream",
          "text": [
            "\n",
            ">>>>Time elapsed at the end of epoch: 1/10 is 0 hrs: 08 min: 34.00 sec\n",
            "\n",
            ">>>>Generator loss: 0.7286 | Generator PPL:  2.0722\n",
            ">>>>Discriminator loss: -1.6067 | Discriminator PPL:  0.2005\n"
          ],
          "name": "stdout"
        },
        {
          "output_type": "stream",
          "text": [
            " 43%|████▎     | 400/938 [11:24<15:17,  1.70s/it]"
          ],
          "name": "stderr"
        },
        {
          "output_type": "stream",
          "text": [
            "\n",
            ">>>>Time elapsed at the end of epoch: 1/10 is 0 hrs: 11 min: 25.00 sec\n",
            "\n",
            ">>>>Generator loss: 0.7294 | Generator PPL:  2.0738\n",
            ">>>>Discriminator loss: -1.6095 | Discriminator PPL:  0.2000\n"
          ],
          "name": "stdout"
        },
        {
          "output_type": "stream",
          "text": [
            " 53%|█████▎    | 500/938 [14:15<12:26,  1.71s/it]"
          ],
          "name": "stderr"
        },
        {
          "output_type": "stream",
          "text": [
            "\n",
            ">>>>Time elapsed at the end of epoch: 1/10 is 0 hrs: 14 min: 16.00 sec\n",
            "\n",
            ">>>>Generator loss: 0.7243 | Generator PPL:  2.0633\n",
            ">>>>Discriminator loss: -1.6039 | Discriminator PPL:  0.2011\n"
          ],
          "name": "stdout"
        },
        {
          "output_type": "stream",
          "text": [
            " 64%|██████▍   | 600/938 [17:06<09:35,  1.70s/it]"
          ],
          "name": "stderr"
        },
        {
          "output_type": "stream",
          "text": [
            "\n",
            ">>>>Time elapsed at the end of epoch: 1/10 is 0 hrs: 17 min: 07.00 sec\n",
            "\n",
            ">>>>Generator loss: 0.7284 | Generator PPL:  2.0717\n",
            ">>>>Discriminator loss: -1.6054 | Discriminator PPL:  0.2008\n"
          ],
          "name": "stdout"
        },
        {
          "output_type": "stream",
          "text": [
            " 75%|███████▍  | 700/938 [19:57<06:45,  1.71s/it]"
          ],
          "name": "stderr"
        },
        {
          "output_type": "stream",
          "text": [
            "\n",
            ">>>>Time elapsed at the end of epoch: 1/10 is 0 hrs: 19 min: 58.00 sec\n",
            "\n",
            ">>>>Generator loss: 0.7284 | Generator PPL:  2.0719\n",
            ">>>>Discriminator loss: -1.6075 | Discriminator PPL:  0.2004\n"
          ],
          "name": "stdout"
        },
        {
          "output_type": "stream",
          "text": [
            " 85%|████████▌ | 800/938 [22:48<03:55,  1.71s/it]"
          ],
          "name": "stderr"
        },
        {
          "output_type": "stream",
          "text": [
            "\n",
            ">>>>Time elapsed at the end of epoch: 1/10 is 0 hrs: 22 min: 49.00 sec\n",
            "\n",
            ">>>>Generator loss: 0.7290 | Generator PPL:  2.0730\n",
            ">>>>Discriminator loss: -1.6090 | Discriminator PPL:  0.2001\n"
          ],
          "name": "stdout"
        },
        {
          "output_type": "stream",
          "text": [
            " 96%|█████████▌| 900/938 [25:39<01:04,  1.71s/it]"
          ],
          "name": "stderr"
        },
        {
          "output_type": "stream",
          "text": [
            "\n",
            ">>>>Time elapsed at the end of epoch: 1/10 is 0 hrs: 25 min: 41.00 sec\n",
            "\n",
            ">>>>Generator loss: 0.7294 | Generator PPL:  2.0737\n",
            ">>>>Discriminator loss: -1.6088 | Discriminator PPL:  0.2001\n"
          ],
          "name": "stdout"
        },
        {
          "output_type": "stream",
          "text": [
            "100%|██████████| 938/938 [26:44<00:00,  1.71s/it]\n",
            "  0%|          | 0/938 [00:00<?, ?it/s]"
          ],
          "name": "stderr"
        },
        {
          "output_type": "stream",
          "text": [
            "\n",
            "training begins for epoch: 3\tplease wait........\n",
            "\n",
            ">>>>Time elapsed at the end of epoch: 2/10 is 0 hrs: 00 min: 01.00 sec\n",
            "\n",
            ">>>>Generator loss: 0.7291 | Generator PPL:  2.0732\n",
            ">>>>Discriminator loss: -1.6089 | Discriminator PPL:  0.2001\n"
          ],
          "name": "stdout"
        },
        {
          "output_type": "stream",
          "text": [
            " 11%|█         | 100/938 [02:51<23:48,  1.70s/it]"
          ],
          "name": "stderr"
        },
        {
          "output_type": "stream",
          "text": [
            "\n",
            ">>>>Time elapsed at the end of epoch: 2/10 is 0 hrs: 02 min: 52.00 sec\n",
            "\n",
            ">>>>Generator loss: 0.7287 | Generator PPL:  2.0725\n",
            ">>>>Discriminator loss: -1.6087 | Discriminator PPL:  0.2001\n"
          ],
          "name": "stdout"
        },
        {
          "output_type": "stream",
          "text": [
            " 21%|██▏       | 200/938 [05:42<20:58,  1.71s/it]"
          ],
          "name": "stderr"
        },
        {
          "output_type": "stream",
          "text": [
            "\n",
            ">>>>Time elapsed at the end of epoch: 2/10 is 0 hrs: 05 min: 43.00 sec\n",
            "\n",
            ">>>>Generator loss: 0.7283 | Generator PPL:  2.0715\n",
            ">>>>Discriminator loss: -1.6061 | Discriminator PPL:  0.2007\n"
          ],
          "name": "stdout"
        },
        {
          "output_type": "stream",
          "text": [
            " 32%|███▏      | 300/938 [08:33<18:08,  1.71s/it]"
          ],
          "name": "stderr"
        },
        {
          "output_type": "stream",
          "text": [
            "\n",
            ">>>>Time elapsed at the end of epoch: 2/10 is 0 hrs: 08 min: 34.00 sec\n",
            "\n",
            ">>>>Generator loss: 0.6836 | Generator PPL:  1.9811\n",
            ">>>>Discriminator loss: -0.6515 | Discriminator PPL:  0.5213\n"
          ],
          "name": "stdout"
        },
        {
          "output_type": "stream",
          "text": [
            " 43%|████▎     | 400/938 [11:24<15:18,  1.71s/it]"
          ],
          "name": "stderr"
        },
        {
          "output_type": "stream",
          "text": [
            "\n",
            ">>>>Time elapsed at the end of epoch: 2/10 is 0 hrs: 11 min: 25.00 sec\n",
            "\n",
            ">>>>Generator loss: -0.2099 | Generator PPL:  0.8107\n",
            ">>>>Discriminator loss: -1.1942 | Discriminator PPL:  0.3030\n"
          ],
          "name": "stdout"
        },
        {
          "output_type": "stream",
          "text": [
            " 53%|█████▎    | 500/938 [14:15<12:27,  1.71s/it]"
          ],
          "name": "stderr"
        },
        {
          "output_type": "stream",
          "text": [
            "\n",
            ">>>>Time elapsed at the end of epoch: 2/10 is 0 hrs: 14 min: 17.00 sec\n",
            "\n",
            ">>>>Generator loss: 0.7222 | Generator PPL:  2.0590\n",
            ">>>>Discriminator loss: -1.5945 | Discriminator PPL:  0.2030\n"
          ],
          "name": "stdout"
        },
        {
          "output_type": "stream",
          "text": [
            " 64%|██████▍   | 600/938 [17:06<09:37,  1.71s/it]"
          ],
          "name": "stderr"
        },
        {
          "output_type": "stream",
          "text": [
            "\n",
            ">>>>Time elapsed at the end of epoch: 2/10 is 0 hrs: 17 min: 07.00 sec\n",
            "\n",
            ">>>>Generator loss: 0.7054 | Generator PPL:  2.0246\n",
            ">>>>Discriminator loss: -1.4424 | Discriminator PPL:  0.2364\n"
          ],
          "name": "stdout"
        },
        {
          "output_type": "stream",
          "text": [
            " 75%|███████▍  | 700/938 [19:57<06:46,  1.71s/it]"
          ],
          "name": "stderr"
        },
        {
          "output_type": "stream",
          "text": [
            "\n",
            ">>>>Time elapsed at the end of epoch: 2/10 is 0 hrs: 19 min: 58.00 sec\n",
            "\n",
            ">>>>Generator loss: 0.5789 | Generator PPL:  1.7840\n",
            ">>>>Discriminator loss: -1.0346 | Discriminator PPL:  0.3554\n"
          ],
          "name": "stdout"
        },
        {
          "output_type": "stream",
          "text": [
            " 85%|████████▌ | 800/938 [22:48<03:55,  1.71s/it]"
          ],
          "name": "stderr"
        },
        {
          "output_type": "stream",
          "text": [
            "\n",
            ">>>>Time elapsed at the end of epoch: 2/10 is 0 hrs: 22 min: 49.00 sec\n",
            "\n",
            ">>>>Generator loss: 0.3573 | Generator PPL:  1.4294\n",
            ">>>>Discriminator loss: -1.0824 | Discriminator PPL:  0.3388\n"
          ],
          "name": "stdout"
        },
        {
          "output_type": "stream",
          "text": [
            " 96%|█████████▌| 900/938 [25:39<01:04,  1.71s/it]"
          ],
          "name": "stderr"
        },
        {
          "output_type": "stream",
          "text": [
            "\n",
            ">>>>Time elapsed at the end of epoch: 2/10 is 0 hrs: 25 min: 41.00 sec\n",
            "\n",
            ">>>>Generator loss: 0.6372 | Generator PPL:  1.8911\n",
            ">>>>Discriminator loss: -1.0808 | Discriminator PPL:  0.3393\n"
          ],
          "name": "stdout"
        },
        {
          "output_type": "stream",
          "text": [
            "100%|██████████| 938/938 [26:44<00:00,  1.71s/it]\n",
            "  0%|          | 0/938 [00:00<?, ?it/s]"
          ],
          "name": "stderr"
        },
        {
          "output_type": "stream",
          "text": [
            "\n",
            "training begins for epoch: 4\tplease wait........\n",
            "\n",
            ">>>>Time elapsed at the end of epoch: 3/10 is 0 hrs: 00 min: 01.00 sec\n",
            "\n",
            ">>>>Generator loss: 0.6119 | Generator PPL:  1.8439\n",
            ">>>>Discriminator loss: -1.0636 | Discriminator PPL:  0.3452\n"
          ],
          "name": "stdout"
        },
        {
          "output_type": "stream",
          "text": [
            " 11%|█         | 100/938 [02:50<23:49,  1.71s/it]"
          ],
          "name": "stderr"
        },
        {
          "output_type": "stream",
          "text": [
            "\n",
            ">>>>Time elapsed at the end of epoch: 3/10 is 0 hrs: 02 min: 52.00 sec\n",
            "\n",
            ">>>>Generator loss: 0.6317 | Generator PPL:  1.8808\n",
            ">>>>Discriminator loss: -1.0806 | Discriminator PPL:  0.3394\n"
          ],
          "name": "stdout"
        },
        {
          "output_type": "stream",
          "text": [
            " 21%|██▏       | 200/938 [05:41<20:58,  1.71s/it]"
          ],
          "name": "stderr"
        },
        {
          "output_type": "stream",
          "text": [
            "\n",
            ">>>>Time elapsed at the end of epoch: 3/10 is 0 hrs: 05 min: 43.00 sec\n",
            "\n",
            ">>>>Generator loss: 0.6374 | Generator PPL:  1.8916\n",
            ">>>>Discriminator loss: -1.0299 | Discriminator PPL:  0.3571\n"
          ],
          "name": "stdout"
        },
        {
          "output_type": "stream",
          "text": [
            " 32%|███▏      | 300/938 [08:32<18:07,  1.71s/it]"
          ],
          "name": "stderr"
        },
        {
          "output_type": "stream",
          "text": [
            "\n",
            ">>>>Time elapsed at the end of epoch: 3/10 is 0 hrs: 08 min: 34.00 sec\n",
            "\n",
            ">>>>Generator loss: 0.5975 | Generator PPL:  1.8175\n",
            ">>>>Discriminator loss: -1.0894 | Discriminator PPL:  0.3364\n"
          ],
          "name": "stdout"
        },
        {
          "output_type": "stream",
          "text": [
            " 43%|████▎     | 400/938 [11:23<15:17,  1.71s/it]"
          ],
          "name": "stderr"
        },
        {
          "output_type": "stream",
          "text": [
            "\n",
            ">>>>Time elapsed at the end of epoch: 3/10 is 0 hrs: 11 min: 25.00 sec\n",
            "\n",
            ">>>>Generator loss: 0.2801 | Generator PPL:  1.3232\n",
            ">>>>Discriminator loss: -0.9880 | Discriminator PPL:  0.3723\n"
          ],
          "name": "stdout"
        },
        {
          "output_type": "stream",
          "text": [
            " 53%|█████▎    | 500/938 [14:14<12:27,  1.71s/it]"
          ],
          "name": "stderr"
        },
        {
          "output_type": "stream",
          "text": [
            "\n",
            ">>>>Time elapsed at the end of epoch: 3/10 is 0 hrs: 14 min: 16.00 sec\n",
            "\n",
            ">>>>Generator loss: 0.5798 | Generator PPL:  1.7856\n",
            ">>>>Discriminator loss: -0.9052 | Discriminator PPL:  0.4045\n"
          ],
          "name": "stdout"
        },
        {
          "output_type": "stream",
          "text": [
            " 64%|██████▍   | 600/938 [17:05<09:36,  1.70s/it]"
          ],
          "name": "stderr"
        },
        {
          "output_type": "stream",
          "text": [
            "\n",
            ">>>>Time elapsed at the end of epoch: 3/10 is 0 hrs: 17 min: 07.00 sec\n",
            "\n",
            ">>>>Generator loss: 0.5758 | Generator PPL:  1.7785\n",
            ">>>>Discriminator loss: -1.0011 | Discriminator PPL:  0.3675\n"
          ],
          "name": "stdout"
        },
        {
          "output_type": "stream",
          "text": [
            " 75%|███████▍  | 700/938 [19:56<06:46,  1.71s/it]"
          ],
          "name": "stderr"
        },
        {
          "output_type": "stream",
          "text": [
            "\n",
            ">>>>Time elapsed at the end of epoch: 3/10 is 0 hrs: 19 min: 58.00 sec\n",
            "\n",
            ">>>>Generator loss: 0.5949 | Generator PPL:  1.8129\n",
            ">>>>Discriminator loss: -0.8781 | Discriminator PPL:  0.4156\n"
          ],
          "name": "stdout"
        },
        {
          "output_type": "stream",
          "text": [
            " 85%|████████▌ | 800/938 [22:47<03:55,  1.70s/it]"
          ],
          "name": "stderr"
        },
        {
          "output_type": "stream",
          "text": [
            "\n",
            ">>>>Time elapsed at the end of epoch: 3/10 is 0 hrs: 22 min: 49.00 sec\n",
            "\n",
            ">>>>Generator loss: 0.4298 | Generator PPL:  1.5370\n",
            ">>>>Discriminator loss: -0.9251 | Discriminator PPL:  0.3965\n"
          ],
          "name": "stdout"
        },
        {
          "output_type": "stream",
          "text": [
            " 96%|█████████▌| 900/938 [25:38<01:04,  1.71s/it]"
          ],
          "name": "stderr"
        },
        {
          "output_type": "stream",
          "text": [
            "\n",
            ">>>>Time elapsed at the end of epoch: 3/10 is 0 hrs: 25 min: 40.00 sec\n",
            "\n",
            ">>>>Generator loss: 0.3019 | Generator PPL:  1.3524\n",
            ">>>>Discriminator loss: -0.9526 | Discriminator PPL:  0.3857\n"
          ],
          "name": "stdout"
        },
        {
          "output_type": "stream",
          "text": [
            "100%|██████████| 938/938 [26:43<00:00,  1.71s/it]\n",
            "  0%|          | 0/938 [00:00<?, ?it/s]"
          ],
          "name": "stderr"
        },
        {
          "output_type": "stream",
          "text": [
            "\n",
            "training begins for epoch: 5\tplease wait........\n",
            "\n",
            ">>>>Time elapsed at the end of epoch: 4/10 is 0 hrs: 00 min: 01.00 sec\n",
            "\n",
            ">>>>Generator loss: 0.4540 | Generator PPL:  1.5745\n",
            ">>>>Discriminator loss: -1.0177 | Discriminator PPL:  0.3614\n"
          ],
          "name": "stdout"
        },
        {
          "output_type": "stream",
          "text": [
            " 11%|█         | 100/938 [02:50<23:51,  1.71s/it]"
          ],
          "name": "stderr"
        },
        {
          "output_type": "stream",
          "text": [
            "\n",
            ">>>>Time elapsed at the end of epoch: 4/10 is 0 hrs: 02 min: 52.00 sec\n",
            "\n",
            ">>>>Generator loss: 0.3917 | Generator PPL:  1.4796\n",
            ">>>>Discriminator loss: -0.9838 | Discriminator PPL:  0.3739\n"
          ],
          "name": "stdout"
        },
        {
          "output_type": "stream",
          "text": [
            " 21%|██▏       | 200/938 [05:41<20:59,  1.71s/it]"
          ],
          "name": "stderr"
        },
        {
          "output_type": "stream",
          "text": [
            "\n",
            ">>>>Time elapsed at the end of epoch: 4/10 is 0 hrs: 05 min: 43.00 sec\n",
            "\n",
            ">>>>Generator loss: 0.1932 | Generator PPL:  1.2131\n",
            ">>>>Discriminator loss: -0.8502 | Discriminator PPL:  0.4273\n"
          ],
          "name": "stdout"
        },
        {
          "output_type": "stream",
          "text": [
            " 32%|███▏      | 300/938 [08:32<18:09,  1.71s/it]"
          ],
          "name": "stderr"
        },
        {
          "output_type": "stream",
          "text": [
            "\n",
            ">>>>Time elapsed at the end of epoch: 4/10 is 0 hrs: 08 min: 34.00 sec\n",
            "\n",
            ">>>>Generator loss: 0.5619 | Generator PPL:  1.7540\n",
            ">>>>Discriminator loss: -0.8840 | Discriminator PPL:  0.4131\n"
          ],
          "name": "stdout"
        },
        {
          "output_type": "stream",
          "text": [
            " 43%|████▎     | 400/938 [11:23<15:17,  1.71s/it]"
          ],
          "name": "stderr"
        },
        {
          "output_type": "stream",
          "text": [
            "\n",
            ">>>>Time elapsed at the end of epoch: 4/10 is 0 hrs: 11 min: 25.00 sec\n",
            "\n",
            ">>>>Generator loss: 0.1117 | Generator PPL:  1.1182\n",
            ">>>>Discriminator loss: -0.6648 | Discriminator PPL:  0.5144\n"
          ],
          "name": "stdout"
        },
        {
          "output_type": "stream",
          "text": [
            " 53%|█████▎    | 500/938 [14:14<12:27,  1.71s/it]"
          ],
          "name": "stderr"
        },
        {
          "output_type": "stream",
          "text": [
            "\n",
            ">>>>Time elapsed at the end of epoch: 4/10 is 0 hrs: 14 min: 16.00 sec\n",
            "\n",
            ">>>>Generator loss: 0.2932 | Generator PPL:  1.3408\n",
            ">>>>Discriminator loss: -0.9212 | Discriminator PPL:  0.3980\n"
          ],
          "name": "stdout"
        },
        {
          "output_type": "stream",
          "text": [
            " 64%|██████▍   | 600/938 [17:05<09:37,  1.71s/it]"
          ],
          "name": "stderr"
        },
        {
          "output_type": "stream",
          "text": [
            "\n",
            ">>>>Time elapsed at the end of epoch: 4/10 is 0 hrs: 17 min: 07.00 sec\n",
            "\n",
            ">>>>Generator loss: 0.5400 | Generator PPL:  1.7160\n",
            ">>>>Discriminator loss: -1.0836 | Discriminator PPL:  0.3384\n"
          ],
          "name": "stdout"
        },
        {
          "output_type": "stream",
          "text": [
            " 75%|███████▍  | 700/938 [19:56<06:45,  1.71s/it]"
          ],
          "name": "stderr"
        },
        {
          "output_type": "stream",
          "text": [
            "\n",
            ">>>>Time elapsed at the end of epoch: 4/10 is 0 hrs: 19 min: 58.00 sec\n",
            "\n",
            ">>>>Generator loss: 0.5555 | Generator PPL:  1.7428\n",
            ">>>>Discriminator loss: -0.8182 | Discriminator PPL:  0.4412\n"
          ],
          "name": "stdout"
        },
        {
          "output_type": "stream",
          "text": [
            " 85%|████████▌ | 800/938 [22:47<03:55,  1.71s/it]"
          ],
          "name": "stderr"
        },
        {
          "output_type": "stream",
          "text": [
            "\n",
            ">>>>Time elapsed at the end of epoch: 4/10 is 0 hrs: 22 min: 49.00 sec\n",
            "\n",
            ">>>>Generator loss: 0.5642 | Generator PPL:  1.7581\n",
            ">>>>Discriminator loss: -1.1147 | Discriminator PPL:  0.3280\n"
          ],
          "name": "stdout"
        },
        {
          "output_type": "stream",
          "text": [
            " 96%|█████████▌| 900/938 [25:38<01:04,  1.71s/it]"
          ],
          "name": "stderr"
        },
        {
          "output_type": "stream",
          "text": [
            "\n",
            ">>>>Time elapsed at the end of epoch: 4/10 is 0 hrs: 25 min: 40.00 sec\n",
            "\n",
            ">>>>Generator loss: 0.2936 | Generator PPL:  1.3413\n",
            ">>>>Discriminator loss: -0.8778 | Discriminator PPL:  0.4157\n"
          ],
          "name": "stdout"
        },
        {
          "output_type": "stream",
          "text": [
            "100%|██████████| 938/938 [26:43<00:00,  1.71s/it]\n",
            "  0%|          | 0/938 [00:00<?, ?it/s]"
          ],
          "name": "stderr"
        },
        {
          "output_type": "stream",
          "text": [
            "\n",
            "training begins for epoch: 6\tplease wait........\n",
            "\n",
            ">>>>Time elapsed at the end of epoch: 5/10 is 0 hrs: 00 min: 01.00 sec\n",
            "\n",
            ">>>>Generator loss: 0.5101 | Generator PPL:  1.6655\n",
            ">>>>Discriminator loss: -1.0837 | Discriminator PPL:  0.3383\n"
          ],
          "name": "stdout"
        },
        {
          "output_type": "stream",
          "text": [
            " 11%|█         | 100/938 [02:50<23:50,  1.71s/it]"
          ],
          "name": "stderr"
        },
        {
          "output_type": "stream",
          "text": [
            "\n",
            ">>>>Time elapsed at the end of epoch: 5/10 is 0 hrs: 02 min: 52.00 sec\n",
            "\n",
            ">>>>Generator loss: 0.5186 | Generator PPL:  1.6798\n",
            ">>>>Discriminator loss: -1.0657 | Discriminator PPL:  0.3445\n"
          ],
          "name": "stdout"
        },
        {
          "output_type": "stream",
          "text": [
            " 21%|██▏       | 200/938 [05:41<21:00,  1.71s/it]"
          ],
          "name": "stderr"
        },
        {
          "output_type": "stream",
          "text": [
            "\n",
            ">>>>Time elapsed at the end of epoch: 5/10 is 0 hrs: 05 min: 43.00 sec\n",
            "\n",
            ">>>>Generator loss: 0.5575 | Generator PPL:  1.7463\n",
            ">>>>Discriminator loss: -1.0489 | Discriminator PPL:  0.3503\n"
          ],
          "name": "stdout"
        },
        {
          "output_type": "stream",
          "text": [
            " 32%|███▏      | 300/938 [08:32<18:08,  1.71s/it]"
          ],
          "name": "stderr"
        },
        {
          "output_type": "stream",
          "text": [
            "\n",
            ">>>>Time elapsed at the end of epoch: 5/10 is 0 hrs: 08 min: 34.00 sec\n",
            "\n",
            ">>>>Generator loss: 0.5317 | Generator PPL:  1.7019\n",
            ">>>>Discriminator loss: -1.0181 | Discriminator PPL:  0.3613\n"
          ],
          "name": "stdout"
        },
        {
          "output_type": "stream",
          "text": [
            " 43%|████▎     | 400/938 [11:23<15:18,  1.71s/it]"
          ],
          "name": "stderr"
        },
        {
          "output_type": "stream",
          "text": [
            "\n",
            ">>>>Time elapsed at the end of epoch: 5/10 is 0 hrs: 11 min: 25.00 sec\n",
            "\n",
            ">>>>Generator loss: 0.5269 | Generator PPL:  1.6937\n",
            ">>>>Discriminator loss: -0.9540 | Discriminator PPL:  0.3852\n"
          ],
          "name": "stdout"
        },
        {
          "output_type": "stream",
          "text": [
            " 53%|█████▎    | 500/938 [14:14<12:27,  1.71s/it]"
          ],
          "name": "stderr"
        },
        {
          "output_type": "stream",
          "text": [
            "\n",
            ">>>>Time elapsed at the end of epoch: 5/10 is 0 hrs: 14 min: 16.00 sec\n",
            "\n",
            ">>>>Generator loss: 0.3362 | Generator PPL:  1.3996\n",
            ">>>>Discriminator loss: -0.9510 | Discriminator PPL:  0.3863\n"
          ],
          "name": "stdout"
        },
        {
          "output_type": "stream",
          "text": [
            " 64%|██████▍   | 600/938 [17:05<09:37,  1.71s/it]"
          ],
          "name": "stderr"
        },
        {
          "output_type": "stream",
          "text": [
            "\n",
            ">>>>Time elapsed at the end of epoch: 5/10 is 0 hrs: 17 min: 07.00 sec\n",
            "\n",
            ">>>>Generator loss: 0.5726 | Generator PPL:  1.7729\n",
            ">>>>Discriminator loss: -0.8617 | Discriminator PPL:  0.4224\n"
          ],
          "name": "stdout"
        },
        {
          "output_type": "stream",
          "text": [
            " 75%|███████▍  | 700/938 [19:56<06:46,  1.71s/it]"
          ],
          "name": "stderr"
        },
        {
          "output_type": "stream",
          "text": [
            "\n",
            ">>>>Time elapsed at the end of epoch: 5/10 is 0 hrs: 19 min: 58.00 sec\n",
            "\n",
            ">>>>Generator loss: 0.5391 | Generator PPL:  1.7144\n",
            ">>>>Discriminator loss: -1.0224 | Discriminator PPL:  0.3597\n"
          ],
          "name": "stdout"
        },
        {
          "output_type": "stream",
          "text": [
            " 85%|████████▌ | 800/938 [22:47<03:55,  1.71s/it]"
          ],
          "name": "stderr"
        },
        {
          "output_type": "stream",
          "text": [
            "\n",
            ">>>>Time elapsed at the end of epoch: 5/10 is 0 hrs: 22 min: 49.00 sec\n",
            "\n",
            ">>>>Generator loss: 0.5534 | Generator PPL:  1.7392\n",
            ">>>>Discriminator loss: -0.7383 | Discriminator PPL:  0.4779\n"
          ],
          "name": "stdout"
        },
        {
          "output_type": "stream",
          "text": [
            " 96%|█████████▌| 900/938 [25:38<01:04,  1.71s/it]"
          ],
          "name": "stderr"
        },
        {
          "output_type": "stream",
          "text": [
            "\n",
            ">>>>Time elapsed at the end of epoch: 5/10 is 0 hrs: 25 min: 40.00 sec\n",
            "\n",
            ">>>>Generator loss: 0.2374 | Generator PPL:  1.2680\n",
            ">>>>Discriminator loss: -0.8919 | Discriminator PPL:  0.4099\n"
          ],
          "name": "stdout"
        },
        {
          "output_type": "stream",
          "text": [
            "100%|██████████| 938/938 [26:43<00:00,  1.71s/it]\n",
            "  0%|          | 0/938 [00:00<?, ?it/s]"
          ],
          "name": "stderr"
        },
        {
          "output_type": "stream",
          "text": [
            "\n",
            "training begins for epoch: 7\tplease wait........\n",
            "\n",
            ">>>>Time elapsed at the end of epoch: 6/10 is 0 hrs: 00 min: 01.00 sec\n",
            "\n",
            ">>>>Generator loss: 0.3122 | Generator PPL:  1.3664\n",
            ">>>>Discriminator loss: -0.9760 | Discriminator PPL:  0.3768\n"
          ],
          "name": "stdout"
        },
        {
          "output_type": "stream",
          "text": [
            " 11%|█         | 100/938 [02:50<23:49,  1.71s/it]"
          ],
          "name": "stderr"
        },
        {
          "output_type": "stream",
          "text": [
            "\n",
            ">>>>Time elapsed at the end of epoch: 6/10 is 0 hrs: 02 min: 52.00 sec\n",
            "\n",
            ">>>>Generator loss: 0.5156 | Generator PPL:  1.6746\n",
            ">>>>Discriminator loss: -1.0241 | Discriminator PPL:  0.3591\n"
          ],
          "name": "stdout"
        },
        {
          "output_type": "stream",
          "text": [
            " 21%|██▏       | 200/938 [05:41<20:59,  1.71s/it]"
          ],
          "name": "stderr"
        },
        {
          "output_type": "stream",
          "text": [
            "\n",
            ">>>>Time elapsed at the end of epoch: 6/10 is 0 hrs: 05 min: 43.00 sec\n",
            "\n",
            ">>>>Generator loss: 0.5269 | Generator PPL:  1.6937\n",
            ">>>>Discriminator loss: -0.9183 | Discriminator PPL:  0.3992\n"
          ],
          "name": "stdout"
        },
        {
          "output_type": "stream",
          "text": [
            " 32%|███▏      | 300/938 [08:32<18:07,  1.70s/it]"
          ],
          "name": "stderr"
        },
        {
          "output_type": "stream",
          "text": [
            "\n",
            ">>>>Time elapsed at the end of epoch: 6/10 is 0 hrs: 08 min: 34.00 sec\n",
            "\n",
            ">>>>Generator loss: 0.2309 | Generator PPL:  1.2598\n",
            ">>>>Discriminator loss: -0.8179 | Discriminator PPL:  0.4414\n"
          ],
          "name": "stdout"
        },
        {
          "output_type": "stream",
          "text": [
            " 43%|████▎     | 400/938 [11:23<15:18,  1.71s/it]"
          ],
          "name": "stderr"
        },
        {
          "output_type": "stream",
          "text": [
            "\n",
            ">>>>Time elapsed at the end of epoch: 6/10 is 0 hrs: 11 min: 25.00 sec\n",
            "\n",
            ">>>>Generator loss: 0.5439 | Generator PPL:  1.7228\n",
            ">>>>Discriminator loss: -0.5483 | Discriminator PPL:  0.5779\n"
          ],
          "name": "stdout"
        },
        {
          "output_type": "stream",
          "text": [
            " 53%|█████▎    | 500/938 [14:14<12:28,  1.71s/it]"
          ],
          "name": "stderr"
        },
        {
          "output_type": "stream",
          "text": [
            "\n",
            ">>>>Time elapsed at the end of epoch: 6/10 is 0 hrs: 14 min: 16.00 sec\n",
            "\n",
            ">>>>Generator loss: 0.5162 | Generator PPL:  1.6757\n",
            ">>>>Discriminator loss: -0.9059 | Discriminator PPL:  0.4042\n"
          ],
          "name": "stdout"
        },
        {
          "output_type": "stream",
          "text": [
            " 64%|██████▍   | 600/938 [17:05<09:37,  1.71s/it]"
          ],
          "name": "stderr"
        },
        {
          "output_type": "stream",
          "text": [
            "\n",
            ">>>>Time elapsed at the end of epoch: 6/10 is 0 hrs: 17 min: 07.00 sec\n",
            "\n",
            ">>>>Generator loss: 0.5744 | Generator PPL:  1.7761\n",
            ">>>>Discriminator loss: -0.9083 | Discriminator PPL:  0.4032\n"
          ],
          "name": "stdout"
        },
        {
          "output_type": "stream",
          "text": [
            " 75%|███████▍  | 700/938 [19:56<06:46,  1.71s/it]"
          ],
          "name": "stderr"
        },
        {
          "output_type": "stream",
          "text": [
            "\n",
            ">>>>Time elapsed at the end of epoch: 6/10 is 0 hrs: 19 min: 58.00 sec\n",
            "\n",
            ">>>>Generator loss: 0.5607 | Generator PPL:  1.7520\n",
            ">>>>Discriminator loss: -0.9208 | Discriminator PPL:  0.3982\n"
          ],
          "name": "stdout"
        },
        {
          "output_type": "stream",
          "text": [
            " 85%|████████▌ | 800/938 [22:47<03:55,  1.71s/it]"
          ],
          "name": "stderr"
        },
        {
          "output_type": "stream",
          "text": [
            "\n",
            ">>>>Time elapsed at the end of epoch: 6/10 is 0 hrs: 22 min: 49.00 sec\n",
            "\n",
            ">>>>Generator loss: 0.3299 | Generator PPL:  1.3908\n",
            ">>>>Discriminator loss: -0.9005 | Discriminator PPL:  0.4064\n"
          ],
          "name": "stdout"
        },
        {
          "output_type": "stream",
          "text": [
            " 96%|█████████▌| 900/938 [25:38<01:04,  1.71s/it]"
          ],
          "name": "stderr"
        },
        {
          "output_type": "stream",
          "text": [
            "\n",
            ">>>>Time elapsed at the end of epoch: 6/10 is 0 hrs: 25 min: 40.00 sec\n",
            "\n",
            ">>>>Generator loss: 0.5518 | Generator PPL:  1.7363\n",
            ">>>>Discriminator loss: -0.8459 | Discriminator PPL:  0.4291\n"
          ],
          "name": "stdout"
        },
        {
          "output_type": "stream",
          "text": [
            "100%|██████████| 938/938 [26:43<00:00,  1.71s/it]\n",
            "  0%|          | 0/938 [00:00<?, ?it/s]"
          ],
          "name": "stderr"
        },
        {
          "output_type": "stream",
          "text": [
            "\n",
            "training begins for epoch: 8\tplease wait........\n",
            "\n",
            ">>>>Time elapsed at the end of epoch: 7/10 is 0 hrs: 00 min: 01.00 sec\n",
            "\n",
            ">>>>Generator loss: 0.2427 | Generator PPL:  1.2747\n",
            ">>>>Discriminator loss: -0.8633 | Discriminator PPL:  0.4218\n"
          ],
          "name": "stdout"
        },
        {
          "output_type": "stream",
          "text": [
            " 11%|█         | 100/938 [02:50<23:50,  1.71s/it]"
          ],
          "name": "stderr"
        },
        {
          "output_type": "stream",
          "text": [
            "\n",
            ">>>>Time elapsed at the end of epoch: 7/10 is 0 hrs: 02 min: 52.00 sec\n",
            "\n",
            ">>>>Generator loss: 0.5572 | Generator PPL:  1.7458\n",
            ">>>>Discriminator loss: -0.7786 | Discriminator PPL:  0.4591\n"
          ],
          "name": "stdout"
        },
        {
          "output_type": "stream",
          "text": [
            " 21%|██▏       | 200/938 [05:41<20:59,  1.71s/it]"
          ],
          "name": "stderr"
        },
        {
          "output_type": "stream",
          "text": [
            "\n",
            ">>>>Time elapsed at the end of epoch: 7/10 is 0 hrs: 05 min: 43.00 sec\n",
            "\n",
            ">>>>Generator loss: 0.2903 | Generator PPL:  1.3368\n",
            ">>>>Discriminator loss: -0.8756 | Discriminator PPL:  0.4166\n"
          ],
          "name": "stdout"
        },
        {
          "output_type": "stream",
          "text": [
            " 32%|███▏      | 300/938 [08:32<18:09,  1.71s/it]"
          ],
          "name": "stderr"
        },
        {
          "output_type": "stream",
          "text": [
            "\n",
            ">>>>Time elapsed at the end of epoch: 7/10 is 0 hrs: 08 min: 34.00 sec\n",
            "\n",
            ">>>>Generator loss: 0.2333 | Generator PPL:  1.2628\n",
            ">>>>Discriminator loss: -0.8707 | Discriminator PPL:  0.4187\n"
          ],
          "name": "stdout"
        },
        {
          "output_type": "stream",
          "text": [
            " 43%|████▎     | 400/938 [11:23<15:10,  1.69s/it]"
          ],
          "name": "stderr"
        },
        {
          "output_type": "stream",
          "text": [
            "\n",
            ">>>>Time elapsed at the end of epoch: 7/10 is 0 hrs: 11 min: 25.00 sec\n",
            "\n",
            ">>>>Generator loss: 0.1775 | Generator PPL:  1.1942\n",
            ">>>>Discriminator loss: -0.8208 | Discriminator PPL:  0.4401\n"
          ],
          "name": "stdout"
        },
        {
          "output_type": "stream",
          "text": [
            " 53%|█████▎    | 500/938 [14:13<12:20,  1.69s/it]"
          ],
          "name": "stderr"
        },
        {
          "output_type": "stream",
          "text": [
            "\n",
            ">>>>Time elapsed at the end of epoch: 7/10 is 0 hrs: 14 min: 15.00 sec\n",
            "\n",
            ">>>>Generator loss: 0.2148 | Generator PPL:  1.2396\n",
            ">>>>Discriminator loss: -0.8272 | Discriminator PPL:  0.4373\n"
          ],
          "name": "stdout"
        },
        {
          "output_type": "stream",
          "text": [
            " 64%|██████▍   | 600/938 [17:03<09:36,  1.71s/it]"
          ],
          "name": "stderr"
        },
        {
          "output_type": "stream",
          "text": [
            "\n",
            ">>>>Time elapsed at the end of epoch: 7/10 is 0 hrs: 17 min: 05.00 sec\n",
            "\n",
            ">>>>Generator loss: 0.0196 | Generator PPL:  1.0198\n",
            ">>>>Discriminator loss: -0.6206 | Discriminator PPL:  0.5376\n"
          ],
          "name": "stdout"
        },
        {
          "output_type": "stream",
          "text": [
            " 75%|███████▍  | 700/938 [19:54<06:46,  1.71s/it]"
          ],
          "name": "stderr"
        },
        {
          "output_type": "stream",
          "text": [
            "\n",
            ">>>>Time elapsed at the end of epoch: 7/10 is 0 hrs: 19 min: 56.00 sec\n",
            "\n",
            ">>>>Generator loss: 0.4834 | Generator PPL:  1.6215\n",
            ">>>>Discriminator loss: -0.6302 | Discriminator PPL:  0.5325\n"
          ],
          "name": "stdout"
        },
        {
          "output_type": "stream",
          "text": [
            " 85%|████████▌ | 800/938 [22:45<03:55,  1.71s/it]"
          ],
          "name": "stderr"
        },
        {
          "output_type": "stream",
          "text": [
            "\n",
            ">>>>Time elapsed at the end of epoch: 7/10 is 0 hrs: 22 min: 47.00 sec\n",
            "\n",
            ">>>>Generator loss: 0.5151 | Generator PPL:  1.6737\n",
            ">>>>Discriminator loss: -0.6457 | Discriminator PPL:  0.5243\n"
          ],
          "name": "stdout"
        },
        {
          "output_type": "stream",
          "text": [
            " 96%|█████████▌| 900/938 [25:36<01:04,  1.71s/it]"
          ],
          "name": "stderr"
        },
        {
          "output_type": "stream",
          "text": [
            "\n",
            ">>>>Time elapsed at the end of epoch: 7/10 is 0 hrs: 25 min: 38.00 sec\n",
            "\n",
            ">>>>Generator loss: 0.1722 | Generator PPL:  1.1880\n",
            ">>>>Discriminator loss: -0.6245 | Discriminator PPL:  0.5355\n"
          ],
          "name": "stdout"
        },
        {
          "output_type": "stream",
          "text": [
            "100%|██████████| 938/938 [26:41<00:00,  1.71s/it]\n",
            "  0%|          | 0/938 [00:00<?, ?it/s]"
          ],
          "name": "stderr"
        },
        {
          "output_type": "stream",
          "text": [
            "\n",
            "training begins for epoch: 9\tplease wait........\n",
            "\n",
            ">>>>Time elapsed at the end of epoch: 8/10 is 0 hrs: 00 min: 01.00 sec\n",
            "\n",
            ">>>>Generator loss: 0.3037 | Generator PPL:  1.3549\n",
            ">>>>Discriminator loss: -0.7437 | Discriminator PPL:  0.4753\n"
          ],
          "name": "stdout"
        },
        {
          "output_type": "stream",
          "text": [
            " 11%|█         | 100/938 [02:49<23:40,  1.70s/it]"
          ],
          "name": "stderr"
        },
        {
          "output_type": "stream",
          "text": [
            "\n",
            ">>>>Time elapsed at the end of epoch: 8/10 is 0 hrs: 02 min: 51.00 sec\n",
            "\n",
            ">>>>Generator loss: 0.5215 | Generator PPL:  1.6845\n",
            ">>>>Discriminator loss: -0.8671 | Discriminator PPL:  0.4202\n"
          ],
          "name": "stdout"
        },
        {
          "output_type": "stream",
          "text": [
            " 21%|██▏       | 200/938 [05:39<20:47,  1.69s/it]"
          ],
          "name": "stderr"
        },
        {
          "output_type": "stream",
          "text": [
            "\n",
            ">>>>Time elapsed at the end of epoch: 8/10 is 0 hrs: 05 min: 40.00 sec\n",
            "\n",
            ">>>>Generator loss: 0.5322 | Generator PPL:  1.7026\n",
            ">>>>Discriminator loss: -0.8913 | Discriminator PPL:  0.4101\n"
          ],
          "name": "stdout"
        },
        {
          "output_type": "stream",
          "text": [
            " 32%|███▏      | 300/938 [08:28<18:01,  1.70s/it]"
          ],
          "name": "stderr"
        },
        {
          "output_type": "stream",
          "text": [
            "\n",
            ">>>>Time elapsed at the end of epoch: 8/10 is 0 hrs: 08 min: 30.00 sec\n",
            "\n",
            ">>>>Generator loss: 0.5104 | Generator PPL:  1.6659\n",
            ">>>>Discriminator loss: -0.7924 | Discriminator PPL:  0.4527\n"
          ],
          "name": "stdout"
        },
        {
          "output_type": "stream",
          "text": [
            " 43%|████▎     | 400/938 [11:19<15:18,  1.71s/it]"
          ],
          "name": "stderr"
        },
        {
          "output_type": "stream",
          "text": [
            "\n",
            ">>>>Time elapsed at the end of epoch: 8/10 is 0 hrs: 11 min: 21.00 sec\n",
            "\n",
            ">>>>Generator loss: 0.5470 | Generator PPL:  1.7281\n",
            ">>>>Discriminator loss: -0.8620 | Discriminator PPL:  0.4223\n"
          ],
          "name": "stdout"
        },
        {
          "output_type": "stream",
          "text": [
            " 53%|█████▎    | 500/938 [14:10<12:27,  1.71s/it]"
          ],
          "name": "stderr"
        },
        {
          "output_type": "stream",
          "text": [
            "\n",
            ">>>>Time elapsed at the end of epoch: 8/10 is 0 hrs: 14 min: 12.00 sec\n",
            "\n",
            ">>>>Generator loss: 0.5105 | Generator PPL:  1.6661\n",
            ">>>>Discriminator loss: -0.8189 | Discriminator PPL:  0.4409\n"
          ],
          "name": "stdout"
        },
        {
          "output_type": "stream",
          "text": [
            " 64%|██████▍   | 600/938 [17:01<09:36,  1.71s/it]"
          ],
          "name": "stderr"
        },
        {
          "output_type": "stream",
          "text": [
            "\n",
            ">>>>Time elapsed at the end of epoch: 8/10 is 0 hrs: 17 min: 03.00 sec\n",
            "\n",
            ">>>>Generator loss: 0.2920 | Generator PPL:  1.3391\n",
            ">>>>Discriminator loss: -0.8495 | Discriminator PPL:  0.4276\n"
          ],
          "name": "stdout"
        },
        {
          "output_type": "stream",
          "text": [
            " 71%|███████   | 665/938 [18:52<07:46,  1.71s/it]"
          ],
          "name": "stderr"
        }
      ]
    },
    {
      "cell_type": "code",
      "metadata": {
        "id": "7tTTYHrbk9Ug"
      },
      "source": [
        "!tensorboard -logdir = logs"
      ],
      "execution_count": null,
      "outputs": []
    }
  ]
}