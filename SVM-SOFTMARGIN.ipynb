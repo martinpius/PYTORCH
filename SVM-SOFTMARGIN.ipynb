{
  "nbformat": 4,
  "nbformat_minor": 0,
  "metadata": {
    "colab": {
      "provenance": [],
      "authorship_tag": "ABX9TyNtgMr+GS4e3/ufQVPzRhYU",
      "include_colab_link": true
    },
    "kernelspec": {
      "name": "python3",
      "display_name": "Python 3"
    },
    "language_info": {
      "name": "python"
    }
  },
  "cells": [
    {
      "cell_type": "markdown",
      "metadata": {
        "id": "view-in-github",
        "colab_type": "text"
      },
      "source": [
        "<a href=\"https://colab.research.google.com/github/martinpius/PYTORCH/blob/main/SVM-SOFTMARGIN.ipynb\" target=\"_parent\"><img src=\"https://colab.research.google.com/assets/colab-badge.svg\" alt=\"Open In Colab\"/></a>"
      ]
    },
    {
      "cell_type": "code",
      "source": [
        "import time\n",
        "t1 = time.time()\n",
        "from google.colab import drive\n",
        "drive.mount(\"/content/drive\", force_remount = True)\n",
        "\n",
        "try:\n",
        "  COLAB = True\n",
        "  import torch\n",
        "  from torch import nn, optim\n",
        "  from torch.utils.data import DataLoader, Dataset\n",
        "  import matplotlib.pyplot as plt\n",
        "  import numpy as np\n",
        "  import pandas as pd\n",
        "  from sklearn.model_selection import train_test_split\n",
        "  from sklearn.datasets import load_breast_cancer\n",
        "  print(f\">>>> You are on CoLaB with torch version {torch.__version__}\")\n",
        "except Exception as e:\n",
        "  COLAB = False\n",
        "  print(f\">>>> {type(e)}: {e}\\n>>>> Please corect {type(e)} and reload your device\")\n",
        "\n",
        "def timefmt(t: float = 231.781)->float:\n",
        "  h = int(t / (60 * 60))\n",
        "  m = int(t % (60 * 60) / 60)\n",
        "  s = int(t % 60)\n",
        "  return f\"hrs: {h}, min: {m:>02}, sec: {s:>05.2f}\"\n",
        "\n",
        "device = torch.device(\"cuda\") if torch.cuda.is_available() else torch.device(\"cpu\")\n",
        "BATCH_SIZE = 256 if device == torch.device(\"cuda\") else 32\n",
        "print(f\">>>> Available device: {device}\")\n",
        "!nvidia-smi\n",
        "t2 = time.time()\n",
        "print(f\">>>> time elapsed: {timefmt(t2 - t1)}\")"
      ],
      "metadata": {
        "colab": {
          "base_uri": "https://localhost:8080/"
        },
        "id": "CqRrmT2Kh09B",
        "outputId": "ffa6d37c-53e1-4731-cd08-b90e14086e43"
      },
      "execution_count": 3,
      "outputs": [
        {
          "output_type": "stream",
          "name": "stdout",
          "text": [
            "Mounted at /content/drive\n",
            ">>>> You are on CoLaB with torch version 1.13.0+cu116\n",
            ">>>> Available device: cpu\n",
            "NVIDIA-SMI has failed because it couldn't communicate with the NVIDIA driver. Make sure that the latest NVIDIA driver is installed and running.\n",
            "\n",
            ">>>> time elapsed: hrs: 0, min: 00, sec: 03.00\n"
          ]
        }
      ]
    },
    {
      "cell_type": "markdown",
      "source": [
        "#### In this notebook we present the Implementantion of the support vector machine with a sofmargin loss function from scratch in Pytorch. We train on the breast cancer dataset (Available in scikit learn repo) "
      ],
      "metadata": {
        "id": "ref-zCCSh1FL"
      }
    },
    {
      "cell_type": "code",
      "source": [
        "cancer = load_breast_cancer()\n",
        "cancer_data = pd.DataFrame(data = cancer.data, columns = cancer.feature_names)\n",
        "cancer_data[\"target\"] = cancer[\"target\"]\n",
        "#display(cancer_data.head(10))"
      ],
      "metadata": {
        "id": "ZVh-GBZDh1IE"
      },
      "execution_count": null,
      "outputs": []
    },
    {
      "cell_type": "code",
      "source": [
        "print(f\">>>> {cancer.target_names}\\t {cancer_data.target.unique()}\")"
      ],
      "metadata": {
        "colab": {
          "base_uri": "https://localhost:8080/"
        },
        "id": "B9XaYnwdnNy9",
        "outputId": "49719e68-f3cd-47ab-b3d1-7d00243a523d"
      },
      "execution_count": 11,
      "outputs": [
        {
          "output_type": "stream",
          "name": "stdout",
          "text": [
            ">>>> ['malignant' 'benign']\t [0 1]\n"
          ]
        }
      ]
    },
    {
      "cell_type": "code",
      "source": [
        "# rescale the target into [1, -1] for SVM classifier\n",
        "cancer_data[\"target\"] = 2 * cancer_data[\"target\"] - 1"
      ],
      "metadata": {
        "id": "XkBLU5lPoWHa"
      },
      "execution_count": 13,
      "outputs": []
    },
    {
      "cell_type": "code",
      "source": [
        "print(cancer_data.target[:30])"
      ],
      "metadata": {
        "id": "NbKFeCP9pDoa"
      },
      "execution_count": null,
      "outputs": []
    },
    {
      "cell_type": "code",
      "source": [
        "len(list(cancer_data.columns)) - 1"
      ],
      "metadata": {
        "colab": {
          "base_uri": "https://localhost:8080/"
        },
        "id": "j3i6ENMVsY8u",
        "outputId": "eaeb5869-cc00-4e30-a43a-509927c57972"
      },
      "execution_count": 18,
      "outputs": [
        {
          "output_type": "execute_result",
          "data": {
            "text/plain": [
              "30"
            ]
          },
          "metadata": {},
          "execution_count": 18
        }
      ]
    },
    {
      "cell_type": "markdown",
      "source": [
        "# Pytorch soft-margin SVM clasifier"
      ],
      "metadata": {
        "id": "c5R2VZKipNg-"
      }
    },
    {
      "cell_type": "code",
      "source": [
        "class SVM_soft(nn.Module):\n",
        "  def __init__(self, in_dim):\n",
        "    super().__init__()\n",
        "    self.svm_soft = nn.Linear(in_dim, 1)\n",
        "  \n",
        "  def forward(self, x: torch.Tensor)->torch.Tensor:\n",
        "    return self.svm_soft(x)\n",
        "\n",
        "in_dim = 30\n",
        "x = torch.randn(size = (BATCH_SIZE, in_dim))\n",
        "model = SVM_soft(in_dim)\n",
        "assert model(x).shape == (BATCH_SIZE, 1)"
      ],
      "metadata": {
        "id": "WhuBAIpdqcP_"
      },
      "execution_count": 20,
      "outputs": []
    },
    {
      "cell_type": "code",
      "source": [
        "X_train, X_test, Y_train, Y_test = train_test_split(cancer_data.drop(columns = [\"target\"]), cancer_data[\"target\"], test_size = 0.25)"
      ],
      "metadata": {
        "id": "Sqf_ZInLtCkC"
      },
      "execution_count": 21,
      "outputs": []
    },
    {
      "cell_type": "code",
      "source": [
        "X_train, X_test, Y_train, Y_test = torch.from_numpy(X_train.values).float(),torch.from_numpy(X_test.values).float(),\\\n",
        "torch.from_numpy(Y_train.values).float(), torch.from_numpy(Y_test.values).float()\n",
        "print(f\">>>> X_train shape: {X_train.shape}, Y_train shape: {Y_train.shape}\\\n",
        "\\n>>>> X_test shape: {X_test.shape}, Y_test shape: {Y_test.shape}\")"
      ],
      "metadata": {
        "colab": {
          "base_uri": "https://localhost:8080/"
        },
        "id": "lSd_nAc0toCD",
        "outputId": "1e5a1b1c-abb2-4bac-c477-47aae6dece0b"
      },
      "execution_count": 27,
      "outputs": [
        {
          "output_type": "stream",
          "name": "stdout",
          "text": [
            ">>>> X_train shape: torch.Size([426, 30]), Y_train shape: torch.Size([426])\n",
            ">>>> X_test shape: torch.Size([143, 30]), Y_test shape: torch.Size([143])\n"
          ]
        }
      ]
    },
    {
      "cell_type": "markdown",
      "source": [
        "#Customized Pytorch DataLoader"
      ],
      "metadata": {
        "id": "42B073v3traw"
      }
    },
    {
      "cell_type": "code",
      "source": [
        "class MyDataset(Dataset):\n",
        "  def __init__(self, X, Y):\n",
        "    super().__init__()\n",
        "    self.X = X\n",
        "    self.Y = Y\n",
        "  \n",
        "  def __len__(self):\n",
        "    return len(self.Y)\n",
        "  \n",
        "  def __getitem__(self, index):\n",
        "    X = self.X[index]\n",
        "    Y = self.Y[index]\n",
        "    return X, Y\n",
        "\n",
        "train_data, test_data = MyDataset(X_train, Y_train), MyDataset(X_test, Y_test)\n",
        "\n",
        "train_loader = DataLoader(dataset = train_data, batch_size = BATCH_SIZE, shuffle = True)\n",
        "test_loader = DataLoader(dataset = test_data, batch_size = BATCH_SIZE, shuffle = False)\n",
        "\n",
        "x_train_batch, y_train_batch = next(iter(train_loader))\n",
        "x_test_batch, y_test_batch = next(iter(test_loader))\n",
        "print(f\">>>> x_train_batch: {x_train_batch.shape}, y_train_batch: {y_train_batch.shape}\\\n",
        "\\n>>>> x_test_batch: {x_test_batch.shape}, y_test_batch: {y_test_batch.shape}\")"
      ],
      "metadata": {
        "colab": {
          "base_uri": "https://localhost:8080/"
        },
        "id": "ZNulDhYqvAhq",
        "outputId": "88bfaf3e-e43b-4e72-9eaa-12d2e48f1f01"
      },
      "execution_count": 28,
      "outputs": [
        {
          "output_type": "stream",
          "name": "stdout",
          "text": [
            ">>>> x_train_batch: torch.Size([32, 30]), y_train_batch: torch.Size([32])\n",
            ">>>> x_test_batch: torch.Size([32, 30]), y_test_batch: torch.Size([32])\n"
          ]
        }
      ]
    },
    {
      "cell_type": "markdown",
      "source": [
        "# Pytorch Training loop"
      ],
      "metadata": {
        "id": "r1pliywMw5Pw"
      }
    },
    {
      "cell_type": "code",
      "source": [
        "learning_rate = 1e-3\n",
        "optimizer = optim.Adam(params = model.parameters(), lr = learning_rate)\n",
        "C = 1"
      ],
      "metadata": {
        "id": "y-kOmK9ixCUn"
      },
      "execution_count": 30,
      "outputs": []
    },
    {
      "cell_type": "code",
      "source": [
        "def Myaccuracy(y_true: torch.Tensor, y_preds: torch.Tensor):\n",
        "  y_preds = 2 * (y_preds > 0) - 1\n",
        "  acc = torch.eq(y_true, y_preds).sum().item()\n",
        "  return (acc / len(y_true) * 100) "
      ],
      "metadata": {
        "id": "bQyCG53A2gYq"
      },
      "execution_count": 34,
      "outputs": []
    },
    {
      "cell_type": "code",
      "source": [
        "def train_test_loop(model, train_loader, test_loader, optimizer, EPOCHS):\n",
        "  model.train()\n",
        "  total_train_loss = 0\n",
        "  total_val_loss = 0\n",
        "  total_samples = 0\n",
        "  for epoch in range(EPOCHS):\n",
        "    for batch, (data, labels) in enumerate(train_loader):\n",
        "      data, labels = data.to(device), labels.to(torch.int64).to(device)\n",
        "      logits = model(data)\n",
        "      logits = logits.view(-1)\n",
        "      train_loss = 0.5 * torch.norm(model.svm_soft.weight.squeeze())**2 + C * torch.clamp((1 - labels * logits), 0).mean()\n",
        "      optimizer.zero_grad()\n",
        "      train_loss.backward()\n",
        "      total_train_loss+=train_loss\n",
        "      optimizer.step()\n",
        "      total_samples+=batch\n",
        "    \n",
        "    if epoch % 100 == 0:\n",
        "      print(f\">>>> End of train for epoch: {epoch}, train_loss:{total_train_loss/total_samples:.4f},\\\n",
        "      train accuracy: {Myaccuracy(labels, logits):.2f}\")\n",
        "    \n",
        "    model.eval()\n",
        "    with torch.inference_mode():\n",
        "      for batch, (data, labels) in enumerate(test_loader):\n",
        "        data, labels = data.to(device), labels.to(torch.int64).to(device)\n",
        "\n",
        "        logits = model(data)\n",
        "        logits = logits.view(-1)\n",
        "        val_loss = 0.5 * torch.norm(model.svm_soft.weight.squeeze())**2 + C * torch.clamp((1 - labels * logits), 0).mean()\n",
        "        total_val_loss+=val_loss\n",
        "\n",
        "    if epoch % 100 == 0:\n",
        "      print(f\">>>> End of evaluation for epoch: {epoch}, validation_loss:{total_val_loss/total_samples:.4f},\\\n",
        "      validation accuracy: {Myaccuracy(labels, logits):.2f}\")\n",
        "\n",
        "\n",
        "\n"
      ],
      "metadata": {
        "id": "sKTvZM4QxeB4"
      },
      "execution_count": 40,
      "outputs": []
    },
    {
      "cell_type": "markdown",
      "source": [
        "# Training the SVM-soft margin for 1000 epochs"
      ],
      "metadata": {
        "id": "MHQY5CZ0A-Ed"
      }
    },
    {
      "cell_type": "code",
      "source": [
        "train_test_loop(model, train_loader, test_loader, optimizer, 1000)"
      ],
      "metadata": {
        "colab": {
          "base_uri": "https://localhost:8080/"
        },
        "id": "0EYscz-u36WD",
        "outputId": "43a2963c-ba6a-44a0-b891-8abc26ac3f22"
      },
      "execution_count": 41,
      "outputs": [
        {
          "output_type": "stream",
          "name": "stdout",
          "text": [
            ">>>> End of train for epoch: 0, train_loss:0.0254,      train accuracy: 100.00\n",
            ">>>> End of evaluation for epoch: 0, validation_loss:0.0142,      validation accuracy: 93.33\n",
            ">>>> End of train for epoch: 100, train_loss:0.0293,      train accuracy: 100.00\n",
            ">>>> End of evaluation for epoch: 100, validation_loss:0.0132,      validation accuracy: 100.00\n",
            ">>>> End of train for epoch: 200, train_loss:0.0291,      train accuracy: 90.00\n",
            ">>>> End of evaluation for epoch: 200, validation_loss:0.0126,      validation accuracy: 100.00\n",
            ">>>> End of train for epoch: 300, train_loss:0.0294,      train accuracy: 90.00\n",
            ">>>> End of evaluation for epoch: 300, validation_loss:0.0125,      validation accuracy: 100.00\n",
            ">>>> End of train for epoch: 400, train_loss:0.0293,      train accuracy: 90.00\n",
            ">>>> End of evaluation for epoch: 400, validation_loss:0.0124,      validation accuracy: 100.00\n",
            ">>>> End of train for epoch: 500, train_loss:0.0292,      train accuracy: 90.00\n",
            ">>>> End of evaluation for epoch: 500, validation_loss:0.0124,      validation accuracy: 100.00\n",
            ">>>> End of train for epoch: 600, train_loss:0.0290,      train accuracy: 100.00\n",
            ">>>> End of evaluation for epoch: 600, validation_loss:0.0123,      validation accuracy: 100.00\n",
            ">>>> End of train for epoch: 700, train_loss:0.0291,      train accuracy: 100.00\n",
            ">>>> End of evaluation for epoch: 700, validation_loss:0.0123,      validation accuracy: 100.00\n",
            ">>>> End of train for epoch: 800, train_loss:0.0290,      train accuracy: 80.00\n",
            ">>>> End of evaluation for epoch: 800, validation_loss:0.0123,      validation accuracy: 100.00\n",
            ">>>> End of train for epoch: 900, train_loss:0.0289,      train accuracy: 90.00\n",
            ">>>> End of evaluation for epoch: 900, validation_loss:0.0123,      validation accuracy: 100.00\n"
          ]
        }
      ]
    },
    {
      "cell_type": "code",
      "source": [
        "# "
      ],
      "metadata": {
        "id": "090Xig264Gzq"
      },
      "execution_count": null,
      "outputs": []
    }
  ]
}