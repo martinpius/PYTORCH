{
  "nbformat": 4,
  "nbformat_minor": 0,
  "metadata": {
    "colab": {
      "name": "LeNeT implimentation from scratch in Pytorch.ipynb",
      "provenance": [],
      "authorship_tag": "ABX9TyNZPykeSuiKhbrX20CUByia",
      "include_colab_link": true
    },
    "kernelspec": {
      "name": "python3",
      "display_name": "Python 3"
    },
    "language_info": {
      "name": "python"
    },
    "accelerator": "GPU"
  },
  "cells": [
    {
      "cell_type": "markdown",
      "metadata": {
        "id": "view-in-github",
        "colab_type": "text"
      },
      "source": [
        "<a href=\"https://colab.research.google.com/github/martinpius/PYTORCH/blob/main/LeNeT_implimentation_from_scratch_in_Pytorch.ipynb\" target=\"_parent\"><img src=\"https://colab.research.google.com/assets/colab-badge.svg\" alt=\"Open In Colab\"/></a>"
      ]
    },
    {
      "cell_type": "code",
      "metadata": {
        "colab": {
          "base_uri": "https://localhost:8080/"
        },
        "id": "lrY8fdtHTQDP",
        "outputId": "17786d57-0c5e-4f1a-9869-5aba26991894"
      },
      "source": [
        "from google.colab import drive\n",
        "drive.mount(\"/content/drive/\", force_remount = True)\n",
        "try:\n",
        "  COLAB = True\n",
        "  import torch\n",
        "  print(f\"You are on Google CoLaB with Pytorch version: {torch.__version__}\")\n",
        "except Exception as e:\n",
        "  print(f\"{type(e)}: {e}\\n>>>>please correct {type(e)} and reload\")\n",
        "  COLAB = False\n",
        "if torch.cuda.is_available():\n",
        "  device = torch.device('cuda')\n",
        "else:\n",
        "  device = torch.device('cpu')\n",
        "def time_fmt(t: float = 123.981)->float:\n",
        "  h = int(t / (60 * 60))\n",
        "  m = int(t % (60 * 60) / 60)\n",
        "  s = int(t % 60)\n",
        "  return f\"{h}: {m:>02}: {s:>05.2f}\"\n",
        "print(f\">>>>time elapsed: {time_fmt()}\")"
      ],
      "execution_count": 1,
      "outputs": [
        {
          "output_type": "stream",
          "text": [
            "Mounted at /content/drive/\n",
            "You are on Google CoLaB with Pytorch version: 1.8.1+cu101\n",
            ">>>>time elapsed: 0: 02: 03.00\n"
          ],
          "name": "stdout"
        }
      ]
    },
    {
      "cell_type": "code",
      "metadata": {
        "id": "WldSCbtJV159"
      },
      "source": [
        "#In this notebook we are going to impliment the LeNet architecture by Lecun and train it on cifar10 data"
      ],
      "execution_count": 2,
      "outputs": []
    },
    {
      "cell_type": "code",
      "metadata": {
        "id": "twed21zFWZpi"
      },
      "source": [
        "import torch\n",
        "import torch.nn as nn\n",
        "import torch.nn.functional as F\n",
        "import torchvision.datasets as datasets\n",
        "import torch.optim as optim\n",
        "from torchvision.transforms import transforms\n",
        "from torch.utils.data import DataLoader\n",
        "from tqdm import tqdm\n",
        "import time, sys"
      ],
      "execution_count": 11,
      "outputs": []
    },
    {
      "cell_type": "code",
      "metadata": {
        "id": "AJ0D9YMWWguO"
      },
      "source": [
        "#Hyperparameters for the model\n",
        "batch_size = 64\n",
        "EPOCHS = 100\n",
        "learning_rate = 0.001\n",
        "num_classes = 10\n"
      ],
      "execution_count": 22,
      "outputs": []
    },
    {
      "cell_type": "code",
      "metadata": {
        "id": "6-i4eFqZXtvb"
      },
      "source": [
        "#Lenet Class:\n",
        "class LeNet(nn.Module):\n",
        "  def __init__(self,num_classes):\n",
        "    super(LeNet, self).__init__()\n",
        "    self.pool = nn.AvgPool2d(kernel_size = (2,2), stride = (2,2))\n",
        "    self.relu = nn.ReLU()\n",
        "    self.conv1 = nn.Conv2d(in_channels = 3, out_channels = 6, kernel_size = (5,5), stride = (1,1), padding = (0,0))\n",
        "    self.conv2 = nn.Conv2d(in_channels = 6, out_channels =16, kernel_size = (5,5), stride = (1,1), padding = (0,0))\n",
        "    self.conv3 = nn.Conv2d(in_channels = 16, out_channels = 120, kernel_size = (5,5), stride = (1,1), padding = (0,0))\n",
        "    self.fc1 = nn.Linear(in_features = 120, out_features = 84)\n",
        "    self.fc2 = nn.Linear(in_features = 84, out_features = 10)\n",
        "\n",
        "  def forward(self, input_tensor):\n",
        "    x = self.conv1(input_tensor)\n",
        "    x = self.relu(x)\n",
        "    x = self.pool(x)\n",
        "    x = self.conv2(x)\n",
        "    x = self.relu(x)\n",
        "    x = self.pool(x)\n",
        "    x = self.conv3(x)\n",
        "    x = x.reshape(x.shape[0],-1)\n",
        "    x = self.fc1(x)\n",
        "    x = self.relu(x)\n",
        "    x = self.fc2(x)\n",
        "    return x\n"
      ],
      "execution_count": 13,
      "outputs": []
    },
    {
      "cell_type": "code",
      "metadata": {
        "id": "ZFCA8OtMcax6"
      },
      "source": [
        "model = LeNet(num_classes = num_classes).to(device = device)"
      ],
      "execution_count": 14,
      "outputs": []
    },
    {
      "cell_type": "code",
      "metadata": {
        "colab": {
          "base_uri": "https://localhost:8080/"
        },
        "id": "mq9YcdSqcjXP",
        "outputId": "7e36c8fe-fe95-462a-d7f2-d25ae72b09f4"
      },
      "source": [
        "#Testing to see if the output is of desired shape:\n",
        "rnd_data = torch.rand(64, 3,32,32).to(device = device)\n",
        "print(f\"The output shape: {model(rnd_data).shape}\")"
      ],
      "execution_count": 15,
      "outputs": [
        {
          "output_type": "stream",
          "text": [
            "The output shape: torch.Size([64, 10])\n"
          ],
          "name": "stdout"
        }
      ]
    },
    {
      "cell_type": "code",
      "metadata": {
        "colab": {
          "base_uri": "https://localhost:8080/"
        },
        "id": "reNZdpVbdB0_",
        "outputId": "8d2330ea-5f49-409d-86d1-3204acc1fa93"
      },
      "source": [
        "#Load the data from torch:\n",
        "train_data = datasets.CIFAR10(root = '/train_data',train = True, transform = transforms.ToTensor(), download = True)\n",
        "test_data = datasets.CIFAR10(root = \"/test_data\", train = False, transform = transforms.ToTensor(), download = True)\n",
        "train_loader = DataLoader(dataset = train_data, shuffle = True, batch_size = batch_size)\n",
        "test_loader = DataLoader(dataset = test_data, shuffle = True, batch_size = batch_size)\n",
        "x_batch, y_batch = next(iter(train_loader))\n",
        "print(f\"x_batch_shape: {x_batch.shape}\\ty_batch_shape: {y_batch.shape}\")"
      ],
      "execution_count": 16,
      "outputs": [
        {
          "output_type": "stream",
          "text": [
            "Files already downloaded and verified\n",
            "Files already downloaded and verified\n",
            "x_batch_shape: torch.Size([64, 3, 32, 32])\ty_batch_shape: torch.Size([64])\n"
          ],
          "name": "stdout"
        }
      ]
    },
    {
      "cell_type": "code",
      "metadata": {
        "id": "_NG86UKne80n"
      },
      "source": [
        "#Get the optimizers and the loss object:\n",
        "optimizer = optim.Adam(params = model.parameters(), lr = learning_rate)\n",
        "loss_obj = nn.CrossEntropyLoss()"
      ],
      "execution_count": 23,
      "outputs": []
    },
    {
      "cell_type": "code",
      "metadata": {
        "colab": {
          "base_uri": "https://localhost:8080/"
        },
        "id": "QxIGb5JPfe1F",
        "outputId": "d3d81cd1-4c1c-4744-96b3-d26b71e4b995"
      },
      "source": [
        "#The training loop:\n",
        "tic = time.time()\n",
        "for epoch in range(EPOCHS):\n",
        "  print(f\"\\n>>>>training start for epoch {epoch + 1}\\n>>>>please wait while training...\")\n",
        "  for idx, (data, target) in enumerate(tqdm(train_loader)):\n",
        "    #save data to device\n",
        "    data = data.to(device = device)\n",
        "    target = target.to(device = device)\n",
        "    #forward pass here\n",
        "    preds = model(data)\n",
        "    train_loss = loss_obj(preds, target)\n",
        "    #backward pass here:\n",
        "    optimizer.zero_grad()\n",
        "    train_loss.backward()\n",
        "    #gradient descent with RMSprop optimizer here:\n",
        "    optimizer.step()\n",
        "\n",
        "#Model evaluation on the training and validation data\n",
        "def model_val(loader, model):\n",
        "  if loader.dataset.train:\n",
        "    print(f\"\\n>>>>Checking over the training data\\n>>>please wait....\")\n",
        "  else:\n",
        "    print(f\"\\n>>>>Checking over the validation data\\n>>>>please wait....\")\n",
        "  num_examples = 0\n",
        "  num_correct = 0\n",
        "  model.eval()\n",
        "  #No need to re-compute the gradients\n",
        "  with torch.no_grad():\n",
        "    for x, y in loader:\n",
        "      x = x.to(device = device)\n",
        "      y = y.to(device = device)\n",
        "      preds = model(x)\n",
        "      _,predictions = preds.max(1)#fetch the maximum proba values in a class of 10\n",
        "      num_correct+=(predictions == y).sum()#get the total number of correctly classified \n",
        "      num_examples+=predictions.size(0)#fetch total number of exaples in a batch(batch_size = 64)\n",
        "  model.train()\n",
        "  return float(num_correct/num_examples)*100#fetch the accuracy of the model\n",
        "toc = time.time()\n",
        "print(f\"\\n>>>>The accuracy of this model over the training data is: {model_val(train_loader, model):.2f}\")\n",
        "print(f\"\\n>>>>The accuracy of this model over the validation data is: {model_val(test_loader, model):.2f}\")\n",
        "print(f\"\\n>>>>Total time elapsed for training and validation: {time_fmt(toc - tic)}\")"
      ],
      "execution_count": 24,
      "outputs": [
        {
          "output_type": "stream",
          "text": [
            "  2%|▏         | 12/782 [00:00<00:06, 117.27it/s]"
          ],
          "name": "stderr"
        },
        {
          "output_type": "stream",
          "text": [
            "\n",
            ">>>>training start for epoch 1\n",
            ">>>>please wait while training...\n"
          ],
          "name": "stdout"
        },
        {
          "output_type": "stream",
          "text": [
            "100%|██████████| 782/782 [00:06<00:00, 121.52it/s]\n",
            "  2%|▏         | 12/782 [00:00<00:06, 118.14it/s]"
          ],
          "name": "stderr"
        },
        {
          "output_type": "stream",
          "text": [
            "\n",
            ">>>>training start for epoch 2\n",
            ">>>>please wait while training...\n"
          ],
          "name": "stdout"
        },
        {
          "output_type": "stream",
          "text": [
            "100%|██████████| 782/782 [00:06<00:00, 121.77it/s]\n",
            "  2%|▏         | 13/782 [00:00<00:06, 125.95it/s]"
          ],
          "name": "stderr"
        },
        {
          "output_type": "stream",
          "text": [
            "\n",
            ">>>>training start for epoch 3\n",
            ">>>>please wait while training...\n"
          ],
          "name": "stdout"
        },
        {
          "output_type": "stream",
          "text": [
            "100%|██████████| 782/782 [00:06<00:00, 120.23it/s]\n",
            "  2%|▏         | 13/782 [00:00<00:06, 124.81it/s]"
          ],
          "name": "stderr"
        },
        {
          "output_type": "stream",
          "text": [
            "\n",
            ">>>>training start for epoch 4\n",
            ">>>>please wait while training...\n"
          ],
          "name": "stdout"
        },
        {
          "output_type": "stream",
          "text": [
            "100%|██████████| 782/782 [00:06<00:00, 121.55it/s]\n",
            "  2%|▏         | 13/782 [00:00<00:06, 121.95it/s]"
          ],
          "name": "stderr"
        },
        {
          "output_type": "stream",
          "text": [
            "\n",
            ">>>>training start for epoch 5\n",
            ">>>>please wait while training...\n"
          ],
          "name": "stdout"
        },
        {
          "output_type": "stream",
          "text": [
            "100%|██████████| 782/782 [00:06<00:00, 121.33it/s]\n",
            "  2%|▏         | 12/782 [00:00<00:06, 118.00it/s]"
          ],
          "name": "stderr"
        },
        {
          "output_type": "stream",
          "text": [
            "\n",
            ">>>>training start for epoch 6\n",
            ">>>>please wait while training...\n"
          ],
          "name": "stdout"
        },
        {
          "output_type": "stream",
          "text": [
            "100%|██████████| 782/782 [00:06<00:00, 121.79it/s]\n",
            "  2%|▏         | 13/782 [00:00<00:06, 125.16it/s]"
          ],
          "name": "stderr"
        },
        {
          "output_type": "stream",
          "text": [
            "\n",
            ">>>>training start for epoch 7\n",
            ">>>>please wait while training...\n"
          ],
          "name": "stdout"
        },
        {
          "output_type": "stream",
          "text": [
            "100%|██████████| 782/782 [00:06<00:00, 121.30it/s]\n",
            "  2%|▏         | 13/782 [00:00<00:06, 123.22it/s]"
          ],
          "name": "stderr"
        },
        {
          "output_type": "stream",
          "text": [
            "\n",
            ">>>>training start for epoch 8\n",
            ">>>>please wait while training...\n"
          ],
          "name": "stdout"
        },
        {
          "output_type": "stream",
          "text": [
            "100%|██████████| 782/782 [00:06<00:00, 120.71it/s]\n",
            "  2%|▏         | 13/782 [00:00<00:06, 125.23it/s]"
          ],
          "name": "stderr"
        },
        {
          "output_type": "stream",
          "text": [
            "\n",
            ">>>>training start for epoch 9\n",
            ">>>>please wait while training...\n"
          ],
          "name": "stdout"
        },
        {
          "output_type": "stream",
          "text": [
            "100%|██████████| 782/782 [00:06<00:00, 123.00it/s]\n",
            "  2%|▏         | 13/782 [00:00<00:06, 121.80it/s]"
          ],
          "name": "stderr"
        },
        {
          "output_type": "stream",
          "text": [
            "\n",
            ">>>>training start for epoch 10\n",
            ">>>>please wait while training...\n"
          ],
          "name": "stdout"
        },
        {
          "output_type": "stream",
          "text": [
            "100%|██████████| 782/782 [00:06<00:00, 122.46it/s]\n",
            "  2%|▏         | 13/782 [00:00<00:06, 124.77it/s]"
          ],
          "name": "stderr"
        },
        {
          "output_type": "stream",
          "text": [
            "\n",
            ">>>>training start for epoch 11\n",
            ">>>>please wait while training...\n"
          ],
          "name": "stdout"
        },
        {
          "output_type": "stream",
          "text": [
            "100%|██████████| 782/782 [00:06<00:00, 122.32it/s]\n",
            "  2%|▏         | 12/782 [00:00<00:06, 110.93it/s]"
          ],
          "name": "stderr"
        },
        {
          "output_type": "stream",
          "text": [
            "\n",
            ">>>>training start for epoch 12\n",
            ">>>>please wait while training...\n"
          ],
          "name": "stdout"
        },
        {
          "output_type": "stream",
          "text": [
            "100%|██████████| 782/782 [00:06<00:00, 121.11it/s]\n",
            "  2%|▏         | 13/782 [00:00<00:06, 123.95it/s]"
          ],
          "name": "stderr"
        },
        {
          "output_type": "stream",
          "text": [
            "\n",
            ">>>>training start for epoch 13\n",
            ">>>>please wait while training...\n"
          ],
          "name": "stdout"
        },
        {
          "output_type": "stream",
          "text": [
            "100%|██████████| 782/782 [00:06<00:00, 121.30it/s]\n",
            "  2%|▏         | 12/782 [00:00<00:06, 116.12it/s]"
          ],
          "name": "stderr"
        },
        {
          "output_type": "stream",
          "text": [
            "\n",
            ">>>>training start for epoch 14\n",
            ">>>>please wait while training...\n"
          ],
          "name": "stdout"
        },
        {
          "output_type": "stream",
          "text": [
            "100%|██████████| 782/782 [00:06<00:00, 122.12it/s]\n",
            "  2%|▏         | 13/782 [00:00<00:06, 124.67it/s]"
          ],
          "name": "stderr"
        },
        {
          "output_type": "stream",
          "text": [
            "\n",
            ">>>>training start for epoch 15\n",
            ">>>>please wait while training...\n"
          ],
          "name": "stdout"
        },
        {
          "output_type": "stream",
          "text": [
            "100%|██████████| 782/782 [00:06<00:00, 122.54it/s]\n",
            "  2%|▏         | 13/782 [00:00<00:06, 122.76it/s]"
          ],
          "name": "stderr"
        },
        {
          "output_type": "stream",
          "text": [
            "\n",
            ">>>>training start for epoch 16\n",
            ">>>>please wait while training...\n"
          ],
          "name": "stdout"
        },
        {
          "output_type": "stream",
          "text": [
            "100%|██████████| 782/782 [00:06<00:00, 122.67it/s]\n",
            "  2%|▏         | 13/782 [00:00<00:06, 122.47it/s]"
          ],
          "name": "stderr"
        },
        {
          "output_type": "stream",
          "text": [
            "\n",
            ">>>>training start for epoch 17\n",
            ">>>>please wait while training...\n"
          ],
          "name": "stdout"
        },
        {
          "output_type": "stream",
          "text": [
            "100%|██████████| 782/782 [00:06<00:00, 122.57it/s]\n",
            "  2%|▏         | 12/782 [00:00<00:06, 116.96it/s]"
          ],
          "name": "stderr"
        },
        {
          "output_type": "stream",
          "text": [
            "\n",
            ">>>>training start for epoch 18\n",
            ">>>>please wait while training...\n"
          ],
          "name": "stdout"
        },
        {
          "output_type": "stream",
          "text": [
            "100%|██████████| 782/782 [00:06<00:00, 121.63it/s]\n",
            "  2%|▏         | 12/782 [00:00<00:06, 117.35it/s]"
          ],
          "name": "stderr"
        },
        {
          "output_type": "stream",
          "text": [
            "\n",
            ">>>>training start for epoch 19\n",
            ">>>>please wait while training...\n"
          ],
          "name": "stdout"
        },
        {
          "output_type": "stream",
          "text": [
            "100%|██████████| 782/782 [00:06<00:00, 120.70it/s]\n",
            "  2%|▏         | 13/782 [00:00<00:06, 123.64it/s]"
          ],
          "name": "stderr"
        },
        {
          "output_type": "stream",
          "text": [
            "\n",
            ">>>>training start for epoch 20\n",
            ">>>>please wait while training...\n"
          ],
          "name": "stdout"
        },
        {
          "output_type": "stream",
          "text": [
            "100%|██████████| 782/782 [00:06<00:00, 121.48it/s]\n",
            "  2%|▏         | 13/782 [00:00<00:06, 121.72it/s]"
          ],
          "name": "stderr"
        },
        {
          "output_type": "stream",
          "text": [
            "\n",
            ">>>>training start for epoch 21\n",
            ">>>>please wait while training...\n"
          ],
          "name": "stdout"
        },
        {
          "output_type": "stream",
          "text": [
            "100%|██████████| 782/782 [00:06<00:00, 121.56it/s]\n",
            "  2%|▏         | 12/782 [00:00<00:06, 119.73it/s]"
          ],
          "name": "stderr"
        },
        {
          "output_type": "stream",
          "text": [
            "\n",
            ">>>>training start for epoch 22\n",
            ">>>>please wait while training...\n"
          ],
          "name": "stdout"
        },
        {
          "output_type": "stream",
          "text": [
            "100%|██████████| 782/782 [00:06<00:00, 121.15it/s]\n",
            "  2%|▏         | 12/782 [00:00<00:06, 117.98it/s]"
          ],
          "name": "stderr"
        },
        {
          "output_type": "stream",
          "text": [
            "\n",
            ">>>>training start for epoch 23\n",
            ">>>>please wait while training...\n"
          ],
          "name": "stdout"
        },
        {
          "output_type": "stream",
          "text": [
            "100%|██████████| 782/782 [00:06<00:00, 119.80it/s]\n",
            "  2%|▏         | 12/782 [00:00<00:06, 114.67it/s]"
          ],
          "name": "stderr"
        },
        {
          "output_type": "stream",
          "text": [
            "\n",
            ">>>>training start for epoch 24\n",
            ">>>>please wait while training...\n"
          ],
          "name": "stdout"
        },
        {
          "output_type": "stream",
          "text": [
            "100%|██████████| 782/782 [00:06<00:00, 119.38it/s]\n",
            "  2%|▏         | 13/782 [00:00<00:06, 123.39it/s]"
          ],
          "name": "stderr"
        },
        {
          "output_type": "stream",
          "text": [
            "\n",
            ">>>>training start for epoch 25\n",
            ">>>>please wait while training...\n"
          ],
          "name": "stdout"
        },
        {
          "output_type": "stream",
          "text": [
            "100%|██████████| 782/782 [00:06<00:00, 120.32it/s]\n",
            "  2%|▏         | 13/782 [00:00<00:06, 123.99it/s]"
          ],
          "name": "stderr"
        },
        {
          "output_type": "stream",
          "text": [
            "\n",
            ">>>>training start for epoch 26\n",
            ">>>>please wait while training...\n"
          ],
          "name": "stdout"
        },
        {
          "output_type": "stream",
          "text": [
            "100%|██████████| 782/782 [00:06<00:00, 122.27it/s]\n",
            "  2%|▏         | 13/782 [00:00<00:06, 122.19it/s]"
          ],
          "name": "stderr"
        },
        {
          "output_type": "stream",
          "text": [
            "\n",
            ">>>>training start for epoch 27\n",
            ">>>>please wait while training...\n"
          ],
          "name": "stdout"
        },
        {
          "output_type": "stream",
          "text": [
            "100%|██████████| 782/782 [00:06<00:00, 121.28it/s]\n",
            "  2%|▏         | 13/782 [00:00<00:06, 121.06it/s]"
          ],
          "name": "stderr"
        },
        {
          "output_type": "stream",
          "text": [
            "\n",
            ">>>>training start for epoch 28\n",
            ">>>>please wait while training...\n"
          ],
          "name": "stdout"
        },
        {
          "output_type": "stream",
          "text": [
            "100%|██████████| 782/782 [00:06<00:00, 119.52it/s]\n",
            "  2%|▏         | 12/782 [00:00<00:06, 115.01it/s]"
          ],
          "name": "stderr"
        },
        {
          "output_type": "stream",
          "text": [
            "\n",
            ">>>>training start for epoch 29\n",
            ">>>>please wait while training...\n"
          ],
          "name": "stdout"
        },
        {
          "output_type": "stream",
          "text": [
            "100%|██████████| 782/782 [00:06<00:00, 120.05it/s]\n",
            "  2%|▏         | 12/782 [00:00<00:06, 118.99it/s]"
          ],
          "name": "stderr"
        },
        {
          "output_type": "stream",
          "text": [
            "\n",
            ">>>>training start for epoch 30\n",
            ">>>>please wait while training...\n"
          ],
          "name": "stdout"
        },
        {
          "output_type": "stream",
          "text": [
            "100%|██████████| 782/782 [00:06<00:00, 117.09it/s]\n",
            "  2%|▏         | 12/782 [00:00<00:06, 116.80it/s]"
          ],
          "name": "stderr"
        },
        {
          "output_type": "stream",
          "text": [
            "\n",
            ">>>>training start for epoch 31\n",
            ">>>>please wait while training...\n"
          ],
          "name": "stdout"
        },
        {
          "output_type": "stream",
          "text": [
            "100%|██████████| 782/782 [00:06<00:00, 119.85it/s]\n",
            "  2%|▏         | 13/782 [00:00<00:06, 124.35it/s]"
          ],
          "name": "stderr"
        },
        {
          "output_type": "stream",
          "text": [
            "\n",
            ">>>>training start for epoch 32\n",
            ">>>>please wait while training...\n"
          ],
          "name": "stdout"
        },
        {
          "output_type": "stream",
          "text": [
            "100%|██████████| 782/782 [00:06<00:00, 121.46it/s]\n",
            "  2%|▏         | 13/782 [00:00<00:06, 119.60it/s]"
          ],
          "name": "stderr"
        },
        {
          "output_type": "stream",
          "text": [
            "\n",
            ">>>>training start for epoch 33\n",
            ">>>>please wait while training...\n"
          ],
          "name": "stdout"
        },
        {
          "output_type": "stream",
          "text": [
            "100%|██████████| 782/782 [00:06<00:00, 121.30it/s]\n",
            "  2%|▏         | 13/782 [00:00<00:06, 126.12it/s]"
          ],
          "name": "stderr"
        },
        {
          "output_type": "stream",
          "text": [
            "\n",
            ">>>>training start for epoch 34\n",
            ">>>>please wait while training...\n"
          ],
          "name": "stdout"
        },
        {
          "output_type": "stream",
          "text": [
            "100%|██████████| 782/782 [00:06<00:00, 121.77it/s]\n",
            "  2%|▏         | 13/782 [00:00<00:06, 120.85it/s]"
          ],
          "name": "stderr"
        },
        {
          "output_type": "stream",
          "text": [
            "\n",
            ">>>>training start for epoch 35\n",
            ">>>>please wait while training...\n"
          ],
          "name": "stdout"
        },
        {
          "output_type": "stream",
          "text": [
            "100%|██████████| 782/782 [00:06<00:00, 120.55it/s]\n",
            "  1%|▏         | 11/782 [00:00<00:07, 108.65it/s]"
          ],
          "name": "stderr"
        },
        {
          "output_type": "stream",
          "text": [
            "\n",
            ">>>>training start for epoch 36\n",
            ">>>>please wait while training...\n"
          ],
          "name": "stdout"
        },
        {
          "output_type": "stream",
          "text": [
            "100%|██████████| 782/782 [00:06<00:00, 120.25it/s]\n",
            "  2%|▏         | 12/782 [00:00<00:06, 119.66it/s]"
          ],
          "name": "stderr"
        },
        {
          "output_type": "stream",
          "text": [
            "\n",
            ">>>>training start for epoch 37\n",
            ">>>>please wait while training...\n"
          ],
          "name": "stdout"
        },
        {
          "output_type": "stream",
          "text": [
            "100%|██████████| 782/782 [00:06<00:00, 120.34it/s]\n",
            "  2%|▏         | 12/782 [00:00<00:06, 118.96it/s]"
          ],
          "name": "stderr"
        },
        {
          "output_type": "stream",
          "text": [
            "\n",
            ">>>>training start for epoch 38\n",
            ">>>>please wait while training...\n"
          ],
          "name": "stdout"
        },
        {
          "output_type": "stream",
          "text": [
            "100%|██████████| 782/782 [00:06<00:00, 120.70it/s]\n",
            "  2%|▏         | 12/782 [00:00<00:06, 119.04it/s]"
          ],
          "name": "stderr"
        },
        {
          "output_type": "stream",
          "text": [
            "\n",
            ">>>>training start for epoch 39\n",
            ">>>>please wait while training...\n"
          ],
          "name": "stdout"
        },
        {
          "output_type": "stream",
          "text": [
            "100%|██████████| 782/782 [00:06<00:00, 120.56it/s]\n",
            "  1%|▏         | 11/782 [00:00<00:07, 109.70it/s]"
          ],
          "name": "stderr"
        },
        {
          "output_type": "stream",
          "text": [
            "\n",
            ">>>>training start for epoch 40\n",
            ">>>>please wait while training...\n"
          ],
          "name": "stdout"
        },
        {
          "output_type": "stream",
          "text": [
            "100%|██████████| 782/782 [00:06<00:00, 120.19it/s]\n",
            "  2%|▏         | 13/782 [00:00<00:06, 121.01it/s]"
          ],
          "name": "stderr"
        },
        {
          "output_type": "stream",
          "text": [
            "\n",
            ">>>>training start for epoch 41\n",
            ">>>>please wait while training...\n"
          ],
          "name": "stdout"
        },
        {
          "output_type": "stream",
          "text": [
            "100%|██████████| 782/782 [00:06<00:00, 121.01it/s]\n",
            "  2%|▏         | 13/782 [00:00<00:06, 120.66it/s]"
          ],
          "name": "stderr"
        },
        {
          "output_type": "stream",
          "text": [
            "\n",
            ">>>>training start for epoch 42\n",
            ">>>>please wait while training...\n"
          ],
          "name": "stdout"
        },
        {
          "output_type": "stream",
          "text": [
            "100%|██████████| 782/782 [00:06<00:00, 119.83it/s]\n",
            "  2%|▏         | 13/782 [00:00<00:06, 122.52it/s]"
          ],
          "name": "stderr"
        },
        {
          "output_type": "stream",
          "text": [
            "\n",
            ">>>>training start for epoch 43\n",
            ">>>>please wait while training...\n"
          ],
          "name": "stdout"
        },
        {
          "output_type": "stream",
          "text": [
            "100%|██████████| 782/782 [00:06<00:00, 120.26it/s]\n",
            "  1%|▏         | 11/782 [00:00<00:07, 108.56it/s]"
          ],
          "name": "stderr"
        },
        {
          "output_type": "stream",
          "text": [
            "\n",
            ">>>>training start for epoch 44\n",
            ">>>>please wait while training...\n"
          ],
          "name": "stdout"
        },
        {
          "output_type": "stream",
          "text": [
            "100%|██████████| 782/782 [00:06<00:00, 119.14it/s]\n",
            "  2%|▏         | 12/782 [00:00<00:06, 111.43it/s]"
          ],
          "name": "stderr"
        },
        {
          "output_type": "stream",
          "text": [
            "\n",
            ">>>>training start for epoch 45\n",
            ">>>>please wait while training...\n"
          ],
          "name": "stdout"
        },
        {
          "output_type": "stream",
          "text": [
            "100%|██████████| 782/782 [00:06<00:00, 121.47it/s]\n",
            "  2%|▏         | 12/782 [00:00<00:06, 116.93it/s]"
          ],
          "name": "stderr"
        },
        {
          "output_type": "stream",
          "text": [
            "\n",
            ">>>>training start for epoch 46\n",
            ">>>>please wait while training...\n"
          ],
          "name": "stdout"
        },
        {
          "output_type": "stream",
          "text": [
            "100%|██████████| 782/782 [00:06<00:00, 120.20it/s]\n",
            "  2%|▏         | 12/782 [00:00<00:06, 114.51it/s]"
          ],
          "name": "stderr"
        },
        {
          "output_type": "stream",
          "text": [
            "\n",
            ">>>>training start for epoch 47\n",
            ">>>>please wait while training...\n"
          ],
          "name": "stdout"
        },
        {
          "output_type": "stream",
          "text": [
            "100%|██████████| 782/782 [00:06<00:00, 120.66it/s]\n",
            "  1%|▏         | 11/782 [00:00<00:07, 101.92it/s]"
          ],
          "name": "stderr"
        },
        {
          "output_type": "stream",
          "text": [
            "\n",
            ">>>>training start for epoch 48\n",
            ">>>>please wait while training...\n"
          ],
          "name": "stdout"
        },
        {
          "output_type": "stream",
          "text": [
            "100%|██████████| 782/782 [00:06<00:00, 121.00it/s]\n",
            "  2%|▏         | 13/782 [00:00<00:06, 120.78it/s]"
          ],
          "name": "stderr"
        },
        {
          "output_type": "stream",
          "text": [
            "\n",
            ">>>>training start for epoch 49\n",
            ">>>>please wait while training...\n"
          ],
          "name": "stdout"
        },
        {
          "output_type": "stream",
          "text": [
            "100%|██████████| 782/782 [00:06<00:00, 119.52it/s]\n",
            "  2%|▏         | 13/782 [00:00<00:06, 124.24it/s]"
          ],
          "name": "stderr"
        },
        {
          "output_type": "stream",
          "text": [
            "\n",
            ">>>>training start for epoch 50\n",
            ">>>>please wait while training...\n"
          ],
          "name": "stdout"
        },
        {
          "output_type": "stream",
          "text": [
            "100%|██████████| 782/782 [00:06<00:00, 120.71it/s]\n",
            "  2%|▏         | 13/782 [00:00<00:06, 123.57it/s]"
          ],
          "name": "stderr"
        },
        {
          "output_type": "stream",
          "text": [
            "\n",
            ">>>>training start for epoch 51\n",
            ">>>>please wait while training...\n"
          ],
          "name": "stdout"
        },
        {
          "output_type": "stream",
          "text": [
            "100%|██████████| 782/782 [00:06<00:00, 117.82it/s]\n",
            "  2%|▏         | 12/782 [00:00<00:06, 119.55it/s]"
          ],
          "name": "stderr"
        },
        {
          "output_type": "stream",
          "text": [
            "\n",
            ">>>>training start for epoch 52\n",
            ">>>>please wait while training...\n"
          ],
          "name": "stdout"
        },
        {
          "output_type": "stream",
          "text": [
            "100%|██████████| 782/782 [00:06<00:00, 119.25it/s]\n",
            "  2%|▏         | 12/782 [00:00<00:06, 114.17it/s]"
          ],
          "name": "stderr"
        },
        {
          "output_type": "stream",
          "text": [
            "\n",
            ">>>>training start for epoch 53\n",
            ">>>>please wait while training...\n"
          ],
          "name": "stdout"
        },
        {
          "output_type": "stream",
          "text": [
            "100%|██████████| 782/782 [00:06<00:00, 119.88it/s]\n",
            "  2%|▏         | 12/782 [00:00<00:06, 112.13it/s]"
          ],
          "name": "stderr"
        },
        {
          "output_type": "stream",
          "text": [
            "\n",
            ">>>>training start for epoch 54\n",
            ">>>>please wait while training...\n"
          ],
          "name": "stdout"
        },
        {
          "output_type": "stream",
          "text": [
            "100%|██████████| 782/782 [00:06<00:00, 119.31it/s]\n",
            "  2%|▏         | 13/782 [00:00<00:06, 121.92it/s]"
          ],
          "name": "stderr"
        },
        {
          "output_type": "stream",
          "text": [
            "\n",
            ">>>>training start for epoch 55\n",
            ">>>>please wait while training...\n"
          ],
          "name": "stdout"
        },
        {
          "output_type": "stream",
          "text": [
            "100%|██████████| 782/782 [00:06<00:00, 119.73it/s]\n",
            "  2%|▏         | 12/782 [00:00<00:06, 114.01it/s]"
          ],
          "name": "stderr"
        },
        {
          "output_type": "stream",
          "text": [
            "\n",
            ">>>>training start for epoch 56\n",
            ">>>>please wait while training...\n"
          ],
          "name": "stdout"
        },
        {
          "output_type": "stream",
          "text": [
            "100%|██████████| 782/782 [00:06<00:00, 119.04it/s]\n",
            "  2%|▏         | 13/782 [00:00<00:06, 121.81it/s]"
          ],
          "name": "stderr"
        },
        {
          "output_type": "stream",
          "text": [
            "\n",
            ">>>>training start for epoch 57\n",
            ">>>>please wait while training...\n"
          ],
          "name": "stdout"
        },
        {
          "output_type": "stream",
          "text": [
            "100%|██████████| 782/782 [00:06<00:00, 120.41it/s]\n",
            "  2%|▏         | 13/782 [00:00<00:06, 118.85it/s]"
          ],
          "name": "stderr"
        },
        {
          "output_type": "stream",
          "text": [
            "\n",
            ">>>>training start for epoch 58\n",
            ">>>>please wait while training...\n"
          ],
          "name": "stdout"
        },
        {
          "output_type": "stream",
          "text": [
            "100%|██████████| 782/782 [00:06<00:00, 119.93it/s]\n",
            "  2%|▏         | 12/782 [00:00<00:06, 117.45it/s]"
          ],
          "name": "stderr"
        },
        {
          "output_type": "stream",
          "text": [
            "\n",
            ">>>>training start for epoch 59\n",
            ">>>>please wait while training...\n"
          ],
          "name": "stdout"
        },
        {
          "output_type": "stream",
          "text": [
            "100%|██████████| 782/782 [00:06<00:00, 118.82it/s]\n",
            "  2%|▏         | 13/782 [00:00<00:06, 122.17it/s]"
          ],
          "name": "stderr"
        },
        {
          "output_type": "stream",
          "text": [
            "\n",
            ">>>>training start for epoch 60\n",
            ">>>>please wait while training...\n"
          ],
          "name": "stdout"
        },
        {
          "output_type": "stream",
          "text": [
            "100%|██████████| 782/782 [00:06<00:00, 120.13it/s]\n",
            "  2%|▏         | 12/782 [00:00<00:06, 116.87it/s]"
          ],
          "name": "stderr"
        },
        {
          "output_type": "stream",
          "text": [
            "\n",
            ">>>>training start for epoch 61\n",
            ">>>>please wait while training...\n"
          ],
          "name": "stdout"
        },
        {
          "output_type": "stream",
          "text": [
            "100%|██████████| 782/782 [00:06<00:00, 119.43it/s]\n",
            "  2%|▏         | 12/782 [00:00<00:06, 119.87it/s]"
          ],
          "name": "stderr"
        },
        {
          "output_type": "stream",
          "text": [
            "\n",
            ">>>>training start for epoch 62\n",
            ">>>>please wait while training...\n"
          ],
          "name": "stdout"
        },
        {
          "output_type": "stream",
          "text": [
            "100%|██████████| 782/782 [00:06<00:00, 117.20it/s]\n",
            "  2%|▏         | 12/782 [00:00<00:06, 115.81it/s]"
          ],
          "name": "stderr"
        },
        {
          "output_type": "stream",
          "text": [
            "\n",
            ">>>>training start for epoch 63\n",
            ">>>>please wait while training...\n"
          ],
          "name": "stdout"
        },
        {
          "output_type": "stream",
          "text": [
            "100%|██████████| 782/782 [00:06<00:00, 118.40it/s]\n",
            "  2%|▏         | 12/782 [00:00<00:06, 119.77it/s]"
          ],
          "name": "stderr"
        },
        {
          "output_type": "stream",
          "text": [
            "\n",
            ">>>>training start for epoch 64\n",
            ">>>>please wait while training...\n"
          ],
          "name": "stdout"
        },
        {
          "output_type": "stream",
          "text": [
            "100%|██████████| 782/782 [00:06<00:00, 118.52it/s]\n",
            "  2%|▏         | 12/782 [00:00<00:06, 111.22it/s]"
          ],
          "name": "stderr"
        },
        {
          "output_type": "stream",
          "text": [
            "\n",
            ">>>>training start for epoch 65\n",
            ">>>>please wait while training...\n"
          ],
          "name": "stdout"
        },
        {
          "output_type": "stream",
          "text": [
            "100%|██████████| 782/782 [00:06<00:00, 119.00it/s]\n",
            "  2%|▏         | 13/782 [00:00<00:06, 121.83it/s]"
          ],
          "name": "stderr"
        },
        {
          "output_type": "stream",
          "text": [
            "\n",
            ">>>>training start for epoch 66\n",
            ">>>>please wait while training...\n"
          ],
          "name": "stdout"
        },
        {
          "output_type": "stream",
          "text": [
            "100%|██████████| 782/782 [00:06<00:00, 119.01it/s]\n",
            "  2%|▏         | 12/782 [00:00<00:06, 119.82it/s]"
          ],
          "name": "stderr"
        },
        {
          "output_type": "stream",
          "text": [
            "\n",
            ">>>>training start for epoch 67\n",
            ">>>>please wait while training...\n"
          ],
          "name": "stdout"
        },
        {
          "output_type": "stream",
          "text": [
            "100%|██████████| 782/782 [00:06<00:00, 117.16it/s]\n",
            "  2%|▏         | 12/782 [00:00<00:06, 111.30it/s]"
          ],
          "name": "stderr"
        },
        {
          "output_type": "stream",
          "text": [
            "\n",
            ">>>>training start for epoch 68\n",
            ">>>>please wait while training...\n"
          ],
          "name": "stdout"
        },
        {
          "output_type": "stream",
          "text": [
            "100%|██████████| 782/782 [00:06<00:00, 116.61it/s]\n",
            "  2%|▏         | 13/782 [00:00<00:06, 122.68it/s]"
          ],
          "name": "stderr"
        },
        {
          "output_type": "stream",
          "text": [
            "\n",
            ">>>>training start for epoch 69\n",
            ">>>>please wait while training...\n"
          ],
          "name": "stdout"
        },
        {
          "output_type": "stream",
          "text": [
            "100%|██████████| 782/782 [00:06<00:00, 113.28it/s]\n",
            "  1%|▏         | 11/782 [00:00<00:07, 106.71it/s]"
          ],
          "name": "stderr"
        },
        {
          "output_type": "stream",
          "text": [
            "\n",
            ">>>>training start for epoch 70\n",
            ">>>>please wait while training...\n"
          ],
          "name": "stdout"
        },
        {
          "output_type": "stream",
          "text": [
            "100%|██████████| 782/782 [00:06<00:00, 116.69it/s]\n",
            "  2%|▏         | 13/782 [00:00<00:06, 122.23it/s]"
          ],
          "name": "stderr"
        },
        {
          "output_type": "stream",
          "text": [
            "\n",
            ">>>>training start for epoch 71\n",
            ">>>>please wait while training...\n"
          ],
          "name": "stdout"
        },
        {
          "output_type": "stream",
          "text": [
            "100%|██████████| 782/782 [00:06<00:00, 120.75it/s]\n",
            "  2%|▏         | 12/782 [00:00<00:06, 118.68it/s]"
          ],
          "name": "stderr"
        },
        {
          "output_type": "stream",
          "text": [
            "\n",
            ">>>>training start for epoch 72\n",
            ">>>>please wait while training...\n"
          ],
          "name": "stdout"
        },
        {
          "output_type": "stream",
          "text": [
            "100%|██████████| 782/782 [00:06<00:00, 119.19it/s]\n",
            "  2%|▏         | 12/782 [00:00<00:06, 116.06it/s]"
          ],
          "name": "stderr"
        },
        {
          "output_type": "stream",
          "text": [
            "\n",
            ">>>>training start for epoch 73\n",
            ">>>>please wait while training...\n"
          ],
          "name": "stdout"
        },
        {
          "output_type": "stream",
          "text": [
            "100%|██████████| 782/782 [00:06<00:00, 118.79it/s]\n",
            "  2%|▏         | 13/782 [00:00<00:06, 125.38it/s]"
          ],
          "name": "stderr"
        },
        {
          "output_type": "stream",
          "text": [
            "\n",
            ">>>>training start for epoch 74\n",
            ">>>>please wait while training...\n"
          ],
          "name": "stdout"
        },
        {
          "output_type": "stream",
          "text": [
            "100%|██████████| 782/782 [00:06<00:00, 117.78it/s]\n",
            "  2%|▏         | 12/782 [00:00<00:06, 114.55it/s]"
          ],
          "name": "stderr"
        },
        {
          "output_type": "stream",
          "text": [
            "\n",
            ">>>>training start for epoch 75\n",
            ">>>>please wait while training...\n"
          ],
          "name": "stdout"
        },
        {
          "output_type": "stream",
          "text": [
            "100%|██████████| 782/782 [00:06<00:00, 119.53it/s]\n",
            "  2%|▏         | 13/782 [00:00<00:06, 121.63it/s]"
          ],
          "name": "stderr"
        },
        {
          "output_type": "stream",
          "text": [
            "\n",
            ">>>>training start for epoch 76\n",
            ">>>>please wait while training...\n"
          ],
          "name": "stdout"
        },
        {
          "output_type": "stream",
          "text": [
            "100%|██████████| 782/782 [00:06<00:00, 119.78it/s]\n",
            "  2%|▏         | 13/782 [00:00<00:06, 123.44it/s]"
          ],
          "name": "stderr"
        },
        {
          "output_type": "stream",
          "text": [
            "\n",
            ">>>>training start for epoch 77\n",
            ">>>>please wait while training...\n"
          ],
          "name": "stdout"
        },
        {
          "output_type": "stream",
          "text": [
            "100%|██████████| 782/782 [00:06<00:00, 119.92it/s]\n",
            "  2%|▏         | 12/782 [00:00<00:06, 118.77it/s]"
          ],
          "name": "stderr"
        },
        {
          "output_type": "stream",
          "text": [
            "\n",
            ">>>>training start for epoch 78\n",
            ">>>>please wait while training...\n"
          ],
          "name": "stdout"
        },
        {
          "output_type": "stream",
          "text": [
            "100%|██████████| 782/782 [00:06<00:00, 119.43it/s]\n",
            "  2%|▏         | 12/782 [00:00<00:06, 117.55it/s]"
          ],
          "name": "stderr"
        },
        {
          "output_type": "stream",
          "text": [
            "\n",
            ">>>>training start for epoch 79\n",
            ">>>>please wait while training...\n"
          ],
          "name": "stdout"
        },
        {
          "output_type": "stream",
          "text": [
            "100%|██████████| 782/782 [00:06<00:00, 119.74it/s]\n",
            "  2%|▏         | 12/782 [00:00<00:06, 114.98it/s]"
          ],
          "name": "stderr"
        },
        {
          "output_type": "stream",
          "text": [
            "\n",
            ">>>>training start for epoch 80\n",
            ">>>>please wait while training...\n"
          ],
          "name": "stdout"
        },
        {
          "output_type": "stream",
          "text": [
            "100%|██████████| 782/782 [00:06<00:00, 116.98it/s]\n",
            "  2%|▏         | 12/782 [00:00<00:06, 119.76it/s]"
          ],
          "name": "stderr"
        },
        {
          "output_type": "stream",
          "text": [
            "\n",
            ">>>>training start for epoch 81\n",
            ">>>>please wait while training...\n"
          ],
          "name": "stdout"
        },
        {
          "output_type": "stream",
          "text": [
            "100%|██████████| 782/782 [00:06<00:00, 117.82it/s]\n",
            "  1%|▏         | 11/782 [00:00<00:07, 107.08it/s]"
          ],
          "name": "stderr"
        },
        {
          "output_type": "stream",
          "text": [
            "\n",
            ">>>>training start for epoch 82\n",
            ">>>>please wait while training...\n"
          ],
          "name": "stdout"
        },
        {
          "output_type": "stream",
          "text": [
            "100%|██████████| 782/782 [00:06<00:00, 118.09it/s]\n",
            "  2%|▏         | 12/782 [00:00<00:06, 114.89it/s]"
          ],
          "name": "stderr"
        },
        {
          "output_type": "stream",
          "text": [
            "\n",
            ">>>>training start for epoch 83\n",
            ">>>>please wait while training...\n"
          ],
          "name": "stdout"
        },
        {
          "output_type": "stream",
          "text": [
            "100%|██████████| 782/782 [00:06<00:00, 119.79it/s]\n",
            "  2%|▏         | 13/782 [00:00<00:06, 124.20it/s]"
          ],
          "name": "stderr"
        },
        {
          "output_type": "stream",
          "text": [
            "\n",
            ">>>>training start for epoch 84\n",
            ">>>>please wait while training...\n"
          ],
          "name": "stdout"
        },
        {
          "output_type": "stream",
          "text": [
            "100%|██████████| 782/782 [00:06<00:00, 119.28it/s]\n",
            "  2%|▏         | 13/782 [00:00<00:06, 121.42it/s]"
          ],
          "name": "stderr"
        },
        {
          "output_type": "stream",
          "text": [
            "\n",
            ">>>>training start for epoch 85\n",
            ">>>>please wait while training...\n"
          ],
          "name": "stdout"
        },
        {
          "output_type": "stream",
          "text": [
            "100%|██████████| 782/782 [00:06<00:00, 118.18it/s]\n",
            "  2%|▏         | 12/782 [00:00<00:06, 118.95it/s]"
          ],
          "name": "stderr"
        },
        {
          "output_type": "stream",
          "text": [
            "\n",
            ">>>>training start for epoch 86\n",
            ">>>>please wait while training...\n"
          ],
          "name": "stdout"
        },
        {
          "output_type": "stream",
          "text": [
            "100%|██████████| 782/782 [00:06<00:00, 119.11it/s]\n",
            "  1%|▏         | 11/782 [00:00<00:07, 106.23it/s]"
          ],
          "name": "stderr"
        },
        {
          "output_type": "stream",
          "text": [
            "\n",
            ">>>>training start for epoch 87\n",
            ">>>>please wait while training...\n"
          ],
          "name": "stdout"
        },
        {
          "output_type": "stream",
          "text": [
            "100%|██████████| 782/782 [00:06<00:00, 118.22it/s]\n",
            "  2%|▏         | 12/782 [00:00<00:06, 116.01it/s]"
          ],
          "name": "stderr"
        },
        {
          "output_type": "stream",
          "text": [
            "\n",
            ">>>>training start for epoch 88\n",
            ">>>>please wait while training...\n"
          ],
          "name": "stdout"
        },
        {
          "output_type": "stream",
          "text": [
            "100%|██████████| 782/782 [00:06<00:00, 119.10it/s]\n",
            "  1%|▏         | 11/782 [00:00<00:07, 106.72it/s]"
          ],
          "name": "stderr"
        },
        {
          "output_type": "stream",
          "text": [
            "\n",
            ">>>>training start for epoch 89\n",
            ">>>>please wait while training...\n"
          ],
          "name": "stdout"
        },
        {
          "output_type": "stream",
          "text": [
            "100%|██████████| 782/782 [00:06<00:00, 119.71it/s]\n",
            "  2%|▏         | 13/782 [00:00<00:06, 121.44it/s]"
          ],
          "name": "stderr"
        },
        {
          "output_type": "stream",
          "text": [
            "\n",
            ">>>>training start for epoch 90\n",
            ">>>>please wait while training...\n"
          ],
          "name": "stdout"
        },
        {
          "output_type": "stream",
          "text": [
            "100%|██████████| 782/782 [00:06<00:00, 119.00it/s]\n",
            "  2%|▏         | 12/782 [00:00<00:06, 117.85it/s]"
          ],
          "name": "stderr"
        },
        {
          "output_type": "stream",
          "text": [
            "\n",
            ">>>>training start for epoch 91\n",
            ">>>>please wait while training...\n"
          ],
          "name": "stdout"
        },
        {
          "output_type": "stream",
          "text": [
            "100%|██████████| 782/782 [00:06<00:00, 118.40it/s]\n",
            "  2%|▏         | 13/782 [00:00<00:06, 121.87it/s]"
          ],
          "name": "stderr"
        },
        {
          "output_type": "stream",
          "text": [
            "\n",
            ">>>>training start for epoch 92\n",
            ">>>>please wait while training...\n"
          ],
          "name": "stdout"
        },
        {
          "output_type": "stream",
          "text": [
            "100%|██████████| 782/782 [00:06<00:00, 119.07it/s]\n",
            "  2%|▏         | 12/782 [00:00<00:06, 114.60it/s]"
          ],
          "name": "stderr"
        },
        {
          "output_type": "stream",
          "text": [
            "\n",
            ">>>>training start for epoch 93\n",
            ">>>>please wait while training...\n"
          ],
          "name": "stdout"
        },
        {
          "output_type": "stream",
          "text": [
            "100%|██████████| 782/782 [00:06<00:00, 118.37it/s]\n",
            "  2%|▏         | 12/782 [00:00<00:06, 117.61it/s]"
          ],
          "name": "stderr"
        },
        {
          "output_type": "stream",
          "text": [
            "\n",
            ">>>>training start for epoch 94\n",
            ">>>>please wait while training...\n"
          ],
          "name": "stdout"
        },
        {
          "output_type": "stream",
          "text": [
            "100%|██████████| 782/782 [00:06<00:00, 117.93it/s]\n",
            "  2%|▏         | 12/782 [00:00<00:06, 112.44it/s]"
          ],
          "name": "stderr"
        },
        {
          "output_type": "stream",
          "text": [
            "\n",
            ">>>>training start for epoch 95\n",
            ">>>>please wait while training...\n"
          ],
          "name": "stdout"
        },
        {
          "output_type": "stream",
          "text": [
            "100%|██████████| 782/782 [00:06<00:00, 118.60it/s]\n",
            "  1%|▏         | 11/782 [00:00<00:07, 108.11it/s]"
          ],
          "name": "stderr"
        },
        {
          "output_type": "stream",
          "text": [
            "\n",
            ">>>>training start for epoch 96\n",
            ">>>>please wait while training...\n"
          ],
          "name": "stdout"
        },
        {
          "output_type": "stream",
          "text": [
            "100%|██████████| 782/782 [00:06<00:00, 117.81it/s]\n",
            "  2%|▏         | 13/782 [00:00<00:06, 120.83it/s]"
          ],
          "name": "stderr"
        },
        {
          "output_type": "stream",
          "text": [
            "\n",
            ">>>>training start for epoch 97\n",
            ">>>>please wait while training...\n"
          ],
          "name": "stdout"
        },
        {
          "output_type": "stream",
          "text": [
            "100%|██████████| 782/782 [00:06<00:00, 119.30it/s]\n",
            "  2%|▏         | 12/782 [00:00<00:06, 115.29it/s]"
          ],
          "name": "stderr"
        },
        {
          "output_type": "stream",
          "text": [
            "\n",
            ">>>>training start for epoch 98\n",
            ">>>>please wait while training...\n"
          ],
          "name": "stdout"
        },
        {
          "output_type": "stream",
          "text": [
            "100%|██████████| 782/782 [00:06<00:00, 116.16it/s]\n",
            "  2%|▏         | 13/782 [00:00<00:06, 120.57it/s]"
          ],
          "name": "stderr"
        },
        {
          "output_type": "stream",
          "text": [
            "\n",
            ">>>>training start for epoch 99\n",
            ">>>>please wait while training...\n"
          ],
          "name": "stdout"
        },
        {
          "output_type": "stream",
          "text": [
            "100%|██████████| 782/782 [00:06<00:00, 115.70it/s]\n",
            "  2%|▏         | 12/782 [00:00<00:06, 114.73it/s]"
          ],
          "name": "stderr"
        },
        {
          "output_type": "stream",
          "text": [
            "\n",
            ">>>>training start for epoch 100\n",
            ">>>>please wait while training...\n"
          ],
          "name": "stdout"
        },
        {
          "output_type": "stream",
          "text": [
            "100%|██████████| 782/782 [00:06<00:00, 116.51it/s]\n"
          ],
          "name": "stderr"
        },
        {
          "output_type": "stream",
          "text": [
            "\n",
            ">>>>Checking over the training data\n",
            ">>>please wait....\n",
            "\n",
            ">>>>The accuracy of this model over the training data is: 88.39\n",
            "\n",
            ">>>>Checking over the validation data\n",
            ">>>>please wait....\n",
            "\n",
            ">>>>The accuracy of this model over the validation data is: 59.16\n",
            "\n",
            ">>>>Total time elapsed for training and validation: 0: 10: 53.00\n"
          ],
          "name": "stdout"
        }
      ]
    },
    {
      "cell_type": "code",
      "metadata": {
        "id": "P_LekTzGk4In"
      },
      "source": [
        ""
      ],
      "execution_count": null,
      "outputs": []
    }
  ]
}