{
  "nbformat": 4,
  "nbformat_minor": 0,
  "metadata": {
    "colab": {
      "name": "simple RNN with pytorch.ipynb",
      "provenance": [],
      "authorship_tag": "ABX9TyPjSVTmdXWlxaqH1mZ2FA4o",
      "include_colab_link": true
    },
    "kernelspec": {
      "name": "python3",
      "display_name": "Python 3"
    },
    "language_info": {
      "name": "python"
    },
    "accelerator": "GPU"
  },
  "cells": [
    {
      "cell_type": "markdown",
      "metadata": {
        "id": "view-in-github",
        "colab_type": "text"
      },
      "source": [
        "<a href=\"https://colab.research.google.com/github/martinpius/PYTORCH/blob/main/simple_RNN_with_pytorch.ipynb\" target=\"_parent\"><img src=\"https://colab.research.google.com/assets/colab-badge.svg\" alt=\"Open In Colab\"/></a>"
      ]
    },
    {
      "cell_type": "code",
      "metadata": {
        "colab": {
          "base_uri": "https://localhost:8080/"
        },
        "id": "cGXyX57SZFdn",
        "outputId": "20b5c0c1-d3d8-4d4f-a19b-009507d940db"
      },
      "source": [
        "from google.colab import drive\n",
        "drive.mount(\"/content/drive\", force_remount = True)\n",
        "try:\n",
        "  COLAB = True\n",
        "  import torch \n",
        "  print(f\"You are on CoLaB with torch version: {torch.__version__}\")\n",
        "except Exception as e:\n",
        "  print(f\"{type(e)}: {e}\\n>>>>please load your drive...\")\n",
        "  COLAB = False\n",
        "#assigning the gpu device if available:\n",
        "if torch.cuda.is_available():\n",
        "  device = torch.device('cuda')\n",
        "else:\n",
        "  device = torch.device('cpu')\n",
        "def time_fmt(t:float = 124.918)->float:\n",
        "  h = int(t / (60 * 60))\n",
        "  m = int(t % (60 * 60) / 60)\n",
        "  s = int(t % 60)\n",
        "  return f\"{h}: {m:>02}: {s:>05.2f}\"\n",
        "print(f\">>>time testing: please wait\\t...\\n>>>time elapse:\\t{time_fmt()}\")\n"
      ],
      "execution_count": 22,
      "outputs": [
        {
          "output_type": "stream",
          "text": [
            "Mounted at /content/drive\n",
            "You are on CoLaB with torch version: 1.8.1+cu101\n",
            ">>>time testing: please wait\t...\n",
            ">>>time elapse:\t0: 02: 04.00\n"
          ],
          "name": "stdout"
        }
      ]
    },
    {
      "cell_type": "code",
      "metadata": {
        "id": "KJB9myzjbDiZ"
      },
      "source": [
        "#In this notebook we are going to use MNIST images as sequential data to train a simple RNN\n",
        "#MNIST images has the shape of 1, 28,28 and in this manner we are going to treat 28 pixels as time steps(sequence length)\n",
        "#and the next 28 pixels are treated as feature size for each image: We will squeeze the image to ignore the channel dimension "
      ],
      "execution_count": 23,
      "outputs": []
    },
    {
      "cell_type": "code",
      "metadata": {
        "id": "XQyUFdMrcCRg"
      },
      "source": [
        "#Importing all necessary packages:\n",
        "import torch\n",
        "import torch.optim as optim\n",
        "import torch.nn as nn\n",
        "import torch.functional as F\n",
        "from torchvision import datasets\n",
        "from torch.utils.data import DataLoader\n",
        "import torchvision.transforms as transforms\n",
        "from tqdm import tqdm\n",
        "import time, datetime,os, sys\n",
        "import numpy as np\n",
        "\n"
      ],
      "execution_count": 24,
      "outputs": []
    },
    {
      "cell_type": "code",
      "metadata": {
        "id": "b8m3Wn67dvcs"
      },
      "source": [
        "#Hyperparameters for our model:\n",
        "batch_size = 64\n",
        "hidden_size = 256\n",
        "num_layers = 2\n",
        "num_classes = 10\n",
        "epochs = 10\n",
        "inputs_size = 28\n",
        "sequence_length = 28\n",
        "learning_rate = 0.001\n"
      ],
      "execution_count": 25,
      "outputs": []
    },
    {
      "cell_type": "code",
      "metadata": {
        "id": "6IPqhOQFd3X8"
      },
      "source": [
        "#We now build our simpe rnn using the following class:"
      ],
      "execution_count": 26,
      "outputs": []
    },
    {
      "cell_type": "code",
      "metadata": {
        "id": "vizpUY_9eczf"
      },
      "source": [
        "class RNN(nn.Module):\n",
        "    def __init__(self, input_size, hidden_size, num_layers, num_classes):\n",
        "        super(RNN, self).__init__()\n",
        "        self.hidden_size = hidden_size\n",
        "        self.num_layers = num_layers\n",
        "        self.rnn = nn.RNN(input_size, hidden_size, num_layers, batch_first=True)\n",
        "        self.fc = nn.Linear(hidden_size * sequence_length, num_classes)\n",
        "\n",
        "    def forward(self, x):\n",
        "        # Set initial hidden and cell states\n",
        "        h0 = torch.zeros(self.num_layers, x.size(0), self.hidden_size).to(device)\n",
        "\n",
        "        # Forward propagate LSTM\n",
        "        out, _ = self.rnn(x, h0)\n",
        "        out = out.reshape(out.shape[0], -1)\n",
        "\n",
        "        # Decode the hidden state of the last time step\n",
        "        out = self.fc(out)\n",
        "        return out"
      ],
      "execution_count": 27,
      "outputs": []
    },
    {
      "cell_type": "code",
      "metadata": {
        "id": "b_MfV45pi7Mc"
      },
      "source": [
        "model = RNN(inputs_size, hidden_size,num_layers,num_classes).to(device = device)"
      ],
      "execution_count": 28,
      "outputs": []
    },
    {
      "cell_type": "code",
      "metadata": {
        "colab": {
          "base_uri": "https://localhost:8080/"
        },
        "id": "A3EIaQtLhFHD",
        "outputId": "5e38f8a8-cbaf-4a37-e17b-3e5a02a26979"
      },
      "source": [
        "#Importing the data from torch:\n",
        "train_data = datasets.MNIST(root = 'traindata_MNIST/', train = True, download = True,transform = transforms.ToTensor())\n",
        "test_dta = datasets.MNIST(root = 'testdata_MNIST/', train = False, transform = transforms.ToTensor(), download = True)\n",
        "train_loader = DataLoader(dataset = train_data, batch_size = batch_size, shuffle = True)\n",
        "test_loader = DataLoader(dataset = test_dta, batch_size = batch_size, shuffle = True)\n",
        "train_batch_x,train_batch_y = next(iter(train_loader))\n",
        "print(f\"train_batch_x_shape: {train_batch_x.shape}\\ttrain_batch_y_shape: {train_batch_y.shape}\")"
      ],
      "execution_count": 29,
      "outputs": [
        {
          "output_type": "stream",
          "text": [
            "train_batch_x_shape: torch.Size([64, 1, 28, 28])\ttrain_batch_y_shape: torch.Size([64])\n"
          ],
          "name": "stdout"
        }
      ]
    },
    {
      "cell_type": "code",
      "metadata": {
        "id": "I7bZJ0tkinay"
      },
      "source": [
        "#Getting the loss object and an optimizer:\n",
        "criterion = nn.CrossEntropyLoss()\n",
        "optimizer = optim.Adam(model.parameters(), lr=learning_rate)"
      ],
      "execution_count": 30,
      "outputs": []
    },
    {
      "cell_type": "code",
      "metadata": {
        "id": "AaJcXenqjhxx"
      },
      "source": [
        "#The training loop:"
      ],
      "execution_count": 31,
      "outputs": []
    },
    {
      "cell_type": "code",
      "metadata": {
        "colab": {
          "base_uri": "https://localhost:8080/"
        },
        "id": "FJa9vkpxjkNg",
        "outputId": "14be951b-f86b-43b2-bde4-6aacef745577"
      },
      "source": [
        "tic = time.time()\n",
        "for epoch in range(epochs):\n",
        "  print(f\"training bigin at epoch: {epoch + 1}\\tplease wait...\")\n",
        "  for batch_idx, (data, target) in enumerate(tqdm(train_loader)):\n",
        "    #save data to device\n",
        "    data = data.to(device=device).squeeze(1)\n",
        "    target = target.to(device = device)\n",
        "    #forward pass\n",
        "    scores = model(data)\n",
        "    loss = criterion(scores, target)\n",
        "    #backward pass\n",
        "    optimizer.zero_grad()\n",
        "    loss.backward()\n",
        "    #gradient descent with Adam()\n",
        "    optimizer.step()\n",
        "\n",
        "#Monitoring accuracy for training and validation:\n",
        "def _model_checking(loader, model):\n",
        "  if loader.dataset.train:\n",
        "    print(\"Checking the accuracy on the training set\")\n",
        "  else:\n",
        "    print('Checking the accuracy for validation set')\n",
        "  num_correct = 0\n",
        "  num_examples = 0\n",
        "  model.eval()\n",
        "  #No need to computing the gradients here\n",
        "  with torch.no_grad():\n",
        "    for x, y in loader:\n",
        "      x = x.to(device = device).squeeze(1)\n",
        "      y = y.to(device = device)\n",
        "      scores = model(x)\n",
        "      _, predictions = scores.max(1)\n",
        "      num_correct+=(predictions == y).sum()\n",
        "      num_examples+=predictions.size(0)\n",
        "  model.train()\n",
        "  return num_correct/num_examples\n",
        "\n",
        "print(f\"training accuracy is: {float(_model_checking(train_loader, model))*100:.2f}\")\n",
        "print(f\"validation accuracy is: {float(_model_checking(test_loader, model))*100:.2f}\")\n",
        "toc = time.time()\n",
        "print(f\"\\n>>>total training and evaluation time is:\\t{time_fmt(toc - tic)}\")\n",
        "\n"
      ],
      "execution_count": 34,
      "outputs": [
        {
          "output_type": "stream",
          "text": [
            "  1%|          | 9/938 [00:00<00:10, 85.34it/s]"
          ],
          "name": "stderr"
        },
        {
          "output_type": "stream",
          "text": [
            "training bigin at epoch: 1\tplease wait...\n"
          ],
          "name": "stdout"
        },
        {
          "output_type": "stream",
          "text": [
            "100%|██████████| 938/938 [00:11<00:00, 82.49it/s]\n",
            "  1%|          | 8/938 [00:00<00:11, 78.03it/s]"
          ],
          "name": "stderr"
        },
        {
          "output_type": "stream",
          "text": [
            "training bigin at epoch: 2\tplease wait...\n"
          ],
          "name": "stdout"
        },
        {
          "output_type": "stream",
          "text": [
            "100%|██████████| 938/938 [00:11<00:00, 83.83it/s]\n",
            "  1%|          | 9/938 [00:00<00:10, 85.23it/s]"
          ],
          "name": "stderr"
        },
        {
          "output_type": "stream",
          "text": [
            "training bigin at epoch: 3\tplease wait...\n"
          ],
          "name": "stdout"
        },
        {
          "output_type": "stream",
          "text": [
            "100%|██████████| 938/938 [00:11<00:00, 82.67it/s]\n",
            "  1%|          | 8/938 [00:00<00:11, 79.01it/s]"
          ],
          "name": "stderr"
        },
        {
          "output_type": "stream",
          "text": [
            "training bigin at epoch: 4\tplease wait...\n"
          ],
          "name": "stdout"
        },
        {
          "output_type": "stream",
          "text": [
            "100%|██████████| 938/938 [00:11<00:00, 82.79it/s]\n",
            "  1%|          | 9/938 [00:00<00:10, 85.35it/s]"
          ],
          "name": "stderr"
        },
        {
          "output_type": "stream",
          "text": [
            "training bigin at epoch: 5\tplease wait...\n"
          ],
          "name": "stdout"
        },
        {
          "output_type": "stream",
          "text": [
            "100%|██████████| 938/938 [00:11<00:00, 82.62it/s]\n",
            "  1%|          | 8/938 [00:00<00:11, 79.54it/s]"
          ],
          "name": "stderr"
        },
        {
          "output_type": "stream",
          "text": [
            "training bigin at epoch: 6\tplease wait...\n"
          ],
          "name": "stdout"
        },
        {
          "output_type": "stream",
          "text": [
            "100%|██████████| 938/938 [00:11<00:00, 83.53it/s]\n",
            "  1%|          | 9/938 [00:00<00:11, 81.66it/s]"
          ],
          "name": "stderr"
        },
        {
          "output_type": "stream",
          "text": [
            "training bigin at epoch: 7\tplease wait...\n"
          ],
          "name": "stdout"
        },
        {
          "output_type": "stream",
          "text": [
            "100%|██████████| 938/938 [00:11<00:00, 82.68it/s]\n",
            "  1%|          | 8/938 [00:00<00:11, 79.48it/s]"
          ],
          "name": "stderr"
        },
        {
          "output_type": "stream",
          "text": [
            "training bigin at epoch: 8\tplease wait...\n"
          ],
          "name": "stdout"
        },
        {
          "output_type": "stream",
          "text": [
            "100%|██████████| 938/938 [00:11<00:00, 81.29it/s]\n",
            "  1%|          | 9/938 [00:00<00:11, 81.18it/s]"
          ],
          "name": "stderr"
        },
        {
          "output_type": "stream",
          "text": [
            "training bigin at epoch: 9\tplease wait...\n"
          ],
          "name": "stdout"
        },
        {
          "output_type": "stream",
          "text": [
            "100%|██████████| 938/938 [00:11<00:00, 81.27it/s]\n",
            "  1%|          | 8/938 [00:00<00:11, 79.20it/s]"
          ],
          "name": "stderr"
        },
        {
          "output_type": "stream",
          "text": [
            "training bigin at epoch: 10\tplease wait...\n"
          ],
          "name": "stdout"
        },
        {
          "output_type": "stream",
          "text": [
            "100%|██████████| 938/938 [00:11<00:00, 81.94it/s]\n"
          ],
          "name": "stderr"
        },
        {
          "output_type": "stream",
          "text": [
            "Checking the accuracy on the training set\n",
            "training accuracy is: 99.04\n",
            "Checking the accuracy for validation set\n",
            "validation accuracy is: 98.15\n",
            "\n",
            ">>>total training and evaluation time is:\t0: 02: 02.00\n"
          ],
          "name": "stdout"
        }
      ]
    },
    {
      "cell_type": "code",
      "metadata": {
        "id": "CHclB4K1oJK4"
      },
      "source": [
        ""
      ],
      "execution_count": 32,
      "outputs": []
    }
  ]
}