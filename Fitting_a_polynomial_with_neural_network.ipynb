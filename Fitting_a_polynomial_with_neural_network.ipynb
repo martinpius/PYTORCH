{
  "cells": [
    {
      "cell_type": "markdown",
      "metadata": {
        "id": "view-in-github",
        "colab_type": "text"
      },
      "source": [
        "<a href=\"https://colab.research.google.com/github/martinpius/PYTORCH/blob/main/Fitting_a_polynomial_with_neural_network.ipynb\" target=\"_parent\"><img src=\"https://colab.research.google.com/assets/colab-badge.svg\" alt=\"Open In Colab\"/></a>"
      ]
    },
    {
      "cell_type": "code",
      "source": [
        "from google.colab import drive\n",
        "drive.mount(\"/content/drive/\", force_remount = True)\n",
        "try:\n",
        "  COLAB = True\n",
        "  import matplotlib.pyplot as plt\n",
        "  from torch import optim, nn\n",
        "  import torch\n",
        "  from torch.nn import L1Loss\n",
        "  from torch.utils.data import Dataset, DataLoader\n",
        "  from torchvision.transforms import transforms\n",
        "  import time\n",
        "  from sklearn.model_selection import train_test_split\n",
        "  print(f\">>>> You are on GoogLe colab with torch version: {torch.__version__}\")\n",
        "\n",
        "except Exception as e:\n",
        "  COLAB = False\n",
        "  print(f\">>>> {type(e)}: {e}\\n>>>> please correct {type(e)} and reload your drive\")\n",
        "\n",
        "device = \"cuda\" if torch.cuda.is_available() else \"cpu\"\n",
        "print(f\"\\n device: {device}\")\n",
        "!nvidia-smi\n",
        "\n",
        "def __tmft__(t: float = 231.234)->float:\n",
        "  h = int(t / (60 * 60))\n",
        "  m = int(t % (60 * 60) / 60)\n",
        "  s = int(t % 60)\n",
        "  return f\"hrs: {h} mins: {m:>02} sec: {s:>5.2f}\"\n",
        "\n",
        "print(f\">>>> testing the time formating function..........\\n>>>> time elapsed\\t{__tmft__()}\")\n"
      ],
      "metadata": {
        "colab": {
          "base_uri": "https://localhost:8080/"
        },
        "id": "l6b0PTBCf4Ia",
        "outputId": "c88c7497-04ab-4a8e-d469-22a47811f071"
      },
      "execution_count": 49,
      "outputs": [
        {
          "output_type": "stream",
          "name": "stdout",
          "text": [
            "Mounted at /content/drive/\n",
            ">>>> You are on GoogLe colab with torch version: 1.12.1+cu113\n",
            "\n",
            " device: cuda\n",
            "Mon Nov 21 21:35:06 2022       \n",
            "+-----------------------------------------------------------------------------+\n",
            "| NVIDIA-SMI 460.32.03    Driver Version: 460.32.03    CUDA Version: 11.2     |\n",
            "|-------------------------------+----------------------+----------------------+\n",
            "| GPU  Name        Persistence-M| Bus-Id        Disp.A | Volatile Uncorr. ECC |\n",
            "| Fan  Temp  Perf  Pwr:Usage/Cap|         Memory-Usage | GPU-Util  Compute M. |\n",
            "|                               |                      |               MIG M. |\n",
            "|===============================+======================+======================|\n",
            "|   0  Tesla T4            Off  | 00000000:00:04.0 Off |                    0 |\n",
            "| N/A   65C    P0    30W /  70W |    612MiB / 15109MiB |      0%      Default |\n",
            "|                               |                      |                  N/A |\n",
            "+-------------------------------+----------------------+----------------------+\n",
            "                                                                               \n",
            "+-----------------------------------------------------------------------------+\n",
            "| Processes:                                                                  |\n",
            "|  GPU   GI   CI        PID   Type   Process name                  GPU Memory |\n",
            "|        ID   ID                                                   Usage      |\n",
            "|=============================================================================|\n",
            "+-----------------------------------------------------------------------------+\n",
            ">>>> testing the time formating function..........\n",
            ">>>> time elapsed\thrs: 0 mins: 03 sec: 51.00\n"
          ]
        }
      ]
    },
    {
      "cell_type": "code",
      "source": [
        "# Creating a dummy data for a simple AI problem.\n",
        "a, b, c, d = 0.3, 2.5, -0.89, 1.5\n",
        "X = torch.randn(size = (100000,1)).reshape(-1,1)\n",
        "Y = a + X*b + X*X*c + X*X*X*d\n"
      ],
      "metadata": {
        "id": "Vi2gHoN3iYCp"
      },
      "execution_count": 50,
      "outputs": []
    },
    {
      "cell_type": "code",
      "source": [
        "print(f\">>>> X shape: {X.shape} Y shape: {Y.shape}\")"
      ],
      "metadata": {
        "colab": {
          "base_uri": "https://localhost:8080/"
        },
        "id": "ELdCJEPMjxJc",
        "outputId": "09ae5d64-4989-4384-9638-67d93c78c29c"
      },
      "execution_count": 51,
      "outputs": [
        {
          "output_type": "stream",
          "name": "stdout",
          "text": [
            ">>>> X shape: torch.Size([100000, 1]) Y shape: torch.Size([100000, 1])\n"
          ]
        }
      ]
    },
    {
      "cell_type": "code",
      "source": [
        "X[:3], Y[:3]"
      ],
      "metadata": {
        "colab": {
          "base_uri": "https://localhost:8080/"
        },
        "id": "SK8IJbZij5Tu",
        "outputId": "f53ab5bf-b97d-4d7d-e4a7-9d7b2b2b9238"
      },
      "execution_count": 52,
      "outputs": [
        {
          "output_type": "execute_result",
          "data": {
            "text/plain": [
              "(tensor([[-0.8191],\n",
              "         [ 0.7471],\n",
              "         [-0.9417]]), tensor([[-3.1689],\n",
              "         [ 2.2965],\n",
              "         [-4.0964]]))"
            ]
          },
          "metadata": {},
          "execution_count": 52
        }
      ]
    },
    {
      "cell_type": "code",
      "source": [
        "# Split the data into train, validation, and test set:"
      ],
      "metadata": {
        "id": "H8zx9kfMkjMD"
      },
      "execution_count": 53,
      "outputs": []
    },
    {
      "cell_type": "code",
      "source": [
        "X_main, X_test, Y_main, Y_test = train_test_split(X, Y, test_size = 0.1)\n",
        "X_train, X_val, Y_train, Y_val = train_test_split(X_main, Y_main, test_size = 0.3)"
      ],
      "metadata": {
        "id": "Fg-vobhMlMMM"
      },
      "execution_count": 54,
      "outputs": []
    },
    {
      "cell_type": "code",
      "source": [
        "print(f\">>>> X_train shape: {X_train.shape}, Y_train shape: {Y_train.shape}\\n\\\n",
        " X_test shape: {X_test.shape},  Y_test shape: {Y_test.shape}\\n\\\n",
        "X_val shape: {X_val.shape},  Y_val shape: {Y_val.shape}\")"
      ],
      "metadata": {
        "colab": {
          "base_uri": "https://localhost:8080/"
        },
        "id": "QttkBCN7lmg4",
        "outputId": "e76e9f9b-76ad-4f0a-fd35-572fa69c2151"
      },
      "execution_count": 55,
      "outputs": [
        {
          "output_type": "stream",
          "name": "stdout",
          "text": [
            ">>>> X_train shape: torch.Size([63000, 1]), Y_train shape: torch.Size([63000, 1])\n",
            " X_test shape: torch.Size([10000, 1]),  Y_test shape: torch.Size([10000, 1])\n",
            "X_val shape: torch.Size([27000, 1]),  Y_val shape: torch.Size([27000, 1])\n"
          ]
        }
      ]
    },
    {
      "cell_type": "code",
      "source": [
        "# Vizualize the train and test datasets:\n",
        "def dfm_visualizer(X_train, Y_train, X_test, Y_test, predictions = None):\n",
        "  plt.figure(figsize = (10, 8.5))\n",
        "  plt.scatter(X_train, Y_train, s = 4, c = \"b\", label = \"train\")\n",
        "  plt.scatter(X_test, Y_test, s = 4, c = \"g\", label = \"test\")\n",
        "  if predictions is not None:\n",
        "    plt.scatter(X_test, predictions, s = 4, c = \"r\", label = \"predictions\")\n",
        "  plt.xlabel(\"X\")\n",
        "  plt.ylabel(\"Y\")\n",
        "  plt.title(\"model's performance vizualization\")\n",
        "  plt.legend()"
      ],
      "metadata": {
        "id": "xQHJqomKmPXe"
      },
      "execution_count": 56,
      "outputs": []
    },
    {
      "cell_type": "code",
      "source": [
        "dfm_visualizer(X_train, Y_train, X_test, Y_test)"
      ],
      "metadata": {
        "colab": {
          "base_uri": "https://localhost:8080/",
          "height": 540
        },
        "id": "IU2OFxORntzk",
        "outputId": "51b46953-41ce-481d-a43d-612bbfbb224c"
      },
      "execution_count": 57,
      "outputs": [
        {
          "output_type": "display_data",
          "data": {
            "text/plain": [
              "<Figure size 720x612 with 1 Axes>"
            ],
            "image/png": "[encoded data removed]"
          },
          "metadata": {
            "needs_background": "light"
          }
        }
      ]
    },
    {
      "cell_type": "code",
      "source": [
        "# Lets build a custom dataloader for SGD\n",
        "class MyDataset(Dataset):\n",
        "  def __init__(self, X, Y):\n",
        "    super().__init__()\n",
        "    self.X = X\n",
        "    self.Y = Y\n",
        "  \n",
        "  def __len__(self):\n",
        "    return len(self.X)\n",
        "  \n",
        "  def __getitem__(self, idx):\n",
        "    X = self.X[idx]\n",
        "    Y = self.Y[idx]\n",
        "    return X, Y\n"
      ],
      "metadata": {
        "id": "WN2qmh_YnwDe"
      },
      "execution_count": 58,
      "outputs": []
    },
    {
      "cell_type": "code",
      "source": [
        "train_data = MyDataset(X_train, Y_train)\n",
        "train_loader = DataLoader(dataset = train_data, batch_size = 64, shuffle = True)\n",
        "test_data = MyDataset(X_test, Y_test)\n",
        "test_loader = DataLoader(dataset = test_data, batch_size = 64, shuffle = False)\n",
        "val_data = MyDataset(X_val, Y_val)\n",
        "val_loader = DataLoader(dataset = val_data, batch_size = 64, shuffle = True)\n",
        "\n",
        "x_train, y_train = next(iter(train_loader))\n",
        "x_test, y_test = next(iter(test_loader))\n",
        "x_val, y_val = next(iter(val_loader))\n",
        "print(f\">>>> x_train batch: {x_train.shape}, y_train batch: {y_train.shape}\\n>>>> \\\n",
        "x_test batch: {x_test.shape}, y_test batch: {y_test.shape}\\n>>>> \\\n",
        "x_val batch: {x_val.shape}, y_val batch: {y_val.shape}\")"
      ],
      "metadata": {
        "colab": {
          "base_uri": "https://localhost:8080/"
        },
        "id": "-_fne8Jdoxa5",
        "outputId": "13e9e7e5-6662-43d6-aa50-7341b4494762"
      },
      "execution_count": 59,
      "outputs": [
        {
          "output_type": "stream",
          "name": "stdout",
          "text": [
            ">>>> x_train batch: torch.Size([64, 1]), y_train batch: torch.Size([64, 1])\n",
            ">>>> x_test batch: torch.Size([64, 1]), y_test batch: torch.Size([64, 1])\n",
            ">>>> x_val batch: torch.Size([64, 1]), y_val batch: torch.Size([64, 1])\n"
          ]
        }
      ]
    },
    {
      "cell_type": "code",
      "source": [
        "# Lets build a Pytorch polynomial model to fit our data:{We know the data generation process}"
      ],
      "metadata": {
        "id": "qIZfIjUqqSlt"
      },
      "execution_count": 60,
      "outputs": []
    },
    {
      "cell_type": "code",
      "source": [
        "class POLY(nn.Module):\n",
        "  def __init__(self):\n",
        "    super().__init__()\n",
        "    self.a = nn.Parameter(torch.randn(1, dtype = torch.float, requires_grad = True))\n",
        "    self.b = nn.Parameter(torch.randn(1, dtype = torch.float, requires_grad = True))\n",
        "    self.c = nn.Parameter(torch.randn(1, dtype = torch.float, requires_grad = True))\n",
        "    self.d = nn.Parameter(torch.randn(1, dtype = torch.float, requires_grad = True))\n",
        "  \n",
        "  def forward(self, X:torch.Tensor)->torch.Tensor:\n",
        "    return self.a + X*self.b + X*X*self.c + X*X*X*self.d"
      ],
      "metadata": {
        "id": "fS8Ms_SFq7M1"
      },
      "execution_count": 61,
      "outputs": []
    },
    {
      "cell_type": "code",
      "source": [
        "# instantiating the model and produce the predictions for the untrained model:"
      ],
      "metadata": {
        "id": "vZX6ViWMsTD8"
      },
      "execution_count": 62,
      "outputs": []
    },
    {
      "cell_type": "code",
      "source": [
        "poly = POLY()"
      ],
      "metadata": {
        "id": "_veWsFA1sdTA"
      },
      "execution_count": 63,
      "outputs": []
    },
    {
      "cell_type": "code",
      "source": [
        "with torch.inference_mode():\n",
        "  preds = poly(X_test)"
      ],
      "metadata": {
        "id": "BslXzUQqshd7"
      },
      "execution_count": 64,
      "outputs": []
    },
    {
      "cell_type": "code",
      "source": [
        "# print model's parameter\n",
        "print(f\">>> state_dictionary: {poly.state_dict()}\")"
      ],
      "metadata": {
        "colab": {
          "base_uri": "https://localhost:8080/"
        },
        "id": "xku1Va1qtxIj",
        "outputId": "4a73ecac-4a45-4708-cced-2eed8e92d581"
      },
      "execution_count": 65,
      "outputs": [
        {
          "output_type": "stream",
          "name": "stdout",
          "text": [
            ">>> state_dictionary: OrderedDict([('a', tensor([-0.5296])), ('b', tensor([-1.9949])), ('c', tensor([-1.3879])), ('d', tensor([-0.3224]))])\n"
          ]
        }
      ]
    },
    {
      "cell_type": "code",
      "source": [
        "# Vizualize the predictions for the untrained model:\n",
        "dfm_visualizer(X_train, Y_train, X_test, Y_test, predictions = preds)"
      ],
      "metadata": {
        "colab": {
          "base_uri": "https://localhost:8080/",
          "height": 540
        },
        "id": "VZ2_uj_nsvvZ",
        "outputId": "2b8f289a-751f-452d-ebe7-ee798bb0b2f7"
      },
      "execution_count": 66,
      "outputs": [
        {
          "output_type": "display_data",
          "data": {
            "text/plain": [
              "<Figure size 720x612 with 1 Axes>"
            ],
            "image/png": "[encoded data removed]"
          },
          "metadata": {
            "needs_background": "light"
          }
        }
      ]
    },
    {
      "cell_type": "code",
      "source": [
        "# We need to train our model such that the red plot fit into the main plot as close as possible."
      ],
      "metadata": {
        "id": "6C3PjiH-tArZ"
      },
      "execution_count": 67,
      "outputs": []
    },
    {
      "cell_type": "code",
      "source": [
        "#Lets build a simple MLP to train on this data \"Assume we dont have data generation distribution\"\n",
        "class MLP(nn.Module):\n",
        "  def __init__(self, input_dim, hidden_dim):\n",
        "    super().__init__()\n",
        "    self.input_dim = input_dim\n",
        "    self.hidden_dim = hidden_dim\n",
        "    self.mlp = nn.Sequential(\n",
        "        nn.Linear(in_features = self.input_dim, out_features = self.hidden_dim),\n",
        "        nn.BatchNorm1d(num_features = self.hidden_dim),\n",
        "        nn.ReLU(),\n",
        "        nn.Linear(in_features = self.hidden_dim, out_features = self.hidden_dim),\n",
        "        nn.BatchNorm1d(self.hidden_dim),\n",
        "        nn.ReLU(),\n",
        "        nn.Linear(self.hidden_dim, 1)\n",
        "    )\n",
        "  def forward(self, x:torch.Tensor)->torch.Tensor:\n",
        "    return self.mlp(x)\n"
      ],
      "metadata": {
        "id": "ZB0bavq98kps"
      },
      "execution_count": 68,
      "outputs": []
    },
    {
      "cell_type": "code",
      "source": [
        "# instantiating the neural net and produce predictions for untrained model\n",
        "input_dim = 1\n",
        "hidden_dim = 64\n",
        "mlp = MLP(input_dim, hidden_dim)\n",
        "input_tensor = torch.randn(size = (32,1))\n",
        "assert mlp(input_tensor).shape == (32,1)"
      ],
      "metadata": {
        "id": "Me-nmlS08kte"
      },
      "execution_count": 69,
      "outputs": []
    },
    {
      "cell_type": "code",
      "source": [
        "with torch.inference_mode():\n",
        "  mlp_preds = mlp(X_test) "
      ],
      "metadata": {
        "id": "_Zq6WTIi-cqx"
      },
      "execution_count": 70,
      "outputs": []
    },
    {
      "cell_type": "code",
      "source": [
        "dfm_visualizer(X_train, Y_train, X_test, Y_test, predictions = mlp_preds.detach().numpy())"
      ],
      "metadata": {
        "colab": {
          "base_uri": "https://localhost:8080/",
          "height": 540
        },
        "id": "AadVOY4B-cuJ",
        "outputId": "192f5aeb-5fe4-45e2-e121-2b221cd096c2"
      },
      "execution_count": 71,
      "outputs": [
        {
          "output_type": "display_data",
          "data": {
            "text/plain": [
              "<Figure size 720x612 with 1 Axes>"
            ],
            "image/png": "[encoded data removed]"
          },
          "metadata": {
            "needs_background": "light"
          }
        }
      ]
    },
    {
      "cell_type": "code",
      "source": [
        "criterion = L1Loss()\n",
        "learning_rate = 1e-3\n",
        "optimizer1 = optim.SGD(params = poly.parameters(), lr = learning_rate)\n",
        "optimizer2 = optim.SGD(params = mlp.parameters(), lr = learning_rate)"
      ],
      "metadata": {
        "id": "_Lef0l39tPvJ"
      },
      "execution_count": 72,
      "outputs": []
    },
    {
      "cell_type": "code",
      "source": [
        "# The training loop:\n",
        "def training_val_loop(model, optimizer, criterion, train_loader, val_loader,EPOCHS):\n",
        "  print(f\">>>> training start: please wait.....................\")\n",
        "  train_loss_per_epoch = 0\n",
        "  val_loss_per_epoch = 0\n",
        "  model.train()\n",
        "  for epoch in range(EPOCHS):\n",
        "    for batch, (data, labels) in enumerate(train_loader):\n",
        "      data.to(device),labels.to(device)\n",
        "      preds = model(data)\n",
        "      optimizer.zero_grad()\n",
        "      train_loss = criterion(preds, labels)\n",
        "      train_loss.backward()\n",
        "      optimizer.step()\n",
        "      train_loss_per_epoch+=train_loss\n",
        "    if epoch%10 == 0:\n",
        "      print(f\">>>> end of epoch: {epoch}, train loss: {train_loss_per_epoch/len(train_loader):.4f}\")\n",
        "      #print(f\">>>> parameters: {model.state_dict()}\")\n",
        "    \n",
        "    model.eval()\n",
        "    for batch, (data, labels) in enumerate(val_loader):\n",
        "      data.to(device), labels.to(device)\n",
        "      preds = model(data)\n",
        "      val_loss = criterion(preds, data)\n",
        "      val_loss_per_epoch+=val_loss\n",
        "    if epoch % 10 == 0:\n",
        "      print(f\">>>> end of epoch: {epoch}, validation loss: {val_loss_per_epoch/len(val_loader):.4f}\")\n",
        "      #print(f\">>>> parameters: {model.state_dict()}\")\n",
        "\n",
        "def testing_loop(model, test_loader, criterion):\n",
        "  print(f\">>>> Testing the model using the test set.........\")\n",
        "  test_loss_per_batch = 0\n",
        "  for batch_idx, (data, labels) in enumerate(test_loader):\n",
        "    data.to(device), labels.to(device)\n",
        "    preds = model(data)\n",
        "    test_loss = criterion(preds, labels)\n",
        "    test_loss_per_batch+=test_loss\n",
        "  \n",
        "  if batch_idx % 10 ==0:\n",
        "    print(f\">>>> Batch number: {batch_idx}: test_loss: {torch.mean(test_loss_per_batch):.4f}\")\n",
        "    #print(f\">>>> parameters: {model.state_dict()}\")\n",
        "\n"
      ],
      "metadata": {
        "id": "wRST2vIcuAi9"
      },
      "execution_count": 73,
      "outputs": []
    },
    {
      "cell_type": "code",
      "source": [
        "training_val_loop(poly, optimizer1, criterion, train_loader, val_loader, 100)"
      ],
      "metadata": {
        "colab": {
          "base_uri": "https://localhost:8080/"
        },
        "id": "aQc_IjOK2wag",
        "outputId": "841cadc4-7611-4891-8c4b-36f9df0166c5"
      },
      "execution_count": 74,
      "outputs": [
        {
          "output_type": "stream",
          "name": "stdout",
          "text": [
            ">>>> training start: please wait.....................\n",
            ">>>> end of epoch: 0, train loss: 4.9591\n",
            ">>>> end of epoch: 0, validation loss: 1.9588\n",
            ">>>> end of epoch: 10, train loss: 12.4248\n",
            ">>>> end of epoch: 10, validation loss: 34.7173\n",
            ">>>> end of epoch: 20, train loss: 12.4396\n",
            ">>>> end of epoch: 20, validation loss: 70.3363\n",
            ">>>> end of epoch: 30, train loss: 12.4544\n",
            ">>>> end of epoch: 30, validation loss: 105.9672\n",
            ">>>> end of epoch: 40, train loss: 12.4692\n",
            ">>>> end of epoch: 40, validation loss: 141.5964\n",
            ">>>> end of epoch: 50, train loss: 12.4840\n",
            ">>>> end of epoch: 50, validation loss: 177.2272\n",
            ">>>> end of epoch: 60, train loss: 12.4988\n",
            ">>>> end of epoch: 60, validation loss: 212.8561\n",
            ">>>> end of epoch: 70, train loss: 12.5136\n",
            ">>>> end of epoch: 70, validation loss: 248.4700\n",
            ">>>> end of epoch: 80, train loss: 12.5285\n",
            ">>>> end of epoch: 80, validation loss: 284.0909\n",
            ">>>> end of epoch: 90, train loss: 12.5433\n",
            ">>>> end of epoch: 90, validation loss: 319.7233\n"
          ]
        }
      ]
    },
    {
      "cell_type": "code",
      "source": [],
      "metadata": {
        "id": "8MZAxB8e20t9"
      },
      "execution_count": 74,
      "outputs": []
    },
    {
      "cell_type": "code",
      "source": [
        "poly.eval()\n",
        "with torch.inference_mode():\n",
        "  my_predictions = poly(X_test)"
      ],
      "metadata": {
        "id": "fcMgRGIl20xl"
      },
      "execution_count": 75,
      "outputs": []
    },
    {
      "cell_type": "code",
      "source": [
        "# Lets plot the predictions for the trained polynomial."
      ],
      "metadata": {
        "id": "QICkPGQ07NW6"
      },
      "execution_count": 76,
      "outputs": []
    },
    {
      "cell_type": "code",
      "source": [
        "dfm_visualizer(X_train, Y_train, X_test, Y_test, predictions = my_predictions.detach().numpy())"
      ],
      "metadata": {
        "colab": {
          "base_uri": "https://localhost:8080/",
          "height": 540
        },
        "id": "vFPtd5d22046",
        "outputId": "026aed54-5fa6-4326-b2d5-142934777481"
      },
      "execution_count": 77,
      "outputs": [
        {
          "output_type": "display_data",
          "data": {
            "text/plain": [
              "<Figure size 720x612 with 1 Axes>"
            ],
            "image/png": "[encoded data removed]"
          },
          "metadata": {
            "needs_background": "light"
          }
        }
      ]
    },
    {
      "cell_type": "code",
      "source": [
        "# As seen in red, The trained model gave best predictions (The red plot (predictions) \n",
        "#perfectly overlap the observed <Y> test data.)"
      ],
      "metadata": {
        "id": "LXUQjplR7FrE"
      },
      "execution_count": 78,
      "outputs": []
    },
    {
      "cell_type": "code",
      "source": [
        "training_val_loop(mlp, optimizer2, criterion, train_loader, val_loader, 50)"
      ],
      "metadata": {
        "colab": {
          "base_uri": "https://localhost:8080/"
        },
        "id": "L7l7lxir_Mxc",
        "outputId": "32ea75f3-2a27-4bd1-d6c2-f3df7010e639"
      },
      "execution_count": 79,
      "outputs": [
        {
          "output_type": "stream",
          "name": "stdout",
          "text": [
            ">>>> training start: please wait.....................\n",
            ">>>> end of epoch: 0, train loss: 1.8458\n",
            ">>>> end of epoch: 0, validation loss: 2.9980\n",
            ">>>> end of epoch: 10, train loss: 3.3632\n",
            ">>>> end of epoch: 10, validation loss: 38.8127\n",
            ">>>> end of epoch: 20, train loss: 4.1253\n",
            ">>>> end of epoch: 20, validation loss: 74.3026\n",
            ">>>> end of epoch: 30, train loss: 4.7104\n",
            ">>>> end of epoch: 30, validation loss: 109.8951\n",
            ">>>> end of epoch: 40, train loss: 5.2073\n",
            ">>>> end of epoch: 40, validation loss: 145.6291\n"
          ]
        }
      ]
    },
    {
      "cell_type": "code",
      "source": [
        "mlp.eval()\n",
        "with torch.inference_mode():\n",
        "  my_predictions1 = mlp(X_test)"
      ],
      "metadata": {
        "id": "-Ue3qdjp_S1-"
      },
      "execution_count": 80,
      "outputs": []
    },
    {
      "cell_type": "code",
      "source": [
        "#Lets vizualize the prediction for the MLP"
      ],
      "metadata": {
        "id": "uk9I571UH_9Q"
      },
      "execution_count": null,
      "outputs": []
    },
    {
      "cell_type": "code",
      "source": [
        "dfm_visualizer(X_train, Y_train, X_test, Y_test, predictions = my_predictions1.detach().numpy())"
      ],
      "metadata": {
        "colab": {
          "base_uri": "https://localhost:8080/",
          "height": 540
        },
        "id": "ce_GDbgv_aQx",
        "outputId": "f05abb07-5533-4640-9ec0-81fc179039d2"
      },
      "execution_count": 81,
      "outputs": [
        {
          "output_type": "display_data",
          "data": {
            "text/plain": [
              "<Figure size 720x612 with 1 Axes>"
            ],
            "image/png": "[encoded data removed]"
          },
          "metadata": {
            "needs_background": "light"
          }
        }
      ]
    },
    {
      "cell_type": "code",
      "source": [],
      "metadata": {
        "id": "Vs5_5kT8AW35"
      },
      "execution_count": 81,
      "outputs": []
    }
  ],
  "metadata": {
    "colab": {
      "provenance": [],
      "authorship_tag": "ABX9TyN8GLlf06HdurVR0sYOMLux",
      "include_colab_link": true
    },
    "gpuClass": "standard",
    "kernelspec": {
      "display_name": "Python 3",
      "name": "python3"
    },
    "language_info": {
      "name": "python"
    },
    "accelerator": "GPU"
  },
  "nbformat": 4,
  "nbformat_minor": 0
}